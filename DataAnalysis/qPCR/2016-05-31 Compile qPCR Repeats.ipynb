{
 "cells": [
  {
   "cell_type": "markdown",
   "metadata": {},
   "source": [
    "# Compile Full qPCR Repeats\n",
    "\n",
    "31 May 2016"
   ]
  },
  {
   "cell_type": "code",
   "execution_count": 91,
   "metadata": {},
   "outputs": [],
   "source": [
    "library(lubridate)\n",
    "library(dplyr) \n",
    "library(data.table) \n",
    "library(ggplot2) \n",
    "library(readr) \n",
    "library(tidyr) \n",
    "library(magrittr)\n",
    "library(openxlsx)"
   ]
  },
  {
   "cell_type": "code",
   "execution_count": 92,
   "metadata": {},
   "outputs": [
    {
     "name": "stderr",
     "output_type": "stream",
     "text": [
      "Submitting with 'NULL'\n"
     ]
    }
   ],
   "source": [
    "library(iplantAcquiR)\n",
    "handle <- iplant_handle(username = Sys.getenv(\"USER\"),\n",
    "                        password = Sys.getenv(\"IPLANT_PASSWORD\"))\n",
    "handle <- iplant_authenticate(handle)"
   ]
  },
  {
   "cell_type": "code",
   "execution_count": 93,
   "metadata": {
    "collapsed": true
   },
   "outputs": [],
   "source": [
    "repeat_filename1 <- iplant_acquire(handle = handle,\n",
    "                           url = \"https://iplant.plantandfood.co.nz/project/I130806/Research/GEP_repeats%20_qPCR_results.xlsx\")\n",
    "repeat_filename2 <- iplant_acquire(handle = handle,\n",
    "                           url = \"https://iplant.plantandfood.co.nz/project/I130806/Research/GEP_final_repeat_qPCR_results_omit_GEP3+4.xlsx\")\n"
   ]
  },
  {
   "cell_type": "markdown",
   "metadata": {},
   "source": [
    "### Read Main Repeats Workbook"
   ]
  },
  {
   "cell_type": "code",
   "execution_count": 94,
   "metadata": {},
   "outputs": [
    {
     "data": {
      "text/html": [
       "'GEP_repeats__qPCR_results.xlsx'"
      ],
      "text/latex": [
       "'GEP_repeats__qPCR_results.xlsx'"
      ],
      "text/markdown": [
       "'GEP_repeats__qPCR_results.xlsx'"
      ],
      "text/plain": [
       "[1] \"GEP_repeats__qPCR_results.xlsx\""
      ]
     },
     "execution_count": 94,
     "metadata": {},
     "output_type": "execute_result"
    }
   ],
   "source": [
    "repeat_filename1"
   ]
  },
  {
   "cell_type": "code",
   "execution_count": 95,
   "metadata": {},
   "outputs": [
    {
     "data": {
      "text/html": [
       "<ol class=list-inline>\n",
       "\t<li>'RNA plate order'</li>\n",
       "\t<li>'GEP_repeat_cDNA_layout'</li>\n",
       "\t<li>'96 to 384 well for repeat plate'</li>\n",
       "\t<li>'GEP_repeats_VRN1_results'</li>\n",
       "\t<li>'GEP_repeats_VRN2_results'</li>\n",
       "\t<li>'GEP_repeats_VRN3_results'</li>\n",
       "\t<li>'GEP_repeats_EGF1a_results'</li>\n",
       "\t<li>'GEP_repeats_Ta54227_results'</li>\n",
       "</ol>\n"
      ],
      "text/latex": [
       "\\begin{enumerate*}\n",
       "\\item 'RNA plate order'\n",
       "\\item 'GEP_repeat_cDNA_layout'\n",
       "\\item '96 to 384 well for repeat plate'\n",
       "\\item 'GEP_repeats_VRN1_results'\n",
       "\\item 'GEP_repeats_VRN2_results'\n",
       "\\item 'GEP_repeats_VRN3_results'\n",
       "\\item 'GEP_repeats_EGF1a_results'\n",
       "\\item 'GEP_repeats_Ta54227_results'\n",
       "\\end{enumerate*}\n"
      ],
      "text/markdown": [
       "1. 'RNA plate order'\n",
       "2. 'GEP_repeat_cDNA_layout'\n",
       "3. '96 to 384 well for repeat plate'\n",
       "4. 'GEP_repeats_VRN1_results'\n",
       "5. 'GEP_repeats_VRN2_results'\n",
       "6. 'GEP_repeats_VRN3_results'\n",
       "7. 'GEP_repeats_EGF1a_results'\n",
       "8. 'GEP_repeats_Ta54227_results'\n",
       "\n",
       "\n"
      ],
      "text/plain": [
       "[1] \"RNA plate order\"                 \"GEP_repeat_cDNA_layout\"         \n",
       "[3] \"96 to 384 well for repeat plate\" \"GEP_repeats_VRN1_results\"       \n",
       "[5] \"GEP_repeats_VRN2_results\"        \"GEP_repeats_VRN3_results\"       \n",
       "[7] \"GEP_repeats_EGF1a_results\"       \"GEP_repeats_Ta54227_results\"    "
      ]
     },
     "execution_count": 95,
     "metadata": {},
     "output_type": "execute_result"
    }
   ],
   "source": [
    "(sheetnames1 <- getSheetNames(repeat_filename1))"
   ]
  },
  {
   "cell_type": "markdown",
   "metadata": {},
   "source": [
    "### Read Well Config\n",
    "\n",
    " Need **two** sheets here\n",
    " \n",
    " 1. 96 to 384 well mapping\n",
    " 2. mapping from original sample plates to new repeat plate\n",
    " "
   ]
  },
  {
   "cell_type": "code",
   "execution_count": 96,
   "metadata": {},
   "outputs": [
    {
     "data": {
      "text/html": [
       "<table>\n",
       "<thead><tr><th></th><th scope=col>sample_well</th><th scope=col>qPCR_well</th></tr></thead>\n",
       "<tbody>\n",
       "\t<tr><th scope=row>1</th><td>A1</td><td>A1</td></tr>\n",
       "\t<tr><th scope=row>2</th><td>A1</td><td>B1</td></tr>\n",
       "\t<tr><th scope=row>3</th><td>A1</td><td>A2</td></tr>\n",
       "\t<tr><th scope=row>4</th><td>A6</td><td>B12</td></tr>\n",
       "\t<tr><th scope=row>5</th><td>A6</td><td>A11</td></tr>\n",
       "\t<tr><th scope=row>6</th><td>A6</td><td>B11</td></tr>\n",
       "</tbody>\n",
       "</table>\n"
      ],
      "text/latex": [
       "\\begin{tabular}{r|ll}\n",
       "  & sample_well & qPCR_well\\\\\n",
       "\\hline\n",
       "\t1 & A1 & A1\\\\\n",
       "\t2 & A1 & B1\\\\\n",
       "\t3 & A1 & A2\\\\\n",
       "\t4 & A6 & B12\\\\\n",
       "\t5 & A6 & A11\\\\\n",
       "\t6 & A6 & B11\\\\\n",
       "\\end{tabular}\n"
      ],
      "text/plain": [
       "   sample_well qPCR_well\n",
       "1:          A1        A1\n",
       "2:          A1        B1\n",
       "3:          A1        A2\n",
       "4:          A6       B12\n",
       "5:          A6       A11\n",
       "6:          A6       B11"
      ]
     },
     "execution_count": 96,
     "metadata": {},
     "output_type": "execute_result"
    }
   ],
   "source": [
    "trans_dt <- data.table(read.xlsx(repeat_filename1,'96 to 384 well for repeat plate' ))\n",
    "setnames(trans_dt,names(trans_dt),gsub('(\\\\.)+','_',names(trans_dt)))\n",
    "head(trans_dt)"
   ]
  },
  {
   "cell_type": "code",
   "execution_count": 101,
   "metadata": {},
   "outputs": [
    {
     "data": {
      "text/html": [
       "<table>\n",
       "<thead><tr><th></th><th scope=col>sample_well</th><th scope=col>qPCR_well</th></tr></thead>\n",
       "<tbody>\n",
       "\t<tr><th scope=row>1</th><td>IRC</td><td>B24</td></tr>\n",
       "\t<tr><th scope=row>2</th><td>IRC</td><td>D24</td></tr>\n",
       "\t<tr><th scope=row>3</th><td>IRC</td><td>F24</td></tr>\n",
       "</tbody>\n",
       "</table>\n"
      ],
      "text/latex": [
       "\\begin{tabular}{r|ll}\n",
       "  & sample_well & qPCR_well\\\\\n",
       "\\hline\n",
       "\t1 & IRC & B24\\\\\n",
       "\t2 & IRC & D24\\\\\n",
       "\t3 & IRC & F24\\\\\n",
       "\\end{tabular}\n"
      ],
      "text/plain": [
       "   sample_well qPCR_well\n",
       "1:         IRC       B24\n",
       "2:         IRC       D24\n",
       "3:         IRC       F24"
      ]
     },
     "execution_count": 101,
     "metadata": {},
     "output_type": "execute_result"
    }
   ],
   "source": [
    "trans_dt[sample_well=='IRC']"
   ]
  },
  {
   "cell_type": "code",
   "execution_count": 133,
   "metadata": {},
   "outputs": [
    {
     "data": {
      "text/html": [
       "<table>\n",
       "<thead><tr><th></th><th scope=col>repeat_plate_template_well</th><th scope=col>Name</th><th scope=col>ex_sample_plate</th><th scope=col>ex_sample_plate_well</th></tr></thead>\n",
       "<tbody>\n",
       "\t<tr><th scope=row>1</th><td>A1</td><td>AMK258</td><td>GEP1</td><td>12G</td></tr>\n",
       "\t<tr><th scope=row>2</th><td>B1</td><td>SCN13</td><td>GEP2</td><td>2B</td></tr>\n",
       "\t<tr><th scope=row>3</th><td>C1</td><td>BW92</td><td>GEP2</td><td>2D</td></tr>\n",
       "\t<tr><th scope=row>4</th><td>D1</td><td>CRWT196</td><td>GEP2</td><td>2H</td></tr>\n",
       "\t<tr><th scope=row>5</th><td>E1</td><td>AMK320</td><td>GEP2</td><td>3A</td></tr>\n",
       "\t<tr><th scope=row>6</th><td>F1</td><td>CRWT240</td><td>GEP2</td><td>3B</td></tr>\n",
       "</tbody>\n",
       "</table>\n"
      ],
      "text/latex": [
       "\\begin{tabular}{r|llll}\n",
       "  & repeat_plate_template_well & Name & ex_sample_plate & ex_sample_plate_well\\\\\n",
       "\\hline\n",
       "\t1 & A1 & AMK258 & GEP1 & 12G\\\\\n",
       "\t2 & B1 & SCN13 & GEP2 & 2B\\\\\n",
       "\t3 & C1 & BW92 & GEP2 & 2D\\\\\n",
       "\t4 & D1 & CRWT196 & GEP2 & 2H\\\\\n",
       "\t5 & E1 & AMK320 & GEP2 & 3A\\\\\n",
       "\t6 & F1 & CRWT240 & GEP2 & 3B\\\\\n",
       "\\end{tabular}\n"
      ],
      "text/plain": [
       "   repeat_plate_template_well    Name ex_sample_plate ex_sample_plate_well\n",
       "1:                         A1  AMK258            GEP1                  12G\n",
       "2:                         B1   SCN13            GEP2                   2B\n",
       "3:                         C1    BW92            GEP2                   2D\n",
       "4:                         D1 CRWT196            GEP2                   2H\n",
       "5:                         E1  AMK320            GEP2                   3A\n",
       "6:                         F1 CRWT240            GEP2                   3B"
      ]
     },
     "execution_count": 133,
     "metadata": {},
     "output_type": "execute_result"
    }
   ],
   "source": [
    "cDNA_dt <- data.table(read.xlsx(repeat_filename1,'GEP_repeat_cDNA_layout' ))\n",
    "setnames(cDNA_dt,names(cDNA_dt),gsub('(\\\\.)+','_',names(cDNA_dt)))\n",
    "setnames(cDNA_dt,'Sample','Name')\n",
    "head(cDNA_dt)"
   ]
  },
  {
   "cell_type": "code",
   "execution_count": 134,
   "metadata": {},
   "outputs": [
    {
     "data": {
      "text/html": [
       "<ol class=list-inline>\n",
       "\t<li>'AMK258'</li>\n",
       "\t<li>'SCN13'</li>\n",
       "\t<li>'BW92'</li>\n",
       "\t<li>'CRWT196'</li>\n",
       "\t<li>'AMK320'</li>\n",
       "\t<li>'CRWT240'</li>\n",
       "\t<li>'SCN265'</li>\n",
       "\t<li>'SCN142'</li>\n",
       "\t<li>'BW47'</li>\n",
       "\t<li>'CRWT232'</li>\n",
       "\t<li>'BW219'</li>\n",
       "\t<li>'AMK126'</li>\n",
       "\t<li>'CRWT42'</li>\n",
       "\t<li>'CRWT151'</li>\n",
       "\t<li>'AMK69'</li>\n",
       "\t<li>'SCN131'</li>\n",
       "\t<li>'AMK275'</li>\n",
       "\t<li>'SCN310'</li>\n",
       "\t<li>'CRWT271'</li>\n",
       "\t<li>'SCN71'</li>\n",
       "\t<li>'AMK204'</li>\n",
       "\t<li>'AMK20'</li>\n",
       "\t<li>'AMK293'</li>\n",
       "\t<li>'CRWT318'</li>\n",
       "\t<li>'AMK330'</li>\n",
       "\t<li>'AMK76'</li>\n",
       "\t<li>'CRWT274'</li>\n",
       "\t<li>'BW155'</li>\n",
       "\t<li>'AMK156'</li>\n",
       "\t<li>'CRWT345'</li>\n",
       "\t<li>'CRWT293'</li>\n",
       "\t<li>'AMK180'</li>\n",
       "\t<li>'BW237'</li>\n",
       "\t<li>'BW265'</li>\n",
       "\t<li>'BW244'</li>\n",
       "\t<li>'OT30'</li>\n",
       "\t<li>'SCN146'</li>\n",
       "\t<li>'OT21'</li>\n",
       "\t<li>'SCN136'</li>\n",
       "\t<li>'OT37'</li>\n",
       "\t<li>'OT8'</li>\n",
       "\t<li>'CRWT316'</li>\n",
       "\t<li>'CRWT336'</li>\n",
       "\t<li>'AMK214'</li>\n",
       "\t<li>'AMK196'</li>\n",
       "\t<li>'BS73'</li>\n",
       "\t<li>'AMK212'</li>\n",
       "\t<li>'AMK185'</li>\n",
       "\t<li>'BW264'</li>\n",
       "\t<li>'AMK1154'</li>\n",
       "\t<li>'AMK188'</li>\n",
       "\t<li>'AMK199'</li>\n",
       "\t<li>'AMK198'</li>\n",
       "\t<li>'CRWT300'</li>\n",
       "\t<li>'BW286'</li>\n",
       "\t<li>'BW217'</li>\n",
       "\t<li>'AMK176'</li>\n",
       "\t<li>'AMK184'</li>\n",
       "\t<li>'OT1026'</li>\n",
       "\t<li>'SCN1115'</li>\n",
       "\t<li>'BW239'</li>\n",
       "\t<li>'CRWT307'</li>\n",
       "\t<li>'OT220'</li>\n",
       "\t<li>'BW192'</li>\n",
       "\t<li>'BW287'</li>\n",
       "\t<li>'CRWT65'</li>\n",
       "\t<li>'BW256'</li>\n",
       "\t<li>'CRWT38'</li>\n",
       "\t<li>'CRWT145'</li>\n",
       "\t<li>'BW214'</li>\n",
       "\t<li>'BW279'</li>\n",
       "\t<li>'AMK325'</li>\n",
       "\t<li>'BS47'</li>\n",
       "\t<li>'AMK207'</li>\n",
       "\t<li>'CRWT1244'</li>\n",
       "\t<li>'AMK1156'</li>\n",
       "\t<li>'BW96'</li>\n",
       "\t<li>'BW33'</li>\n",
       "\t<li>'SCN290'</li>\n",
       "\t<li>'AMK114'</li>\n",
       "\t<li>'AMK22'</li>\n",
       "\t<li>'CRWT216'</li>\n",
       "\t<li>'BW277'</li>\n",
       "\t<li>'OT36'</li>\n",
       "\t<li>'BW218'</li>\n",
       "\t<li>'CRWT310'</li>\n",
       "\t<li>'CRWT1255'</li>\n",
       "\t<li>'AMK157'</li>\n",
       "\t<li>'CRWT1258'</li>\n",
       "\t<li>'IRC'</li>\n",
       "</ol>\n"
      ],
      "text/latex": [
       "\\begin{enumerate*}\n",
       "\\item 'AMK258'\n",
       "\\item 'SCN13'\n",
       "\\item 'BW92'\n",
       "\\item 'CRWT196'\n",
       "\\item 'AMK320'\n",
       "\\item 'CRWT240'\n",
       "\\item 'SCN265'\n",
       "\\item 'SCN142'\n",
       "\\item 'BW47'\n",
       "\\item 'CRWT232'\n",
       "\\item 'BW219'\n",
       "\\item 'AMK126'\n",
       "\\item 'CRWT42'\n",
       "\\item 'CRWT151'\n",
       "\\item 'AMK69'\n",
       "\\item 'SCN131'\n",
       "\\item 'AMK275'\n",
       "\\item 'SCN310'\n",
       "\\item 'CRWT271'\n",
       "\\item 'SCN71'\n",
       "\\item 'AMK204'\n",
       "\\item 'AMK20'\n",
       "\\item 'AMK293'\n",
       "\\item 'CRWT318'\n",
       "\\item 'AMK330'\n",
       "\\item 'AMK76'\n",
       "\\item 'CRWT274'\n",
       "\\item 'BW155'\n",
       "\\item 'AMK156'\n",
       "\\item 'CRWT345'\n",
       "\\item 'CRWT293'\n",
       "\\item 'AMK180'\n",
       "\\item 'BW237'\n",
       "\\item 'BW265'\n",
       "\\item 'BW244'\n",
       "\\item 'OT30'\n",
       "\\item 'SCN146'\n",
       "\\item 'OT21'\n",
       "\\item 'SCN136'\n",
       "\\item 'OT37'\n",
       "\\item 'OT8'\n",
       "\\item 'CRWT316'\n",
       "\\item 'CRWT336'\n",
       "\\item 'AMK214'\n",
       "\\item 'AMK196'\n",
       "\\item 'BS73'\n",
       "\\item 'AMK212'\n",
       "\\item 'AMK185'\n",
       "\\item 'BW264'\n",
       "\\item 'AMK1154'\n",
       "\\item 'AMK188'\n",
       "\\item 'AMK199'\n",
       "\\item 'AMK198'\n",
       "\\item 'CRWT300'\n",
       "\\item 'BW286'\n",
       "\\item 'BW217'\n",
       "\\item 'AMK176'\n",
       "\\item 'AMK184'\n",
       "\\item 'OT1026'\n",
       "\\item 'SCN1115'\n",
       "\\item 'BW239'\n",
       "\\item 'CRWT307'\n",
       "\\item 'OT220'\n",
       "\\item 'BW192'\n",
       "\\item 'BW287'\n",
       "\\item 'CRWT65'\n",
       "\\item 'BW256'\n",
       "\\item 'CRWT38'\n",
       "\\item 'CRWT145'\n",
       "\\item 'BW214'\n",
       "\\item 'BW279'\n",
       "\\item 'AMK325'\n",
       "\\item 'BS47'\n",
       "\\item 'AMK207'\n",
       "\\item 'CRWT1244'\n",
       "\\item 'AMK1156'\n",
       "\\item 'BW96'\n",
       "\\item 'BW33'\n",
       "\\item 'SCN290'\n",
       "\\item 'AMK114'\n",
       "\\item 'AMK22'\n",
       "\\item 'CRWT216'\n",
       "\\item 'BW277'\n",
       "\\item 'OT36'\n",
       "\\item 'BW218'\n",
       "\\item 'CRWT310'\n",
       "\\item 'CRWT1255'\n",
       "\\item 'AMK157'\n",
       "\\item 'CRWT1258'\n",
       "\\item 'IRC'\n",
       "\\end{enumerate*}\n"
      ],
      "text/markdown": [
       "1. 'AMK258'\n",
       "2. 'SCN13'\n",
       "3. 'BW92'\n",
       "4. 'CRWT196'\n",
       "5. 'AMK320'\n",
       "6. 'CRWT240'\n",
       "7. 'SCN265'\n",
       "8. 'SCN142'\n",
       "9. 'BW47'\n",
       "10. 'CRWT232'\n",
       "11. 'BW219'\n",
       "12. 'AMK126'\n",
       "13. 'CRWT42'\n",
       "14. 'CRWT151'\n",
       "15. 'AMK69'\n",
       "16. 'SCN131'\n",
       "17. 'AMK275'\n",
       "18. 'SCN310'\n",
       "19. 'CRWT271'\n",
       "20. 'SCN71'\n",
       "21. 'AMK204'\n",
       "22. 'AMK20'\n",
       "23. 'AMK293'\n",
       "24. 'CRWT318'\n",
       "25. 'AMK330'\n",
       "26. 'AMK76'\n",
       "27. 'CRWT274'\n",
       "28. 'BW155'\n",
       "29. 'AMK156'\n",
       "30. 'CRWT345'\n",
       "31. 'CRWT293'\n",
       "32. 'AMK180'\n",
       "33. 'BW237'\n",
       "34. 'BW265'\n",
       "35. 'BW244'\n",
       "36. 'OT30'\n",
       "37. 'SCN146'\n",
       "38. 'OT21'\n",
       "39. 'SCN136'\n",
       "40. 'OT37'\n",
       "41. 'OT8'\n",
       "42. 'CRWT316'\n",
       "43. 'CRWT336'\n",
       "44. 'AMK214'\n",
       "45. 'AMK196'\n",
       "46. 'BS73'\n",
       "47. 'AMK212'\n",
       "48. 'AMK185'\n",
       "49. 'BW264'\n",
       "50. 'AMK1154'\n",
       "51. 'AMK188'\n",
       "52. 'AMK199'\n",
       "53. 'AMK198'\n",
       "54. 'CRWT300'\n",
       "55. 'BW286'\n",
       "56. 'BW217'\n",
       "57. 'AMK176'\n",
       "58. 'AMK184'\n",
       "59. 'OT1026'\n",
       "60. 'SCN1115'\n",
       "61. 'BW239'\n",
       "62. 'CRWT307'\n",
       "63. 'OT220'\n",
       "64. 'BW192'\n",
       "65. 'BW287'\n",
       "66. 'CRWT65'\n",
       "67. 'BW256'\n",
       "68. 'CRWT38'\n",
       "69. 'CRWT145'\n",
       "70. 'BW214'\n",
       "71. 'BW279'\n",
       "72. 'AMK325'\n",
       "73. 'BS47'\n",
       "74. 'AMK207'\n",
       "75. 'CRWT1244'\n",
       "76. 'AMK1156'\n",
       "77. 'BW96'\n",
       "78. 'BW33'\n",
       "79. 'SCN290'\n",
       "80. 'AMK114'\n",
       "81. 'AMK22'\n",
       "82. 'CRWT216'\n",
       "83. 'BW277'\n",
       "84. 'OT36'\n",
       "85. 'BW218'\n",
       "86. 'CRWT310'\n",
       "87. 'CRWT1255'\n",
       "88. 'AMK157'\n",
       "89. 'CRWT1258'\n",
       "90. 'IRC'\n",
       "\n",
       "\n"
      ],
      "text/plain": [
       " [1] \"AMK258\"   \"SCN13\"    \"BW92\"     \"CRWT196\"  \"AMK320\"   \"CRWT240\" \n",
       " [7] \"SCN265\"   \"SCN142\"   \"BW47\"     \"CRWT232\"  \"BW219\"    \"AMK126\"  \n",
       "[13] \"CRWT42\"   \"CRWT151\"  \"AMK69\"    \"SCN131\"   \"AMK275\"   \"SCN310\"  \n",
       "[19] \"CRWT271\"  \"SCN71\"    \"AMK204\"   \"AMK20\"    \"AMK293\"   \"CRWT318\" \n",
       "[25] \"AMK330\"   \"AMK76\"    \"CRWT274\"  \"BW155\"    \"AMK156\"   \"CRWT345\" \n",
       "[31] \"CRWT293\"  \"AMK180\"   \"BW237\"    \"BW265\"    \"BW244\"    \"OT30\"    \n",
       "[37] \"SCN146\"   \"OT21\"     \"SCN136\"   \"OT37\"     \"OT8\"      \"CRWT316\" \n",
       "[43] \"CRWT336\"  \"AMK214\"   \"AMK196\"   \"BS73\"     \"AMK212\"   \"AMK185\"  \n",
       "[49] \"BW264\"    \"AMK1154\"  \"AMK188\"   \"AMK199\"   \"AMK198\"   \"CRWT300\" \n",
       "[55] \"BW286\"    \"BW217\"    \"AMK176\"   \"AMK184\"   \"OT1026\"   \"SCN1115\" \n",
       "[61] \"BW239\"    \"CRWT307\"  \"OT220\"    \"BW192\"    \"BW287\"    \"CRWT65\"  \n",
       "[67] \"BW256\"    \"CRWT38\"   \"CRWT145\"  \"BW214\"    \"BW279\"    \"AMK325\"  \n",
       "[73] \"BS47\"     \"AMK207\"   \"CRWT1244\" \"AMK1156\"  \"BW96\"     \"BW33\"    \n",
       "[79] \"SCN290\"   \"AMK114\"   \"AMK22\"    \"CRWT216\"  \"BW277\"    \"OT36\"    \n",
       "[85] \"BW218\"    \"CRWT310\"  \"CRWT1255\" \"AMK157\"   \"CRWT1258\" \"IRC\"     "
      ]
     },
     "execution_count": 134,
     "metadata": {},
     "output_type": "execute_result"
    }
   ],
   "source": [
    "cDNA_dt[,unique(Name)]"
   ]
  },
  {
   "cell_type": "markdown",
   "metadata": {},
   "source": [
    "### Read the Data Sheets"
   ]
  },
  {
   "cell_type": "code",
   "execution_count": 104,
   "metadata": {},
   "outputs": [
    {
     "data": {
      "text/html": [
       "<ol class=list-inline>\n",
       "\t<li>'GEP_repeats_VRN1_results'</li>\n",
       "\t<li>'GEP_repeats_VRN2_results'</li>\n",
       "\t<li>'GEP_repeats_VRN3_results'</li>\n",
       "\t<li>'GEP_repeats_EGF1a_results'</li>\n",
       "\t<li>'GEP_repeats_Ta54227_results'</li>\n",
       "</ol>\n"
      ],
      "text/latex": [
       "\\begin{enumerate*}\n",
       "\\item 'GEP_repeats_VRN1_results'\n",
       "\\item 'GEP_repeats_VRN2_results'\n",
       "\\item 'GEP_repeats_VRN3_results'\n",
       "\\item 'GEP_repeats_EGF1a_results'\n",
       "\\item 'GEP_repeats_Ta54227_results'\n",
       "\\end{enumerate*}\n"
      ],
      "text/markdown": [
       "1. 'GEP_repeats_VRN1_results'\n",
       "2. 'GEP_repeats_VRN2_results'\n",
       "3. 'GEP_repeats_VRN3_results'\n",
       "4. 'GEP_repeats_EGF1a_results'\n",
       "5. 'GEP_repeats_Ta54227_results'\n",
       "\n",
       "\n"
      ],
      "text/plain": [
       "[1] \"GEP_repeats_VRN1_results\"    \"GEP_repeats_VRN2_results\"   \n",
       "[3] \"GEP_repeats_VRN3_results\"    \"GEP_repeats_EGF1a_results\"  \n",
       "[5] \"GEP_repeats_Ta54227_results\""
      ]
     },
     "execution_count": 104,
     "metadata": {},
     "output_type": "execute_result"
    }
   ],
   "source": [
    "(dataSheets <- sheetnames1[grepl(\"_results$\", sheetnames1)])"
   ]
  },
  {
   "cell_type": "code",
   "execution_count": 105,
   "metadata": {},
   "outputs": [],
   "source": [
    "# read sheet X frpom xlsx at filepath and return a data.table\n",
    "read_qPCR <- function(filepath,X) {\n",
    "  require(openxlsx)\n",
    "  require(data.table)\n",
    "  require(dplyr)\n",
    "  wb_path <- filepath\n",
    "  my_sheet_data <- strsplit(X,split='_')[[1]]\n",
    "  my_plate <- my_sheet_data[1]\n",
    "  my_gene <- my_sheet_data[3]\n",
    "  my_df <- data.table(read.xlsx(wb_path,X,startRow=2))\n",
    "  my_df$gene <- my_gene\n",
    "  my_df$plate <- my_plate\n",
    "  setnames(my_df,c('Pos'),c('qPCR_well'))\n",
    "  my_df %<>% \n",
    "    inner_join(trans_dt,by='qPCR_well') %>%\n",
    "  arrange(sample_well) %>% data.table\n",
    "  my_df<- suppressWarnings(my_df[,grep(\"^Tm\", colnames(my_df)):= NULL,with=FALSE])\n",
    "  return(as.data.table(my_df))\n",
    "}"
   ]
  },
  {
   "cell_type": "code",
   "execution_count": 106,
   "metadata": {},
   "outputs": [
    {
     "data": {
      "text/html": [
       "<table>\n",
       "<thead><tr><th></th><th scope=col>qPCR_well</th><th scope=col>Name</th><th scope=col>Cp</th><th scope=col>gene</th><th scope=col>plate</th><th scope=col>sample_well</th></tr></thead>\n",
       "<tbody>\n",
       "\t<tr><th scope=row>1</th><td>A1</td><td>AMK258</td><td>24.83</td><td>Ta54227</td><td>GEP</td><td>A1</td></tr>\n",
       "\t<tr><th scope=row>2</th><td>A2</td><td>AMK258</td><td>24.83</td><td>Ta54227</td><td>GEP</td><td>A1</td></tr>\n",
       "\t<tr><th scope=row>3</th><td>B1</td><td>AMK258</td><td>24.9</td><td>Ta54227</td><td>GEP</td><td>A1</td></tr>\n",
       "\t<tr><th scope=row>4</th><td>A19</td><td>CRWT145</td><td>24.5</td><td>Ta54227</td><td>GEP</td><td>A10</td></tr>\n",
       "\t<tr><th scope=row>5</th><td>A20</td><td>CRWT145</td><td>24.59</td><td>Ta54227</td><td>GEP</td><td>A10</td></tr>\n",
       "\t<tr><th scope=row>6</th><td>B19</td><td>CRWT145</td><td>NA</td><td>Ta54227</td><td>GEP</td><td>A10</td></tr>\n",
       "</tbody>\n",
       "</table>\n"
      ],
      "text/latex": [
       "\\begin{tabular}{r|llllll}\n",
       "  & qPCR_well & Name & Cp & gene & plate & sample_well\\\\\n",
       "\\hline\n",
       "\t1 & A1 & AMK258 & 24.83 & Ta54227 & GEP & A1\\\\\n",
       "\t2 & A2 & AMK258 & 24.83 & Ta54227 & GEP & A1\\\\\n",
       "\t3 & B1 & AMK258 & 24.9 & Ta54227 & GEP & A1\\\\\n",
       "\t4 & A19 & CRWT145 & 24.5 & Ta54227 & GEP & A10\\\\\n",
       "\t5 & A20 & CRWT145 & 24.59 & Ta54227 & GEP & A10\\\\\n",
       "\t6 & B19 & CRWT145 & NA & Ta54227 & GEP & A10\\\\\n",
       "\\end{tabular}\n"
      ],
      "text/plain": [
       "   qPCR_well    Name    Cp    gene plate sample_well\n",
       "1:        A1  AMK258 24.83 Ta54227   GEP          A1\n",
       "2:        A2  AMK258 24.83 Ta54227   GEP          A1\n",
       "3:        B1  AMK258 24.90 Ta54227   GEP          A1\n",
       "4:       A19 CRWT145 24.50 Ta54227   GEP         A10\n",
       "5:       A20 CRWT145 24.59 Ta54227   GEP         A10\n",
       "6:       B19 CRWT145    NA Ta54227   GEP         A10"
      ]
     },
     "execution_count": 106,
     "metadata": {},
     "output_type": "execute_result"
    }
   ],
   "source": [
    "read_qPCR(repeat_filename1,'GEP_repeats_Ta54227_results') %>% head"
   ]
  },
  {
   "cell_type": "code",
   "execution_count": 107,
   "metadata": {},
   "outputs": [],
   "source": [
    "repeat_result_dt <- rbindlist(lapply(dataSheets,function(S)read_qPCR(repeat_filename1,S)),fill = TRUE)"
   ]
  },
  {
   "cell_type": "code",
   "execution_count": 108,
   "metadata": {},
   "outputs": [
    {
     "data": {
      "text/html": [
       "<ol class=list-inline>\n",
       "\t<li>'AMK258'</li>\n",
       "\t<li>'CRWT145'</li>\n",
       "\t<li>'BW96'</li>\n",
       "\t<li>'CRWT216'</li>\n",
       "\t<li>'BW47'</li>\n",
       "\t<li>'AMK275'</li>\n",
       "\t<li>'AMK204'</li>\n",
       "\t<li>'AMK156'</li>\n",
       "\t<li>'SCN146'</li>\n",
       "\t<li>'AMK196'</li>\n",
       "\t<li>'AMK198'</li>\n",
       "\t<li>'BW239'</li>\n",
       "\t<li>'SCN13'</li>\n",
       "\t<li>'BW214'</li>\n",
       "\t<li>'SCN71'</li>\n",
       "\t<li>'BW277'</li>\n",
       "\t<li>'CRWT232'</li>\n",
       "\t<li>'SCN310'</li>\n",
       "\t<li>'AMK20'</li>\n",
       "\t<li>'CRWT345'</li>\n",
       "\t<li>'OT21'</li>\n",
       "\t<li>'BS73'</li>\n",
       "\t<li>'CRWT300'</li>\n",
       "\t<li>'CRWT307'</li>\n",
       "\t<li>'BW92'</li>\n",
       "\t<li>'BW279'</li>\n",
       "\t<li>'BW33'</li>\n",
       "\t<li>'OT36'</li>\n",
       "\t<li>'BW219'</li>\n",
       "\t<li>'CRWT271'</li>\n",
       "\t<li>'AMK293'</li>\n",
       "\t<li>'CRWT293'</li>\n",
       "\t<li>'SCN136'</li>\n",
       "\t<li>'AMK212'</li>\n",
       "\t<li>'BW286'</li>\n",
       "\t<li>'OT220'</li>\n",
       "\t<li>'CRWT196'</li>\n",
       "\t<li>'AMK325'</li>\n",
       "\t<li>'BW218'</li>\n",
       "\t<li>'AMK126'</li>\n",
       "\t<li>'CRWT42'</li>\n",
       "\t<li>'CRWT318'</li>\n",
       "\t<li>'AMK180'</li>\n",
       "\t<li>'OT37'</li>\n",
       "\t<li>'AMK185'</li>\n",
       "\t<li>'BW217'</li>\n",
       "\t<li>'BW192'</li>\n",
       "\t<li>'AMK320'</li>\n",
       "\t<li>'BS47'</li>\n",
       "\t<li>'CRWT310'</li>\n",
       "\t<li>'CRWT151'</li>\n",
       "\t<li>'AMK330'</li>\n",
       "\t<li>'BW237'</li>\n",
       "\t<li>'OT8'</li>\n",
       "\t<li>'BW264'</li>\n",
       "\t<li>'AMK176'</li>\n",
       "\t<li>'BW287'</li>\n",
       "\t<li>'CRWT240'</li>\n",
       "\t<li>'AMK207'</li>\n",
       "\t<li>'SCN290'</li>\n",
       "\t<li>'CRWT1255'</li>\n",
       "\t<li>'AMK76'</li>\n",
       "\t<li>'BW265'</li>\n",
       "\t<li>'CRWT316'</li>\n",
       "\t<li>'AMK1154'</li>\n",
       "\t<li>'AMK184'</li>\n",
       "\t<li>'CRWT65'</li>\n",
       "\t<li>'SCN265'</li>\n",
       "\t<li>'CRWT1244'</li>\n",
       "\t<li>'AMK114'</li>\n",
       "\t<li>'AMK157'</li>\n",
       "\t<li>'AMK69'</li>\n",
       "\t<li>'SCN131'</li>\n",
       "\t<li>'CRWT274'</li>\n",
       "\t<li>'BW244'</li>\n",
       "\t<li>'CRWT336'</li>\n",
       "\t<li>'AMK188'</li>\n",
       "\t<li>'OT1026'</li>\n",
       "\t<li>'BW256'</li>\n",
       "\t<li>'SCN142'</li>\n",
       "\t<li>'AMK1156'</li>\n",
       "\t<li>'AMK22'</li>\n",
       "\t<li>'CRWT1258'</li>\n",
       "\t<li>'BW155'</li>\n",
       "\t<li>'OT30'</li>\n",
       "\t<li>'AMK214'</li>\n",
       "\t<li>'AMK199'</li>\n",
       "\t<li>'SCN1115'</li>\n",
       "\t<li>'CRWT38'</li>\n",
       "\t<li>'IRC'</li>\n",
       "\t<li>'N T'</li>\n",
       "\t<li>'NT'</li>\n",
       "</ol>\n"
      ],
      "text/latex": [
       "\\begin{enumerate*}\n",
       "\\item 'AMK258'\n",
       "\\item 'CRWT145'\n",
       "\\item 'BW96'\n",
       "\\item 'CRWT216'\n",
       "\\item 'BW47'\n",
       "\\item 'AMK275'\n",
       "\\item 'AMK204'\n",
       "\\item 'AMK156'\n",
       "\\item 'SCN146'\n",
       "\\item 'AMK196'\n",
       "\\item 'AMK198'\n",
       "\\item 'BW239'\n",
       "\\item 'SCN13'\n",
       "\\item 'BW214'\n",
       "\\item 'SCN71'\n",
       "\\item 'BW277'\n",
       "\\item 'CRWT232'\n",
       "\\item 'SCN310'\n",
       "\\item 'AMK20'\n",
       "\\item 'CRWT345'\n",
       "\\item 'OT21'\n",
       "\\item 'BS73'\n",
       "\\item 'CRWT300'\n",
       "\\item 'CRWT307'\n",
       "\\item 'BW92'\n",
       "\\item 'BW279'\n",
       "\\item 'BW33'\n",
       "\\item 'OT36'\n",
       "\\item 'BW219'\n",
       "\\item 'CRWT271'\n",
       "\\item 'AMK293'\n",
       "\\item 'CRWT293'\n",
       "\\item 'SCN136'\n",
       "\\item 'AMK212'\n",
       "\\item 'BW286'\n",
       "\\item 'OT220'\n",
       "\\item 'CRWT196'\n",
       "\\item 'AMK325'\n",
       "\\item 'BW218'\n",
       "\\item 'AMK126'\n",
       "\\item 'CRWT42'\n",
       "\\item 'CRWT318'\n",
       "\\item 'AMK180'\n",
       "\\item 'OT37'\n",
       "\\item 'AMK185'\n",
       "\\item 'BW217'\n",
       "\\item 'BW192'\n",
       "\\item 'AMK320'\n",
       "\\item 'BS47'\n",
       "\\item 'CRWT310'\n",
       "\\item 'CRWT151'\n",
       "\\item 'AMK330'\n",
       "\\item 'BW237'\n",
       "\\item 'OT8'\n",
       "\\item 'BW264'\n",
       "\\item 'AMK176'\n",
       "\\item 'BW287'\n",
       "\\item 'CRWT240'\n",
       "\\item 'AMK207'\n",
       "\\item 'SCN290'\n",
       "\\item 'CRWT1255'\n",
       "\\item 'AMK76'\n",
       "\\item 'BW265'\n",
       "\\item 'CRWT316'\n",
       "\\item 'AMK1154'\n",
       "\\item 'AMK184'\n",
       "\\item 'CRWT65'\n",
       "\\item 'SCN265'\n",
       "\\item 'CRWT1244'\n",
       "\\item 'AMK114'\n",
       "\\item 'AMK157'\n",
       "\\item 'AMK69'\n",
       "\\item 'SCN131'\n",
       "\\item 'CRWT274'\n",
       "\\item 'BW244'\n",
       "\\item 'CRWT336'\n",
       "\\item 'AMK188'\n",
       "\\item 'OT1026'\n",
       "\\item 'BW256'\n",
       "\\item 'SCN142'\n",
       "\\item 'AMK1156'\n",
       "\\item 'AMK22'\n",
       "\\item 'CRWT1258'\n",
       "\\item 'BW155'\n",
       "\\item 'OT30'\n",
       "\\item 'AMK214'\n",
       "\\item 'AMK199'\n",
       "\\item 'SCN1115'\n",
       "\\item 'CRWT38'\n",
       "\\item 'IRC'\n",
       "\\item 'N T'\n",
       "\\item 'NT'\n",
       "\\end{enumerate*}\n"
      ],
      "text/markdown": [
       "1. 'AMK258'\n",
       "2. 'CRWT145'\n",
       "3. 'BW96'\n",
       "4. 'CRWT216'\n",
       "5. 'BW47'\n",
       "6. 'AMK275'\n",
       "7. 'AMK204'\n",
       "8. 'AMK156'\n",
       "9. 'SCN146'\n",
       "10. 'AMK196'\n",
       "11. 'AMK198'\n",
       "12. 'BW239'\n",
       "13. 'SCN13'\n",
       "14. 'BW214'\n",
       "15. 'SCN71'\n",
       "16. 'BW277'\n",
       "17. 'CRWT232'\n",
       "18. 'SCN310'\n",
       "19. 'AMK20'\n",
       "20. 'CRWT345'\n",
       "21. 'OT21'\n",
       "22. 'BS73'\n",
       "23. 'CRWT300'\n",
       "24. 'CRWT307'\n",
       "25. 'BW92'\n",
       "26. 'BW279'\n",
       "27. 'BW33'\n",
       "28. 'OT36'\n",
       "29. 'BW219'\n",
       "30. 'CRWT271'\n",
       "31. 'AMK293'\n",
       "32. 'CRWT293'\n",
       "33. 'SCN136'\n",
       "34. 'AMK212'\n",
       "35. 'BW286'\n",
       "36. 'OT220'\n",
       "37. 'CRWT196'\n",
       "38. 'AMK325'\n",
       "39. 'BW218'\n",
       "40. 'AMK126'\n",
       "41. 'CRWT42'\n",
       "42. 'CRWT318'\n",
       "43. 'AMK180'\n",
       "44. 'OT37'\n",
       "45. 'AMK185'\n",
       "46. 'BW217'\n",
       "47. 'BW192'\n",
       "48. 'AMK320'\n",
       "49. 'BS47'\n",
       "50. 'CRWT310'\n",
       "51. 'CRWT151'\n",
       "52. 'AMK330'\n",
       "53. 'BW237'\n",
       "54. 'OT8'\n",
       "55. 'BW264'\n",
       "56. 'AMK176'\n",
       "57. 'BW287'\n",
       "58. 'CRWT240'\n",
       "59. 'AMK207'\n",
       "60. 'SCN290'\n",
       "61. 'CRWT1255'\n",
       "62. 'AMK76'\n",
       "63. 'BW265'\n",
       "64. 'CRWT316'\n",
       "65. 'AMK1154'\n",
       "66. 'AMK184'\n",
       "67. 'CRWT65'\n",
       "68. 'SCN265'\n",
       "69. 'CRWT1244'\n",
       "70. 'AMK114'\n",
       "71. 'AMK157'\n",
       "72. 'AMK69'\n",
       "73. 'SCN131'\n",
       "74. 'CRWT274'\n",
       "75. 'BW244'\n",
       "76. 'CRWT336'\n",
       "77. 'AMK188'\n",
       "78. 'OT1026'\n",
       "79. 'BW256'\n",
       "80. 'SCN142'\n",
       "81. 'AMK1156'\n",
       "82. 'AMK22'\n",
       "83. 'CRWT1258'\n",
       "84. 'BW155'\n",
       "85. 'OT30'\n",
       "86. 'AMK214'\n",
       "87. 'AMK199'\n",
       "88. 'SCN1115'\n",
       "89. 'CRWT38'\n",
       "90. 'IRC'\n",
       "91. 'N T'\n",
       "92. 'NT'\n",
       "\n",
       "\n"
      ],
      "text/plain": [
       " [1] \"AMK258\"   \"CRWT145\"  \"BW96\"     \"CRWT216\"  \"BW47\"     \"AMK275\"  \n",
       " [7] \"AMK204\"   \"AMK156\"   \"SCN146\"   \"AMK196\"   \"AMK198\"   \"BW239\"   \n",
       "[13] \"SCN13\"    \"BW214\"    \"SCN71\"    \"BW277\"    \"CRWT232\"  \"SCN310\"  \n",
       "[19] \"AMK20\"    \"CRWT345\"  \"OT21\"     \"BS73\"     \"CRWT300\"  \"CRWT307\" \n",
       "[25] \"BW92\"     \"BW279\"    \"BW33\"     \"OT36\"     \"BW219\"    \"CRWT271\" \n",
       "[31] \"AMK293\"   \"CRWT293\"  \"SCN136\"   \"AMK212\"   \"BW286\"    \"OT220\"   \n",
       "[37] \"CRWT196\"  \"AMK325\"   \"BW218\"    \"AMK126\"   \"CRWT42\"   \"CRWT318\" \n",
       "[43] \"AMK180\"   \"OT37\"     \"AMK185\"   \"BW217\"    \"BW192\"    \"AMK320\"  \n",
       "[49] \"BS47\"     \"CRWT310\"  \"CRWT151\"  \"AMK330\"   \"BW237\"    \"OT8\"     \n",
       "[55] \"BW264\"    \"AMK176\"   \"BW287\"    \"CRWT240\"  \"AMK207\"   \"SCN290\"  \n",
       "[61] \"CRWT1255\" \"AMK76\"    \"BW265\"    \"CRWT316\"  \"AMK1154\"  \"AMK184\"  \n",
       "[67] \"CRWT65\"   \"SCN265\"   \"CRWT1244\" \"AMK114\"   \"AMK157\"   \"AMK69\"   \n",
       "[73] \"SCN131\"   \"CRWT274\"  \"BW244\"    \"CRWT336\"  \"AMK188\"   \"OT1026\"  \n",
       "[79] \"BW256\"    \"SCN142\"   \"AMK1156\"  \"AMK22\"    \"CRWT1258\" \"BW155\"   \n",
       "[85] \"OT30\"     \"AMK214\"   \"AMK199\"   \"SCN1115\"  \"CRWT38\"   \"IRC\"     \n",
       "[91] \"N T\"      \"NT\"      "
      ]
     },
     "execution_count": 108,
     "metadata": {},
     "output_type": "execute_result"
    }
   ],
   "source": [
    "repeat_result_dt[,unique(Name)]"
   ]
  },
  {
   "cell_type": "code",
   "execution_count": 109,
   "metadata": {},
   "outputs": [
    {
     "data": {
      "text/plain": [
       "  qPCR_well             Name                 Cp            gene          \n",
       " Length:1470        Length:1470        Min.   :17.78   Length:1470       \n",
       " Class :character   Class :character   1st Qu.:23.21   Class :character  \n",
       " Mode  :character   Mode  :character   Median :25.23   Mode  :character  \n",
       "                                       Mean   :26.27                     \n",
       "                                       3rd Qu.:29.73                     \n",
       "                                       Max.   :35.80                     \n",
       "                                       NA's   :594                       \n",
       "    plate           sample_well       \n",
       " Length:1470        Length:1470       \n",
       " Class :character   Class :character  \n",
       " Mode  :character   Mode  :character  \n",
       "                                      \n",
       "                                      \n",
       "                                      \n",
       "                                      "
      ]
     },
     "execution_count": 109,
     "metadata": {},
     "output_type": "execute_result"
    }
   ],
   "source": [
    "summary(repeat_result_dt)"
   ]
  },
  {
   "cell_type": "markdown",
   "metadata": {},
   "source": [
    "### Read Workbook2"
   ]
  },
  {
   "cell_type": "code",
   "execution_count": 120,
   "metadata": {},
   "outputs": [
    {
     "data": {
      "text/html": [
       "'GEP_final_repeat_qPCR_results_omit_GEP3+4.xlsx'"
      ],
      "text/latex": [
       "'GEP_final_repeat_qPCR_results_omit_GEP3+4.xlsx'"
      ],
      "text/markdown": [
       "'GEP_final_repeat_qPCR_results_omit_GEP3+4.xlsx'"
      ],
      "text/plain": [
       "[1] \"GEP_final_repeat_qPCR_results_omit_GEP3+4.xlsx\""
      ]
     },
     "execution_count": 120,
     "metadata": {},
     "output_type": "execute_result"
    }
   ],
   "source": [
    "repeat_filename2"
   ]
  },
  {
   "cell_type": "code",
   "execution_count": 121,
   "metadata": {},
   "outputs": [
    {
     "data": {
      "text/html": [
       "<ol class=list-inline>\n",
       "\t<li>'Notes'</li>\n",
       "\t<li>'RNA plate order'</li>\n",
       "\t<li>'96well to 384well'</li>\n",
       "\t<li>'GEPfinal_VRN2'</li>\n",
       "\t<li>'GEP_final_egf1a'</li>\n",
       "\t<li>'GEPfinal_ta54227'</li>\n",
       "</ol>\n"
      ],
      "text/latex": [
       "\\begin{enumerate*}\n",
       "\\item 'Notes'\n",
       "\\item 'RNA plate order'\n",
       "\\item '96well to 384well'\n",
       "\\item 'GEPfinal_VRN2'\n",
       "\\item 'GEP_final_egf1a'\n",
       "\\item 'GEPfinal_ta54227'\n",
       "\\end{enumerate*}\n"
      ],
      "text/markdown": [
       "1. 'Notes'\n",
       "2. 'RNA plate order'\n",
       "3. '96well to 384well'\n",
       "4. 'GEPfinal_VRN2'\n",
       "5. 'GEP_final_egf1a'\n",
       "6. 'GEPfinal_ta54227'\n",
       "\n",
       "\n"
      ],
      "text/plain": [
       "[1] \"Notes\"             \"RNA plate order\"   \"96well to 384well\"\n",
       "[4] \"GEPfinal_VRN2\"     \"GEP_final_egf1a\"   \"GEPfinal_ta54227\" "
      ]
     },
     "execution_count": 121,
     "metadata": {},
     "output_type": "execute_result"
    }
   ],
   "source": [
    "(sheetnames <- getSheetNames(repeat_filename2))"
   ]
  },
  {
   "cell_type": "code",
   "execution_count": 122,
   "metadata": {},
   "outputs": [],
   "source": [
    "repeat2_result_dt <- rbindlist(lapply(sheetnames[4:6],function(S) read_qPCR(repeat_filename2,S)),fill = TRUE)"
   ]
  },
  {
   "cell_type": "code",
   "execution_count": 124,
   "metadata": {},
   "outputs": [
    {
     "data": {
      "text/html": [
       "<table>\n",
       "<thead><tr><th></th><th scope=col>qPCR_well</th><th scope=col>Name</th><th scope=col>Cp</th><th scope=col>gene</th><th scope=col>plate</th><th scope=col>sample_well</th></tr></thead>\n",
       "<tbody>\n",
       "\t<tr><th scope=row>1</th><td>A1</td><td>AMK258</td><td>NA</td><td>VRN1</td><td>GEP</td><td>A1</td></tr>\n",
       "\t<tr><th scope=row>2</th><td>A2</td><td>AMK258</td><td>NA</td><td>VRN1</td><td>GEP</td><td>A1</td></tr>\n",
       "\t<tr><th scope=row>3</th><td>B1</td><td>AMK258</td><td>NA</td><td>VRN1</td><td>GEP</td><td>A1</td></tr>\n",
       "\t<tr><th scope=row>4</th><td>A19</td><td>CRWT145</td><td>NA</td><td>VRN1</td><td>GEP</td><td>A10</td></tr>\n",
       "\t<tr><th scope=row>5</th><td>A20</td><td>CRWT145</td><td>NA</td><td>VRN1</td><td>GEP</td><td>A10</td></tr>\n",
       "\t<tr><th scope=row>6</th><td>B19</td><td>CRWT145</td><td>NA</td><td>VRN1</td><td>GEP</td><td>A10</td></tr>\n",
       "</tbody>\n",
       "</table>\n"
      ],
      "text/latex": [
       "\\begin{tabular}{r|llllll}\n",
       "  & qPCR_well & Name & Cp & gene & plate & sample_well\\\\\n",
       "\\hline\n",
       "\t1 & A1 & AMK258 & NA & VRN1 & GEP & A1\\\\\n",
       "\t2 & A2 & AMK258 & NA & VRN1 & GEP & A1\\\\\n",
       "\t3 & B1 & AMK258 & NA & VRN1 & GEP & A1\\\\\n",
       "\t4 & A19 & CRWT145 & NA & VRN1 & GEP & A10\\\\\n",
       "\t5 & A20 & CRWT145 & NA & VRN1 & GEP & A10\\\\\n",
       "\t6 & B19 & CRWT145 & NA & VRN1 & GEP & A10\\\\\n",
       "\\end{tabular}\n"
      ],
      "text/plain": [
       "   qPCR_well    Name Cp gene plate sample_well\n",
       "1:        A1  AMK258 NA VRN1   GEP          A1\n",
       "2:        A2  AMK258 NA VRN1   GEP          A1\n",
       "3:        B1  AMK258 NA VRN1   GEP          A1\n",
       "4:       A19 CRWT145 NA VRN1   GEP         A10\n",
       "5:       A20 CRWT145 NA VRN1   GEP         A10\n",
       "6:       B19 CRWT145 NA VRN1   GEP         A10"
      ]
     },
     "execution_count": 124,
     "metadata": {},
     "output_type": "execute_result"
    },
    {
     "data": {
      "text/html": [
       "<table>\n",
       "<thead><tr><th></th><th scope=col>qPCR_well</th><th scope=col>Name</th><th scope=col>Cp</th><th scope=col>gene</th><th scope=col>plate</th><th scope=col>sample_well</th><th scope=col>Include</th><th scope=col>Ta.Cp</th></tr></thead>\n",
       "<tbody>\n",
       "\t<tr><th scope=row>1</th><td>C1</td><td>BS164</td><td>31.27</td><td>NA</td><td>GEPfinal</td><td>B1</td><td>NA</td><td>NA</td></tr>\n",
       "\t<tr><th scope=row>2</th><td>C2</td><td>BS164</td><td>NA</td><td>NA</td><td>GEPfinal</td><td>B1</td><td>NA</td><td>NA</td></tr>\n",
       "\t<tr><th scope=row>3</th><td>D1</td><td>BS164</td><td>31.3</td><td>NA</td><td>GEPfinal</td><td>B1</td><td>NA</td><td>NA</td></tr>\n",
       "\t<tr><th scope=row>4</th><td>C5</td><td>CRWT333</td><td>33.59</td><td>NA</td><td>GEPfinal</td><td>B3</td><td>NA</td><td>NA</td></tr>\n",
       "\t<tr><th scope=row>5</th><td>C6</td><td>CRWT333</td><td>32.76</td><td>NA</td><td>GEPfinal</td><td>B3</td><td>NA</td><td>NA</td></tr>\n",
       "\t<tr><th scope=row>6</th><td>D5</td><td>CRWT333</td><td>NA</td><td>NA</td><td>GEPfinal</td><td>B3</td><td>NA</td><td>NA</td></tr>\n",
       "</tbody>\n",
       "</table>\n"
      ],
      "text/latex": [
       "\\begin{tabular}{r|llllllll}\n",
       "  & qPCR_well & Name & Cp & gene & plate & sample_well & Include & Ta.Cp\\\\\n",
       "\\hline\n",
       "\t1 & C1 & BS164 & 31.27 & NA & GEPfinal & B1 & NA & NA\\\\\n",
       "\t2 & C2 & BS164 & NA & NA & GEPfinal & B1 & NA & NA\\\\\n",
       "\t3 & D1 & BS164 & 31.3 & NA & GEPfinal & B1 & NA & NA\\\\\n",
       "\t4 & C5 & CRWT333 & 33.59 & NA & GEPfinal & B3 & NA & NA\\\\\n",
       "\t5 & C6 & CRWT333 & 32.76 & NA & GEPfinal & B3 & NA & NA\\\\\n",
       "\t6 & D5 & CRWT333 & NA & NA & GEPfinal & B3 & NA & NA\\\\\n",
       "\\end{tabular}\n"
      ],
      "text/plain": [
       "   qPCR_well    Name    Cp gene    plate sample_well Include Ta.Cp\n",
       "1:        C1   BS164 31.27   NA GEPfinal          B1      NA    NA\n",
       "2:        C2   BS164    NA   NA GEPfinal          B1      NA    NA\n",
       "3:        D1   BS164 31.30   NA GEPfinal          B1      NA    NA\n",
       "4:        C5 CRWT333 33.59   NA GEPfinal          B3      NA    NA\n",
       "5:        C6 CRWT333 32.76   NA GEPfinal          B3      NA    NA\n",
       "6:        D5 CRWT333    NA   NA GEPfinal          B3      NA    NA"
      ]
     },
     "execution_count": 124,
     "metadata": {},
     "output_type": "execute_result"
    }
   ],
   "source": [
    "head(repeat_result_dt)\n",
    "head(repeat2_result_dt)"
   ]
  },
  {
   "cell_type": "markdown",
   "metadata": {},
   "source": [
    "To Rbind with Set 1 need names to match\n",
    "\n",
    "```\n",
    "'Plate' 'sample_well' 'Name' 'EGF1a' 'Ta54227' 'VRN1' 'VRN2' 'VRN3' 'VRN1_TA' 'VRN2_TA' 'VRN3_TA' 'Col' 'Row' 'Experiment' 'Plot.ID.Old' 'Plot.IDNew' 'SampleDate' 'Vern' 'Cult' 'Pp' 'TaNorm'\n",
    "```"
   ]
  },
  {
   "cell_type": "markdown",
   "metadata": {},
   "source": [
    "### Calculate Means\n",
    "\n",
    "First check the top"
   ]
  },
  {
   "cell_type": "code",
   "execution_count": 150,
   "metadata": {},
   "outputs": [
    {
     "data": {
      "text/html": [
       "<table>\n",
       "<thead><tr><th></th><th scope=col>Name</th><th scope=col>sample_well</th><th scope=col>qPCR_well</th><th scope=col>plate</th><th scope=col>ex_sample_plate</th><th scope=col>ex_sample_plate_well</th><th scope=col>EGF1a</th><th scope=col>Ta54227</th><th scope=col>VRN1</th><th scope=col>VRN2</th><th scope=col>VRN3</th></tr></thead>\n",
       "<tbody>\n",
       "\t<tr><th scope=row>1</th><td>AMK114</td><td>G11</td><td>M21</td><td>GEP</td><td>GEP5</td><td>A7</td><td>19.76</td><td>22.42</td><td>22.51</td><td>NA</td><td>24.56</td></tr>\n",
       "\t<tr><th scope=row>2</th><td>AMK114</td><td>G11</td><td>M22</td><td>GEP</td><td>GEP5</td><td>A7</td><td>NA</td><td>22.36</td><td>22.48</td><td>NA</td><td>24.7</td></tr>\n",
       "\t<tr><th scope=row>3</th><td>AMK114</td><td>G11</td><td>N21</td><td>GEP</td><td>GEP5</td><td>A7</td><td>19.71</td><td>22.48</td><td>22.43</td><td>NA</td><td>24.64</td></tr>\n",
       "\t<tr><th scope=row>4</th><td>AMK1154</td><td>F7</td><td>K13</td><td>GEP</td><td>GEP7</td><td>8C</td><td>22.98</td><td>25.44</td><td>26.61</td><td>31.9</td><td>NA</td></tr>\n",
       "\t<tr><th scope=row>5</th><td>AMK1154</td><td>F7</td><td>K14</td><td>GEP</td><td>GEP7</td><td>8C</td><td>23.09</td><td>25.39</td><td>26.51</td><td>NA</td><td>NA</td></tr>\n",
       "\t<tr><th scope=row>6</th><td>AMK1154</td><td>F7</td><td>L13</td><td>GEP</td><td>GEP7</td><td>8C</td><td>NA</td><td>25.24</td><td>26.64</td><td>33.47</td><td>NA</td></tr>\n",
       "</tbody>\n",
       "</table>\n"
      ],
      "text/latex": [
       "\\begin{tabular}{r|lllllllllll}\n",
       "  & Name & sample_well & qPCR_well & plate & ex_sample_plate & ex_sample_plate_well & EGF1a & Ta54227 & VRN1 & VRN2 & VRN3\\\\\n",
       "\\hline\n",
       "\t1 & AMK114 & G11 & M21 & GEP & GEP5 & A7 & 19.76 & 22.42 & 22.51 & NA & 24.56\\\\\n",
       "\t2 & AMK114 & G11 & M22 & GEP & GEP5 & A7 & NA & 22.36 & 22.48 & NA & 24.7\\\\\n",
       "\t3 & AMK114 & G11 & N21 & GEP & GEP5 & A7 & 19.71 & 22.48 & 22.43 & NA & 24.64\\\\\n",
       "\t4 & AMK1154 & F7 & K13 & GEP & GEP7 & 8C & 22.98 & 25.44 & 26.61 & 31.9 & NA\\\\\n",
       "\t5 & AMK1154 & F7 & K14 & GEP & GEP7 & 8C & 23.09 & 25.39 & 26.51 & NA & NA\\\\\n",
       "\t6 & AMK1154 & F7 & L13 & GEP & GEP7 & 8C & NA & 25.24 & 26.64 & 33.47 & NA\\\\\n",
       "\\end{tabular}\n"
      ],
      "text/plain": [
       "     Name sample_well qPCR_well plate ex_sample_plate ex_sample_plate_well\n",
       "1  AMK114         G11       M21   GEP            GEP5                   A7\n",
       "2  AMK114         G11       M22   GEP            GEP5                   A7\n",
       "3  AMK114         G11       N21   GEP            GEP5                   A7\n",
       "4 AMK1154          F7       K13   GEP            GEP7                   8C\n",
       "5 AMK1154          F7       K14   GEP            GEP7                   8C\n",
       "6 AMK1154          F7       L13   GEP            GEP7                   8C\n",
       "  EGF1a Ta54227  VRN1  VRN2  VRN3\n",
       "1 19.76   22.42 22.51    NA 24.56\n",
       "2    NA   22.36 22.48    NA 24.70\n",
       "3 19.71   22.48 22.43    NA 24.64\n",
       "4 22.98   25.44 26.61 31.90    NA\n",
       "5 23.09   25.39 26.51    NA    NA\n",
       "6    NA   25.24 26.64 33.47    NA"
      ]
     },
     "execution_count": 150,
     "metadata": {},
     "output_type": "execute_result"
    }
   ],
   "source": [
    "repeat_result_dt %>%\n",
    "    arrange(Name) %>% \n",
    "    spread(gene,Cp) %>% \n",
    "    group_by(Name,sample_well) %>% head"
   ]
  },
  {
   "cell_type": "code",
   "execution_count": 147,
   "metadata": {},
   "outputs": [
    {
     "data": {
      "text/html": [
       "<table>\n",
       "<thead><tr><th></th><th scope=col>Name</th><th scope=col>sample_well</th><th scope=col>EGF1a</th><th scope=col>Ta54227</th><th scope=col>VRN1</th><th scope=col>VRN2</th><th scope=col>VRN3</th></tr></thead>\n",
       "<tbody>\n",
       "\t<tr><th scope=row>1</th><td>AMK114</td><td>G11</td><td>19.735</td><td>22.42</td><td>22.47333</td><td>NaN</td><td>24.63333</td></tr>\n",
       "\t<tr><th scope=row>2</th><td>AMK1154</td><td>F7</td><td>23.035</td><td>25.35667</td><td>26.58667</td><td>32.685</td><td>NaN</td></tr>\n",
       "\t<tr><th scope=row>3</th><td>AMK1156</td><td>H10</td><td>23.35667</td><td>27.61</td><td>30.375</td><td>33.87</td><td>NaN</td></tr>\n",
       "\t<tr><th scope=row>4</th><td>AMK126</td><td>D2</td><td>22.75333</td><td>25.225</td><td>26.97</td><td>33.125</td><td>31.41667</td></tr>\n",
       "\t<tr><th scope=row>5</th><td>AMK156</td><td>A5</td><td>21.79667</td><td>24.185</td><td>NaN</td><td>30.61</td><td>NaN</td></tr>\n",
       "\t<tr><th scope=row>6</th><td>AMK157</td><td>G12</td><td>24.19</td><td>26.77</td><td>34.465</td><td>32.25333</td><td>NaN</td></tr>\n",
       "</tbody>\n",
       "</table>\n"
      ],
      "text/latex": [
       "\\begin{tabular}{r|lllllll}\n",
       "  & Name & sample_well & EGF1a & Ta54227 & VRN1 & VRN2 & VRN3\\\\\n",
       "\\hline\n",
       "\t1 & AMK114 & G11 & 19.735 & 22.42 & 22.47333 & NaN & 24.63333\\\\\n",
       "\t2 & AMK1154 & F7 & 23.035 & 25.35667 & 26.58667 & 32.685 & NaN\\\\\n",
       "\t3 & AMK1156 & H10 & 23.35667 & 27.61 & 30.375 & 33.87 & NaN\\\\\n",
       "\t4 & AMK126 & D2 & 22.75333 & 25.225 & 26.97 & 33.125 & 31.41667\\\\\n",
       "\t5 & AMK156 & A5 & 21.79667 & 24.185 & NaN & 30.61 & NaN\\\\\n",
       "\t6 & AMK157 & G12 & 24.19 & 26.77 & 34.465 & 32.25333 & NaN\\\\\n",
       "\\end{tabular}\n"
      ],
      "text/plain": [
       "     Name sample_well    EGF1a  Ta54227     VRN1     VRN2     VRN3\n",
       "1  AMK114         G11 19.73500 22.42000 22.47333      NaN 24.63333\n",
       "2 AMK1154          F7 23.03500 25.35667 26.58667 32.68500      NaN\n",
       "3 AMK1156         H10 23.35667 27.61000 30.37500 33.87000      NaN\n",
       "4  AMK126          D2 22.75333 25.22500 26.97000 33.12500 31.41667\n",
       "5  AMK156          A5 21.79667 24.18500      NaN 30.61000      NaN\n",
       "6  AMK157         G12 24.19000 26.77000 34.46500 32.25333      NaN"
      ]
     },
     "execution_count": 147,
     "metadata": {},
     "output_type": "execute_result"
    }
   ],
   "source": [
    "repeat_result_dt %>%\n",
    "    arrange(Name) %>% \n",
    "    spread(gene,Cp) %>% \n",
    "    group_by(Name,sample_well) %>%\n",
    "     summarise_each(funs(mean(.,na.rm=TRUE)),7:11) %>% head\n",
    "    "
   ]
  },
  {
   "cell_type": "markdown",
   "metadata": {},
   "source": [
    "Next need to get deltadelta Ct and IRC corrections and rbind onto Set1"
   ]
  },
  {
   "cell_type": "code",
   "execution_count": 148,
   "metadata": {},
   "outputs": [
    {
     "data": {
      "text/html": [
       "<table>\n",
       "<thead><tr><th></th><th scope=col>Name</th><th scope=col>sample_well</th><th scope=col>EGF1a</th><th scope=col>Ta54227</th><th scope=col>VRN1</th><th scope=col>VRN2</th><th scope=col>VRN3</th><th scope=col>VRN1_TA</th><th scope=col>VRN2_TA</th><th scope=col>VRN3_TA</th></tr></thead>\n",
       "<tbody>\n",
       "\t<tr><th scope=row>1</th><td>AMK114</td><td>G11</td><td>19.735</td><td>22.42</td><td>22.47333</td><td>NaN</td><td>24.63333</td><td>0.9637071</td><td>NaN</td><td>0.2156355</td></tr>\n",
       "\t<tr><th scope=row>2</th><td>AMK1154</td><td>F7</td><td>23.035</td><td>25.35667</td><td>26.58667</td><td>32.685</td><td>NaN</td><td>0.4263174</td><td>0.006222313</td><td>NaN</td></tr>\n",
       "\t<tr><th scope=row>3</th><td>AMK1156</td><td>H10</td><td>23.35667</td><td>27.61</td><td>30.375</td><td>33.87</td><td>NaN</td><td>0.1471133</td><td>0.01304825</td><td>NaN</td></tr>\n",
       "\t<tr><th scope=row>4</th><td>AMK126</td><td>D2</td><td>22.75333</td><td>25.225</td><td>26.97</td><td>33.125</td><td>31.41667</td><td>0.2983339</td><td>0.004186615</td><td>0.01368115</td></tr>\n",
       "\t<tr><th scope=row>5</th><td>AMK156</td><td>A5</td><td>21.79667</td><td>24.185</td><td>NaN</td><td>30.61</td><td>NaN</td><td>NaN</td><td>0.01163811</td><td>NaN</td></tr>\n",
       "\t<tr><th scope=row>6</th><td>AMK157</td><td>G12</td><td>24.19</td><td>26.77</td><td>34.465</td><td>32.25333</td><td>NaN</td><td>0.004825854</td><td>0.02235384</td><td>NaN</td></tr>\n",
       "</tbody>\n",
       "</table>\n"
      ],
      "text/latex": [
       "\\begin{tabular}{r|llllllllll}\n",
       "  & Name & sample_well & EGF1a & Ta54227 & VRN1 & VRN2 & VRN3 & VRN1_TA & VRN2_TA & VRN3_TA\\\\\n",
       "\\hline\n",
       "\t1 & AMK114 & G11 & 19.735 & 22.42 & 22.47333 & NaN & 24.63333 & 0.9637071 & NaN & 0.2156355\\\\\n",
       "\t2 & AMK1154 & F7 & 23.035 & 25.35667 & 26.58667 & 32.685 & NaN & 0.4263174 & 0.006222313 & NaN\\\\\n",
       "\t3 & AMK1156 & H10 & 23.35667 & 27.61 & 30.375 & 33.87 & NaN & 0.1471133 & 0.01304825 & NaN\\\\\n",
       "\t4 & AMK126 & D2 & 22.75333 & 25.225 & 26.97 & 33.125 & 31.41667 & 0.2983339 & 0.004186615 & 0.01368115\\\\\n",
       "\t5 & AMK156 & A5 & 21.79667 & 24.185 & NaN & 30.61 & NaN & NaN & 0.01163811 & NaN\\\\\n",
       "\t6 & AMK157 & G12 & 24.19 & 26.77 & 34.465 & 32.25333 & NaN & 0.004825854 & 0.02235384 & NaN\\\\\n",
       "\\end{tabular}\n"
      ],
      "text/plain": [
       "     Name sample_well    EGF1a  Ta54227     VRN1     VRN2     VRN3     VRN1_TA\n",
       "1  AMK114         G11 19.73500 22.42000 22.47333      NaN 24.63333 0.963707118\n",
       "2 AMK1154          F7 23.03500 25.35667 26.58667 32.68500      NaN 0.426317446\n",
       "3 AMK1156         H10 23.35667 27.61000 30.37500 33.87000      NaN 0.147113342\n",
       "4  AMK126          D2 22.75333 25.22500 26.97000 33.12500 31.41667 0.298333936\n",
       "5  AMK156          A5 21.79667 24.18500      NaN 30.61000      NaN         NaN\n",
       "6  AMK157         G12 24.19000 26.77000 34.46500 32.25333      NaN 0.004825854\n",
       "      VRN2_TA    VRN3_TA\n",
       "1         NaN 0.21563551\n",
       "2 0.006222313        NaN\n",
       "3 0.013048249        NaN\n",
       "4 0.004186615 0.01368115\n",
       "5 0.011638105        NaN\n",
       "6 0.022353843        NaN"
      ]
     },
     "execution_count": 148,
     "metadata": {},
     "output_type": "execute_result"
    }
   ],
   "source": [
    "repeat_result_dt %>%\n",
    "    arrange(Name) %>% \n",
    "    spread(gene,Cp) %>% \n",
    "    group_by(Name,sample_well) %>%\n",
    "     summarise_each(funs(mean(.,na.rm=TRUE)),7:11) %>%\n",
    "    mutate(VRN1_TA=2^-(VRN1-Ta54227)) %>%\n",
    "    mutate(VRN2_TA=2^-(VRN2-Ta54227)) %>%\n",
    "    mutate(VRN3_TA=2^-(VRN3-Ta54227)) %>% head"
   ]
  },
  {
   "cell_type": "code",
   "execution_count": 155,
   "metadata": {},
   "outputs": [
    {
     "data": {
      "text/html": [
       "<table>\n",
       "<thead><tr><th></th><th scope=col>Name</th><th scope=col>sample_well</th><th scope=col>EGF1a</th><th scope=col>Ta54227</th><th scope=col>VRN1</th><th scope=col>VRN2</th><th scope=col>VRN3</th><th scope=col>VRN1_TA</th><th scope=col>VRN2_TA</th><th scope=col>VRN3_TA</th></tr></thead>\n",
       "<tbody>\n",
       "\t<tr><th scope=row>1</th><td>AMK114</td><td>G11</td><td>19.735</td><td>22.42</td><td>22.47333</td><td>NaN</td><td>24.63333</td><td>0.9637071</td><td>NaN</td><td>0.2156355</td></tr>\n",
       "\t<tr><th scope=row>2</th><td>AMK1154</td><td>F7</td><td>23.035</td><td>25.35667</td><td>26.58667</td><td>32.685</td><td>NaN</td><td>0.4263174</td><td>0.006222313</td><td>NaN</td></tr>\n",
       "\t<tr><th scope=row>3</th><td>AMK1156</td><td>H10</td><td>23.35667</td><td>27.61</td><td>30.375</td><td>33.87</td><td>NaN</td><td>0.1471133</td><td>0.01304825</td><td>NaN</td></tr>\n",
       "\t<tr><th scope=row>4</th><td>AMK126</td><td>D2</td><td>22.75333</td><td>25.225</td><td>26.97</td><td>33.125</td><td>31.41667</td><td>0.2983339</td><td>0.004186615</td><td>0.01368115</td></tr>\n",
       "\t<tr><th scope=row>5</th><td>AMK156</td><td>A5</td><td>21.79667</td><td>24.185</td><td>NaN</td><td>30.61</td><td>NaN</td><td>NaN</td><td>0.01163811</td><td>NaN</td></tr>\n",
       "\t<tr><th scope=row>6</th><td>AMK157</td><td>G12</td><td>24.19</td><td>26.77</td><td>34.465</td><td>32.25333</td><td>NaN</td><td>0.004825854</td><td>0.02235384</td><td>NaN</td></tr>\n",
       "</tbody>\n",
       "</table>\n"
      ],
      "text/latex": [
       "\\begin{tabular}{r|llllllllll}\n",
       "  & Name & sample_well & EGF1a & Ta54227 & VRN1 & VRN2 & VRN3 & VRN1_TA & VRN2_TA & VRN3_TA\\\\\n",
       "\\hline\n",
       "\t1 & AMK114 & G11 & 19.735 & 22.42 & 22.47333 & NaN & 24.63333 & 0.9637071 & NaN & 0.2156355\\\\\n",
       "\t2 & AMK1154 & F7 & 23.035 & 25.35667 & 26.58667 & 32.685 & NaN & 0.4263174 & 0.006222313 & NaN\\\\\n",
       "\t3 & AMK1156 & H10 & 23.35667 & 27.61 & 30.375 & 33.87 & NaN & 0.1471133 & 0.01304825 & NaN\\\\\n",
       "\t4 & AMK126 & D2 & 22.75333 & 25.225 & 26.97 & 33.125 & 31.41667 & 0.2983339 & 0.004186615 & 0.01368115\\\\\n",
       "\t5 & AMK156 & A5 & 21.79667 & 24.185 & NaN & 30.61 & NaN & NaN & 0.01163811 & NaN\\\\\n",
       "\t6 & AMK157 & G12 & 24.19 & 26.77 & 34.465 & 32.25333 & NaN & 0.004825854 & 0.02235384 & NaN\\\\\n",
       "\\end{tabular}\n"
      ],
      "text/plain": [
       "     Name sample_well    EGF1a  Ta54227     VRN1     VRN2     VRN3     VRN1_TA\n",
       "1  AMK114         G11 19.73500 22.42000 22.47333      NaN 24.63333 0.963707118\n",
       "2 AMK1154          F7 23.03500 25.35667 26.58667 32.68500      NaN 0.426317446\n",
       "3 AMK1156         H10 23.35667 27.61000 30.37500 33.87000      NaN 0.147113342\n",
       "4  AMK126          D2 22.75333 25.22500 26.97000 33.12500 31.41667 0.298333936\n",
       "5  AMK156          A5 21.79667 24.18500      NaN 30.61000      NaN         NaN\n",
       "6  AMK157         G12 24.19000 26.77000 34.46500 32.25333      NaN 0.004825854\n",
       "      VRN2_TA    VRN3_TA\n",
       "1         NaN 0.21563551\n",
       "2 0.006222313        NaN\n",
       "3 0.013048249        NaN\n",
       "4 0.004186615 0.01368115\n",
       "5 0.011638105        NaN\n",
       "6 0.022353843        NaN"
      ]
     },
     "execution_count": 155,
     "metadata": {},
     "output_type": "execute_result"
    }
   ],
   "source": [
    "repeat_mean_dt <- repeat_result_dt %>%\n",
    "    arrange(Name) %>% \n",
    "    spread(gene,Cp) %>% \n",
    "    group_by(Name,sample_well) %>%\n",
    "     summarise_each(funs(mean(.,na.rm=TRUE)),7:11) %>%\n",
    "    mutate(VRN1_TA=2^-(VRN1-Ta54227)) %>%\n",
    "    mutate(VRN2_TA=2^-(VRN2-Ta54227)) %>%\n",
    "    mutate(VRN3_TA=2^-(VRN3-Ta54227))\n",
    "head(repeat_mean_dt)"
   ]
  },
  {
   "cell_type": "markdown",
   "metadata": {},
   "source": [
    "### Convert NaN to 0"
   ]
  },
  {
   "cell_type": "code",
   "execution_count": 157,
   "metadata": {},
   "outputs": [
    {
     "data": {
      "text/html": [
       "<table>\n",
       "<thead><tr><th></th><th scope=col>Name</th><th scope=col>sample_well</th><th scope=col>EGF1a</th><th scope=col>Ta54227</th><th scope=col>VRN1</th><th scope=col>VRN2</th><th scope=col>VRN3</th><th scope=col>VRN1_TA</th><th scope=col>VRN2_TA</th><th scope=col>VRN3_TA</th></tr></thead>\n",
       "<tbody>\n",
       "\t<tr><th scope=row>1</th><td>AMK114</td><td>G11</td><td>19.735</td><td>22.42</td><td>22.47333</td><td>NaN</td><td>24.63333</td><td>0.9637071</td><td>0</td><td>0.2156355</td></tr>\n",
       "\t<tr><th scope=row>2</th><td>AMK1154</td><td>F7</td><td>23.035</td><td>25.35667</td><td>26.58667</td><td>32.685</td><td>NaN</td><td>0.4263174</td><td>0.006222313</td><td>0</td></tr>\n",
       "\t<tr><th scope=row>3</th><td>AMK1156</td><td>H10</td><td>23.35667</td><td>27.61</td><td>30.375</td><td>33.87</td><td>NaN</td><td>0.1471133</td><td>0.01304825</td><td>0</td></tr>\n",
       "\t<tr><th scope=row>4</th><td>AMK126</td><td>D2</td><td>22.75333</td><td>25.225</td><td>26.97</td><td>33.125</td><td>31.41667</td><td>0.2983339</td><td>0.004186615</td><td>0.01368115</td></tr>\n",
       "\t<tr><th scope=row>5</th><td>AMK156</td><td>A5</td><td>21.79667</td><td>24.185</td><td>NaN</td><td>30.61</td><td>NaN</td><td>0</td><td>0.01163811</td><td>0</td></tr>\n",
       "\t<tr><th scope=row>6</th><td>AMK157</td><td>G12</td><td>24.19</td><td>26.77</td><td>34.465</td><td>32.25333</td><td>NaN</td><td>0.004825854</td><td>0.02235384</td><td>0</td></tr>\n",
       "</tbody>\n",
       "</table>\n"
      ],
      "text/latex": [
       "\\begin{tabular}{r|llllllllll}\n",
       "  & Name & sample_well & EGF1a & Ta54227 & VRN1 & VRN2 & VRN3 & VRN1_TA & VRN2_TA & VRN3_TA\\\\\n",
       "\\hline\n",
       "\t1 & AMK114 & G11 & 19.735 & 22.42 & 22.47333 & NaN & 24.63333 & 0.9637071 & 0 & 0.2156355\\\\\n",
       "\t2 & AMK1154 & F7 & 23.035 & 25.35667 & 26.58667 & 32.685 & NaN & 0.4263174 & 0.006222313 & 0\\\\\n",
       "\t3 & AMK1156 & H10 & 23.35667 & 27.61 & 30.375 & 33.87 & NaN & 0.1471133 & 0.01304825 & 0\\\\\n",
       "\t4 & AMK126 & D2 & 22.75333 & 25.225 & 26.97 & 33.125 & 31.41667 & 0.2983339 & 0.004186615 & 0.01368115\\\\\n",
       "\t5 & AMK156 & A5 & 21.79667 & 24.185 & NaN & 30.61 & NaN & 0 & 0.01163811 & 0\\\\\n",
       "\t6 & AMK157 & G12 & 24.19 & 26.77 & 34.465 & 32.25333 & NaN & 0.004825854 & 0.02235384 & 0\\\\\n",
       "\\end{tabular}\n"
      ],
      "text/plain": [
       "     Name sample_well    EGF1a  Ta54227     VRN1     VRN2     VRN3     VRN1_TA\n",
       "1  AMK114         G11 19.73500 22.42000 22.47333      NaN 24.63333 0.963707118\n",
       "2 AMK1154          F7 23.03500 25.35667 26.58667 32.68500      NaN 0.426317446\n",
       "3 AMK1156         H10 23.35667 27.61000 30.37500 33.87000      NaN 0.147113342\n",
       "4  AMK126          D2 22.75333 25.22500 26.97000 33.12500 31.41667 0.298333936\n",
       "5  AMK156          A5 21.79667 24.18500      NaN 30.61000      NaN 0.000000000\n",
       "6  AMK157         G12 24.19000 26.77000 34.46500 32.25333      NaN 0.004825854\n",
       "      VRN2_TA    VRN3_TA\n",
       "1 0.000000000 0.21563551\n",
       "2 0.006222313 0.00000000\n",
       "3 0.013048249 0.00000000\n",
       "4 0.004186615 0.01368115\n",
       "5 0.011638105 0.00000000\n",
       "6 0.022353843 0.00000000"
      ]
     },
     "execution_count": 157,
     "metadata": {},
     "output_type": "execute_result"
    }
   ],
   "source": [
    "Nanto0 <- function(X) ifelse(is.nan(X),0,X)\n",
    "repeat_mean_dt %>%\n",
    "    mutate_each(.,funs(Nanto0),matches(\"_TA\")) %>%\n",
    "    head"
   ]
  },
  {
   "cell_type": "code",
   "execution_count": 158,
   "metadata": {},
   "outputs": [],
   "source": [
    "repeat_mean_dt %<>%\n",
    "    mutate_each(.,funs(Nanto0),matches(\"_TA\")) "
   ]
  },
  {
   "cell_type": "markdown",
   "metadata": {},
   "source": [
    "### Join Repeats DT onto cDNA DT\n",
    "\n",
    "> 'sample_well' joins to 'repeat_plate_template_well'"
   ]
  },
  {
   "cell_type": "code",
   "execution_count": 159,
   "metadata": {},
   "outputs": [
    {
     "data": {
      "text/html": [
       "<table>\n",
       "<thead><tr><th></th><th scope=col>Name</th><th scope=col>sample_well</th><th scope=col>EGF1a</th><th scope=col>Ta54227</th><th scope=col>VRN1</th><th scope=col>VRN2</th><th scope=col>VRN3</th><th scope=col>VRN1_TA</th><th scope=col>VRN2_TA</th><th scope=col>VRN3_TA</th><th scope=col>ex_sample_plate</th><th scope=col>ex_sample_plate_well</th></tr></thead>\n",
       "<tbody>\n",
       "\t<tr><th scope=row>1</th><td>AMK114</td><td>G11</td><td>19.735</td><td>22.42</td><td>22.47333</td><td>NaN</td><td>24.63333</td><td>0.9637071</td><td>0</td><td>0.2156355</td><td>GEP5</td><td>A7</td></tr>\n",
       "\t<tr><th scope=row>2</th><td>AMK1154</td><td>F7</td><td>23.035</td><td>25.35667</td><td>26.58667</td><td>32.685</td><td>NaN</td><td>0.4263174</td><td>0.006222313</td><td>0</td><td>GEP7</td><td>8C</td></tr>\n",
       "\t<tr><th scope=row>3</th><td>AMK1156</td><td>H10</td><td>23.35667</td><td>27.61</td><td>30.375</td><td>33.87</td><td>NaN</td><td>0.1471133</td><td>0.01304825</td><td>0</td><td>GEP9</td><td>A9</td></tr>\n",
       "\t<tr><th scope=row>4</th><td>AMK126</td><td>D2</td><td>22.75333</td><td>25.225</td><td>26.97</td><td>33.125</td><td>31.41667</td><td>0.2983339</td><td>0.004186615</td><td>0.01368115</td><td>GEP2</td><td>5D</td></tr>\n",
       "\t<tr><th scope=row>5</th><td>AMK156</td><td>A5</td><td>21.79667</td><td>24.185</td><td>NaN</td><td>30.61</td><td>NaN</td><td>0</td><td>0.01163811</td><td>0</td><td>GEP7</td><td>1E</td></tr>\n",
       "\t<tr><th scope=row>6</th><td>AMK157</td><td>G12</td><td>24.19</td><td>26.77</td><td>34.465</td><td>32.25333</td><td>NaN</td><td>0.004825854</td><td>0.02235384</td><td>0</td><td>GEP8</td><td>D10</td></tr>\n",
       "</tbody>\n",
       "</table>\n"
      ],
      "text/latex": [
       "\\begin{tabular}{r|llllllllllll}\n",
       "  & Name & sample_well & EGF1a & Ta54227 & VRN1 & VRN2 & VRN3 & VRN1_TA & VRN2_TA & VRN3_TA & ex_sample_plate & ex_sample_plate_well\\\\\n",
       "\\hline\n",
       "\t1 & AMK114 & G11 & 19.735 & 22.42 & 22.47333 & NaN & 24.63333 & 0.9637071 & 0 & 0.2156355 & GEP5 & A7\\\\\n",
       "\t2 & AMK1154 & F7 & 23.035 & 25.35667 & 26.58667 & 32.685 & NaN & 0.4263174 & 0.006222313 & 0 & GEP7 & 8C\\\\\n",
       "\t3 & AMK1156 & H10 & 23.35667 & 27.61 & 30.375 & 33.87 & NaN & 0.1471133 & 0.01304825 & 0 & GEP9 & A9\\\\\n",
       "\t4 & AMK126 & D2 & 22.75333 & 25.225 & 26.97 & 33.125 & 31.41667 & 0.2983339 & 0.004186615 & 0.01368115 & GEP2 & 5D\\\\\n",
       "\t5 & AMK156 & A5 & 21.79667 & 24.185 & NaN & 30.61 & NaN & 0 & 0.01163811 & 0 & GEP7 & 1E\\\\\n",
       "\t6 & AMK157 & G12 & 24.19 & 26.77 & 34.465 & 32.25333 & NaN & 0.004825854 & 0.02235384 & 0 & GEP8 & D10\\\\\n",
       "\\end{tabular}\n"
      ],
      "text/plain": [
       "      Name sample_well    EGF1a  Ta54227     VRN1     VRN2     VRN3     VRN1_TA\n",
       "1:  AMK114         G11 19.73500 22.42000 22.47333      NaN 24.63333 0.963707118\n",
       "2: AMK1154          F7 23.03500 25.35667 26.58667 32.68500      NaN 0.426317446\n",
       "3: AMK1156         H10 23.35667 27.61000 30.37500 33.87000      NaN 0.147113342\n",
       "4:  AMK126          D2 22.75333 25.22500 26.97000 33.12500 31.41667 0.298333936\n",
       "5:  AMK156          A5 21.79667 24.18500      NaN 30.61000      NaN 0.000000000\n",
       "6:  AMK157         G12 24.19000 26.77000 34.46500 32.25333      NaN 0.004825854\n",
       "       VRN2_TA    VRN3_TA ex_sample_plate ex_sample_plate_well\n",
       "1: 0.000000000 0.21563551            GEP5                   A7\n",
       "2: 0.006222313 0.00000000            GEP7                   8C\n",
       "3: 0.013048249 0.00000000            GEP9                   A9\n",
       "4: 0.004186615 0.01368115            GEP2                   5D\n",
       "5: 0.011638105 0.00000000            GEP7                   1E\n",
       "6: 0.022353843 0.00000000            GEP8                  D10"
      ]
     },
     "execution_count": 159,
     "metadata": {},
     "output_type": "execute_result"
    }
   ],
   "source": [
    "merge(repeat_mean_dt,cDNA_dt,by.x=c('Name','sample_well'),by.y=c('Name','repeat_plate_template_well')) %>% head"
   ]
  },
  {
   "cell_type": "code",
   "execution_count": 164,
   "metadata": {
    "collapsed": true
   },
   "outputs": [],
   "source": [
    "repeat_mean_dt <- merge(repeat_mean_dt,cDNA_dt,by.x=c('Name','sample_well'),by.y=c('Name','repeat_plate_template_well'))"
   ]
  },
  {
   "cell_type": "markdown",
   "metadata": {},
   "source": [
    "### Read the sample sheet"
   ]
  },
  {
   "cell_type": "code",
   "execution_count": 161,
   "metadata": {},
   "outputs": [],
   "source": [
    "sample_sheetdt <- fread('./sample_sheet.csv')\n",
    "sample_sheetdt$SampleDate <- as.Date(sample_sheetdt$SampleDate)"
   ]
  },
  {
   "cell_type": "markdown",
   "metadata": {},
   "source": [
    "Need to join\n",
    "> ex_sample_plate + ex_sample_plate_well to Plate + sample_well\n",
    "\n",
    "but need to fix row/column order first"
   ]
  },
  {
   "cell_type": "code",
   "execution_count": 176,
   "metadata": {},
   "outputs": [],
   "source": [
    "repeat_mean_dt$ex_sample_plate_well <-  gsub(\"^(\\\\d+)(\\\\w)\",\"\\\\2\\\\1\",repeat_mean_dt$ex_sample_plate_well)"
   ]
  },
  {
   "cell_type": "code",
   "execution_count": 177,
   "metadata": {},
   "outputs": [
    {
     "data": {
      "text/html": [
       "<table>\n",
       "<thead><tr><th></th><th scope=col>Name</th><th scope=col>sample_well</th><th scope=col>EGF1a</th><th scope=col>Ta54227</th><th scope=col>VRN1</th><th scope=col>VRN2</th><th scope=col>VRN3</th><th scope=col>VRN1_TA</th><th scope=col>VRN2_TA</th><th scope=col>VRN3_TA</th><th scope=col>ex_sample_plate</th><th scope=col>ex_sample_plate_well</th></tr></thead>\n",
       "<tbody>\n",
       "\t<tr><th scope=row>1</th><td>AMK114</td><td>G11</td><td>19.735</td><td>22.42</td><td>22.47333</td><td>NaN</td><td>24.63333</td><td>0.9637071</td><td>0</td><td>0.2156355</td><td>GEP5</td><td>A7</td></tr>\n",
       "\t<tr><th scope=row>2</th><td>AMK1154</td><td>F7</td><td>23.035</td><td>25.35667</td><td>26.58667</td><td>32.685</td><td>NaN</td><td>0.4263174</td><td>0.006222313</td><td>0</td><td>GEP7</td><td>C8</td></tr>\n",
       "\t<tr><th scope=row>3</th><td>AMK1156</td><td>H10</td><td>23.35667</td><td>27.61</td><td>30.375</td><td>33.87</td><td>NaN</td><td>0.1471133</td><td>0.01304825</td><td>0</td><td>GEP9</td><td>A9</td></tr>\n",
       "\t<tr><th scope=row>4</th><td>AMK126</td><td>D2</td><td>22.75333</td><td>25.225</td><td>26.97</td><td>33.125</td><td>31.41667</td><td>0.2983339</td><td>0.004186615</td><td>0.01368115</td><td>GEP2</td><td>D5</td></tr>\n",
       "\t<tr><th scope=row>5</th><td>AMK156</td><td>A5</td><td>21.79667</td><td>24.185</td><td>NaN</td><td>30.61</td><td>NaN</td><td>0</td><td>0.01163811</td><td>0</td><td>GEP7</td><td>E1</td></tr>\n",
       "\t<tr><th scope=row>6</th><td>AMK157</td><td>G12</td><td>24.19</td><td>26.77</td><td>34.465</td><td>32.25333</td><td>NaN</td><td>0.004825854</td><td>0.02235384</td><td>0</td><td>GEP8</td><td>D10</td></tr>\n",
       "</tbody>\n",
       "</table>\n"
      ],
      "text/latex": [
       "\\begin{tabular}{r|llllllllllll}\n",
       "  & Name & sample_well & EGF1a & Ta54227 & VRN1 & VRN2 & VRN3 & VRN1_TA & VRN2_TA & VRN3_TA & ex_sample_plate & ex_sample_plate_well\\\\\n",
       "\\hline\n",
       "\t1 & AMK114 & G11 & 19.735 & 22.42 & 22.47333 & NaN & 24.63333 & 0.9637071 & 0 & 0.2156355 & GEP5 & A7\\\\\n",
       "\t2 & AMK1154 & F7 & 23.035 & 25.35667 & 26.58667 & 32.685 & NaN & 0.4263174 & 0.006222313 & 0 & GEP7 & C8\\\\\n",
       "\t3 & AMK1156 & H10 & 23.35667 & 27.61 & 30.375 & 33.87 & NaN & 0.1471133 & 0.01304825 & 0 & GEP9 & A9\\\\\n",
       "\t4 & AMK126 & D2 & 22.75333 & 25.225 & 26.97 & 33.125 & 31.41667 & 0.2983339 & 0.004186615 & 0.01368115 & GEP2 & D5\\\\\n",
       "\t5 & AMK156 & A5 & 21.79667 & 24.185 & NaN & 30.61 & NaN & 0 & 0.01163811 & 0 & GEP7 & E1\\\\\n",
       "\t6 & AMK157 & G12 & 24.19 & 26.77 & 34.465 & 32.25333 & NaN & 0.004825854 & 0.02235384 & 0 & GEP8 & D10\\\\\n",
       "\\end{tabular}\n"
      ],
      "text/plain": [
       "      Name sample_well    EGF1a  Ta54227     VRN1     VRN2     VRN3     VRN1_TA\n",
       "1:  AMK114         G11 19.73500 22.42000 22.47333      NaN 24.63333 0.963707118\n",
       "2: AMK1154          F7 23.03500 25.35667 26.58667 32.68500      NaN 0.426317446\n",
       "3: AMK1156         H10 23.35667 27.61000 30.37500 33.87000      NaN 0.147113342\n",
       "4:  AMK126          D2 22.75333 25.22500 26.97000 33.12500 31.41667 0.298333936\n",
       "5:  AMK156          A5 21.79667 24.18500      NaN 30.61000      NaN 0.000000000\n",
       "6:  AMK157         G12 24.19000 26.77000 34.46500 32.25333      NaN 0.004825854\n",
       "       VRN2_TA    VRN3_TA ex_sample_plate ex_sample_plate_well\n",
       "1: 0.000000000 0.21563551            GEP5                   A7\n",
       "2: 0.006222313 0.00000000            GEP7                   C8\n",
       "3: 0.013048249 0.00000000            GEP9                   A9\n",
       "4: 0.004186615 0.01368115            GEP2                   D5\n",
       "5: 0.011638105 0.00000000            GEP7                   E1\n",
       "6: 0.022353843 0.00000000            GEP8                  D10"
      ]
     },
     "execution_count": 177,
     "metadata": {},
     "output_type": "execute_result"
    },
    {
     "data": {
      "text/html": [
       "<table>\n",
       "<thead><tr><th></th><th scope=col>Plate</th><th scope=col>Col</th><th scope=col>Row</th><th scope=col>Experiment</th><th scope=col>Plot.ID.Old</th><th scope=col>Plot.IDNew</th><th scope=col>SampleDate</th><th scope=col>Vern</th><th scope=col>Cult</th><th scope=col>Pp</th><th scope=col>sample_well</th></tr></thead>\n",
       "<tbody>\n",
       "\t<tr><th scope=row>1</th><td>GEP1</td><td>1</td><td>A</td><td>3</td><td>105</td><td>300105</td><td>2014-02-04</td><td>None</td><td>Amarok</td><td>16</td><td>A1</td></tr>\n",
       "\t<tr><th scope=row>2</th><td>GEP1</td><td>10</td><td>A</td><td>3</td><td>2</td><td>300002</td><td>2014-03-04</td><td>None</td><td>Saracen</td><td>16</td><td>A10</td></tr>\n",
       "\t<tr><th scope=row>3</th><td>GEP1</td><td>11</td><td>A</td><td>3</td><td>190</td><td>300190</td><td>2014-03-04</td><td>None</td><td>Amarok</td><td>16</td><td>A11</td></tr>\n",
       "\t<tr><th scope=row>4</th><td>GEP1</td><td>12</td><td>A</td><td>3</td><td>123</td><td>300123</td><td>2014-03-11</td><td>None</td><td>Saracen</td><td>16</td><td>A12</td></tr>\n",
       "\t<tr><th scope=row>5</th><td>GEP1</td><td>2</td><td>A</td><td>3</td><td>262</td><td>300262</td><td>2014-02-04</td><td>None</td><td>CRWT153</td><td>16</td><td>A2</td></tr>\n",
       "\t<tr><th scope=row>6</th><td>GEP1</td><td>3</td><td>A</td><td>3</td><td>326</td><td>300326</td><td>2014-02-11</td><td>None</td><td>Saracen</td><td>16</td><td>A3</td></tr>\n",
       "</tbody>\n",
       "</table>\n"
      ],
      "text/latex": [
       "\\begin{tabular}{r|lllllllllll}\n",
       "  & Plate & Col & Row & Experiment & Plot.ID.Old & Plot.IDNew & SampleDate & Vern & Cult & Pp & sample_well\\\\\n",
       "\\hline\n",
       "\t1 & GEP1 & 1 & A & 3 & 105 & 300105 & 2014-02-04 & None & Amarok & 16 & A1\\\\\n",
       "\t2 & GEP1 & 10 & A & 3 & 2 & 300002 & 2014-03-04 & None & Saracen & 16 & A10\\\\\n",
       "\t3 & GEP1 & 11 & A & 3 & 190 & 300190 & 2014-03-04 & None & Amarok & 16 & A11\\\\\n",
       "\t4 & GEP1 & 12 & A & 3 & 123 & 300123 & 2014-03-11 & None & Saracen & 16 & A12\\\\\n",
       "\t5 & GEP1 & 2 & A & 3 & 262 & 300262 & 2014-02-04 & None & CRWT153 & 16 & A2\\\\\n",
       "\t6 & GEP1 & 3 & A & 3 & 326 & 300326 & 2014-02-11 & None & Saracen & 16 & A3\\\\\n",
       "\\end{tabular}\n"
      ],
      "text/plain": [
       "   Plate Col Row Experiment Plot.ID.Old Plot.IDNew SampleDate Vern    Cult Pp\n",
       "1:  GEP1   1   A          3         105     300105 2014-02-04 None  Amarok 16\n",
       "2:  GEP1  10   A          3           2     300002 2014-03-04 None Saracen 16\n",
       "3:  GEP1  11   A          3         190     300190 2014-03-04 None  Amarok 16\n",
       "4:  GEP1  12   A          3         123     300123 2014-03-11 None Saracen 16\n",
       "5:  GEP1   2   A          3         262     300262 2014-02-04 None CRWT153 16\n",
       "6:  GEP1   3   A          3         326     300326 2014-02-11 None Saracen 16\n",
       "   sample_well\n",
       "1:          A1\n",
       "2:         A10\n",
       "3:         A11\n",
       "4:         A12\n",
       "5:          A2\n",
       "6:          A3"
      ]
     },
     "execution_count": 177,
     "metadata": {},
     "output_type": "execute_result"
    }
   ],
   "source": [
    "head(repeat_mean_dt)\n",
    "head(sample_sheetdt)"
   ]
  },
  {
   "cell_type": "code",
   "execution_count": 180,
   "metadata": {},
   "outputs": [
    {
     "data": {
      "text/html": [
       "<table>\n",
       "<thead><tr><th></th><th scope=col>ex_sample_plate</th><th scope=col>ex_sample_plate_well</th><th scope=col>Name</th><th scope=col>sample_well</th><th scope=col>EGF1a</th><th scope=col>Ta54227</th><th scope=col>VRN1</th><th scope=col>VRN2</th><th scope=col>VRN3</th><th scope=col>VRN1_TA</th><th scope=col>VRN2_TA</th><th scope=col>VRN3_TA</th><th scope=col>Col</th><th scope=col>Row</th><th scope=col>Experiment</th><th scope=col>Plot.ID.Old</th><th scope=col>Plot.IDNew</th><th scope=col>SampleDate</th><th scope=col>Vern</th><th scope=col>Cult</th><th scope=col>Pp</th></tr></thead>\n",
       "<tbody>\n",
       "\t<tr><th scope=row>1</th><td>GEP1</td><td>A6</td><td>BW96</td><td>A11</td><td>21.07333</td><td>24.51</td><td>NaN</td><td>28.45667</td><td>NaN</td><td>0</td><td>0.06485373</td><td>0</td><td>6</td><td>A</td><td>3</td><td>96</td><td>300096</td><td>2014-02-18</td><td>None</td><td>Batten Win</td><td>16</td></tr>\n",
       "\t<tr><th scope=row>2</th><td>GEP1</td><td>F6</td><td>OT220</td><td>C9</td><td>23.39667</td><td>25.945</td><td>28.78</td><td>32.475</td><td>NaN</td><td>0.1401458</td><td>0.01082117</td><td>0</td><td>6</td><td>F</td><td>3</td><td>220</td><td>300220</td><td>2014-02-18</td><td>None</td><td>Otane</td><td>16</td></tr>\n",
       "\t<tr><th scope=row>3</th><td>GEP1</td><td>G12</td><td>AMK258</td><td>A1</td><td>21.97</td><td>24.85333</td><td>NaN</td><td>31.015</td><td>NaN</td><td>0</td><td>0.01396862</td><td>0</td><td>12</td><td>G</td><td>3</td><td>258</td><td>300258</td><td>2014-03-11</td><td>None</td><td>Amarok</td><td>16</td></tr>\n",
       "\t<tr><th scope=row>4</th><td>GEP2</td><td>A3</td><td>AMK320</td><td>E1</td><td>22.62</td><td>25.78</td><td>NaN</td><td>32.44333</td><td>NaN</td><td>0</td><td>0.009865902</td><td>0</td><td>3</td><td>A</td><td>3</td><td>320</td><td>300320</td><td>2014-03-18</td><td>None</td><td>Amarok</td><td>16</td></tr>\n",
       "\t<tr><th scope=row>5</th><td>GEP2</td><td>A5</td><td>BW219</td><td>C2</td><td>22.94667</td><td>25.57667</td><td>28.7</td><td>32.2</td><td>32.835</td><td>0.114758</td><td>0.01014327</td><td>0.006531666</td><td>5</td><td>A</td><td>3</td><td>219</td><td>300219</td><td>2014-03-25</td><td>None</td><td>Batten Win</td><td>16</td></tr>\n",
       "\t<tr><th scope=row>6</th><td>GEP2</td><td>A6</td><td>SCN71</td><td>B11</td><td>21.48</td><td>25.82333</td><td>30.44</td><td>31.305</td><td>NaN</td><td>0.040761</td><td>0.02237968</td><td>0</td><td>6</td><td>A</td><td>3</td><td>71</td><td>300071</td><td>2014-04-01</td><td>None</td><td>Saracen</td><td>16</td></tr>\n",
       "</tbody>\n",
       "</table>\n"
      ],
      "text/latex": [
       "\\begin{tabular}{r|lllllllllllllllllllll}\n",
       "  & ex_sample_plate & ex_sample_plate_well & Name & sample_well & EGF1a & Ta54227 & VRN1 & VRN2 & VRN3 & VRN1_TA & VRN2_TA & VRN3_TA & Col & Row & Experiment & Plot.ID.Old & Plot.IDNew & SampleDate & Vern & Cult & Pp\\\\\n",
       "\\hline\n",
       "\t1 & GEP1 & A6 & BW96 & A11 & 21.07333 & 24.51 & NaN & 28.45667 & NaN & 0 & 0.06485373 & 0 & 6 & A & 3 & 96 & 300096 & 2014-02-18 & None & Batten Win & 16\\\\\n",
       "\t2 & GEP1 & F6 & OT220 & C9 & 23.39667 & 25.945 & 28.78 & 32.475 & NaN & 0.1401458 & 0.01082117 & 0 & 6 & F & 3 & 220 & 300220 & 2014-02-18 & None & Otane & 16\\\\\n",
       "\t3 & GEP1 & G12 & AMK258 & A1 & 21.97 & 24.85333 & NaN & 31.015 & NaN & 0 & 0.01396862 & 0 & 12 & G & 3 & 258 & 300258 & 2014-03-11 & None & Amarok & 16\\\\\n",
       "\t4 & GEP2 & A3 & AMK320 & E1 & 22.62 & 25.78 & NaN & 32.44333 & NaN & 0 & 0.009865902 & 0 & 3 & A & 3 & 320 & 300320 & 2014-03-18 & None & Amarok & 16\\\\\n",
       "\t5 & GEP2 & A5 & BW219 & C2 & 22.94667 & 25.57667 & 28.7 & 32.2 & 32.835 & 0.114758 & 0.01014327 & 0.006531666 & 5 & A & 3 & 219 & 300219 & 2014-03-25 & None & Batten Win & 16\\\\\n",
       "\t6 & GEP2 & A6 & SCN71 & B11 & 21.48 & 25.82333 & 30.44 & 31.305 & NaN & 0.040761 & 0.02237968 & 0 & 6 & A & 3 & 71 & 300071 & 2014-04-01 & None & Saracen & 16\\\\\n",
       "\\end{tabular}\n"
      ],
      "text/plain": [
       "   ex_sample_plate ex_sample_plate_well   Name sample_well    EGF1a  Ta54227\n",
       "1:            GEP1                   A6   BW96         A11 21.07333 24.51000\n",
       "2:            GEP1                   F6  OT220          C9 23.39667 25.94500\n",
       "3:            GEP1                  G12 AMK258          A1 21.97000 24.85333\n",
       "4:            GEP2                   A3 AMK320          E1 22.62000 25.78000\n",
       "5:            GEP2                   A5  BW219          C2 22.94667 25.57667\n",
       "6:            GEP2                   A6  SCN71         B11 21.48000 25.82333\n",
       "    VRN1     VRN2   VRN3   VRN1_TA     VRN2_TA     VRN3_TA Col Row Experiment\n",
       "1:   NaN 28.45667    NaN 0.0000000 0.064853729 0.000000000   6   A          3\n",
       "2: 28.78 32.47500    NaN 0.1401458 0.010821168 0.000000000   6   F          3\n",
       "3:   NaN 31.01500    NaN 0.0000000 0.013968620 0.000000000  12   G          3\n",
       "4:   NaN 32.44333    NaN 0.0000000 0.009865902 0.000000000   3   A          3\n",
       "5: 28.70 32.20000 32.835 0.1147580 0.010143270 0.006531666   5   A          3\n",
       "6: 30.44 31.30500    NaN 0.0407610 0.022379682 0.000000000   6   A          3\n",
       "   Plot.ID.Old Plot.IDNew SampleDate Vern       Cult Pp\n",
       "1:          96     300096 2014-02-18 None Batten Win 16\n",
       "2:         220     300220 2014-02-18 None      Otane 16\n",
       "3:         258     300258 2014-03-11 None     Amarok 16\n",
       "4:         320     300320 2014-03-18 None     Amarok 16\n",
       "5:         219     300219 2014-03-25 None Batten Win 16\n",
       "6:          71     300071 2014-04-01 None    Saracen 16"
      ]
     },
     "execution_count": 180,
     "metadata": {},
     "output_type": "execute_result"
    }
   ],
   "source": [
    "merge(repeat_mean_dt,sample_sheetdt,by.x=c('ex_sample_plate','ex_sample_plate_well'),by.y=c('Plate','sample_well')) %>% head"
   ]
  },
  {
   "cell_type": "code",
   "execution_count": 181,
   "metadata": {
    "collapsed": true
   },
   "outputs": [],
   "source": [
    "merge(repeat_mean_dt,sample_sheetdt,\n",
    "      by.x=c('ex_sample_plate','ex_sample_plate_well'),\n",
    "      by.y=c('Plate','sample_well')) %>%\n",
    "        write_csv('./qPCRMean_Repeat1.csv')"
   ]
  }
 ],
 "metadata": {
  "kernelspec": {
   "display_name": "R-3.3.0",
   "language": "R",
   "name": "ir3.3.0"
  },
  "language_info": {
   "codemirror_mode": "r",
   "file_extension": ".r",
   "mimetype": "text/x-r-source",
   "name": "R",
   "pygments_lexer": "r",
   "version": "3.3.0"
  }
 },
 "nbformat": 4,
 "nbformat_minor": 1
}
