{
 "cells": [
  {
   "cell_type": "markdown",
   "metadata": {},
   "source": [
    "# Compile All qPCR Data \n",
    "\n",
    "## Meeghan Pither-Joyce, John McCallum\n",
    "## May 2016\n",
    "\n",
    "- Location of workbooks:\n",
    "    - qPCR data https://iplant.plantandfood.co.nz/project/I130806/Research/GEP_qPCR_results.xlsx\n",
    "    - sample data https://iplant.plantandfood.co.nz/project/I130806/Research/ResultswheatGEP.xlsx\n",
    "- first need to set access credentials via system \n",
    "- this is basically updated version of https://iplant.plantandfood.co.nz/project/I130806/Research/2015-11-23_Clean_384-well_qPCR_Data.docx"
   ]
  },
  {
   "cell_type": "code",
   "execution_count": 1,
   "metadata": {
    "collapsed": false
   },
   "outputs": [
    {
     "name": "stderr",
     "output_type": "stream",
     "text": [
      "Submitting with 'NULL'\n"
     ]
    }
   ],
   "source": [
    "library(iplantAcquiR)\n",
    "handle <- iplant_handle(username = Sys.getenv(\"USER\"),\n",
    "                        password = Sys.getenv(\"IPLANT_PASSWORD\"))\n",
    "handle <- iplant_authenticate(handle)"
   ]
  },
  {
   "cell_type": "code",
   "execution_count": 2,
   "metadata": {
    "collapsed": false
   },
   "outputs": [
    {
     "name": "stderr",
     "output_type": "stream",
     "text": [
      "\n",
      "Attaching package: ‘dplyr’\n",
      "\n",
      "The following objects are masked from ‘package:data.table’:\n",
      "\n",
      "    between, last\n",
      "\n",
      "The following objects are masked from ‘package:stats’:\n",
      "\n",
      "    filter, lag\n",
      "\n",
      "The following objects are masked from ‘package:base’:\n",
      "\n",
      "    intersect, setdiff, setequal, union\n",
      "\n"
     ]
    }
   ],
   "source": [
    "library(openxlsx)\n",
    "library(data.table)\n",
    "library(dplyr)\n",
    "library(ggplot2)\n",
    "library(readr)"
   ]
  },
  {
   "cell_type": "markdown",
   "metadata": {},
   "source": [
    "### Read Samples from Hamishes Sheet"
   ]
  },
  {
   "cell_type": "code",
   "execution_count": 3,
   "metadata": {
    "collapsed": false
   },
   "outputs": [
    {
     "data": {
      "text/html": [
       "<ol class=list-inline>\n",
       "\t<li>'Leaf lengths'</li>\n",
       "\t<li>'PN vs HS'</li>\n",
       "\t<li>'HaunStage'</li>\n",
       "\t<li>'FLN'</li>\n",
       "\t<li>'Sheet2'</li>\n",
       "\t<li>'Disection Data'</li>\n",
       "\t<li>'TrialDesign'</li>\n",
       "\t<li>'RNA Plate check'</li>\n",
       "\t<li>'RNA plate order'</li>\n",
       "\t<li>'Vernalisation responses'</li>\n",
       "</ol>\n"
      ],
      "text/latex": [
       "\\begin{enumerate*}\n",
       "\\item 'Leaf lengths'\n",
       "\\item 'PN vs HS'\n",
       "\\item 'HaunStage'\n",
       "\\item 'FLN'\n",
       "\\item 'Sheet2'\n",
       "\\item 'Disection Data'\n",
       "\\item 'TrialDesign'\n",
       "\\item 'RNA Plate check'\n",
       "\\item 'RNA plate order'\n",
       "\\item 'Vernalisation responses'\n",
       "\\end{enumerate*}\n"
      ],
      "text/markdown": [
       "1. 'Leaf lengths'\n",
       "2. 'PN vs HS'\n",
       "3. 'HaunStage'\n",
       "4. 'FLN'\n",
       "5. 'Sheet2'\n",
       "6. 'Disection Data'\n",
       "7. 'TrialDesign'\n",
       "8. 'RNA Plate check'\n",
       "9. 'RNA plate order'\n",
       "10. 'Vernalisation responses'\n",
       "\n",
       "\n"
      ],
      "text/plain": [
       " [1] \"Leaf lengths\"            \"PN vs HS\"               \n",
       " [3] \"HaunStage\"               \"FLN\"                    \n",
       " [5] \"Sheet2\"                  \"Disection Data\"         \n",
       " [7] \"TrialDesign\"             \"RNA Plate check\"        \n",
       " [9] \"RNA plate order\"         \"Vernalisation responses\""
      ]
     },
     "execution_count": 3,
     "metadata": {},
     "output_type": "execute_result"
    }
   ],
   "source": [
    "sample_filename <- iplant_acquire(handle = handle,\n",
    "                           url = \"https://iplant.plantandfood.co.nz/project/I130806/Research/ResultswheatGEP.xlsx\")\n",
    "(sheetnames <- getSheetNames(sample_filename))"
   ]
  },
  {
   "cell_type": "code",
   "execution_count": 4,
   "metadata": {
    "collapsed": false
   },
   "outputs": [
    {
     "data": {
      "text/html": [
       "<table>\n",
       "<thead><tr><th></th><th scope=col>Plate</th><th scope=col>Col</th><th scope=col>Row</th><th scope=col>Experiment</th><th scope=col>Plot.ID.Old</th><th scope=col>Plot.IDNew</th><th scope=col>SampleDate</th><th scope=col>Vern</th><th scope=col>Cult</th><th scope=col>Pp</th><th scope=col>sample_well</th></tr></thead>\n",
       "<tbody>\n",
       "\t<tr><th scope=row>1</th><td>GEP1</td><td>1</td><td>A</td><td>3</td><td>105</td><td>300105</td><td>2014-02-04</td><td>None</td><td>Amarok</td><td>16</td><td>A1</td></tr>\n",
       "\t<tr><th scope=row>2</th><td>GEP1</td><td>10</td><td>A</td><td>3</td><td>2</td><td>300002</td><td>2014-03-04</td><td>None</td><td>Saracen</td><td>16</td><td>A10</td></tr>\n",
       "\t<tr><th scope=row>3</th><td>GEP1</td><td>11</td><td>A</td><td>3</td><td>190</td><td>300190</td><td>2014-03-04</td><td>None</td><td>Amarok</td><td>16</td><td>A11</td></tr>\n",
       "\t<tr><th scope=row>4</th><td>GEP1</td><td>12</td><td>A</td><td>3</td><td>123</td><td>300123</td><td>2014-03-11</td><td>None</td><td>Saracen</td><td>16</td><td>A12</td></tr>\n",
       "\t<tr><th scope=row>5</th><td>GEP1</td><td>2</td><td>A</td><td>3</td><td>262</td><td>300262</td><td>2014-02-04</td><td>None</td><td>CRWT153</td><td>16</td><td>A2</td></tr>\n",
       "\t<tr><th scope=row>6</th><td>GEP1</td><td>3</td><td>A</td><td>3</td><td>326</td><td>300326</td><td>2014-02-11</td><td>None</td><td>Saracen</td><td>16</td><td>A3</td></tr>\n",
       "</tbody>\n",
       "</table>\n"
      ],
      "text/latex": [
       "\\begin{tabular}{r|lllllllllll}\n",
       "  & Plate & Col & Row & Experiment & Plot.ID.Old & Plot.IDNew & SampleDate & Vern & Cult & Pp & sample_well\\\\\n",
       "\\hline\n",
       "\t1 & GEP1 & 1 & A & 3 & 105 & 300105 & 2014-02-04 & None & Amarok & 16 & A1\\\\\n",
       "\t2 & GEP1 & 10 & A & 3 & 2 & 300002 & 2014-03-04 & None & Saracen & 16 & A10\\\\\n",
       "\t3 & GEP1 & 11 & A & 3 & 190 & 300190 & 2014-03-04 & None & Amarok & 16 & A11\\\\\n",
       "\t4 & GEP1 & 12 & A & 3 & 123 & 300123 & 2014-03-11 & None & Saracen & 16 & A12\\\\\n",
       "\t5 & GEP1 & 2 & A & 3 & 262 & 300262 & 2014-02-04 & None & CRWT153 & 16 & A2\\\\\n",
       "\t6 & GEP1 & 3 & A & 3 & 326 & 300326 & 2014-02-11 & None & Saracen & 16 & A3\\\\\n",
       "\\end{tabular}\n"
      ],
      "text/plain": [
       "   Plate Col Row Experiment Plot.ID.Old Plot.IDNew SampleDate Vern    Cult Pp\n",
       "1:  GEP1   1   A          3         105     300105 2014-02-04 None  Amarok 16\n",
       "2:  GEP1  10   A          3           2     300002 2014-03-04 None Saracen 16\n",
       "3:  GEP1  11   A          3         190     300190 2014-03-04 None  Amarok 16\n",
       "4:  GEP1  12   A          3         123     300123 2014-03-11 None Saracen 16\n",
       "5:  GEP1   2   A          3         262     300262 2014-02-04 None CRWT153 16\n",
       "6:  GEP1   3   A          3         326     300326 2014-02-11 None Saracen 16\n",
       "   sample_well\n",
       "1:          A1\n",
       "2:         A10\n",
       "3:         A11\n",
       "4:         A12\n",
       "5:          A2\n",
       "6:          A3"
      ]
     },
     "execution_count": 4,
     "metadata": {},
     "output_type": "execute_result"
    }
   ],
   "source": [
    "sample_sheetdt <- data.table(read.xlsx(sample_filename,'RNA plate order',detectDates = TRUE))\n",
    "sample_sheetdt <- sample_sheetdt[,sample_well:=paste0(Row,Col)]\n",
    "sample_sheetdt <- sample_sheetdt[,X11:=NULL]\n",
    "setkey(sample_sheetdt,Plate,sample_well)\n",
    "head(sample_sheetdt)"
   ]
  },
  {
   "cell_type": "code",
   "execution_count": 5,
   "metadata": {
    "collapsed": false
   },
   "outputs": [],
   "source": [
    "sample_sheetdt <- sample_sheetdt[Vern=='none',Vern:='None']\n",
    "sample_sheetdt <- sample_sheetdt[Vern=='full',Vern:='Full']"
   ]
  },
  {
   "cell_type": "code",
   "execution_count": 6,
   "metadata": {
    "collapsed": true
   },
   "outputs": [],
   "source": [
    "write_csv(sample_sheetdt,'./sample_sheet.csv')"
   ]
  },
  {
   "cell_type": "markdown",
   "metadata": {},
   "source": [
    "### Read list of qPCR Data Sheets\n"
   ]
  },
  {
   "cell_type": "code",
   "execution_count": 7,
   "metadata": {
    "collapsed": false
   },
   "outputs": [],
   "source": [
    "filename <- iplant_acquire(handle = handle,\n",
    "                           url = \"https://iplant.plantandfood.co.nz/project/I130806/Research/GEP_qPCR_results.xlsx\")\n"
   ]
  },
  {
   "cell_type": "code",
   "execution_count": 8,
   "metadata": {
    "collapsed": false
   },
   "outputs": [
    {
     "data": {
      "text/html": [
       "<ol class=list-inline>\n",
       "\t<li>'Coversheet'</li>\n",
       "\t<li>'RNA plate order'</li>\n",
       "\t<li>'NOTES'</li>\n",
       "\t<li>'96well to 384well'</li>\n",
       "\t<li>'exclude'</li>\n",
       "\t<li>'GEP1_VRN1_results'</li>\n",
       "\t<li>'GEP1_VRN2_results'</li>\n",
       "\t<li>'GEP1_VRN3_results'</li>\n",
       "\t<li>'GEP1_EGF1a_results'</li>\n",
       "\t<li>'GEP1_Ta54227_results'</li>\n",
       "\t<li>'GEP2_VRN1_results'</li>\n",
       "\t<li>'GEP2_VRN2_results'</li>\n",
       "\t<li>'GEP2_VRN3_results'</li>\n",
       "\t<li>'GEP2_EGF1a_results'</li>\n",
       "\t<li>'GEP2_Ta54227_results'</li>\n",
       "\t<li>'GEP5_VRN1_results'</li>\n",
       "\t<li>'GEP5_VRN2_results'</li>\n",
       "\t<li>'GEP5_VRN3_results'</li>\n",
       "\t<li>'GEP5_EGF1a_results'</li>\n",
       "\t<li>'GEP5_Ta54227_results'</li>\n",
       "\t<li>'GEP6_VRN1_results'</li>\n",
       "\t<li>'GEP6_VRN2_results'</li>\n",
       "\t<li>'GEP6_VRN3_results'</li>\n",
       "\t<li>'GEP6_EGF1a_results'</li>\n",
       "\t<li>'GEP6_Ta54227_results'</li>\n",
       "\t<li>'GEP7_VRN1_results'</li>\n",
       "\t<li>'GEP7_VRN2_results'</li>\n",
       "\t<li>'GEP7_VRN3_results'</li>\n",
       "\t<li>'GEP7_EGF1a_results'</li>\n",
       "\t<li>'GEP7_Ta54227_results'</li>\n",
       "\t<li>'GEP8_VRN1_results'</li>\n",
       "\t<li>'GEP8_VRN2_results'</li>\n",
       "\t<li>'GEP8_VRN3_results'</li>\n",
       "\t<li>'GEP8_EGF1a_results'</li>\n",
       "\t<li>'GEP8_Ta54227_results'</li>\n",
       "\t<li>'GEP9_VRN1_results'</li>\n",
       "\t<li>'GEP9_VRN2_results'</li>\n",
       "\t<li>'GEP9_VRN3_results'</li>\n",
       "\t<li>'GEP9_EGF1a_results'</li>\n",
       "\t<li>'GEP9_Ta54227_results'</li>\n",
       "</ol>\n"
      ],
      "text/latex": [
       "\\begin{enumerate*}\n",
       "\\item 'Coversheet'\n",
       "\\item 'RNA plate order'\n",
       "\\item 'NOTES'\n",
       "\\item '96well to 384well'\n",
       "\\item 'exclude'\n",
       "\\item 'GEP1_VRN1_results'\n",
       "\\item 'GEP1_VRN2_results'\n",
       "\\item 'GEP1_VRN3_results'\n",
       "\\item 'GEP1_EGF1a_results'\n",
       "\\item 'GEP1_Ta54227_results'\n",
       "\\item 'GEP2_VRN1_results'\n",
       "\\item 'GEP2_VRN2_results'\n",
       "\\item 'GEP2_VRN3_results'\n",
       "\\item 'GEP2_EGF1a_results'\n",
       "\\item 'GEP2_Ta54227_results'\n",
       "\\item 'GEP5_VRN1_results'\n",
       "\\item 'GEP5_VRN2_results'\n",
       "\\item 'GEP5_VRN3_results'\n",
       "\\item 'GEP5_EGF1a_results'\n",
       "\\item 'GEP5_Ta54227_results'\n",
       "\\item 'GEP6_VRN1_results'\n",
       "\\item 'GEP6_VRN2_results'\n",
       "\\item 'GEP6_VRN3_results'\n",
       "\\item 'GEP6_EGF1a_results'\n",
       "\\item 'GEP6_Ta54227_results'\n",
       "\\item 'GEP7_VRN1_results'\n",
       "\\item 'GEP7_VRN2_results'\n",
       "\\item 'GEP7_VRN3_results'\n",
       "\\item 'GEP7_EGF1a_results'\n",
       "\\item 'GEP7_Ta54227_results'\n",
       "\\item 'GEP8_VRN1_results'\n",
       "\\item 'GEP8_VRN2_results'\n",
       "\\item 'GEP8_VRN3_results'\n",
       "\\item 'GEP8_EGF1a_results'\n",
       "\\item 'GEP8_Ta54227_results'\n",
       "\\item 'GEP9_VRN1_results'\n",
       "\\item 'GEP9_VRN2_results'\n",
       "\\item 'GEP9_VRN3_results'\n",
       "\\item 'GEP9_EGF1a_results'\n",
       "\\item 'GEP9_Ta54227_results'\n",
       "\\end{enumerate*}\n"
      ],
      "text/markdown": [
       "1. 'Coversheet'\n",
       "2. 'RNA plate order'\n",
       "3. 'NOTES'\n",
       "4. '96well to 384well'\n",
       "5. 'exclude'\n",
       "6. 'GEP1_VRN1_results'\n",
       "7. 'GEP1_VRN2_results'\n",
       "8. 'GEP1_VRN3_results'\n",
       "9. 'GEP1_EGF1a_results'\n",
       "10. 'GEP1_Ta54227_results'\n",
       "11. 'GEP2_VRN1_results'\n",
       "12. 'GEP2_VRN2_results'\n",
       "13. 'GEP2_VRN3_results'\n",
       "14. 'GEP2_EGF1a_results'\n",
       "15. 'GEP2_Ta54227_results'\n",
       "16. 'GEP5_VRN1_results'\n",
       "17. 'GEP5_VRN2_results'\n",
       "18. 'GEP5_VRN3_results'\n",
       "19. 'GEP5_EGF1a_results'\n",
       "20. 'GEP5_Ta54227_results'\n",
       "21. 'GEP6_VRN1_results'\n",
       "22. 'GEP6_VRN2_results'\n",
       "23. 'GEP6_VRN3_results'\n",
       "24. 'GEP6_EGF1a_results'\n",
       "25. 'GEP6_Ta54227_results'\n",
       "26. 'GEP7_VRN1_results'\n",
       "27. 'GEP7_VRN2_results'\n",
       "28. 'GEP7_VRN3_results'\n",
       "29. 'GEP7_EGF1a_results'\n",
       "30. 'GEP7_Ta54227_results'\n",
       "31. 'GEP8_VRN1_results'\n",
       "32. 'GEP8_VRN2_results'\n",
       "33. 'GEP8_VRN3_results'\n",
       "34. 'GEP8_EGF1a_results'\n",
       "35. 'GEP8_Ta54227_results'\n",
       "36. 'GEP9_VRN1_results'\n",
       "37. 'GEP9_VRN2_results'\n",
       "38. 'GEP9_VRN3_results'\n",
       "39. 'GEP9_EGF1a_results'\n",
       "40. 'GEP9_Ta54227_results'\n",
       "\n",
       "\n"
      ],
      "text/plain": [
       " [1] \"Coversheet\"           \"RNA plate order\"      \"NOTES\"               \n",
       " [4] \"96well to 384well\"    \"exclude\"              \"GEP1_VRN1_results\"   \n",
       " [7] \"GEP1_VRN2_results\"    \"GEP1_VRN3_results\"    \"GEP1_EGF1a_results\"  \n",
       "[10] \"GEP1_Ta54227_results\" \"GEP2_VRN1_results\"    \"GEP2_VRN2_results\"   \n",
       "[13] \"GEP2_VRN3_results\"    \"GEP2_EGF1a_results\"   \"GEP2_Ta54227_results\"\n",
       "[16] \"GEP5_VRN1_results\"    \"GEP5_VRN2_results\"    \"GEP5_VRN3_results\"   \n",
       "[19] \"GEP5_EGF1a_results\"   \"GEP5_Ta54227_results\" \"GEP6_VRN1_results\"   \n",
       "[22] \"GEP6_VRN2_results\"    \"GEP6_VRN3_results\"    \"GEP6_EGF1a_results\"  \n",
       "[25] \"GEP6_Ta54227_results\" \"GEP7_VRN1_results\"    \"GEP7_VRN2_results\"   \n",
       "[28] \"GEP7_VRN3_results\"    \"GEP7_EGF1a_results\"   \"GEP7_Ta54227_results\"\n",
       "[31] \"GEP8_VRN1_results\"    \"GEP8_VRN2_results\"    \"GEP8_VRN3_results\"   \n",
       "[34] \"GEP8_EGF1a_results\"   \"GEP8_Ta54227_results\" \"GEP9_VRN1_results\"   \n",
       "[37] \"GEP9_VRN2_results\"    \"GEP9_VRN3_results\"    \"GEP9_EGF1a_results\"  \n",
       "[40] \"GEP9_Ta54227_results\""
      ]
     },
     "execution_count": 8,
     "metadata": {},
     "output_type": "execute_result"
    }
   ],
   "source": [
    "(sheetnames <- getSheetNames(filename))"
   ]
  },
  {
   "cell_type": "markdown",
   "metadata": {},
   "source": [
    "- sheets with \"results\" suffix  laid out in 96 > 384 > RNA plate order\n",
    "- beware some samples multiple days\n",
    "- new exclusion list to be added of dodgey samples- exclude these from \"results\" set\n",
    "- remove 29 cutoff"
   ]
  },
  {
   "cell_type": "code",
   "execution_count": 9,
   "metadata": {
    "collapsed": false
   },
   "outputs": [
    {
     "data": {
      "text/html": [
       "<ol class=list-inline>\n",
       "\t<li>'GEP1_VRN1_results'</li>\n",
       "\t<li>'GEP1_VRN2_results'</li>\n",
       "\t<li>'GEP1_VRN3_results'</li>\n",
       "\t<li>'GEP1_EGF1a_results'</li>\n",
       "\t<li>'GEP1_Ta54227_results'</li>\n",
       "\t<li>'GEP2_VRN1_results'</li>\n",
       "\t<li>'GEP2_VRN2_results'</li>\n",
       "\t<li>'GEP2_VRN3_results'</li>\n",
       "\t<li>'GEP2_EGF1a_results'</li>\n",
       "\t<li>'GEP2_Ta54227_results'</li>\n",
       "\t<li>'GEP5_VRN1_results'</li>\n",
       "\t<li>'GEP5_VRN2_results'</li>\n",
       "\t<li>'GEP5_VRN3_results'</li>\n",
       "\t<li>'GEP5_EGF1a_results'</li>\n",
       "\t<li>'GEP5_Ta54227_results'</li>\n",
       "\t<li>'GEP6_VRN1_results'</li>\n",
       "\t<li>'GEP6_VRN2_results'</li>\n",
       "\t<li>'GEP6_VRN3_results'</li>\n",
       "\t<li>'GEP6_EGF1a_results'</li>\n",
       "\t<li>'GEP6_Ta54227_results'</li>\n",
       "\t<li>'GEP7_VRN1_results'</li>\n",
       "\t<li>'GEP7_VRN2_results'</li>\n",
       "\t<li>'GEP7_VRN3_results'</li>\n",
       "\t<li>'GEP7_EGF1a_results'</li>\n",
       "\t<li>'GEP7_Ta54227_results'</li>\n",
       "\t<li>'GEP8_VRN1_results'</li>\n",
       "\t<li>'GEP8_VRN2_results'</li>\n",
       "\t<li>'GEP8_VRN3_results'</li>\n",
       "\t<li>'GEP8_EGF1a_results'</li>\n",
       "\t<li>'GEP8_Ta54227_results'</li>\n",
       "\t<li>'GEP9_VRN1_results'</li>\n",
       "\t<li>'GEP9_VRN2_results'</li>\n",
       "\t<li>'GEP9_VRN3_results'</li>\n",
       "\t<li>'GEP9_EGF1a_results'</li>\n",
       "\t<li>'GEP9_Ta54227_results'</li>\n",
       "</ol>\n"
      ],
      "text/latex": [
       "\\begin{enumerate*}\n",
       "\\item 'GEP1_VRN1_results'\n",
       "\\item 'GEP1_VRN2_results'\n",
       "\\item 'GEP1_VRN3_results'\n",
       "\\item 'GEP1_EGF1a_results'\n",
       "\\item 'GEP1_Ta54227_results'\n",
       "\\item 'GEP2_VRN1_results'\n",
       "\\item 'GEP2_VRN2_results'\n",
       "\\item 'GEP2_VRN3_results'\n",
       "\\item 'GEP2_EGF1a_results'\n",
       "\\item 'GEP2_Ta54227_results'\n",
       "\\item 'GEP5_VRN1_results'\n",
       "\\item 'GEP5_VRN2_results'\n",
       "\\item 'GEP5_VRN3_results'\n",
       "\\item 'GEP5_EGF1a_results'\n",
       "\\item 'GEP5_Ta54227_results'\n",
       "\\item 'GEP6_VRN1_results'\n",
       "\\item 'GEP6_VRN2_results'\n",
       "\\item 'GEP6_VRN3_results'\n",
       "\\item 'GEP6_EGF1a_results'\n",
       "\\item 'GEP6_Ta54227_results'\n",
       "\\item 'GEP7_VRN1_results'\n",
       "\\item 'GEP7_VRN2_results'\n",
       "\\item 'GEP7_VRN3_results'\n",
       "\\item 'GEP7_EGF1a_results'\n",
       "\\item 'GEP7_Ta54227_results'\n",
       "\\item 'GEP8_VRN1_results'\n",
       "\\item 'GEP8_VRN2_results'\n",
       "\\item 'GEP8_VRN3_results'\n",
       "\\item 'GEP8_EGF1a_results'\n",
       "\\item 'GEP8_Ta54227_results'\n",
       "\\item 'GEP9_VRN1_results'\n",
       "\\item 'GEP9_VRN2_results'\n",
       "\\item 'GEP9_VRN3_results'\n",
       "\\item 'GEP9_EGF1a_results'\n",
       "\\item 'GEP9_Ta54227_results'\n",
       "\\end{enumerate*}\n"
      ],
      "text/markdown": [
       "1. 'GEP1_VRN1_results'\n",
       "2. 'GEP1_VRN2_results'\n",
       "3. 'GEP1_VRN3_results'\n",
       "4. 'GEP1_EGF1a_results'\n",
       "5. 'GEP1_Ta54227_results'\n",
       "6. 'GEP2_VRN1_results'\n",
       "7. 'GEP2_VRN2_results'\n",
       "8. 'GEP2_VRN3_results'\n",
       "9. 'GEP2_EGF1a_results'\n",
       "10. 'GEP2_Ta54227_results'\n",
       "11. 'GEP5_VRN1_results'\n",
       "12. 'GEP5_VRN2_results'\n",
       "13. 'GEP5_VRN3_results'\n",
       "14. 'GEP5_EGF1a_results'\n",
       "15. 'GEP5_Ta54227_results'\n",
       "16. 'GEP6_VRN1_results'\n",
       "17. 'GEP6_VRN2_results'\n",
       "18. 'GEP6_VRN3_results'\n",
       "19. 'GEP6_EGF1a_results'\n",
       "20. 'GEP6_Ta54227_results'\n",
       "21. 'GEP7_VRN1_results'\n",
       "22. 'GEP7_VRN2_results'\n",
       "23. 'GEP7_VRN3_results'\n",
       "24. 'GEP7_EGF1a_results'\n",
       "25. 'GEP7_Ta54227_results'\n",
       "26. 'GEP8_VRN1_results'\n",
       "27. 'GEP8_VRN2_results'\n",
       "28. 'GEP8_VRN3_results'\n",
       "29. 'GEP8_EGF1a_results'\n",
       "30. 'GEP8_Ta54227_results'\n",
       "31. 'GEP9_VRN1_results'\n",
       "32. 'GEP9_VRN2_results'\n",
       "33. 'GEP9_VRN3_results'\n",
       "34. 'GEP9_EGF1a_results'\n",
       "35. 'GEP9_Ta54227_results'\n",
       "\n",
       "\n"
      ],
      "text/plain": [
       " [1] \"GEP1_VRN1_results\"    \"GEP1_VRN2_results\"    \"GEP1_VRN3_results\"   \n",
       " [4] \"GEP1_EGF1a_results\"   \"GEP1_Ta54227_results\" \"GEP2_VRN1_results\"   \n",
       " [7] \"GEP2_VRN2_results\"    \"GEP2_VRN3_results\"    \"GEP2_EGF1a_results\"  \n",
       "[10] \"GEP2_Ta54227_results\" \"GEP5_VRN1_results\"    \"GEP5_VRN2_results\"   \n",
       "[13] \"GEP5_VRN3_results\"    \"GEP5_EGF1a_results\"   \"GEP5_Ta54227_results\"\n",
       "[16] \"GEP6_VRN1_results\"    \"GEP6_VRN2_results\"    \"GEP6_VRN3_results\"   \n",
       "[19] \"GEP6_EGF1a_results\"   \"GEP6_Ta54227_results\" \"GEP7_VRN1_results\"   \n",
       "[22] \"GEP7_VRN2_results\"    \"GEP7_VRN3_results\"    \"GEP7_EGF1a_results\"  \n",
       "[25] \"GEP7_Ta54227_results\" \"GEP8_VRN1_results\"    \"GEP8_VRN2_results\"   \n",
       "[28] \"GEP8_VRN3_results\"    \"GEP8_EGF1a_results\"   \"GEP8_Ta54227_results\"\n",
       "[31] \"GEP9_VRN1_results\"    \"GEP9_VRN2_results\"    \"GEP9_VRN3_results\"   \n",
       "[34] \"GEP9_EGF1a_results\"   \"GEP9_Ta54227_results\""
      ]
     },
     "execution_count": 9,
     "metadata": {},
     "output_type": "execute_result"
    }
   ],
   "source": [
    "(dataSheets <- sheetnames[grepl(\"_results\", sheetnames)])"
   ]
  },
  {
   "cell_type": "markdown",
   "metadata": {},
   "source": [
    "### Read out the well config"
   ]
  },
  {
   "cell_type": "code",
   "execution_count": 10,
   "metadata": {
    "collapsed": false
   },
   "outputs": [
    {
     "data": {
      "text/html": [
       "<table>\n",
       "<thead><tr><th></th><th scope=col>sample_well</th><th scope=col>qPCR_well</th></tr></thead>\n",
       "<tbody>\n",
       "\t<tr><th scope=row>1</th><td>A1</td><td>A1</td></tr>\n",
       "\t<tr><th scope=row>2</th><td>A1</td><td>B1</td></tr>\n",
       "\t<tr><th scope=row>3</th><td>A1</td><td>A2</td></tr>\n",
       "\t<tr><th scope=row>4</th><td>A6</td><td>A12</td></tr>\n",
       "\t<tr><th scope=row>5</th><td>A6</td><td>A11</td></tr>\n",
       "\t<tr><th scope=row>6</th><td>A6</td><td>B11</td></tr>\n",
       "</tbody>\n",
       "</table>\n"
      ],
      "text/latex": [
       "\\begin{tabular}{r|ll}\n",
       "  & sample_well & qPCR_well\\\\\n",
       "\\hline\n",
       "\t1 & A1 & A1\\\\\n",
       "\t2 & A1 & B1\\\\\n",
       "\t3 & A1 & A2\\\\\n",
       "\t4 & A6 & A12\\\\\n",
       "\t5 & A6 & A11\\\\\n",
       "\t6 & A6 & B11\\\\\n",
       "\\end{tabular}\n"
      ],
      "text/plain": [
       "   sample_well qPCR_well\n",
       "1:          A1        A1\n",
       "2:          A1        B1\n",
       "3:          A1        A2\n",
       "4:          A6       A12\n",
       "5:          A6       A11\n",
       "6:          A6       B11"
      ]
     },
     "execution_count": 10,
     "metadata": {},
     "output_type": "execute_result"
    }
   ],
   "source": [
    "trans_dt <- data.table(read.xlsx(filename,'96well to 384well'))\n",
    "setnames(trans_dt,names(trans_dt),gsub('(\\\\.)+','_',names(trans_dt)))\n",
    "head(trans_dt)"
   ]
  },
  {
   "cell_type": "markdown",
   "metadata": {},
   "source": [
    "### Read out the Excludes\n",
    "\n",
    "- samples which were repeated or mixed up.\n",
    "- drop these from first result set\n",
    "- Fix  well addresses and column names"
   ]
  },
  {
   "cell_type": "code",
   "execution_count": 11,
   "metadata": {
    "collapsed": false
   },
   "outputs": [
    {
     "data": {
      "text/html": [
       "<table>\n",
       "<thead><tr><th></th><th scope=col>Name</th><th scope=col>Plate</th><th scope=col>sample_well</th><th scope=col>SampleDate</th><th scope=col>reason</th><th scope=col>exclude.all</th><th scope=col>exclude.VRN1</th><th scope=col>exclude.VRN2</th><th scope=col>exclude.Vrn3</th><th scope=col>exclude.EGF1a</th><th scope=col>exclude.Ta54227</th></tr></thead>\n",
       "<tbody>\n",
       "\t<tr><th scope=row>1</th><td>BW96</td><td>GEP1</td><td>A6</td><td>2014-02-18</td><td>repeated</td><td>Y</td><td>NA</td><td>NA</td><td>NA</td><td>NA</td><td>NA</td></tr>\n",
       "\t<tr><th scope=row>2</th><td>OT213</td><td>GEP1</td><td>C4</td><td>2014-02-11</td><td>repeated</td><td>N</td><td>N</td><td>Y</td><td>N</td><td>N</td><td>N</td></tr>\n",
       "\t<tr><th scope=row>3</th><td>BS164</td><td>GEP1</td><td>D3</td><td>2014-02-11</td><td>repeated</td><td>N</td><td>N</td><td>Y</td><td>N</td><td>N</td><td>N</td></tr>\n",
       "\t<tr><th scope=row>4</th><td>CRWT244</td><td>GEP1</td><td>E11</td><td>2014-03-04</td><td>Sample mixup</td><td>Y</td><td>NA</td><td>NA</td><td>NA</td><td>NA</td><td>NA</td></tr>\n",
       "\t<tr><th scope=row>5</th><td>CRWT253</td><td>GEP1</td><td>E8</td><td>2014-02-25</td><td>Sample mixup</td><td>Y</td><td>NA</td><td>NA</td><td>NA</td><td>NA</td><td>NA</td></tr>\n",
       "\t<tr><th scope=row>6</th><td>OT220</td><td>GEP1</td><td>F6</td><td>2014-02-18</td><td>repeated</td><td>Y</td><td>NA</td><td>NA</td><td>NA</td><td>NA</td><td>NA</td></tr>\n",
       "</tbody>\n",
       "</table>\n"
      ],
      "text/latex": [
       "\\begin{tabular}{r|lllllllllll}\n",
       "  & Name & Plate & sample_well & SampleDate & reason & exclude.all & exclude.VRN1 & exclude.VRN2 & exclude.Vrn3 & exclude.EGF1a & exclude.Ta54227\\\\\n",
       "\\hline\n",
       "\t1 & BW96 & GEP1 & A6 & 2014-02-18 & repeated & Y & NA & NA & NA & NA & NA\\\\\n",
       "\t2 & OT213 & GEP1 & C4 & 2014-02-11 & repeated & N & N & Y & N & N & N\\\\\n",
       "\t3 & BS164 & GEP1 & D3 & 2014-02-11 & repeated & N & N & Y & N & N & N\\\\\n",
       "\t4 & CRWT244 & GEP1 & E11 & 2014-03-04 & Sample mixup & Y & NA & NA & NA & NA & NA\\\\\n",
       "\t5 & CRWT253 & GEP1 & E8 & 2014-02-25 & Sample mixup & Y & NA & NA & NA & NA & NA\\\\\n",
       "\t6 & OT220 & GEP1 & F6 & 2014-02-18 & repeated & Y & NA & NA & NA & NA & NA\\\\\n",
       "\\end{tabular}\n"
      ],
      "text/plain": [
       "      Name Plate sample_well SampleDate       reason exclude.all exclude.VRN1\n",
       "1:    BW96  GEP1          A6 2014-02-18     repeated           Y           NA\n",
       "2:   OT213  GEP1          C4 2014-02-11     repeated           N            N\n",
       "3:   BS164  GEP1          D3 2014-02-11     repeated           N            N\n",
       "4: CRWT244  GEP1         E11 2014-03-04 Sample mixup           Y           NA\n",
       "5: CRWT253  GEP1          E8 2014-02-25 Sample mixup           Y           NA\n",
       "6:   OT220  GEP1          F6 2014-02-18     repeated           Y           NA\n",
       "   exclude.VRN2 exclude.Vrn3 exclude.EGF1a exclude.Ta54227\n",
       "1:           NA           NA            NA              NA\n",
       "2:            Y            N             N               N\n",
       "3:            Y            N             N               N\n",
       "4:           NA           NA            NA              NA\n",
       "5:           NA           NA            NA              NA\n",
       "6:           NA           NA            NA              NA"
      ]
     },
     "execution_count": 11,
     "metadata": {},
     "output_type": "execute_result"
    }
   ],
   "source": [
    "exclude_dt <- data.table(read.xlsx(filename,'exclude',startRow = 2,detectDates = TRUE))\n",
    "setnames(exclude_dt,c('ex.sample.plate','sample.date','ex.sample.plate.well','Sample'),c('Plate','SampleDate','sample_well','Name'))\n",
    "exclude_dt <- exclude_dt[,sample_well:=gsub(\"^(\\\\d+)(\\\\D)\",\"\\\\2\\\\1\",sample_well)]\n",
    "setkey(exclude_dt,Plate,sample_well)\n",
    "head(exclude_dt)\n"
   ]
  },
  {
   "cell_type": "code",
   "execution_count": 12,
   "metadata": {
    "collapsed": false
   },
   "outputs": [
    {
     "data": {
      "text/html": [
       "<ol class=list-inline>\n",
       "\t<li>115</li>\n",
       "\t<li>11</li>\n",
       "</ol>\n"
      ],
      "text/latex": [
       "\\begin{enumerate*}\n",
       "\\item 115\n",
       "\\item 11\n",
       "\\end{enumerate*}\n"
      ],
      "text/markdown": [
       "1. 115\n",
       "2. 11\n",
       "\n",
       "\n"
      ],
      "text/plain": [
       "[1] 115  11"
      ]
     },
     "execution_count": 12,
     "metadata": {},
     "output_type": "execute_result"
    }
   ],
   "source": [
    "dim(exclude_dt)"
   ]
  },
  {
   "cell_type": "markdown",
   "metadata": {},
   "source": [
    "There are duplicated samples in here-unique by date \n",
    "\n",
    "e.g."
   ]
  },
  {
   "cell_type": "code",
   "execution_count": 13,
   "metadata": {
    "collapsed": false
   },
   "outputs": [
    {
     "data": {
      "text/html": [
       "<table>\n",
       "<thead><tr><th></th><th scope=col>Name</th><th scope=col>Plate</th><th scope=col>sample_well</th><th scope=col>SampleDate</th><th scope=col>reason</th><th scope=col>exclude.all</th><th scope=col>exclude.VRN1</th><th scope=col>exclude.VRN2</th><th scope=col>exclude.Vrn3</th><th scope=col>exclude.EGF1a</th><th scope=col>exclude.Ta54227</th></tr></thead>\n",
       "<tbody>\n",
       "\t<tr><th scope=row>1</th><td>BW279</td><td>GEP2</td><td>E6</td><td>2014-04-01</td><td>repeated</td><td>Y</td><td>NA</td><td>NA</td><td>NA</td><td>NA</td><td>NA</td></tr>\n",
       "\t<tr><th scope=row>2</th><td>BW279</td><td>GEP2</td><td>F7</td><td>2014-04-09</td><td>repeated</td><td>Y</td><td>NA</td><td>NA</td><td>NA</td><td>NA</td><td>NA</td></tr>\n",
       "</tbody>\n",
       "</table>\n"
      ],
      "text/latex": [
       "\\begin{tabular}{r|lllllllllll}\n",
       "  & Name & Plate & sample_well & SampleDate & reason & exclude.all & exclude.VRN1 & exclude.VRN2 & exclude.Vrn3 & exclude.EGF1a & exclude.Ta54227\\\\\n",
       "\\hline\n",
       "\t1 & BW279 & GEP2 & E6 & 2014-04-01 & repeated & Y & NA & NA & NA & NA & NA\\\\\n",
       "\t2 & BW279 & GEP2 & F7 & 2014-04-09 & repeated & Y & NA & NA & NA & NA & NA\\\\\n",
       "\\end{tabular}\n"
      ],
      "text/plain": [
       "    Name Plate sample_well SampleDate   reason exclude.all exclude.VRN1\n",
       "1: BW279  GEP2          E6 2014-04-01 repeated           Y           NA\n",
       "2: BW279  GEP2          F7 2014-04-09 repeated           Y           NA\n",
       "   exclude.VRN2 exclude.Vrn3 exclude.EGF1a exclude.Ta54227\n",
       "1:           NA           NA            NA              NA\n",
       "2:           NA           NA            NA              NA"
      ]
     },
     "execution_count": 13,
     "metadata": {},
     "output_type": "execute_result"
    }
   ],
   "source": [
    "exclude_dt[Name=='BW279']"
   ]
  },
  {
   "cell_type": "code",
   "execution_count": 14,
   "metadata": {
    "collapsed": false
   },
   "outputs": [
    {
     "data": {
      "text/html": [
       "<ol class=list-inline>\n",
       "\t<li>'BS73'</li>\n",
       "\t<li>'BW214'</li>\n",
       "\t<li>'BW279'</li>\n",
       "\t<li>'CRWT151'</li>\n",
       "\t<li>'CRWT228'</li>\n",
       "\t<li>'CRWT271'</li>\n",
       "\t<li>'CRWT42'</li>\n",
       "\t<li>'SCN131'</li>\n",
       "\t<li>'SCN71'</li>\n",
       "</ol>\n"
      ],
      "text/latex": [
       "\\begin{enumerate*}\n",
       "\\item 'BS73'\n",
       "\\item 'BW214'\n",
       "\\item 'BW279'\n",
       "\\item 'CRWT151'\n",
       "\\item 'CRWT228'\n",
       "\\item 'CRWT271'\n",
       "\\item 'CRWT42'\n",
       "\\item 'SCN131'\n",
       "\\item 'SCN71'\n",
       "\\end{enumerate*}\n"
      ],
      "text/markdown": [
       "1. 'BS73'\n",
       "2. 'BW214'\n",
       "3. 'BW279'\n",
       "4. 'CRWT151'\n",
       "5. 'CRWT228'\n",
       "6. 'CRWT271'\n",
       "7. 'CRWT42'\n",
       "8. 'SCN131'\n",
       "9. 'SCN71'\n",
       "\n",
       "\n"
      ],
      "text/plain": [
       "[1] \"BS73\"    \"BW214\"   \"BW279\"   \"CRWT151\" \"CRWT228\" \"CRWT271\" \"CRWT42\" \n",
       "[8] \"SCN131\"  \"SCN71\"  "
      ]
     },
     "execution_count": 14,
     "metadata": {},
     "output_type": "execute_result"
    },
    {
     "data": {
      "text/html": [
       "<table>\n",
       "<thead><tr><th></th><th scope=col>Name</th><th scope=col>Plate</th><th scope=col>sample_well</th><th scope=col>SampleDate</th><th scope=col>reason</th><th scope=col>exclude.all</th><th scope=col>exclude.VRN1</th><th scope=col>exclude.VRN2</th><th scope=col>exclude.Vrn3</th><th scope=col>exclude.EGF1a</th><th scope=col>exclude.Ta54227</th></tr></thead>\n",
       "<tbody>\n",
       "\t<tr><th scope=row>1</th><td>BS73</td><td>GEP7</td><td>F4</td><td>2014-09-15</td><td>Sampled wrongly</td><td>Y</td><td>NA</td><td>NA</td><td>NA</td><td>NA</td><td>NA</td></tr>\n",
       "\t<tr><th scope=row>2</th><td>BS73</td><td>GEP7</td><td>F5</td><td>2014-09-22</td><td>repeated</td><td>Y</td><td>NA</td><td>NA</td><td>NA</td><td>NA</td><td>NA</td></tr>\n",
       "\t<tr><th scope=row>3</th><td>BW214</td><td>GEP2</td><td>D6</td><td>2014-04-01</td><td>repeated</td><td>Y</td><td>NA</td><td>NA</td><td>NA</td><td>NA</td><td>NA</td></tr>\n",
       "\t<tr><th scope=row>4</th><td>BW214</td><td>GEP2</td><td>E7</td><td>2014-04-09</td><td>repeated</td><td>Y</td><td>NA</td><td>NA</td><td>NA</td><td>NA</td><td>NA</td></tr>\n",
       "\t<tr><th scope=row>5</th><td>BW279</td><td>GEP2</td><td>E6</td><td>2014-04-01</td><td>repeated</td><td>Y</td><td>NA</td><td>NA</td><td>NA</td><td>NA</td><td>NA</td></tr>\n",
       "\t<tr><th scope=row>6</th><td>BW279</td><td>GEP2</td><td>F7</td><td>2014-04-09</td><td>repeated</td><td>Y</td><td>NA</td><td>NA</td><td>NA</td><td>NA</td><td>NA</td></tr>\n",
       "\t<tr><th scope=row>7</th><td>CRWT151</td><td>GEP2</td><td>B7</td><td>2014-04-09</td><td>repeated</td><td>Y</td><td>NA</td><td>NA</td><td>NA</td><td>NA</td><td>NA</td></tr>\n",
       "\t<tr><th scope=row>8</th><td>CRWT151</td><td>GEP2</td><td>G5</td><td>2014-04-01</td><td>repeated</td><td>Y</td><td>NA</td><td>NA</td><td>NA</td><td>NA</td><td>NA</td></tr>\n",
       "\t<tr><th scope=row>9</th><td>CRWT228</td><td>GEP5</td><td>B1</td><td>2014-05-16</td><td>repeated</td><td>N</td><td>N</td><td>Y</td><td>N</td><td>N</td><td>N</td></tr>\n",
       "\t<tr><th scope=row>10</th><td>CRWT228</td><td>GEP5</td><td>B1</td><td>2014-05-16</td><td>repeated</td><td>N</td><td>N</td><td>Y</td><td>N</td><td>N</td><td>N</td></tr>\n",
       "\t<tr><th scope=row>11</th><td>CRWT271</td><td>GEP2</td><td>G6</td><td>2014-04-01</td><td>repeated</td><td>Y</td><td>NA</td><td>NA</td><td>NA</td><td>NA</td><td>NA</td></tr>\n",
       "\t<tr><th scope=row>12</th><td>CRWT271</td><td>GEP2</td><td>H7</td><td>2014-04-09</td><td>repeated</td><td>Y</td><td>NA</td><td>NA</td><td>NA</td><td>NA</td><td>NA</td></tr>\n",
       "\t<tr><th scope=row>13</th><td>CRWT42</td><td>GEP2</td><td>E5</td><td>2014-04-01</td><td>repeated</td><td>Y</td><td>NA</td><td>NA</td><td>NA</td><td>NA</td><td>NA</td></tr>\n",
       "\t<tr><th scope=row>14</th><td>CRWT42</td><td>GEP2</td><td>H6</td><td>2014-04-09</td><td>repeated</td><td>Y</td><td>NA</td><td>NA</td><td>NA</td><td>NA</td><td>NA</td></tr>\n",
       "\t<tr><th scope=row>15</th><td>SCN131</td><td>GEP2</td><td>B6</td><td>2014-04-01</td><td>repeated</td><td>Y</td><td>NA</td><td>NA</td><td>NA</td><td>NA</td><td>NA</td></tr>\n",
       "\t<tr><th scope=row>16</th><td>SCN131</td><td>GEP2</td><td>D7</td><td>2014-04-09</td><td>repeated</td><td>Y</td><td>NA</td><td>NA</td><td>NA</td><td>NA</td><td>NA</td></tr>\n",
       "\t<tr><th scope=row>17</th><td>SCN71</td><td>GEP2</td><td>A6</td><td>2014-04-01</td><td>repeated</td><td>Y</td><td>NA</td><td>NA</td><td>NA</td><td>NA</td><td>NA</td></tr>\n",
       "\t<tr><th scope=row>18</th><td>SCN71</td><td>GEP2</td><td>C7</td><td>2014-04-09</td><td>repeated</td><td>Y</td><td>NA</td><td>NA</td><td>NA</td><td>NA</td><td>NA</td></tr>\n",
       "</tbody>\n",
       "</table>\n"
      ],
      "text/latex": [
       "\\begin{tabular}{r|lllllllllll}\n",
       "  & Name & Plate & sample_well & SampleDate & reason & exclude.all & exclude.VRN1 & exclude.VRN2 & exclude.Vrn3 & exclude.EGF1a & exclude.Ta54227\\\\\n",
       "\\hline\n",
       "\t1 & BS73 & GEP7 & F4 & 2014-09-15 & Sampled wrongly & Y & NA & NA & NA & NA & NA\\\\\n",
       "\t2 & BS73 & GEP7 & F5 & 2014-09-22 & repeated & Y & NA & NA & NA & NA & NA\\\\\n",
       "\t3 & BW214 & GEP2 & D6 & 2014-04-01 & repeated & Y & NA & NA & NA & NA & NA\\\\\n",
       "\t4 & BW214 & GEP2 & E7 & 2014-04-09 & repeated & Y & NA & NA & NA & NA & NA\\\\\n",
       "\t5 & BW279 & GEP2 & E6 & 2014-04-01 & repeated & Y & NA & NA & NA & NA & NA\\\\\n",
       "\t6 & BW279 & GEP2 & F7 & 2014-04-09 & repeated & Y & NA & NA & NA & NA & NA\\\\\n",
       "\t7 & CRWT151 & GEP2 & B7 & 2014-04-09 & repeated & Y & NA & NA & NA & NA & NA\\\\\n",
       "\t8 & CRWT151 & GEP2 & G5 & 2014-04-01 & repeated & Y & NA & NA & NA & NA & NA\\\\\n",
       "\t9 & CRWT228 & GEP5 & B1 & 2014-05-16 & repeated & N & N & Y & N & N & N\\\\\n",
       "\t10 & CRWT228 & GEP5 & B1 & 2014-05-16 & repeated & N & N & Y & N & N & N\\\\\n",
       "\t11 & CRWT271 & GEP2 & G6 & 2014-04-01 & repeated & Y & NA & NA & NA & NA & NA\\\\\n",
       "\t12 & CRWT271 & GEP2 & H7 & 2014-04-09 & repeated & Y & NA & NA & NA & NA & NA\\\\\n",
       "\t13 & CRWT42 & GEP2 & E5 & 2014-04-01 & repeated & Y & NA & NA & NA & NA & NA\\\\\n",
       "\t14 & CRWT42 & GEP2 & H6 & 2014-04-09 & repeated & Y & NA & NA & NA & NA & NA\\\\\n",
       "\t15 & SCN131 & GEP2 & B6 & 2014-04-01 & repeated & Y & NA & NA & NA & NA & NA\\\\\n",
       "\t16 & SCN131 & GEP2 & D7 & 2014-04-09 & repeated & Y & NA & NA & NA & NA & NA\\\\\n",
       "\t17 & SCN71 & GEP2 & A6 & 2014-04-01 & repeated & Y & NA & NA & NA & NA & NA\\\\\n",
       "\t18 & SCN71 & GEP2 & C7 & 2014-04-09 & repeated & Y & NA & NA & NA & NA & NA\\\\\n",
       "\\end{tabular}\n"
      ],
      "text/plain": [
       "       Name Plate sample_well SampleDate          reason exclude.all\n",
       " 1:    BS73  GEP7          F4 2014-09-15 Sampled wrongly           Y\n",
       " 2:    BS73  GEP7          F5 2014-09-22        repeated           Y\n",
       " 3:   BW214  GEP2          D6 2014-04-01        repeated           Y\n",
       " 4:   BW214  GEP2          E7 2014-04-09        repeated           Y\n",
       " 5:   BW279  GEP2          E6 2014-04-01        repeated           Y\n",
       " 6:   BW279  GEP2          F7 2014-04-09        repeated           Y\n",
       " 7: CRWT151  GEP2          B7 2014-04-09        repeated           Y\n",
       " 8: CRWT151  GEP2          G5 2014-04-01        repeated           Y\n",
       " 9: CRWT228  GEP5          B1 2014-05-16        repeated           N\n",
       "10: CRWT228  GEP5          B1 2014-05-16        repeated           N\n",
       "11: CRWT271  GEP2          G6 2014-04-01        repeated           Y\n",
       "12: CRWT271  GEP2          H7 2014-04-09        repeated           Y\n",
       "13:  CRWT42  GEP2          E5 2014-04-01        repeated           Y\n",
       "14:  CRWT42  GEP2          H6 2014-04-09        repeated           Y\n",
       "15:  SCN131  GEP2          B6 2014-04-01        repeated           Y\n",
       "16:  SCN131  GEP2          D7 2014-04-09        repeated           Y\n",
       "17:   SCN71  GEP2          A6 2014-04-01        repeated           Y\n",
       "18:   SCN71  GEP2          C7 2014-04-09        repeated           Y\n",
       "    exclude.VRN1 exclude.VRN2 exclude.Vrn3 exclude.EGF1a exclude.Ta54227\n",
       " 1:           NA           NA           NA            NA              NA\n",
       " 2:           NA           NA           NA            NA              NA\n",
       " 3:           NA           NA           NA            NA              NA\n",
       " 4:           NA           NA           NA            NA              NA\n",
       " 5:           NA           NA           NA            NA              NA\n",
       " 6:           NA           NA           NA            NA              NA\n",
       " 7:           NA           NA           NA            NA              NA\n",
       " 8:           NA           NA           NA            NA              NA\n",
       " 9:            N            Y            N             N               N\n",
       "10:            N            Y            N             N               N\n",
       "11:           NA           NA           NA            NA              NA\n",
       "12:           NA           NA           NA            NA              NA\n",
       "13:           NA           NA           NA            NA              NA\n",
       "14:           NA           NA           NA            NA              NA\n",
       "15:           NA           NA           NA            NA              NA\n",
       "16:           NA           NA           NA            NA              NA\n",
       "17:           NA           NA           NA            NA              NA\n",
       "18:           NA           NA           NA            NA              NA"
      ]
     },
     "execution_count": 14,
     "metadata": {},
     "output_type": "execute_result"
    }
   ],
   "source": [
    "setkey(exclude_dt,Name)\n",
    "(dupl_samples <- exclude_dt[duplicated(exclude_dt),Name])\n",
    "exclude_dt[Name %in% dupl_samples]"
   ]
  },
  {
   "cell_type": "code",
   "execution_count": 15,
   "metadata": {
    "collapsed": false
   },
   "outputs": [
    {
     "data": {
      "text/html": [
       "<ol class=list-inline>\n",
       "\t<li>'AMK114'</li>\n",
       "\t<li>'AMK1154'</li>\n",
       "\t<li>'AMK1155'</li>\n",
       "\t<li>'AMK1156'</li>\n",
       "\t<li>'AMK122'</li>\n",
       "\t<li>'AMK126'</li>\n",
       "\t<li>'AMK156'</li>\n",
       "\t<li>'AMK157'</li>\n",
       "\t<li>'AMK176'</li>\n",
       "\t<li>'AMK180'</li>\n",
       "\t<li>'AMK184'</li>\n",
       "\t<li>'AMK185'</li>\n",
       "\t<li>'AMK188'</li>\n",
       "\t<li>'AMK196'</li>\n",
       "\t<li>'AMK197'</li>\n",
       "\t<li>'AMK198'</li>\n",
       "\t<li>'AMK199'</li>\n",
       "\t<li>'AMK20'</li>\n",
       "\t<li>'AMK204'</li>\n",
       "\t<li>'AMK207'</li>\n",
       "\t<li>'AMK209'</li>\n",
       "\t<li>'AMK212'</li>\n",
       "\t<li>'AMK214'</li>\n",
       "\t<li>'AMK22'</li>\n",
       "\t<li>'AMK258'</li>\n",
       "\t<li>'AMK275'</li>\n",
       "\t<li>'AMK293'</li>\n",
       "\t<li>'AMK320'</li>\n",
       "\t<li>'AMK325'</li>\n",
       "\t<li>'AMK330'</li>\n",
       "\t<li>'AMK69'</li>\n",
       "\t<li>'AMK76'</li>\n",
       "\t<li>'BS164'</li>\n",
       "\t<li>'BS47'</li>\n",
       "\t<li>'BS73'</li>\n",
       "\t<li>'BS73'</li>\n",
       "\t<li>'BS84'</li>\n",
       "\t<li>'BW155'</li>\n",
       "\t<li>'BW192'</li>\n",
       "\t<li>'BW214'</li>\n",
       "\t<li>'BW214'</li>\n",
       "\t<li>'BW217'</li>\n",
       "\t<li>'BW218'</li>\n",
       "\t<li>'BW219'</li>\n",
       "\t<li>'BW237'</li>\n",
       "\t<li>'BW239'</li>\n",
       "\t<li>'BW244'</li>\n",
       "\t<li>'BW256'</li>\n",
       "\t<li>'BW264'</li>\n",
       "\t<li>'BW265'</li>\n",
       "\t<li>'BW277'</li>\n",
       "\t<li>'BW279'</li>\n",
       "\t<li>'BW279'</li>\n",
       "\t<li>'BW286'</li>\n",
       "\t<li>'BW287'</li>\n",
       "\t<li>'BW301'</li>\n",
       "\t<li>'BW33'</li>\n",
       "\t<li>'BW47'</li>\n",
       "\t<li>'BW92'</li>\n",
       "\t<li>'BW96'</li>\n",
       "\t<li>'CRWT10'</li>\n",
       "\t<li>'CRWT12 (duplicate)'</li>\n",
       "\t<li>'CRWT1244'</li>\n",
       "\t<li>'CRWT1255'</li>\n",
       "\t<li>'CRWT1258'</li>\n",
       "\t<li>'CRWT145'</li>\n",
       "\t<li>'CRWT151'</li>\n",
       "\t<li>'CRWT151'</li>\n",
       "\t<li>'CRWT173'</li>\n",
       "\t<li>'CRWT196'</li>\n",
       "\t<li>'CRWT216'</li>\n",
       "\t<li>'CRWT228'</li>\n",
       "\t<li>'CRWT228'</li>\n",
       "\t<li>'CRWT232'</li>\n",
       "\t<li>'CRWT240'</li>\n",
       "\t<li>'CRWT244'</li>\n",
       "\t<li>'CRWT253'</li>\n",
       "\t<li>'CRWT271'</li>\n",
       "\t<li>'CRWT271'</li>\n",
       "\t<li>'CRWT274'</li>\n",
       "\t<li>'CRWT293'</li>\n",
       "\t<li>'CRWT300'</li>\n",
       "\t<li>'CRWT307'</li>\n",
       "\t<li>'CRWT310'</li>\n",
       "\t<li>'CRWT316'</li>\n",
       "\t<li>'CRWT318'</li>\n",
       "\t<li>'CRWT333'</li>\n",
       "\t<li>'CRWT336'</li>\n",
       "\t<li>'CRWT345'</li>\n",
       "\t<li>'CRWT38'</li>\n",
       "\t<li>'CRWT42'</li>\n",
       "\t<li>'CRWT42'</li>\n",
       "\t<li>'CRWT65'</li>\n",
       "\t<li>'OT1026'</li>\n",
       "\t<li>'OT21'</li>\n",
       "\t<li>'OT213'</li>\n",
       "\t<li>'OT220'</li>\n",
       "\t<li>'OT30'</li>\n",
       "\t<li>'OT36'</li>\n",
       "\t<li>'OT37'</li>\n",
       "\t<li>'OT8'</li>\n",
       "\t<li>'SCN1115'</li>\n",
       "\t<li>'SCN13'</li>\n",
       "\t<li>'SCN131'</li>\n",
       "\t<li>'SCN131'</li>\n",
       "\t<li>'SCN136'</li>\n",
       "\t<li>'SCN142'</li>\n",
       "\t<li>'SCN146'</li>\n",
       "\t<li>'SCN180'</li>\n",
       "\t<li>'SCN199'</li>\n",
       "\t<li>'SCN265'</li>\n",
       "\t<li>'SCN290'</li>\n",
       "\t<li>'SCN310'</li>\n",
       "\t<li>'SCN71'</li>\n",
       "\t<li>'SCN71'</li>\n",
       "</ol>\n"
      ],
      "text/latex": [
       "\\begin{enumerate*}\n",
       "\\item 'AMK114'\n",
       "\\item 'AMK1154'\n",
       "\\item 'AMK1155'\n",
       "\\item 'AMK1156'\n",
       "\\item 'AMK122'\n",
       "\\item 'AMK126'\n",
       "\\item 'AMK156'\n",
       "\\item 'AMK157'\n",
       "\\item 'AMK176'\n",
       "\\item 'AMK180'\n",
       "\\item 'AMK184'\n",
       "\\item 'AMK185'\n",
       "\\item 'AMK188'\n",
       "\\item 'AMK196'\n",
       "\\item 'AMK197'\n",
       "\\item 'AMK198'\n",
       "\\item 'AMK199'\n",
       "\\item 'AMK20'\n",
       "\\item 'AMK204'\n",
       "\\item 'AMK207'\n",
       "\\item 'AMK209'\n",
       "\\item 'AMK212'\n",
       "\\item 'AMK214'\n",
       "\\item 'AMK22'\n",
       "\\item 'AMK258'\n",
       "\\item 'AMK275'\n",
       "\\item 'AMK293'\n",
       "\\item 'AMK320'\n",
       "\\item 'AMK325'\n",
       "\\item 'AMK330'\n",
       "\\item 'AMK69'\n",
       "\\item 'AMK76'\n",
       "\\item 'BS164'\n",
       "\\item 'BS47'\n",
       "\\item 'BS73'\n",
       "\\item 'BS73'\n",
       "\\item 'BS84'\n",
       "\\item 'BW155'\n",
       "\\item 'BW192'\n",
       "\\item 'BW214'\n",
       "\\item 'BW214'\n",
       "\\item 'BW217'\n",
       "\\item 'BW218'\n",
       "\\item 'BW219'\n",
       "\\item 'BW237'\n",
       "\\item 'BW239'\n",
       "\\item 'BW244'\n",
       "\\item 'BW256'\n",
       "\\item 'BW264'\n",
       "\\item 'BW265'\n",
       "\\item 'BW277'\n",
       "\\item 'BW279'\n",
       "\\item 'BW279'\n",
       "\\item 'BW286'\n",
       "\\item 'BW287'\n",
       "\\item 'BW301'\n",
       "\\item 'BW33'\n",
       "\\item 'BW47'\n",
       "\\item 'BW92'\n",
       "\\item 'BW96'\n",
       "\\item 'CRWT10'\n",
       "\\item 'CRWT12 (duplicate)'\n",
       "\\item 'CRWT1244'\n",
       "\\item 'CRWT1255'\n",
       "\\item 'CRWT1258'\n",
       "\\item 'CRWT145'\n",
       "\\item 'CRWT151'\n",
       "\\item 'CRWT151'\n",
       "\\item 'CRWT173'\n",
       "\\item 'CRWT196'\n",
       "\\item 'CRWT216'\n",
       "\\item 'CRWT228'\n",
       "\\item 'CRWT228'\n",
       "\\item 'CRWT232'\n",
       "\\item 'CRWT240'\n",
       "\\item 'CRWT244'\n",
       "\\item 'CRWT253'\n",
       "\\item 'CRWT271'\n",
       "\\item 'CRWT271'\n",
       "\\item 'CRWT274'\n",
       "\\item 'CRWT293'\n",
       "\\item 'CRWT300'\n",
       "\\item 'CRWT307'\n",
       "\\item 'CRWT310'\n",
       "\\item 'CRWT316'\n",
       "\\item 'CRWT318'\n",
       "\\item 'CRWT333'\n",
       "\\item 'CRWT336'\n",
       "\\item 'CRWT345'\n",
       "\\item 'CRWT38'\n",
       "\\item 'CRWT42'\n",
       "\\item 'CRWT42'\n",
       "\\item 'CRWT65'\n",
       "\\item 'OT1026'\n",
       "\\item 'OT21'\n",
       "\\item 'OT213'\n",
       "\\item 'OT220'\n",
       "\\item 'OT30'\n",
       "\\item 'OT36'\n",
       "\\item 'OT37'\n",
       "\\item 'OT8'\n",
       "\\item 'SCN1115'\n",
       "\\item 'SCN13'\n",
       "\\item 'SCN131'\n",
       "\\item 'SCN131'\n",
       "\\item 'SCN136'\n",
       "\\item 'SCN142'\n",
       "\\item 'SCN146'\n",
       "\\item 'SCN180'\n",
       "\\item 'SCN199'\n",
       "\\item 'SCN265'\n",
       "\\item 'SCN290'\n",
       "\\item 'SCN310'\n",
       "\\item 'SCN71'\n",
       "\\item 'SCN71'\n",
       "\\end{enumerate*}\n"
      ],
      "text/markdown": [
       "1. 'AMK114'\n",
       "2. 'AMK1154'\n",
       "3. 'AMK1155'\n",
       "4. 'AMK1156'\n",
       "5. 'AMK122'\n",
       "6. 'AMK126'\n",
       "7. 'AMK156'\n",
       "8. 'AMK157'\n",
       "9. 'AMK176'\n",
       "10. 'AMK180'\n",
       "11. 'AMK184'\n",
       "12. 'AMK185'\n",
       "13. 'AMK188'\n",
       "14. 'AMK196'\n",
       "15. 'AMK197'\n",
       "16. 'AMK198'\n",
       "17. 'AMK199'\n",
       "18. 'AMK20'\n",
       "19. 'AMK204'\n",
       "20. 'AMK207'\n",
       "21. 'AMK209'\n",
       "22. 'AMK212'\n",
       "23. 'AMK214'\n",
       "24. 'AMK22'\n",
       "25. 'AMK258'\n",
       "26. 'AMK275'\n",
       "27. 'AMK293'\n",
       "28. 'AMK320'\n",
       "29. 'AMK325'\n",
       "30. 'AMK330'\n",
       "31. 'AMK69'\n",
       "32. 'AMK76'\n",
       "33. 'BS164'\n",
       "34. 'BS47'\n",
       "35. 'BS73'\n",
       "36. 'BS73'\n",
       "37. 'BS84'\n",
       "38. 'BW155'\n",
       "39. 'BW192'\n",
       "40. 'BW214'\n",
       "41. 'BW214'\n",
       "42. 'BW217'\n",
       "43. 'BW218'\n",
       "44. 'BW219'\n",
       "45. 'BW237'\n",
       "46. 'BW239'\n",
       "47. 'BW244'\n",
       "48. 'BW256'\n",
       "49. 'BW264'\n",
       "50. 'BW265'\n",
       "51. 'BW277'\n",
       "52. 'BW279'\n",
       "53. 'BW279'\n",
       "54. 'BW286'\n",
       "55. 'BW287'\n",
       "56. 'BW301'\n",
       "57. 'BW33'\n",
       "58. 'BW47'\n",
       "59. 'BW92'\n",
       "60. 'BW96'\n",
       "61. 'CRWT10'\n",
       "62. 'CRWT12 (duplicate)'\n",
       "63. 'CRWT1244'\n",
       "64. 'CRWT1255'\n",
       "65. 'CRWT1258'\n",
       "66. 'CRWT145'\n",
       "67. 'CRWT151'\n",
       "68. 'CRWT151'\n",
       "69. 'CRWT173'\n",
       "70. 'CRWT196'\n",
       "71. 'CRWT216'\n",
       "72. 'CRWT228'\n",
       "73. 'CRWT228'\n",
       "74. 'CRWT232'\n",
       "75. 'CRWT240'\n",
       "76. 'CRWT244'\n",
       "77. 'CRWT253'\n",
       "78. 'CRWT271'\n",
       "79. 'CRWT271'\n",
       "80. 'CRWT274'\n",
       "81. 'CRWT293'\n",
       "82. 'CRWT300'\n",
       "83. 'CRWT307'\n",
       "84. 'CRWT310'\n",
       "85. 'CRWT316'\n",
       "86. 'CRWT318'\n",
       "87. 'CRWT333'\n",
       "88. 'CRWT336'\n",
       "89. 'CRWT345'\n",
       "90. 'CRWT38'\n",
       "91. 'CRWT42'\n",
       "92. 'CRWT42'\n",
       "93. 'CRWT65'\n",
       "94. 'OT1026'\n",
       "95. 'OT21'\n",
       "96. 'OT213'\n",
       "97. 'OT220'\n",
       "98. 'OT30'\n",
       "99. 'OT36'\n",
       "100. 'OT37'\n",
       "101. 'OT8'\n",
       "102. 'SCN1115'\n",
       "103. 'SCN13'\n",
       "104. 'SCN131'\n",
       "105. 'SCN131'\n",
       "106. 'SCN136'\n",
       "107. 'SCN142'\n",
       "108. 'SCN146'\n",
       "109. 'SCN180'\n",
       "110. 'SCN199'\n",
       "111. 'SCN265'\n",
       "112. 'SCN290'\n",
       "113. 'SCN310'\n",
       "114. 'SCN71'\n",
       "115. 'SCN71'\n",
       "\n",
       "\n"
      ],
      "text/plain": [
       "  [1] \"AMK114\"             \"AMK1154\"            \"AMK1155\"           \n",
       "  [4] \"AMK1156\"            \"AMK122\"             \"AMK126\"            \n",
       "  [7] \"AMK156\"             \"AMK157\"             \"AMK176\"            \n",
       " [10] \"AMK180\"             \"AMK184\"             \"AMK185\"            \n",
       " [13] \"AMK188\"             \"AMK196\"             \"AMK197\"            \n",
       " [16] \"AMK198\"             \"AMK199\"             \"AMK20\"             \n",
       " [19] \"AMK204\"             \"AMK207\"             \"AMK209\"            \n",
       " [22] \"AMK212\"             \"AMK214\"             \"AMK22\"             \n",
       " [25] \"AMK258\"             \"AMK275\"             \"AMK293\"            \n",
       " [28] \"AMK320\"             \"AMK325\"             \"AMK330\"            \n",
       " [31] \"AMK69\"              \"AMK76\"              \"BS164\"             \n",
       " [34] \"BS47\"               \"BS73\"               \"BS73\"              \n",
       " [37] \"BS84\"               \"BW155\"              \"BW192\"             \n",
       " [40] \"BW214\"              \"BW214\"              \"BW217\"             \n",
       " [43] \"BW218\"              \"BW219\"              \"BW237\"             \n",
       " [46] \"BW239\"              \"BW244\"              \"BW256\"             \n",
       " [49] \"BW264\"              \"BW265\"              \"BW277\"             \n",
       " [52] \"BW279\"              \"BW279\"              \"BW286\"             \n",
       " [55] \"BW287\"              \"BW301\"              \"BW33\"              \n",
       " [58] \"BW47\"               \"BW92\"               \"BW96\"              \n",
       " [61] \"CRWT10\"             \"CRWT12 (duplicate)\" \"CRWT1244\"          \n",
       " [64] \"CRWT1255\"           \"CRWT1258\"           \"CRWT145\"           \n",
       " [67] \"CRWT151\"            \"CRWT151\"            \"CRWT173\"           \n",
       " [70] \"CRWT196\"            \"CRWT216\"            \"CRWT228\"           \n",
       " [73] \"CRWT228\"            \"CRWT232\"            \"CRWT240\"           \n",
       " [76] \"CRWT244\"            \"CRWT253\"            \"CRWT271\"           \n",
       " [79] \"CRWT271\"            \"CRWT274\"            \"CRWT293\"           \n",
       " [82] \"CRWT300\"            \"CRWT307\"            \"CRWT310\"           \n",
       " [85] \"CRWT316\"            \"CRWT318\"            \"CRWT333\"           \n",
       " [88] \"CRWT336\"            \"CRWT345\"            \"CRWT38\"            \n",
       " [91] \"CRWT42\"             \"CRWT42\"             \"CRWT65\"            \n",
       " [94] \"OT1026\"             \"OT21\"               \"OT213\"             \n",
       " [97] \"OT220\"              \"OT30\"               \"OT36\"              \n",
       "[100] \"OT37\"               \"OT8\"                \"SCN1115\"           \n",
       "[103] \"SCN13\"              \"SCN131\"             \"SCN131\"            \n",
       "[106] \"SCN136\"             \"SCN142\"             \"SCN146\"            \n",
       "[109] \"SCN180\"             \"SCN199\"             \"SCN265\"            \n",
       "[112] \"SCN290\"             \"SCN310\"             \"SCN71\"             \n",
       "[115] \"SCN71\"             "
      ]
     },
     "execution_count": 15,
     "metadata": {},
     "output_type": "execute_result"
    }
   ],
   "source": [
    "exclude_dt[,Name]"
   ]
  },
  {
   "cell_type": "markdown",
   "metadata": {},
   "source": [
    "### Read out one table"
   ]
  },
  {
   "cell_type": "code",
   "execution_count": 16,
   "metadata": {
    "collapsed": false
   },
   "outputs": [
    {
     "data": {
      "text/html": [
       "<ol class=list-inline>\n",
       "\t<li>'Pos'</li>\n",
       "\t<li>'Name'</li>\n",
       "\t<li>'Cp'</li>\n",
       "</ol>\n"
      ],
      "text/latex": [
       "\\begin{enumerate*}\n",
       "\\item 'Pos'\n",
       "\\item 'Name'\n",
       "\\item 'Cp'\n",
       "\\end{enumerate*}\n"
      ],
      "text/markdown": [
       "1. 'Pos'\n",
       "2. 'Name'\n",
       "3. 'Cp'\n",
       "\n",
       "\n"
      ],
      "text/plain": [
       "[1] \"Pos\"  \"Name\" \"Cp\"  "
      ]
     },
     "execution_count": 16,
     "metadata": {},
     "output_type": "execute_result"
    },
    {
     "data": {
      "text/html": [
       "<table>\n",
       "<thead><tr><th></th><th scope=col>Pos</th><th scope=col>Name</th><th scope=col>Cp</th><th scope=col>Tm1</th><th scope=col>Tm2</th></tr></thead>\n",
       "<tbody>\n",
       "\t<tr><th scope=row>1</th><td>A1</td><td>AMK105</td><td>NA</td><td>NA</td><td>NA</td></tr>\n",
       "\t<tr><th scope=row>2</th><td>A2</td><td>AMK105</td><td>NA</td><td>NA</td><td>NA</td></tr>\n",
       "\t<tr><th scope=row>3</th><td>B1</td><td>AMK105</td><td>NA</td><td>NA</td><td>NA</td></tr>\n",
       "\t<tr><th scope=row>4</th><td>M1</td><td>AMK157</td><td>NA</td><td>NA</td><td>NA</td></tr>\n",
       "\t<tr><th scope=row>5</th><td>M2</td><td>AMK157</td><td>NA</td><td>NA</td><td>NA</td></tr>\n",
       "\t<tr><th scope=row>6</th><td>N1</td><td>AMK157</td><td>NA</td><td>NA</td><td>NA</td></tr>\n",
       "</tbody>\n",
       "</table>\n"
      ],
      "text/latex": [
       "\\begin{tabular}{r|lllll}\n",
       "  & Pos & Name & Cp & Tm1 & Tm2\\\\\n",
       "\\hline\n",
       "\t1 & A1 & AMK105 & NA & NA & NA\\\\\n",
       "\t2 & A2 & AMK105 & NA & NA & NA\\\\\n",
       "\t3 & B1 & AMK105 & NA & NA & NA\\\\\n",
       "\t4 & M1 & AMK157 & NA & NA & NA\\\\\n",
       "\t5 & M2 & AMK157 & NA & NA & NA\\\\\n",
       "\t6 & N1 & AMK157 & NA & NA & NA\\\\\n",
       "\\end{tabular}\n"
      ],
      "text/plain": [
       "   Pos   Name Cp Tm1 Tm2\n",
       "1:  A1 AMK105 NA  NA  NA\n",
       "2:  A2 AMK105 NA  NA  NA\n",
       "3:  B1 AMK105 NA  NA  NA\n",
       "4:  M1 AMK157 NA  NA  NA\n",
       "5:  M2 AMK157 NA  NA  NA\n",
       "6:  N1 AMK157 NA  NA  NA"
      ]
     },
     "execution_count": 16,
     "metadata": {},
     "output_type": "execute_result"
    }
   ],
   "source": [
    "GEP1_VRN1_resultsDT <- data.table(read.xlsx(filename,'GEP1_VRN1_results',startRow=2))\n",
    "names(GEP1_VRN1_resultsDT)[!grepl(\"^Tm\",names(GEP1_VRN1_resultsDT))]\n",
    "head(GEP1_VRN1_resultsDT)"
   ]
  },
  {
   "cell_type": "markdown",
   "metadata": {
    "collapsed": false
   },
   "source": [
    ">Note that there are Tm1, TM and Tm2 in these"
   ]
  },
  {
   "cell_type": "markdown",
   "metadata": {},
   "source": [
    "### Function to read a sheet and add info"
   ]
  },
  {
   "cell_type": "code",
   "execution_count": 17,
   "metadata": {
    "collapsed": true
   },
   "outputs": [],
   "source": [
    "# read sheet X and return a data.table\n",
    "read_qPCR <- function(X) {\n",
    "  require(openxlsx)\n",
    "  require(data.table)\n",
    "  require(dplyr)\n",
    "  wb_path <- filename\n",
    "  my_sheet_data <- strsplit(X,split='_')[[1]]\n",
    "  my_plate <- my_sheet_data[1]\n",
    "  my_gene <- my_sheet_data[2]\n",
    "  my_df <- data.table(read.xlsx(wb_path,X,startRow=2))\n",
    "  my_df$gene <- my_gene\n",
    "  my_df$plate <- my_plate\n",
    "  setnames(my_df,c('Pos','plate'),c('qPCR_well','Plate'))\n",
    "  my_df %<>% \n",
    "    inner_join(trans_dt,by='qPCR_well') %>% \n",
    "    select(-contains('Tm')) %>%\n",
    "    arrange(sample_well)\n",
    "  return(as.data.table(my_df))\n",
    "}"
   ]
  },
  {
   "cell_type": "markdown",
   "metadata": {},
   "source": [
    "### Test it"
   ]
  },
  {
   "cell_type": "code",
   "execution_count": 18,
   "metadata": {
    "collapsed": false
   },
   "outputs": [
    {
     "data": {
      "text/html": [
       "<table>\n",
       "<thead><tr><th></th><th scope=col>qPCR_well</th><th scope=col>Name</th><th scope=col>Cp</th><th scope=col>gene</th><th scope=col>Plate</th><th scope=col>sample_well</th></tr></thead>\n",
       "<tbody>\n",
       "\t<tr><th scope=row>1</th><td>A1</td><td>AMK105</td><td>NA</td><td>VRN1</td><td>GEP1</td><td>A1</td></tr>\n",
       "\t<tr><th scope=row>2</th><td>A2</td><td>AMK105</td><td>NA</td><td>VRN1</td><td>GEP1</td><td>A1</td></tr>\n",
       "\t<tr><th scope=row>3</th><td>B1</td><td>AMK105</td><td>NA</td><td>VRN1</td><td>GEP1</td><td>A1</td></tr>\n",
       "\t<tr><th scope=row>4</th><td>A19</td><td>SCN2</td><td>23.58</td><td>VRN1</td><td>GEP1</td><td>A10</td></tr>\n",
       "\t<tr><th scope=row>5</th><td>A20</td><td>SCN2</td><td>NA</td><td>VRN1</td><td>GEP1</td><td>A10</td></tr>\n",
       "\t<tr><th scope=row>6</th><td>B19</td><td>SCN2</td><td>23.75</td><td>VRN1</td><td>GEP1</td><td>A10</td></tr>\n",
       "</tbody>\n",
       "</table>\n"
      ],
      "text/latex": [
       "\\begin{tabular}{r|llllll}\n",
       "  & qPCR_well & Name & Cp & gene & Plate & sample_well\\\\\n",
       "\\hline\n",
       "\t1 & A1 & AMK105 & NA & VRN1 & GEP1 & A1\\\\\n",
       "\t2 & A2 & AMK105 & NA & VRN1 & GEP1 & A1\\\\\n",
       "\t3 & B1 & AMK105 & NA & VRN1 & GEP1 & A1\\\\\n",
       "\t4 & A19 & SCN2 & 23.58 & VRN1 & GEP1 & A10\\\\\n",
       "\t5 & A20 & SCN2 & NA & VRN1 & GEP1 & A10\\\\\n",
       "\t6 & B19 & SCN2 & 23.75 & VRN1 & GEP1 & A10\\\\\n",
       "\\end{tabular}\n"
      ],
      "text/plain": [
       "   qPCR_well   Name    Cp gene Plate sample_well\n",
       "1:        A1 AMK105    NA VRN1  GEP1          A1\n",
       "2:        A2 AMK105    NA VRN1  GEP1          A1\n",
       "3:        B1 AMK105    NA VRN1  GEP1          A1\n",
       "4:       A19   SCN2 23.58 VRN1  GEP1         A10\n",
       "5:       A20   SCN2    NA VRN1  GEP1         A10\n",
       "6:       B19   SCN2 23.75 VRN1  GEP1         A10"
      ]
     },
     "execution_count": 18,
     "metadata": {},
     "output_type": "execute_result"
    }
   ],
   "source": [
    "read_qPCR('GEP1_VRN1_results') %>% head"
   ]
  },
  {
   "cell_type": "markdown",
   "metadata": {},
   "source": [
    "### Use it"
   ]
  },
  {
   "cell_type": "code",
   "execution_count": 19,
   "metadata": {
    "collapsed": false
   },
   "outputs": [],
   "source": [
    "result_dt <- rbindlist(lapply(dataSheets,read_qPCR),fill = TRUE)\n",
    "setkey(result_dt,Plate,sample_well)"
   ]
  },
  {
   "cell_type": "code",
   "execution_count": 20,
   "metadata": {
    "collapsed": false
   },
   "outputs": [
    {
     "data": {
      "text/html": [
       "<ol class=list-inline>\n",
       "\t<li>10230</li>\n",
       "\t<li>6</li>\n",
       "</ol>\n"
      ],
      "text/latex": [
       "\\begin{enumerate*}\n",
       "\\item 10230\n",
       "\\item 6\n",
       "\\end{enumerate*}\n"
      ],
      "text/markdown": [
       "1. 10230\n",
       "2. 6\n",
       "\n",
       "\n"
      ],
      "text/plain": [
       "[1] 10230     6"
      ]
     },
     "execution_count": 20,
     "metadata": {},
     "output_type": "execute_result"
    },
    {
     "data": {
      "text/html": [
       "<table>\n",
       "<thead><tr><th></th><th scope=col>qPCR_well</th><th scope=col>Name</th><th scope=col>Cp</th><th scope=col>gene</th><th scope=col>Plate</th><th scope=col>sample_well</th></tr></thead>\n",
       "<tbody>\n",
       "\t<tr><th scope=row>1</th><td>A1</td><td>AMK105</td><td>NA</td><td>VRN1</td><td>GEP1</td><td>A1</td></tr>\n",
       "\t<tr><th scope=row>2</th><td>A2</td><td>AMK105</td><td>NA</td><td>VRN1</td><td>GEP1</td><td>A1</td></tr>\n",
       "\t<tr><th scope=row>3</th><td>B1</td><td>AMK105</td><td>NA</td><td>VRN1</td><td>GEP1</td><td>A1</td></tr>\n",
       "\t<tr><th scope=row>4</th><td>A1</td><td>AMK105</td><td>NA</td><td>VRN2</td><td>GEP1</td><td>A1</td></tr>\n",
       "\t<tr><th scope=row>5</th><td>A2</td><td>AMK105</td><td>31.47</td><td>VRN2</td><td>GEP1</td><td>A1</td></tr>\n",
       "\t<tr><th scope=row>6</th><td>B1</td><td>AMK105</td><td>30.73</td><td>VRN2</td><td>GEP1</td><td>A1</td></tr>\n",
       "</tbody>\n",
       "</table>\n"
      ],
      "text/latex": [
       "\\begin{tabular}{r|llllll}\n",
       "  & qPCR_well & Name & Cp & gene & Plate & sample_well\\\\\n",
       "\\hline\n",
       "\t1 & A1 & AMK105 & NA & VRN1 & GEP1 & A1\\\\\n",
       "\t2 & A2 & AMK105 & NA & VRN1 & GEP1 & A1\\\\\n",
       "\t3 & B1 & AMK105 & NA & VRN1 & GEP1 & A1\\\\\n",
       "\t4 & A1 & AMK105 & NA & VRN2 & GEP1 & A1\\\\\n",
       "\t5 & A2 & AMK105 & 31.47 & VRN2 & GEP1 & A1\\\\\n",
       "\t6 & B1 & AMK105 & 30.73 & VRN2 & GEP1 & A1\\\\\n",
       "\\end{tabular}\n"
      ],
      "text/plain": [
       "   qPCR_well   Name    Cp gene Plate sample_well\n",
       "1:        A1 AMK105    NA VRN1  GEP1          A1\n",
       "2:        A2 AMK105    NA VRN1  GEP1          A1\n",
       "3:        B1 AMK105    NA VRN1  GEP1          A1\n",
       "4:        A1 AMK105    NA VRN2  GEP1          A1\n",
       "5:        A2 AMK105 31.47 VRN2  GEP1          A1\n",
       "6:        B1 AMK105 30.73 VRN2  GEP1          A1"
      ]
     },
     "execution_count": 20,
     "metadata": {},
     "output_type": "execute_result"
    }
   ],
   "source": [
    "dim(result_dt)\n",
    "head(result_dt)"
   ]
  },
  {
   "cell_type": "code",
   "execution_count": 21,
   "metadata": {
    "collapsed": false
   },
   "outputs": [
    {
     "data": {
      "text/html": [
       "2"
      ],
      "text/latex": [
       "2"
      ],
      "text/markdown": [
       "2"
      ],
      "text/plain": [
       "[1] 2"
      ]
     },
     "execution_count": 21,
     "metadata": {},
     "output_type": "execute_result"
    }
   ],
   "source": [
    "anyDuplicated(result_dt)"
   ]
  },
  {
   "cell_type": "markdown",
   "metadata": {},
   "source": [
    "## Now Match on to the Sample Wells"
   ]
  },
  {
   "cell_type": "code",
   "execution_count": 74,
   "metadata": {
    "collapsed": false
   },
   "outputs": [
    {
     "data": {
      "text/html": [
       "<table>\n",
       "<thead><tr><th></th><th scope=col>Plate</th><th scope=col>sample_well</th><th scope=col>qPCR_well</th><th scope=col>Name</th><th scope=col>Cp</th><th scope=col>gene</th><th scope=col>Col</th><th scope=col>Row</th><th scope=col>Experiment</th><th scope=col>Plot.ID.Old</th><th scope=col>Plot.IDNew</th><th scope=col>SampleDate</th><th scope=col>Vern</th><th scope=col>Cult</th><th scope=col>Pp</th></tr></thead>\n",
       "<tbody>\n",
       "\t<tr><th scope=row>1</th><td>GEP1</td><td>A1</td><td>A1</td><td>AMK105</td><td>NA</td><td>VRN1</td><td>1</td><td>A</td><td>3</td><td>105</td><td>300105</td><td>2014-02-04</td><td>None</td><td>Amarok</td><td>16</td></tr>\n",
       "\t<tr><th scope=row>2</th><td>GEP1</td><td>A1</td><td>A2</td><td>AMK105</td><td>NA</td><td>VRN1</td><td>1</td><td>A</td><td>3</td><td>105</td><td>300105</td><td>2014-02-04</td><td>None</td><td>Amarok</td><td>16</td></tr>\n",
       "\t<tr><th scope=row>3</th><td>GEP1</td><td>A1</td><td>B1</td><td>AMK105</td><td>NA</td><td>VRN1</td><td>1</td><td>A</td><td>3</td><td>105</td><td>300105</td><td>2014-02-04</td><td>None</td><td>Amarok</td><td>16</td></tr>\n",
       "\t<tr><th scope=row>4</th><td>GEP1</td><td>A1</td><td>A1</td><td>AMK105</td><td>NA</td><td>VRN2</td><td>1</td><td>A</td><td>3</td><td>105</td><td>300105</td><td>2014-02-04</td><td>None</td><td>Amarok</td><td>16</td></tr>\n",
       "\t<tr><th scope=row>5</th><td>GEP1</td><td>A1</td><td>A2</td><td>AMK105</td><td>31.47</td><td>VRN2</td><td>1</td><td>A</td><td>3</td><td>105</td><td>300105</td><td>2014-02-04</td><td>None</td><td>Amarok</td><td>16</td></tr>\n",
       "\t<tr><th scope=row>6</th><td>GEP1</td><td>A1</td><td>B1</td><td>AMK105</td><td>30.73</td><td>VRN2</td><td>1</td><td>A</td><td>3</td><td>105</td><td>300105</td><td>2014-02-04</td><td>None</td><td>Amarok</td><td>16</td></tr>\n",
       "</tbody>\n",
       "</table>\n"
      ],
      "text/latex": [
       "\\begin{tabular}{r|lllllllllllllll}\n",
       "  & Plate & sample_well & qPCR_well & Name & Cp & gene & Col & Row & Experiment & Plot.ID.Old & Plot.IDNew & SampleDate & Vern & Cult & Pp\\\\\n",
       "\\hline\n",
       "\t1 & GEP1 & A1 & A1 & AMK105 & NA & VRN1 & 1 & A & 3 & 105 & 300105 & 2014-02-04 & None & Amarok & 16\\\\\n",
       "\t2 & GEP1 & A1 & A2 & AMK105 & NA & VRN1 & 1 & A & 3 & 105 & 300105 & 2014-02-04 & None & Amarok & 16\\\\\n",
       "\t3 & GEP1 & A1 & B1 & AMK105 & NA & VRN1 & 1 & A & 3 & 105 & 300105 & 2014-02-04 & None & Amarok & 16\\\\\n",
       "\t4 & GEP1 & A1 & A1 & AMK105 & NA & VRN2 & 1 & A & 3 & 105 & 300105 & 2014-02-04 & None & Amarok & 16\\\\\n",
       "\t5 & GEP1 & A1 & A2 & AMK105 & 31.47 & VRN2 & 1 & A & 3 & 105 & 300105 & 2014-02-04 & None & Amarok & 16\\\\\n",
       "\t6 & GEP1 & A1 & B1 & AMK105 & 30.73 & VRN2 & 1 & A & 3 & 105 & 300105 & 2014-02-04 & None & Amarok & 16\\\\\n",
       "\\end{tabular}\n"
      ],
      "text/plain": [
       "   Plate sample_well qPCR_well   Name    Cp gene Col Row Experiment Plot.ID.Old\n",
       "1:  GEP1          A1        A1 AMK105    NA VRN1   1   A          3         105\n",
       "2:  GEP1          A1        A2 AMK105    NA VRN1   1   A          3         105\n",
       "3:  GEP1          A1        B1 AMK105    NA VRN1   1   A          3         105\n",
       "4:  GEP1          A1        A1 AMK105    NA VRN2   1   A          3         105\n",
       "5:  GEP1          A1        A2 AMK105 31.47 VRN2   1   A          3         105\n",
       "6:  GEP1          A1        B1 AMK105 30.73 VRN2   1   A          3         105\n",
       "   Plot.IDNew SampleDate Vern   Cult Pp\n",
       "1:     300105 2014-02-04 None Amarok 16\n",
       "2:     300105 2014-02-04 None Amarok 16\n",
       "3:     300105 2014-02-04 None Amarok 16\n",
       "4:     300105 2014-02-04 None Amarok 16\n",
       "5:     300105 2014-02-04 None Amarok 16\n",
       "6:     300105 2014-02-04 None Amarok 16"
      ]
     },
     "execution_count": 74,
     "metadata": {},
     "output_type": "execute_result"
    }
   ],
   "source": [
    "merged <- merge(result_dt,sample_sheetdt,all.x = TRUE)\n",
    "head(merged)"
   ]
  },
  {
   "cell_type": "code",
   "execution_count": 75,
   "metadata": {
    "collapsed": false
   },
   "outputs": [
    {
     "data": {
      "text/html": [
       "<table>\n",
       "<thead><tr><th></th><th scope=col>Name</th><th scope=col>Plate</th><th scope=col>sample_well</th><th scope=col>SampleDate</th><th scope=col>reason</th><th scope=col>exclude.all</th><th scope=col>exclude.VRN1</th><th scope=col>exclude.VRN2</th><th scope=col>exclude.Vrn3</th><th scope=col>exclude.EGF1a</th><th scope=col>exclude.Ta54227</th></tr></thead>\n",
       "<tbody>\n",
       "\t<tr><th scope=row>1</th><td>AMK114</td><td>GEP5</td><td>A7</td><td>2014-06-03</td><td>repeated</td><td>Y</td><td>NA</td><td>NA</td><td>NA</td><td>NA</td><td>NA</td></tr>\n",
       "\t<tr><th scope=row>2</th><td>AMK1154</td><td>GEP7</td><td>C8</td><td>2014-09-23</td><td>repeated</td><td>Y</td><td>NA</td><td>NA</td><td>NA</td><td>NA</td><td>NA</td></tr>\n",
       "\t<tr><th scope=row>3</th><td>AMK1155</td><td>GEP7</td><td>B8</td><td>2014-09-23</td><td>repeated</td><td>N</td><td>N</td><td>Y</td><td>N</td><td>N</td><td>N</td></tr>\n",
       "\t<tr><th scope=row>4</th><td>AMK1156</td><td>GEP9</td><td>A9</td><td>2014-11-04</td><td>repeated</td><td>Y</td><td>NA</td><td>NA</td><td>NA</td><td>NA</td><td>NA</td></tr>\n",
       "\t<tr><th scope=row>5</th><td>AMK122</td><td>GEP5</td><td>H5</td><td>2014-05-28</td><td>sample mixup??</td><td>Y</td><td>NA</td><td>NA</td><td>NA</td><td>NA</td><td>NA</td></tr>\n",
       "\t<tr><th scope=row>6</th><td>AMK126</td><td>GEP2</td><td>D5</td><td>2014-04-01</td><td>repeated</td><td>Y</td><td>NA</td><td>NA</td><td>NA</td><td>NA</td><td>NA</td></tr>\n",
       "</tbody>\n",
       "</table>\n"
      ],
      "text/latex": [
       "\\begin{tabular}{r|lllllllllll}\n",
       "  & Name & Plate & sample_well & SampleDate & reason & exclude.all & exclude.VRN1 & exclude.VRN2 & exclude.Vrn3 & exclude.EGF1a & exclude.Ta54227\\\\\n",
       "\\hline\n",
       "\t1 & AMK114 & GEP5 & A7 & 2014-06-03 & repeated & Y & NA & NA & NA & NA & NA\\\\\n",
       "\t2 & AMK1154 & GEP7 & C8 & 2014-09-23 & repeated & Y & NA & NA & NA & NA & NA\\\\\n",
       "\t3 & AMK1155 & GEP7 & B8 & 2014-09-23 & repeated & N & N & Y & N & N & N\\\\\n",
       "\t4 & AMK1156 & GEP9 & A9 & 2014-11-04 & repeated & Y & NA & NA & NA & NA & NA\\\\\n",
       "\t5 & AMK122 & GEP5 & H5 & 2014-05-28 & sample mixup?? & Y & NA & NA & NA & NA & NA\\\\\n",
       "\t6 & AMK126 & GEP2 & D5 & 2014-04-01 & repeated & Y & NA & NA & NA & NA & NA\\\\\n",
       "\\end{tabular}\n"
      ],
      "text/plain": [
       "      Name Plate sample_well SampleDate         reason exclude.all exclude.VRN1\n",
       "1:  AMK114  GEP5          A7 2014-06-03       repeated           Y           NA\n",
       "2: AMK1154  GEP7          C8 2014-09-23       repeated           Y           NA\n",
       "3: AMK1155  GEP7          B8 2014-09-23       repeated           N            N\n",
       "4: AMK1156  GEP9          A9 2014-11-04       repeated           Y           NA\n",
       "5:  AMK122  GEP5          H5 2014-05-28 sample mixup??           Y           NA\n",
       "6:  AMK126  GEP2          D5 2014-04-01       repeated           Y           NA\n",
       "   exclude.VRN2 exclude.Vrn3 exclude.EGF1a exclude.Ta54227\n",
       "1:           NA           NA            NA              NA\n",
       "2:           NA           NA            NA              NA\n",
       "3:            Y            N             N               N\n",
       "4:           NA           NA            NA              NA\n",
       "5:           NA           NA            NA              NA\n",
       "6:           NA           NA            NA              NA"
      ]
     },
     "execution_count": 75,
     "metadata": {},
     "output_type": "execute_result"
    }
   ],
   "source": [
    "unique(exclude_dt) %>% head"
   ]
  },
  {
   "cell_type": "markdown",
   "metadata": {},
   "source": [
    "## Match to exclusion data"
   ]
  },
  {
   "cell_type": "code",
   "execution_count": 77,
   "metadata": {
    "collapsed": false
   },
   "outputs": [
    {
     "data": {
      "text/html": [
       "<ol class=list-inline>\n",
       "\t<li>10230</li>\n",
       "\t<li>22</li>\n",
       "</ol>\n"
      ],
      "text/latex": [
       "\\begin{enumerate*}\n",
       "\\item 10230\n",
       "\\item 22\n",
       "\\end{enumerate*}\n"
      ],
      "text/markdown": [
       "1. 10230\n",
       "2. 22\n",
       "\n",
       "\n"
      ],
      "text/plain": [
       "[1] 10230    22"
      ]
     },
     "execution_count": 77,
     "metadata": {},
     "output_type": "execute_result"
    }
   ],
   "source": [
    "merged <- merge(merged,unique(exclude_dt),all.x=TRUE,by = c('Name','Plate','sample_well','SampleDate'))\n",
    "dim(merged)"
   ]
  },
  {
   "cell_type": "code",
   "execution_count": 78,
   "metadata": {
    "collapsed": false
   },
   "outputs": [
    {
     "data": {
      "text/html": [
       "<table>\n",
       "<thead><tr><th></th><th scope=col>Name</th><th scope=col>Plate</th><th scope=col>sample_well</th><th scope=col>SampleDate</th><th scope=col>qPCR_well</th><th scope=col>Cp</th><th scope=col>gene</th><th scope=col>Col</th><th scope=col>Row</th><th scope=col>Experiment</th><th scope=col>Plot.ID.Old</th><th scope=col>Plot.IDNew</th><th scope=col>Vern</th><th scope=col>Cult</th><th scope=col>Pp</th><th scope=col>reason</th><th scope=col>exclude.all</th><th scope=col>exclude.VRN1</th><th scope=col>exclude.VRN2</th><th scope=col>exclude.Vrn3</th><th scope=col>exclude.EGF1a</th><th scope=col>exclude.Ta54227</th></tr></thead>\n",
       "<tbody>\n",
       "\t<tr><th scope=row>1</th><td>AMK105</td><td>GEP1</td><td>A1</td><td>2014-02-04</td><td>A1</td><td>NA</td><td>VRN1</td><td>1</td><td>A</td><td>3</td><td>105</td><td>300105</td><td>None</td><td>Amarok</td><td>16</td><td>NA</td><td>NA</td><td>NA</td><td>NA</td><td>NA</td><td>NA</td><td>NA</td></tr>\n",
       "\t<tr><th scope=row>2</th><td>AMK105</td><td>GEP1</td><td>A1</td><td>2014-02-04</td><td>A2</td><td>NA</td><td>VRN1</td><td>1</td><td>A</td><td>3</td><td>105</td><td>300105</td><td>None</td><td>Amarok</td><td>16</td><td>NA</td><td>NA</td><td>NA</td><td>NA</td><td>NA</td><td>NA</td><td>NA</td></tr>\n",
       "\t<tr><th scope=row>3</th><td>AMK105</td><td>GEP1</td><td>A1</td><td>2014-02-04</td><td>B1</td><td>NA</td><td>VRN1</td><td>1</td><td>A</td><td>3</td><td>105</td><td>300105</td><td>None</td><td>Amarok</td><td>16</td><td>NA</td><td>NA</td><td>NA</td><td>NA</td><td>NA</td><td>NA</td><td>NA</td></tr>\n",
       "\t<tr><th scope=row>4</th><td>AMK105</td><td>GEP1</td><td>A1</td><td>2014-02-04</td><td>A1</td><td>NA</td><td>VRN2</td><td>1</td><td>A</td><td>3</td><td>105</td><td>300105</td><td>None</td><td>Amarok</td><td>16</td><td>NA</td><td>NA</td><td>NA</td><td>NA</td><td>NA</td><td>NA</td><td>NA</td></tr>\n",
       "\t<tr><th scope=row>5</th><td>AMK105</td><td>GEP1</td><td>A1</td><td>2014-02-04</td><td>A2</td><td>31.47</td><td>VRN2</td><td>1</td><td>A</td><td>3</td><td>105</td><td>300105</td><td>None</td><td>Amarok</td><td>16</td><td>NA</td><td>NA</td><td>NA</td><td>NA</td><td>NA</td><td>NA</td><td>NA</td></tr>\n",
       "\t<tr><th scope=row>6</th><td>AMK105</td><td>GEP1</td><td>A1</td><td>2014-02-04</td><td>B1</td><td>30.73</td><td>VRN2</td><td>1</td><td>A</td><td>3</td><td>105</td><td>300105</td><td>None</td><td>Amarok</td><td>16</td><td>NA</td><td>NA</td><td>NA</td><td>NA</td><td>NA</td><td>NA</td><td>NA</td></tr>\n",
       "</tbody>\n",
       "</table>\n"
      ],
      "text/latex": [
       "\\begin{tabular}{r|llllllllllllllllllllll}\n",
       "  & Name & Plate & sample_well & SampleDate & qPCR_well & Cp & gene & Col & Row & Experiment & Plot.ID.Old & Plot.IDNew & Vern & Cult & Pp & reason & exclude.all & exclude.VRN1 & exclude.VRN2 & exclude.Vrn3 & exclude.EGF1a & exclude.Ta54227\\\\\n",
       "\\hline\n",
       "\t1 & AMK105 & GEP1 & A1 & 2014-02-04 & A1 & NA & VRN1 & 1 & A & 3 & 105 & 300105 & None & Amarok & 16 & NA & NA & NA & NA & NA & NA & NA\\\\\n",
       "\t2 & AMK105 & GEP1 & A1 & 2014-02-04 & A2 & NA & VRN1 & 1 & A & 3 & 105 & 300105 & None & Amarok & 16 & NA & NA & NA & NA & NA & NA & NA\\\\\n",
       "\t3 & AMK105 & GEP1 & A1 & 2014-02-04 & B1 & NA & VRN1 & 1 & A & 3 & 105 & 300105 & None & Amarok & 16 & NA & NA & NA & NA & NA & NA & NA\\\\\n",
       "\t4 & AMK105 & GEP1 & A1 & 2014-02-04 & A1 & NA & VRN2 & 1 & A & 3 & 105 & 300105 & None & Amarok & 16 & NA & NA & NA & NA & NA & NA & NA\\\\\n",
       "\t5 & AMK105 & GEP1 & A1 & 2014-02-04 & A2 & 31.47 & VRN2 & 1 & A & 3 & 105 & 300105 & None & Amarok & 16 & NA & NA & NA & NA & NA & NA & NA\\\\\n",
       "\t6 & AMK105 & GEP1 & A1 & 2014-02-04 & B1 & 30.73 & VRN2 & 1 & A & 3 & 105 & 300105 & None & Amarok & 16 & NA & NA & NA & NA & NA & NA & NA\\\\\n",
       "\\end{tabular}\n"
      ],
      "text/plain": [
       "     Name Plate sample_well SampleDate qPCR_well    Cp gene Col Row Experiment\n",
       "1: AMK105  GEP1          A1 2014-02-04        A1    NA VRN1   1   A          3\n",
       "2: AMK105  GEP1          A1 2014-02-04        A2    NA VRN1   1   A          3\n",
       "3: AMK105  GEP1          A1 2014-02-04        B1    NA VRN1   1   A          3\n",
       "4: AMK105  GEP1          A1 2014-02-04        A1    NA VRN2   1   A          3\n",
       "5: AMK105  GEP1          A1 2014-02-04        A2 31.47 VRN2   1   A          3\n",
       "6: AMK105  GEP1          A1 2014-02-04        B1 30.73 VRN2   1   A          3\n",
       "   Plot.ID.Old Plot.IDNew Vern   Cult Pp reason exclude.all exclude.VRN1\n",
       "1:         105     300105 None Amarok 16     NA          NA           NA\n",
       "2:         105     300105 None Amarok 16     NA          NA           NA\n",
       "3:         105     300105 None Amarok 16     NA          NA           NA\n",
       "4:         105     300105 None Amarok 16     NA          NA           NA\n",
       "5:         105     300105 None Amarok 16     NA          NA           NA\n",
       "6:         105     300105 None Amarok 16     NA          NA           NA\n",
       "   exclude.VRN2 exclude.Vrn3 exclude.EGF1a exclude.Ta54227\n",
       "1:           NA           NA            NA              NA\n",
       "2:           NA           NA            NA              NA\n",
       "3:           NA           NA            NA              NA\n",
       "4:           NA           NA            NA              NA\n",
       "5:           NA           NA            NA              NA\n",
       "6:           NA           NA            NA              NA"
      ]
     },
     "execution_count": 78,
     "metadata": {},
     "output_type": "execute_result"
    }
   ],
   "source": [
    "head(merged[is.na(exclude.all)])"
   ]
  },
  {
   "cell_type": "code",
   "execution_count": 79,
   "metadata": {
    "collapsed": false
   },
   "outputs": [
    {
     "data": {
      "text/html": [
       "<ol class=list-inline>\n",
       "\t<li>1545</li>\n",
       "\t<li>22</li>\n",
       "</ol>\n"
      ],
      "text/latex": [
       "\\begin{enumerate*}\n",
       "\\item 1545\n",
       "\\item 22\n",
       "\\end{enumerate*}\n"
      ],
      "text/markdown": [
       "1. 1545\n",
       "2. 22\n",
       "\n",
       "\n"
      ],
      "text/plain": [
       "[1] 1545   22"
      ]
     },
     "execution_count": 79,
     "metadata": {},
     "output_type": "execute_result"
    }
   ],
   "source": [
    "merged %>% \n",
    "    filter(!is.na(exclude.all)) %>% dim"
   ]
  },
  {
   "cell_type": "markdown",
   "metadata": {},
   "source": [
    "## Plot Raw Data to Check"
   ]
  },
  {
   "cell_type": "code",
   "execution_count": 80,
   "metadata": {
    "collapsed": false
   },
   "outputs": [
    {
     "name": "stderr",
     "output_type": "stream",
     "text": [
      "Warning message:\n",
      ": Removed 2108 rows containing non-finite values (stat_density)."
     ]
    },
    {
     "data": {
      "image/png": "[encoded data removed]",
      "image/svg+xml": [
       "<?xml version=\"1.0\" encoding=\"UTF-8\"?>\n",
       "<svg xmlns=\"http://www.w3.org/2000/svg\" xmlns:xlink=\"http://www.w3.org/1999/xlink\" width=\"504pt\" height=\"504pt\" viewBox=\"0 0 504 504\" version=\"1.1\">\n",
       "<defs>\n",
       "<g>\n",
       "<symbol overflow=\"visible\" id=\"glyph0-0\">\n",
       "<path style=\"stroke:none;\" d=\"\"/>\n",
       "</symbol>\n",
       "<symbol overflow=\"visible\" id=\"glyph0-1\">\n",
       "<path style=\"stroke:none;\" d=\"M 3.4375 -3.28125 C 4.078125 -3.671875 4.296875 -3.984375 4.296875 -4.578125 C 4.296875 -5.546875 3.53125 -6.234375 2.421875 -6.234375 C 1.3125 -6.234375 0.546875 -5.546875 0.546875 -4.578125 C 0.546875 -4 0.75 -3.671875 1.390625 -3.28125 C 0.671875 -2.9375 0.328125 -2.421875 0.328125 -1.734375 C 0.328125 -0.59375 1.1875 0.203125 2.421875 0.203125 C 3.65625 0.203125 4.515625 -0.59375 4.515625 -1.71875 C 4.515625 -2.421875 4.15625 -2.9375 3.4375 -3.28125 Z M 2.421875 -5.546875 C 3.078125 -5.546875 3.5 -5.15625 3.5 -4.5625 C 3.5 -3.96875 3.0625 -3.59375 2.421875 -3.59375 C 1.765625 -3.59375 1.34375 -3.96875 1.34375 -4.5625 C 1.34375 -5.15625 1.765625 -5.546875 2.421875 -5.546875 Z M 2.421875 -2.9375 C 3.1875 -2.9375 3.71875 -2.453125 3.71875 -1.71875 C 3.71875 -0.96875 3.1875 -0.484375 2.40625 -0.484375 C 1.640625 -0.484375 1.125 -0.984375 1.125 -1.71875 C 1.125 -2.453125 1.640625 -2.9375 2.421875 -2.9375 Z \"/>\n",
       "</symbol>\n",
       "<symbol overflow=\"visible\" id=\"glyph0-2\">\n",
       "<path style=\"stroke:none;\" d=\"M 2.28125 -4.4375 L 2.28125 0 L 3.046875 0 L 3.046875 -6.234375 L 2.546875 -6.234375 C 2.265625 -5.28125 2.09375 -5.140625 0.890625 -5 L 0.890625 -4.4375 Z \"/>\n",
       "</symbol>\n",
       "<symbol overflow=\"visible\" id=\"glyph0-3\">\n",
       "<path style=\"stroke:none;\" d=\"M 4.375 -4.609375 C 4.234375 -5.625 3.5625 -6.234375 2.609375 -6.234375 C 1.921875 -6.234375 1.3125 -5.90625 0.9375 -5.34375 C 0.546875 -4.734375 0.375 -3.96875 0.375 -2.84375 C 0.375 -1.796875 0.53125 -1.125 0.90625 -0.578125 C 1.234375 -0.078125 1.78125 0.203125 2.46875 0.203125 C 3.65625 0.203125 4.515625 -0.671875 4.515625 -1.90625 C 4.515625 -3.0625 3.71875 -3.875 2.609375 -3.875 C 1.984375 -3.875 1.5 -3.640625 1.171875 -3.1875 C 1.171875 -4.703125 1.671875 -5.546875 2.5625 -5.546875 C 3.109375 -5.546875 3.484375 -5.203125 3.609375 -4.609375 Z M 2.5 -3.1875 C 3.25 -3.1875 3.71875 -2.671875 3.71875 -1.84375 C 3.71875 -1.0625 3.1875 -0.484375 2.484375 -0.484375 C 1.765625 -0.484375 1.21875 -1.078125 1.21875 -1.875 C 1.21875 -2.65625 1.734375 -3.1875 2.5 -3.1875 Z \"/>\n",
       "</symbol>\n",
       "<symbol overflow=\"visible\" id=\"glyph0-4\">\n",
       "<path style=\"stroke:none;\" d=\"M 2.421875 -6.234375 C 1.84375 -6.234375 1.3125 -5.984375 0.984375 -5.546875 C 0.578125 -5 0.375 -4.171875 0.375 -3.015625 C 0.375 -0.921875 1.078125 0.203125 2.421875 0.203125 C 3.734375 0.203125 4.453125 -0.921875 4.453125 -2.96875 C 4.453125 -4.171875 4.265625 -4.984375 3.859375 -5.546875 C 3.53125 -5.984375 3.015625 -6.234375 2.421875 -6.234375 Z M 2.421875 -5.546875 C 3.25 -5.546875 3.671875 -4.703125 3.671875 -3.03125 C 3.671875 -1.265625 3.265625 -0.4375 2.40625 -0.4375 C 1.578125 -0.4375 1.171875 -1.296875 1.171875 -3.015625 C 1.171875 -4.71875 1.578125 -5.546875 2.421875 -5.546875 Z \"/>\n",
       "</symbol>\n",
       "<symbol overflow=\"visible\" id=\"glyph0-5\">\n",
       "<path style=\"stroke:none;\" d=\"M 1.6875 -0.921875 L 0.765625 -0.921875 L 0.765625 0 L 1.6875 0 Z \"/>\n",
       "</symbol>\n",
       "<symbol overflow=\"visible\" id=\"glyph0-6\">\n",
       "<path style=\"stroke:none;\" d=\"M 4.453125 -0.765625 L 1.171875 -0.765625 C 1.25 -1.28125 1.53125 -1.59375 2.296875 -2.046875 L 3.171875 -2.53125 C 4.046875 -3 4.5 -3.640625 4.5 -4.40625 C 4.5 -4.921875 4.28125 -5.40625 3.921875 -5.75 C 3.546875 -6.078125 3.09375 -6.234375 2.5 -6.234375 C 1.703125 -6.234375 1.125 -5.953125 0.78125 -5.421875 C 0.546875 -5.09375 0.453125 -4.703125 0.4375 -4.078125 L 1.21875 -4.078125 C 1.234375 -4.5 1.296875 -4.75 1.40625 -4.953125 C 1.59375 -5.328125 2 -5.5625 2.46875 -5.5625 C 3.171875 -5.5625 3.703125 -5.0625 3.703125 -4.390625 C 3.703125 -3.890625 3.40625 -3.46875 2.859375 -3.15625 L 2.046875 -2.703125 C 0.75 -1.96875 0.375 -1.375 0.296875 0 L 4.453125 0 Z \"/>\n",
       "</symbol>\n",
       "<symbol overflow=\"visible\" id=\"glyph0-7\">\n",
       "<path style=\"stroke:none;\" d=\"M 1.9375 -2.859375 L 2.046875 -2.859375 L 2.359375 -2.875 C 3.21875 -2.875 3.65625 -2.484375 3.65625 -1.734375 C 3.65625 -0.953125 3.171875 -0.484375 2.359375 -0.484375 C 1.515625 -0.484375 1.109375 -0.90625 1.0625 -1.8125 L 0.28125 -1.8125 C 0.3125 -1.3125 0.40625 -0.984375 0.546875 -0.703125 C 0.875 -0.109375 1.484375 0.203125 2.34375 0.203125 C 3.625 0.203125 4.453125 -0.5625 4.453125 -1.734375 C 4.453125 -2.53125 4.140625 -2.96875 3.390625 -3.234375 C 3.96875 -3.453125 4.265625 -3.890625 4.265625 -4.515625 C 4.265625 -5.59375 3.546875 -6.234375 2.359375 -6.234375 C 1.109375 -6.234375 0.4375 -5.546875 0.40625 -4.21875 L 1.1875 -4.21875 C 1.203125 -4.59375 1.234375 -4.8125 1.328125 -5 C 1.5 -5.34375 1.890625 -5.5625 2.375 -5.5625 C 3.0625 -5.5625 3.46875 -5.15625 3.46875 -4.5 C 3.46875 -4.0625 3.3125 -3.796875 2.96875 -3.65625 C 2.765625 -3.5625 2.484375 -3.53125 1.9375 -3.515625 Z \"/>\n",
       "</symbol>\n",
       "<symbol overflow=\"visible\" id=\"glyph0-8\">\n",
       "<path style=\"stroke:none;\" d=\"M 2.875 -1.5 L 2.875 0 L 3.65625 0 L 3.65625 -1.5 L 4.578125 -1.5 L 4.578125 -2.1875 L 3.65625 -2.1875 L 3.65625 -6.234375 L 3.078125 -6.234375 L 0.25 -2.3125 L 0.25 -1.5 Z M 2.875 -2.1875 L 0.921875 -2.1875 L 2.875 -4.921875 Z \"/>\n",
       "</symbol>\n",
       "<symbol overflow=\"visible\" id=\"glyph0-9\">\n",
       "<path style=\"stroke:none;\" d=\"M 3.453125 0 L 5.671875 -6.40625 L 4.796875 -6.40625 L 3.03125 -0.984375 L 1.140625 -6.40625 L 0.265625 -6.40625 L 2.5625 0 Z \"/>\n",
       "</symbol>\n",
       "<symbol overflow=\"visible\" id=\"glyph0-10\">\n",
       "<path style=\"stroke:none;\" d=\"M 1.640625 -2.765625 L 3.75 -2.765625 C 4.484375 -2.765625 4.796875 -2.40625 4.796875 -1.625 L 4.796875 -1.046875 C 4.796875 -0.65625 4.859375 -0.265625 4.984375 0 L 5.96875 0 L 5.96875 -0.203125 C 5.671875 -0.40625 5.609375 -0.640625 5.59375 -1.5 C 5.578125 -2.546875 5.40625 -2.875 4.71875 -3.171875 C 5.4375 -3.515625 5.734375 -3.96875 5.734375 -4.703125 C 5.734375 -5.8125 5.03125 -6.40625 3.78125 -6.40625 L 0.8125 -6.40625 L 0.8125 0 L 1.640625 0 Z M 1.640625 -3.484375 L 1.640625 -5.6875 L 3.609375 -5.6875 C 4.078125 -5.6875 4.34375 -5.625 4.546875 -5.4375 C 4.765625 -5.265625 4.875 -4.96875 4.875 -4.578125 C 4.875 -3.828125 4.484375 -3.484375 3.609375 -3.484375 Z \"/>\n",
       "</symbol>\n",
       "<symbol overflow=\"visible\" id=\"glyph0-11\">\n",
       "<path style=\"stroke:none;\" d=\"M 5.6875 -6.40625 L 4.90625 -6.40625 L 4.90625 -1.171875 L 1.5625 -6.40625 L 0.671875 -6.40625 L 0.671875 0 L 1.4375 0 L 1.4375 -5.203125 L 4.765625 0 L 5.6875 0 Z \"/>\n",
       "</symbol>\n",
       "<symbol overflow=\"visible\" id=\"glyph0-12\">\n",
       "<path style=\"stroke:none;\" d=\"M 1.609375 -2.921875 L 4.671875 -2.921875 L 4.671875 -3.640625 L 1.609375 -3.640625 L 1.609375 -5.6875 L 5.09375 -5.6875 L 5.09375 -6.40625 L 0.796875 -6.40625 L 0.796875 0 L 1.609375 0 Z \"/>\n",
       "</symbol>\n",
       "<symbol overflow=\"visible\" id=\"glyph0-13\">\n",
       "<path style=\"stroke:none;\" d=\"M 4.234375 0 L 4.234375 -4.609375 L 3.515625 -4.609375 L 3.515625 -2 C 3.515625 -1.0625 3.015625 -0.4375 2.25 -0.4375 C 1.671875 -0.4375 1.296875 -0.796875 1.296875 -1.34375 L 1.296875 -4.609375 L 0.578125 -4.609375 L 0.578125 -1.0625 C 0.578125 -0.296875 1.140625 0.203125 2.046875 0.203125 C 2.71875 0.203125 3.15625 -0.03125 3.578125 -0.640625 L 3.578125 0 Z \"/>\n",
       "</symbol>\n",
       "<symbol overflow=\"visible\" id=\"glyph0-14\">\n",
       "<path style=\"stroke:none;\" d=\"M 1.34375 -6.40625 L 0.59375 -6.40625 L 0.59375 0 L 1.34375 0 Z \"/>\n",
       "</symbol>\n",
       "<symbol overflow=\"visible\" id=\"glyph0-15\">\n",
       "<path style=\"stroke:none;\" d=\"M 2.390625 -4.734375 C 1.09375 -4.734375 0.3125 -3.8125 0.3125 -2.265625 C 0.3125 -0.71875 1.09375 0.203125 2.40625 0.203125 C 3.6875 0.203125 4.484375 -0.71875 4.484375 -2.234375 C 4.484375 -3.828125 3.71875 -4.734375 2.390625 -4.734375 Z M 2.40625 -4.0625 C 3.234375 -4.0625 3.71875 -3.390625 3.71875 -2.25 C 3.71875 -1.15625 3.203125 -0.46875 2.40625 -0.46875 C 1.578125 -0.46875 1.078125 -1.15625 1.078125 -2.265625 C 1.078125 -3.375 1.578125 -4.0625 2.40625 -4.0625 Z \"/>\n",
       "</symbol>\n",
       "<symbol overflow=\"visible\" id=\"glyph0-16\">\n",
       "<path style=\"stroke:none;\" d=\"M 0.609375 -4.609375 L 0.609375 0 L 1.359375 0 L 1.359375 -2.546875 C 1.359375 -3.484375 1.84375 -4.09375 2.609375 -4.09375 C 3.1875 -4.09375 3.546875 -3.75 3.546875 -3.1875 L 3.546875 0 L 4.28125 0 L 4.28125 -3.484375 C 4.28125 -4.25 3.71875 -4.734375 2.828125 -4.734375 C 2.140625 -4.734375 1.703125 -4.484375 1.296875 -3.828125 L 1.296875 -4.609375 Z \"/>\n",
       "</symbol>\n",
       "<symbol overflow=\"visible\" id=\"glyph0-17\">\n",
       "<path style=\"stroke:none;\" d=\"M 4.515625 -2.0625 C 4.515625 -2.765625 4.453125 -3.1875 4.328125 -3.53125 C 4.03125 -4.28125 3.328125 -4.734375 2.46875 -4.734375 C 1.171875 -4.734375 0.359375 -3.75 0.359375 -2.25 C 0.359375 -0.734375 1.15625 0.203125 2.453125 0.203125 C 3.5 0.203125 4.234375 -0.390625 4.421875 -1.40625 L 3.671875 -1.40625 C 3.46875 -0.796875 3.0625 -0.46875 2.46875 -0.46875 C 2 -0.46875 1.609375 -0.6875 1.359375 -1.078125 C 1.1875 -1.34375 1.125 -1.59375 1.125 -2.0625 Z M 1.140625 -2.65625 C 1.203125 -3.515625 1.71875 -4.0625 2.453125 -4.0625 C 3.171875 -4.0625 3.734375 -3.46875 3.734375 -2.703125 C 3.734375 -2.6875 3.734375 -2.671875 3.71875 -2.65625 Z \"/>\n",
       "</symbol>\n",
       "<symbol overflow=\"visible\" id=\"glyph1-0\">\n",
       "<path style=\"stroke:none;\" d=\"\"/>\n",
       "</symbol>\n",
       "<symbol overflow=\"visible\" id=\"glyph1-1\">\n",
       "<path style=\"stroke:none;\" d=\"M 7.28125 -5.53125 C 6.96875 -7.296875 5.953125 -8.15625 4.1875 -8.15625 C 3.109375 -8.15625 2.25 -7.8125 1.65625 -7.15625 C 0.921875 -6.359375 0.53125 -5.21875 0.53125 -3.921875 C 0.53125 -2.59375 0.9375 -1.46875 1.6875 -0.6875 C 2.3125 -0.046875 3.109375 0.25 4.140625 0.25 C 6.109375 0.25 7.203125 -0.796875 7.453125 -2.921875 L 6.390625 -2.921875 C 6.296875 -2.375 6.1875 -2 6.03125 -1.6875 C 5.703125 -1.015625 5.015625 -0.65625 4.15625 -0.65625 C 2.5625 -0.65625 1.546875 -1.921875 1.546875 -3.921875 C 1.546875 -5.984375 2.515625 -7.25 4.0625 -7.25 C 4.71875 -7.25 5.328125 -7.046875 5.65625 -6.75 C 5.953125 -6.46875 6.109375 -6.125 6.234375 -5.53125 Z \"/>\n",
       "</symbol>\n",
       "<symbol overflow=\"visible\" id=\"glyph1-2\">\n",
       "<path style=\"stroke:none;\" d=\"M 0.59375 2.390625 L 1.515625 2.390625 L 1.515625 -0.609375 C 2 -0.015625 2.546875 0.25 3.28125 0.25 C 4.78125 0.25 5.75 -0.953125 5.75 -2.78125 C 5.75 -4.71875 4.8125 -5.921875 3.28125 -5.921875 C 2.5 -5.921875 1.875 -5.578125 1.4375 -4.890625 L 1.4375 -5.765625 L 0.59375 -5.765625 Z M 3.125 -5.078125 C 4.140625 -5.078125 4.796875 -4.1875 4.796875 -2.8125 C 4.796875 -1.5 4.125 -0.609375 3.125 -0.609375 C 2.15625 -0.609375 1.515625 -1.484375 1.515625 -2.84375 C 1.515625 -4.1875 2.15625 -5.078125 3.125 -5.078125 Z \"/>\n",
       "</symbol>\n",
       "<symbol overflow=\"visible\" id=\"glyph1-3\">\n",
       "<path style=\"stroke:none;\" d=\"M 4.53125 -5.765625 L 4.53125 -4.921875 C 4.0625 -5.609375 3.515625 -5.921875 2.765625 -5.921875 C 1.3125 -5.921875 0.3125 -4.65625 0.3125 -2.78125 C 0.3125 -1.84375 0.578125 -1.0625 1.046875 -0.515625 C 1.46875 -0.03125 2.09375 0.25 2.6875 0.25 C 3.421875 0.25 3.921875 -0.0625 4.4375 -0.78125 L 4.4375 -0.484375 C 4.4375 0.296875 4.34375 0.765625 4.109375 1.09375 C 3.875 1.4375 3.40625 1.625 2.84375 1.625 C 2.421875 1.625 2.046875 1.515625 1.796875 1.3125 C 1.578125 1.15625 1.5 1 1.4375 0.65625 L 0.5 0.65625 C 0.609375 1.75 1.453125 2.390625 2.8125 2.390625 C 3.65625 2.390625 4.40625 2.125 4.78125 1.65625 C 5.21875 1.140625 5.375 0.40625 5.375 -0.953125 L 5.375 -5.765625 Z M 2.875 -5.078125 C 3.859375 -5.078125 4.4375 -4.25 4.4375 -2.8125 C 4.4375 -1.4375 3.84375 -0.59375 2.875 -0.59375 C 1.875 -0.59375 1.28125 -1.4375 1.28125 -2.84375 C 1.28125 -4.21875 1.890625 -5.078125 2.875 -5.078125 Z \"/>\n",
       "</symbol>\n",
       "<symbol overflow=\"visible\" id=\"glyph1-4\">\n",
       "<path style=\"stroke:none;\" d=\"M 5.640625 -2.578125 C 5.640625 -3.453125 5.578125 -3.984375 5.40625 -4.40625 C 5.03125 -5.359375 4.15625 -5.921875 3.078125 -5.921875 C 1.46875 -5.921875 0.4375 -4.703125 0.4375 -2.8125 C 0.4375 -0.90625 1.4375 0.25 3.0625 0.25 C 4.375 0.25 5.296875 -0.5 5.515625 -1.75 L 4.59375 -1.75 C 4.34375 -0.984375 3.828125 -0.59375 3.09375 -0.59375 C 2.515625 -0.59375 2.015625 -0.859375 1.703125 -1.34375 C 1.484375 -1.671875 1.40625 -2 1.390625 -2.578125 Z M 1.421875 -3.328125 C 1.5 -4.390625 2.140625 -5.078125 3.0625 -5.078125 C 3.96875 -5.078125 4.65625 -4.328125 4.65625 -3.390625 C 4.65625 -3.359375 4.65625 -3.34375 4.65625 -3.328125 Z \"/>\n",
       "</symbol>\n",
       "<symbol overflow=\"visible\" id=\"glyph1-5\">\n",
       "<path style=\"stroke:none;\" d=\"M 0.765625 -5.765625 L 0.765625 0 L 1.6875 0 L 1.6875 -3.171875 C 1.6875 -4.359375 2.3125 -5.125 3.25 -5.125 C 3.984375 -5.125 4.4375 -4.6875 4.4375 -4 L 4.4375 0 L 5.359375 0 L 5.359375 -4.359375 C 5.359375 -5.3125 4.640625 -5.921875 3.53125 -5.921875 C 2.671875 -5.921875 2.125 -5.59375 1.609375 -4.796875 L 1.609375 -5.765625 Z \"/>\n",
       "</symbol>\n",
       "<symbol overflow=\"visible\" id=\"glyph1-6\">\n",
       "<path style=\"stroke:none;\" d=\"M 4.3125 0 L 7.09375 -8.015625 L 6 -8.015625 L 3.78125 -1.234375 L 1.4375 -8.015625 L 0.328125 -8.015625 L 3.21875 0 Z \"/>\n",
       "</symbol>\n",
       "<symbol overflow=\"visible\" id=\"glyph1-7\">\n",
       "<path style=\"stroke:none;\" d=\"M 0.765625 -5.765625 L 0.765625 0 L 1.6875 0 L 1.6875 -2.984375 C 1.6875 -3.8125 1.890625 -4.359375 2.328125 -4.671875 C 2.625 -4.890625 2.890625 -4.953125 3.53125 -4.96875 L 3.53125 -5.890625 C 3.375 -5.921875 3.296875 -5.921875 3.171875 -5.921875 C 2.578125 -5.921875 2.140625 -5.578125 1.609375 -4.71875 L 1.609375 -5.765625 Z \"/>\n",
       "</symbol>\n",
       "<symbol overflow=\"visible\" id=\"glyph2-0\">\n",
       "<path style=\"stroke:none;\" d=\"\"/>\n",
       "</symbol>\n",
       "<symbol overflow=\"visible\" id=\"glyph2-1\">\n",
       "<path style=\"stroke:none;\" d=\"M -8.015625 -5.4375 L -8.015625 -4.53125 L -5.03125 -4.53125 C -5.625 -4.140625 -5.921875 -3.53125 -5.921875 -2.765625 C -5.921875 -1.265625 -4.734375 -0.28125 -2.890625 -0.28125 C -0.953125 -0.28125 0.25 -1.25 0.25 -2.796875 C 0.25 -3.59375 -0.046875 -4.140625 -0.765625 -4.625 L 0 -4.625 L 0 -5.4375 Z M -5.078125 -2.921875 C -5.078125 -3.90625 -4.1875 -4.53125 -2.8125 -4.53125 C -1.484375 -4.53125 -0.609375 -3.890625 -0.609375 -2.921875 C -0.609375 -1.90625 -1.5 -1.25 -2.84375 -1.25 C -4.1875 -1.25 -5.078125 -1.90625 -5.078125 -2.921875 Z \"/>\n",
       "</symbol>\n",
       "<symbol overflow=\"visible\" id=\"glyph2-2\">\n",
       "<path style=\"stroke:none;\" d=\"M -2.578125 -5.640625 C -3.453125 -5.640625 -3.984375 -5.578125 -4.40625 -5.40625 C -5.359375 -5.03125 -5.921875 -4.15625 -5.921875 -3.078125 C -5.921875 -1.46875 -4.703125 -0.4375 -2.8125 -0.4375 C -0.90625 -0.4375 0.25 -1.4375 0.25 -3.0625 C 0.25 -4.375 -0.5 -5.296875 -1.75 -5.515625 L -1.75 -4.59375 C -0.984375 -4.34375 -0.59375 -3.828125 -0.59375 -3.09375 C -0.59375 -2.515625 -0.859375 -2.015625 -1.34375 -1.703125 C -1.671875 -1.484375 -2 -1.40625 -2.578125 -1.390625 Z M -3.328125 -1.421875 C -4.390625 -1.5 -5.078125 -2.140625 -5.078125 -3.0625 C -5.078125 -3.96875 -4.328125 -4.65625 -3.390625 -4.65625 C -3.359375 -4.65625 -3.34375 -4.65625 -3.328125 -4.65625 Z \"/>\n",
       "</symbol>\n",
       "<symbol overflow=\"visible\" id=\"glyph2-3\">\n",
       "<path style=\"stroke:none;\" d=\"M -5.765625 -0.765625 L 0 -0.765625 L 0 -1.6875 L -3.171875 -1.6875 C -4.359375 -1.6875 -5.125 -2.3125 -5.125 -3.25 C -5.125 -3.984375 -4.6875 -4.4375 -4 -4.4375 L 0 -4.4375 L 0 -5.359375 L -4.359375 -5.359375 C -5.3125 -5.359375 -5.921875 -4.640625 -5.921875 -3.53125 C -5.921875 -2.671875 -5.59375 -2.125 -4.796875 -1.609375 L -5.765625 -1.609375 Z \"/>\n",
       "</symbol>\n",
       "<symbol overflow=\"visible\" id=\"glyph2-4\">\n",
       "<path style=\"stroke:none;\" d=\"M -4.15625 -4.8125 C -5.296875 -4.8125 -5.921875 -4.0625 -5.921875 -2.734375 C -5.921875 -1.390625 -5.234375 -0.515625 -4.171875 -0.515625 C -3.265625 -0.515625 -2.84375 -0.984375 -2.515625 -2.34375 L -2.296875 -3.203125 C -2.140625 -3.84375 -1.90625 -4.09375 -1.5 -4.09375 C -0.953125 -4.09375 -0.59375 -3.546875 -0.59375 -2.75 C -0.59375 -2.25 -0.734375 -1.84375 -0.984375 -1.609375 C -1.140625 -1.46875 -1.3125 -1.390625 -1.71875 -1.34375 L -1.71875 -0.375 C -0.390625 -0.421875 0.25 -1.171875 0.25 -2.671875 C 0.25 -4.125 -0.46875 -5.046875 -1.578125 -5.046875 C -2.4375 -5.046875 -2.90625 -4.5625 -3.171875 -3.421875 L -3.390625 -2.546875 C -3.5625 -1.796875 -3.8125 -1.46875 -4.21875 -1.46875 C -4.734375 -1.46875 -5.078125 -1.953125 -5.078125 -2.6875 C -5.078125 -3.4375 -4.765625 -3.828125 -4.15625 -3.84375 Z \"/>\n",
       "</symbol>\n",
       "<symbol overflow=\"visible\" id=\"glyph2-5\">\n",
       "<path style=\"stroke:none;\" d=\"M -5.765625 -1.65625 L -5.765625 -0.734375 L 0 -0.734375 L 0 -1.65625 Z M -8.015625 -1.65625 L -8.015625 -0.71875 L -6.859375 -0.71875 L -6.859375 -1.65625 Z \"/>\n",
       "</symbol>\n",
       "<symbol overflow=\"visible\" id=\"glyph2-6\">\n",
       "<path style=\"stroke:none;\" d=\"M -5.765625 -2.796875 L -5.765625 -1.84375 L -7.34375 -1.84375 L -7.34375 -0.9375 L -5.765625 -0.9375 L -5.765625 -0.15625 L -5.015625 -0.15625 L -5.015625 -0.9375 L -0.65625 -0.9375 C -0.078125 -0.9375 0.25 -1.328125 0.25 -2.046875 C 0.25 -2.265625 0.234375 -2.484375 0.171875 -2.796875 L -0.59375 -2.796875 C -0.5625 -2.671875 -0.546875 -2.53125 -0.546875 -2.359375 C -0.546875 -1.953125 -0.65625 -1.84375 -1.0625 -1.84375 L -5.015625 -1.84375 L -5.015625 -2.796875 Z \"/>\n",
       "</symbol>\n",
       "<symbol overflow=\"visible\" id=\"glyph2-7\">\n",
       "<path style=\"stroke:none;\" d=\"M -5.765625 -4.265625 L -1.28125 -2.671875 L -5.765625 -1.203125 L -5.765625 -0.21875 L 0.015625 -2.171875 L 0.9375 -1.8125 C 1.34375 -1.671875 1.5 -1.46875 1.5 -1.078125 C 1.5 -0.953125 1.46875 -0.796875 1.4375 -0.59375 L 2.25 -0.59375 C 2.359375 -0.78125 2.390625 -0.96875 2.390625 -1.203125 C 2.390625 -1.5 2.296875 -1.828125 2.125 -2.0625 C 1.90625 -2.359375 1.671875 -2.515625 1.203125 -2.6875 L -5.765625 -5.265625 Z \"/>\n",
       "</symbol>\n",
       "<symbol overflow=\"visible\" id=\"glyph3-0\">\n",
       "<path style=\"stroke:none;\" d=\"\"/>\n",
       "</symbol>\n",
       "<symbol overflow=\"visible\" id=\"glyph3-1\">\n",
       "<path style=\"stroke:none;\" d=\"M 9.828125 0 L 12.265625 -9.625 L 10.890625 -9.625 L 9.125 -1.8125 L 6.9375 -9.625 L 5.609375 -9.625 L 3.46875 -1.8125 L 1.65625 -9.625 L 0.296875 -9.625 L 2.765625 0 L 4.109375 0 L 6.265625 -7.90625 L 8.46875 0 Z \"/>\n",
       "</symbol>\n",
       "<symbol overflow=\"visible\" id=\"glyph3-2\">\n",
       "<path style=\"stroke:none;\" d=\"M 0.921875 -9.625 L 0.921875 0 L 2.015625 0 L 2.015625 -3.8125 C 2.015625 -5.234375 2.765625 -6.15625 3.890625 -6.15625 C 4.25 -6.15625 4.609375 -6.03125 4.875 -5.828125 C 5.1875 -5.609375 5.328125 -5.28125 5.328125 -4.796875 L 5.328125 0 L 6.421875 0 L 6.421875 -5.234375 C 6.421875 -6.390625 5.578125 -7.109375 4.234375 -7.109375 C 3.265625 -7.109375 2.671875 -6.8125 2.015625 -5.96875 L 2.015625 -9.625 Z \"/>\n",
       "</symbol>\n",
       "<symbol overflow=\"visible\" id=\"glyph3-3\">\n",
       "<path style=\"stroke:none;\" d=\"M 6.765625 -3.09375 C 6.765625 -4.140625 6.6875 -4.78125 6.5 -5.296875 C 6.046875 -6.4375 4.984375 -7.109375 3.703125 -7.109375 C 1.765625 -7.109375 0.53125 -5.640625 0.53125 -3.359375 C 0.53125 -1.09375 1.734375 0.296875 3.671875 0.296875 C 5.25 0.296875 6.34375 -0.59375 6.625 -2.09375 L 5.515625 -2.09375 C 5.21875 -1.1875 4.59375 -0.71875 3.703125 -0.71875 C 3.015625 -0.71875 2.421875 -1.03125 2.046875 -1.609375 C 1.78125 -2 1.6875 -2.40625 1.671875 -3.09375 Z M 1.703125 -3.984375 C 1.796875 -5.265625 2.578125 -6.09375 3.6875 -6.09375 C 4.765625 -6.09375 5.59375 -5.203125 5.59375 -4.0625 C 5.59375 -4.046875 5.59375 -4.015625 5.578125 -3.984375 Z \"/>\n",
       "</symbol>\n",
       "<symbol overflow=\"visible\" id=\"glyph3-4\">\n",
       "<path style=\"stroke:none;\" d=\"M 7.0625 -0.640625 C 6.9375 -0.625 6.890625 -0.625 6.828125 -0.625 C 6.4375 -0.625 6.234375 -0.8125 6.234375 -1.15625 L 6.234375 -5.234375 C 6.234375 -6.453125 5.328125 -7.109375 3.625 -7.109375 C 2.625 -7.109375 1.796875 -6.828125 1.328125 -6.3125 C 1.015625 -5.953125 0.890625 -5.5625 0.859375 -4.875 L 1.96875 -4.875 C 2.0625 -5.71875 2.5625 -6.09375 3.59375 -6.09375 C 4.578125 -6.09375 5.140625 -5.734375 5.140625 -5.0625 L 5.140625 -4.78125 C 5.140625 -4.3125 4.859375 -4.125 3.984375 -4.015625 C 2.421875 -3.8125 2.1875 -3.765625 1.765625 -3.59375 C 0.96875 -3.265625 0.546875 -2.640625 0.546875 -1.75 C 0.546875 -0.484375 1.421875 0.296875 2.828125 0.296875 C 3.703125 0.296875 4.390625 0 5.171875 -0.71875 C 5.25 -0.015625 5.59375 0.296875 6.3125 0.296875 C 6.53125 0.296875 6.703125 0.28125 7.0625 0.1875 Z M 5.140625 -2.171875 C 5.140625 -1.8125 5.03125 -1.578125 4.703125 -1.28125 C 4.25 -0.875 3.703125 -0.65625 3.0625 -0.65625 C 2.203125 -0.65625 1.703125 -1.0625 1.703125 -1.765625 C 1.703125 -2.5 2.1875 -2.859375 3.359375 -3.03125 C 4.53125 -3.1875 4.765625 -3.25 5.140625 -3.421875 Z \"/>\n",
       "</symbol>\n",
       "<symbol overflow=\"visible\" id=\"glyph3-5\">\n",
       "<path style=\"stroke:none;\" d=\"M 3.359375 -6.921875 L 2.21875 -6.921875 L 2.21875 -8.8125 L 1.125 -8.8125 L 1.125 -6.921875 L 0.1875 -6.921875 L 0.1875 -6.015625 L 1.125 -6.015625 L 1.125 -0.796875 C 1.125 -0.09375 1.59375 0.296875 2.453125 0.296875 C 2.71875 0.296875 2.984375 0.28125 3.359375 0.21875 L 3.359375 -0.71875 C 3.203125 -0.671875 3.03125 -0.65625 2.828125 -0.65625 C 2.34375 -0.65625 2.21875 -0.796875 2.21875 -1.28125 L 2.21875 -6.015625 L 3.359375 -6.015625 Z \"/>\n",
       "</symbol>\n",
       "<symbol overflow=\"visible\" id=\"glyph3-6\">\n",
       "<path style=\"stroke:none;\" d=\"\"/>\n",
       "</symbol>\n",
       "<symbol overflow=\"visible\" id=\"glyph3-7\">\n",
       "<path style=\"stroke:none;\" d=\"M 9.359375 -5.078125 L 5.34375 -5.078125 L 5.34375 -4 L 8.28125 -4 L 8.28125 -3.734375 C 8.28125 -2.015625 7.015625 -0.78125 5.25 -0.78125 C 4.28125 -0.78125 3.390625 -1.140625 2.828125 -1.75 C 2.1875 -2.4375 1.8125 -3.59375 1.8125 -4.78125 C 1.8125 -7.140625 3.15625 -8.703125 5.1875 -8.703125 C 6.65625 -8.703125 7.703125 -7.953125 7.96875 -6.703125 L 9.234375 -6.703125 C 8.890625 -8.65625 7.40625 -9.78125 5.203125 -9.78125 C 4.03125 -9.78125 3.078125 -9.484375 2.328125 -8.859375 C 1.21875 -7.9375 0.578125 -6.4375 0.578125 -4.71875 C 0.578125 -1.75 2.390625 0.296875 4.984375 0.296875 C 6.296875 0.296875 7.34375 -0.1875 8.28125 -1.234375 L 8.578125 0.046875 L 9.359375 0.046875 Z \"/>\n",
       "</symbol>\n",
       "<symbol overflow=\"visible\" id=\"glyph3-8\">\n",
       "<path style=\"stroke:none;\" d=\"M 5.15625 -4.9375 L 8.40625 -9.625 L 6.9375 -9.625 L 4.46875 -5.84375 L 2 -9.625 L 0.5 -9.625 L 3.703125 -4.9375 L 0.296875 0 L 1.78125 0 L 4.421875 -4.015625 L 7.046875 0 L 8.5625 0 Z \"/>\n",
       "</symbol>\n",
       "<symbol overflow=\"visible\" id=\"glyph3-9\">\n",
       "<path style=\"stroke:none;\" d=\"M 2.421875 -4.390625 L 7.65625 -4.390625 L 7.65625 -5.46875 L 2.421875 -5.46875 L 2.421875 -8.546875 L 7.859375 -8.546875 L 7.859375 -9.625 L 1.1875 -9.625 L 1.1875 0 L 8.09375 0 L 8.09375 -1.078125 L 2.421875 -1.078125 Z \"/>\n",
       "</symbol>\n",
       "<symbol overflow=\"visible\" id=\"glyph3-10\">\n",
       "<path style=\"stroke:none;\" d=\"M 2.453125 -4.140625 L 5.625 -4.140625 C 6.71875 -4.140625 7.203125 -3.625 7.203125 -2.421875 L 7.203125 -1.578125 C 7.203125 -0.984375 7.296875 -0.390625 7.46875 0 L 8.96875 0 L 8.96875 -0.296875 C 8.5 -0.625 8.40625 -0.96875 8.390625 -2.25 C 8.375 -3.828125 8.125 -4.296875 7.078125 -4.75 C 8.15625 -5.28125 8.59375 -5.953125 8.59375 -7.046875 C 8.59375 -8.71875 7.546875 -9.625 5.671875 -9.625 L 1.234375 -9.625 L 1.234375 0 L 2.453125 0 Z M 2.453125 -5.234375 L 2.453125 -8.546875 L 5.421875 -8.546875 C 6.109375 -8.546875 6.515625 -8.4375 6.8125 -8.171875 C 7.140625 -7.890625 7.3125 -7.453125 7.3125 -6.875 C 7.3125 -5.75 6.734375 -5.234375 5.421875 -5.234375 Z \"/>\n",
       "</symbol>\n",
       "<symbol overflow=\"visible\" id=\"glyph3-11\">\n",
       "<path style=\"stroke:none;\" d=\"M 7.3125 0 L 9.34375 -6.921875 L 8.109375 -6.921875 L 6.734375 -1.53125 L 5.375 -6.921875 L 4.03125 -6.921875 L 2.703125 -1.53125 L 1.296875 -6.921875 L 0.078125 -6.921875 L 2.09375 0 L 3.328125 0 L 4.65625 -5.421875 L 6.0625 0 Z \"/>\n",
       "</symbol>\n",
       "<symbol overflow=\"visible\" id=\"glyph3-12\">\n",
       "<path style=\"stroke:none;\" d=\"M 6.53125 2.875 L 6.53125 -6.921875 L 5.5625 -6.921875 L 5.5625 -6 C 5.046875 -6.71875 4.265625 -7.109375 3.359375 -7.109375 C 1.53125 -7.109375 0.34375 -5.625 0.34375 -3.328125 C 0.34375 -1.078125 1.484375 0.296875 3.296875 0.296875 C 4.265625 0.296875 4.921875 -0.046875 5.4375 -0.796875 L 5.4375 2.875 Z M 3.515625 -6.09375 C 4.6875 -6.09375 5.4375 -5.03125 5.4375 -3.359375 C 5.4375 -1.78125 4.671875 -0.71875 3.515625 -0.71875 C 2.296875 -0.71875 1.484375 -1.796875 1.484375 -3.40625 C 1.484375 -5 2.296875 -6.09375 3.515625 -6.09375 Z \"/>\n",
       "</symbol>\n",
       "<symbol overflow=\"visible\" id=\"glyph3-13\">\n",
       "<path style=\"stroke:none;\" d=\"M 2.421875 -4.078125 L 5.453125 -4.078125 C 6.203125 -4.078125 6.796875 -4.296875 7.3125 -4.765625 C 7.890625 -5.296875 8.140625 -5.921875 8.140625 -6.796875 C 8.140625 -8.609375 7.078125 -9.625 5.171875 -9.625 L 1.203125 -9.625 L 1.203125 0 L 2.421875 0 Z M 2.421875 -5.15625 L 2.421875 -8.546875 L 4.984375 -8.546875 C 6.171875 -8.546875 6.859375 -7.90625 6.859375 -6.859375 C 6.859375 -5.796875 6.171875 -5.15625 4.984375 -5.15625 Z \"/>\n",
       "</symbol>\n",
       "<symbol overflow=\"visible\" id=\"glyph3-14\">\n",
       "<path style=\"stroke:none;\" d=\"M 8.734375 -6.640625 C 8.359375 -8.75 7.140625 -9.78125 5.03125 -9.78125 C 3.734375 -9.78125 2.6875 -9.375 1.984375 -8.578125 C 1.109375 -7.625 0.640625 -6.265625 0.640625 -4.703125 C 0.640625 -3.109375 1.125 -1.75 2.03125 -0.8125 C 2.765625 -0.046875 3.71875 0.296875 4.984375 0.296875 C 7.328125 0.296875 8.640625 -0.96875 8.9375 -3.515625 L 7.671875 -3.515625 C 7.5625 -2.859375 7.4375 -2.40625 7.234375 -2.015625 C 6.84375 -1.234375 6.015625 -0.78125 4.984375 -0.78125 C 3.078125 -0.78125 1.859375 -2.3125 1.859375 -4.71875 C 1.859375 -7.1875 3.03125 -8.703125 4.890625 -8.703125 C 5.671875 -8.703125 6.390625 -8.46875 6.78125 -8.09375 C 7.140625 -7.765625 7.34375 -7.359375 7.484375 -6.640625 Z \"/>\n",
       "</symbol>\n",
       "<symbol overflow=\"visible\" id=\"glyph3-15\">\n",
       "<path style=\"stroke:none;\" d=\"M 1.171875 0 L 4.890625 0 C 7.3125 0 8.8125 -1.828125 8.8125 -4.8125 C 8.8125 -7.796875 7.328125 -9.625 4.890625 -9.625 L 1.171875 -9.625 Z M 2.40625 -1.078125 L 2.40625 -8.546875 L 4.671875 -8.546875 C 6.578125 -8.546875 7.578125 -7.265625 7.578125 -4.8125 C 7.578125 -2.375 6.578125 -1.078125 4.671875 -1.078125 Z \"/>\n",
       "</symbol>\n",
       "<symbol overflow=\"visible\" id=\"glyph3-16\">\n",
       "<path style=\"stroke:none;\" d=\"M 2.828125 -1.375 L 1.453125 -1.375 L 1.453125 0 L 2.828125 0 Z M 2.828125 -6.921875 L 1.453125 -6.921875 L 1.453125 -5.546875 L 2.828125 -5.546875 Z \"/>\n",
       "</symbol>\n",
       "<symbol overflow=\"visible\" id=\"glyph3-17\">\n",
       "<path style=\"stroke:none;\" d=\"M 3.859375 -3.578125 L 6.171875 -6.921875 L 4.9375 -6.921875 L 3.28125 -4.40625 L 1.609375 -6.921875 L 0.359375 -6.921875 L 2.671875 -3.53125 L 0.21875 0 L 1.484375 0 L 3.234375 -2.65625 L 4.96875 0 L 6.25 0 Z \"/>\n",
       "</symbol>\n",
       "<symbol overflow=\"visible\" id=\"glyph3-18\">\n",
       "<path style=\"stroke:none;\" d=\"M 0.71875 2.875 L 1.828125 2.875 L 1.828125 -0.71875 C 2.40625 -0.015625 3.046875 0.296875 3.953125 0.296875 C 5.734375 0.296875 6.90625 -1.140625 6.90625 -3.34375 C 6.90625 -5.671875 5.765625 -7.109375 3.9375 -7.109375 C 3 -7.109375 2.25 -6.6875 1.734375 -5.875 L 1.734375 -6.921875 L 0.71875 -6.921875 Z M 3.75 -6.09375 C 4.96875 -6.09375 5.75 -5.015625 5.75 -3.359375 C 5.75 -1.796875 4.953125 -0.71875 3.75 -0.71875 C 2.59375 -0.71875 1.828125 -1.78125 1.828125 -3.40625 C 1.828125 -5.03125 2.59375 -6.09375 3.75 -6.09375 Z \"/>\n",
       "</symbol>\n",
       "<symbol overflow=\"visible\" id=\"glyph3-19\">\n",
       "<path style=\"stroke:none;\" d=\"M 0.90625 -6.921875 L 0.90625 0 L 2.015625 0 L 2.015625 -3.59375 C 2.015625 -4.578125 2.265625 -5.234375 2.796875 -5.609375 C 3.140625 -5.859375 3.46875 -5.9375 4.234375 -5.953125 L 4.234375 -7.078125 C 4.046875 -7.109375 3.96875 -7.109375 3.8125 -7.109375 C 3.109375 -7.109375 2.5625 -6.6875 1.921875 -5.671875 L 1.921875 -6.921875 Z \"/>\n",
       "</symbol>\n",
       "<symbol overflow=\"visible\" id=\"glyph3-20\">\n",
       "<path style=\"stroke:none;\" d=\"M 1.984375 -6.921875 L 0.890625 -6.921875 L 0.890625 0 L 1.984375 0 Z M 1.984375 -9.625 L 0.875 -9.625 L 0.875 -8.234375 L 1.984375 -8.234375 Z \"/>\n",
       "</symbol>\n",
       "<symbol overflow=\"visible\" id=\"glyph3-21\">\n",
       "<path style=\"stroke:none;\" d=\"M 0.921875 -6.921875 L 0.921875 0 L 2.03125 0 L 2.03125 -4.34375 C 2.03125 -5.34375 2.765625 -6.15625 3.65625 -6.15625 C 4.46875 -6.15625 4.9375 -5.65625 4.9375 -4.765625 L 4.9375 0 L 6.046875 0 L 6.046875 -4.34375 C 6.046875 -5.34375 6.765625 -6.15625 7.671875 -6.15625 C 8.46875 -6.15625 8.953125 -5.640625 8.953125 -4.765625 L 8.953125 0 L 10.0625 0 L 10.0625 -5.1875 C 10.0625 -6.4375 9.34375 -7.109375 8.046875 -7.109375 C 7.125 -7.109375 6.578125 -6.84375 5.921875 -6.0625 C 5.515625 -6.796875 4.96875 -7.109375 4.0625 -7.109375 C 3.140625 -7.109375 2.53125 -6.765625 1.9375 -5.9375 L 1.9375 -6.921875 Z \"/>\n",
       "</symbol>\n",
       "<symbol overflow=\"visible\" id=\"glyph3-22\">\n",
       "<path style=\"stroke:none;\" d=\"M 0.921875 -6.921875 L 0.921875 0 L 2.03125 0 L 2.03125 -3.8125 C 2.03125 -5.234375 2.765625 -6.15625 3.90625 -6.15625 C 4.78125 -6.15625 5.328125 -5.625 5.328125 -4.796875 L 5.328125 0 L 6.4375 0 L 6.4375 -5.234375 C 6.4375 -6.375 5.578125 -7.109375 4.234375 -7.109375 C 3.203125 -7.109375 2.546875 -6.71875 1.9375 -5.75 L 1.9375 -6.921875 Z \"/>\n",
       "</symbol>\n",
       "<symbol overflow=\"visible\" id=\"glyph3-23\">\n",
       "<path style=\"stroke:none;\" d=\"M 2.921875 -4.296875 L 3.546875 -4.296875 C 4.828125 -4.296875 5.5 -3.71875 5.5 -2.59375 C 5.5 -1.421875 4.765625 -0.71875 3.546875 -0.71875 C 2.28125 -0.71875 1.65625 -1.359375 1.578125 -2.71875 L 0.421875 -2.71875 C 0.46875 -1.96875 0.609375 -1.484375 0.828125 -1.0625 C 1.3125 -0.15625 2.234375 0.296875 3.515625 0.296875 C 5.4375 0.296875 6.6875 -0.84375 6.6875 -2.609375 C 6.6875 -3.796875 6.21875 -4.46875 5.09375 -4.84375 C 5.96875 -5.1875 6.40625 -5.84375 6.40625 -6.78125 C 6.40625 -8.390625 5.328125 -9.359375 3.546875 -9.359375 C 1.65625 -9.359375 0.65625 -8.328125 0.625 -6.34375 L 1.78125 -6.34375 C 1.796875 -6.90625 1.84375 -7.21875 2 -7.515625 C 2.25 -8.03125 2.84375 -8.34375 3.5625 -8.34375 C 4.59375 -8.34375 5.21875 -7.734375 5.21875 -6.75 C 5.21875 -6.09375 4.984375 -5.6875 4.46875 -5.484375 C 4.140625 -5.34375 3.734375 -5.296875 2.921875 -5.28125 Z \"/>\n",
       "</symbol>\n",
       "<symbol overflow=\"visible\" id=\"glyph3-24\">\n",
       "<path style=\"stroke:none;\" d=\"M 7.046875 -3.53125 L 4.3125 -3.53125 L 4.3125 -6.265625 L 3.390625 -6.265625 L 3.390625 -3.53125 L 0.65625 -3.53125 L 0.65625 -2.59375 L 3.390625 -2.59375 L 3.390625 0.125 L 4.3125 0.125 L 4.3125 -2.59375 L 7.046875 -2.59375 Z \"/>\n",
       "</symbol>\n",
       "<symbol overflow=\"visible\" id=\"glyph3-25\">\n",
       "<path style=\"stroke:none;\" d=\"M 4.3125 -2.25 L 4.3125 0 L 5.484375 0 L 5.484375 -2.25 L 6.859375 -2.25 L 6.859375 -3.28125 L 5.484375 -3.28125 L 5.484375 -9.359375 L 4.625 -9.359375 L 0.375 -3.46875 L 0.375 -2.25 Z M 4.3125 -3.28125 L 1.390625 -3.28125 L 4.3125 -7.375 Z \"/>\n",
       "</symbol>\n",
       "</g>\n",
       "<clipPath id=\"clip1\">\n",
       "  <path d=\"M 38.496094 39.476562 L 232 39.476562 L 232 472 L 38.496094 472 Z \"/>\n",
       "</clipPath>\n",
       "<clipPath id=\"clip2\">\n",
       "  <path d=\"M 38.496094 408 L 232 408 L 232 410 L 38.496094 410 Z \"/>\n",
       "</clipPath>\n",
       "<clipPath id=\"clip3\">\n",
       "  <path d=\"M 38.496094 323 L 232 323 L 232 324 L 38.496094 324 Z \"/>\n",
       "</clipPath>\n",
       "<clipPath id=\"clip4\">\n",
       "  <path d=\"M 38.496094 237 L 232 237 L 232 239 L 38.496094 239 Z \"/>\n",
       "</clipPath>\n",
       "<clipPath id=\"clip5\">\n",
       "  <path d=\"M 38.496094 152 L 232 152 L 232 153 L 38.496094 153 Z \"/>\n",
       "</clipPath>\n",
       "<clipPath id=\"clip6\">\n",
       "  <path d=\"M 38.496094 66 L 232 66 L 232 68 L 38.496094 68 Z \"/>\n",
       "</clipPath>\n",
       "<clipPath id=\"clip7\">\n",
       "  <path d=\"M 57 39.476562 L 58 39.476562 L 58 472 L 57 472 Z \"/>\n",
       "</clipPath>\n",
       "<clipPath id=\"clip8\">\n",
       "  <path d=\"M 108 39.476562 L 109 39.476562 L 109 472 L 108 472 Z \"/>\n",
       "</clipPath>\n",
       "<clipPath id=\"clip9\">\n",
       "  <path d=\"M 159 39.476562 L 160 39.476562 L 160 472 L 159 472 Z \"/>\n",
       "</clipPath>\n",
       "<clipPath id=\"clip10\">\n",
       "  <path d=\"M 209 39.476562 L 211 39.476562 L 211 472 L 209 472 Z \"/>\n",
       "</clipPath>\n",
       "<clipPath id=\"clip11\">\n",
       "  <path d=\"M 38.496094 451 L 232 451 L 232 453 L 38.496094 453 Z \"/>\n",
       "</clipPath>\n",
       "<clipPath id=\"clip12\">\n",
       "  <path d=\"M 38.496094 365 L 232 365 L 232 367 L 38.496094 367 Z \"/>\n",
       "</clipPath>\n",
       "<clipPath id=\"clip13\">\n",
       "  <path d=\"M 38.496094 280 L 232 280 L 232 282 L 38.496094 282 Z \"/>\n",
       "</clipPath>\n",
       "<clipPath id=\"clip14\">\n",
       "  <path d=\"M 38.496094 194 L 232 194 L 232 196 L 38.496094 196 Z \"/>\n",
       "</clipPath>\n",
       "<clipPath id=\"clip15\">\n",
       "  <path d=\"M 38.496094 109 L 232 109 L 232 111 L 38.496094 111 Z \"/>\n",
       "</clipPath>\n",
       "<clipPath id=\"clip16\">\n",
       "  <path d=\"M 82 39.476562 L 84 39.476562 L 84 472.550781 L 82 472.550781 Z \"/>\n",
       "</clipPath>\n",
       "<clipPath id=\"clip17\">\n",
       "  <path d=\"M 133 39.476562 L 135 39.476562 L 135 472.550781 L 133 472.550781 Z \"/>\n",
       "</clipPath>\n",
       "<clipPath id=\"clip18\">\n",
       "  <path d=\"M 184 39.476562 L 186 39.476562 L 186 472.550781 L 184 472.550781 Z \"/>\n",
       "</clipPath>\n",
       "<clipPath id=\"clip19\">\n",
       "  <path d=\"M 236.769531 39.476562 L 430 39.476562 L 430 472 L 236.769531 472 Z \"/>\n",
       "</clipPath>\n",
       "<clipPath id=\"clip20\">\n",
       "  <path d=\"M 236.769531 408 L 430 408 L 430 410 L 236.769531 410 Z \"/>\n",
       "</clipPath>\n",
       "<clipPath id=\"clip21\">\n",
       "  <path d=\"M 236.769531 323 L 430 323 L 430 324 L 236.769531 324 Z \"/>\n",
       "</clipPath>\n",
       "<clipPath id=\"clip22\">\n",
       "  <path d=\"M 236.769531 237 L 430 237 L 430 239 L 236.769531 239 Z \"/>\n",
       "</clipPath>\n",
       "<clipPath id=\"clip23\">\n",
       "  <path d=\"M 236.769531 152 L 430 152 L 430 153 L 236.769531 153 Z \"/>\n",
       "</clipPath>\n",
       "<clipPath id=\"clip24\">\n",
       "  <path d=\"M 236.769531 66 L 430 66 L 430 68 L 236.769531 68 Z \"/>\n",
       "</clipPath>\n",
       "<clipPath id=\"clip25\">\n",
       "  <path d=\"M 255 39.476562 L 257 39.476562 L 257 472 L 255 472 Z \"/>\n",
       "</clipPath>\n",
       "<clipPath id=\"clip26\">\n",
       "  <path d=\"M 306 39.476562 L 308 39.476562 L 308 472 L 306 472 Z \"/>\n",
       "</clipPath>\n",
       "<clipPath id=\"clip27\">\n",
       "  <path d=\"M 357 39.476562 L 358 39.476562 L 358 472 L 357 472 Z \"/>\n",
       "</clipPath>\n",
       "<clipPath id=\"clip28\">\n",
       "  <path d=\"M 408 39.476562 L 409 39.476562 L 409 472 L 408 472 Z \"/>\n",
       "</clipPath>\n",
       "<clipPath id=\"clip29\">\n",
       "  <path d=\"M 236.769531 451 L 430.566406 451 L 430.566406 453 L 236.769531 453 Z \"/>\n",
       "</clipPath>\n",
       "<clipPath id=\"clip30\">\n",
       "  <path d=\"M 236.769531 365 L 430.566406 365 L 430.566406 367 L 236.769531 367 Z \"/>\n",
       "</clipPath>\n",
       "<clipPath id=\"clip31\">\n",
       "  <path d=\"M 236.769531 280 L 430.566406 280 L 430.566406 282 L 236.769531 282 Z \"/>\n",
       "</clipPath>\n",
       "<clipPath id=\"clip32\">\n",
       "  <path d=\"M 236.769531 194 L 430.566406 194 L 430.566406 196 L 236.769531 196 Z \"/>\n",
       "</clipPath>\n",
       "<clipPath id=\"clip33\">\n",
       "  <path d=\"M 236.769531 109 L 430.566406 109 L 430.566406 111 L 236.769531 111 Z \"/>\n",
       "</clipPath>\n",
       "<clipPath id=\"clip34\">\n",
       "  <path d=\"M 280 39.476562 L 282 39.476562 L 282 472.550781 L 280 472.550781 Z \"/>\n",
       "</clipPath>\n",
       "<clipPath id=\"clip35\">\n",
       "  <path d=\"M 331 39.476562 L 333 39.476562 L 333 472.550781 L 331 472.550781 Z \"/>\n",
       "</clipPath>\n",
       "<clipPath id=\"clip36\">\n",
       "  <path d=\"M 382 39.476562 L 384 39.476562 L 384 472.550781 L 382 472.550781 Z \"/>\n",
       "</clipPath>\n",
       "<clipPath id=\"clip37\">\n",
       "  <path d=\"M 38.496094 22.054688 L 232 22.054688 L 232 40 L 38.496094 40 Z \"/>\n",
       "</clipPath>\n",
       "<clipPath id=\"clip38\">\n",
       "  <path d=\"M 236.769531 22.054688 L 430 22.054688 L 430 40 L 236.769531 40 Z \"/>\n",
       "</clipPath>\n",
       "</defs>\n",
       "<g id=\"surface220\">\n",
       "<rect x=\"0\" y=\"0\" width=\"504\" height=\"504\" style=\"fill:rgb(100%,100%,100%);fill-opacity:1;stroke:none;\"/>\n",
       "<rect x=\"0\" y=\"0\" width=\"504\" height=\"504\" style=\"fill:rgb(100%,100%,100%);fill-opacity:1;stroke:none;\"/>\n",
       "<path style=\"fill:none;stroke-width:1.066978;stroke-linecap:round;stroke-linejoin:round;stroke:rgb(100%,100%,100%);stroke-opacity:1;stroke-miterlimit:10;\" d=\"M 0 504 L 504 504 L 504 0 L 0 0 Z \"/>\n",
       "<g clip-path=\"url(#clip1)\" clip-rule=\"nonzero\">\n",
       "<path style=\" stroke:none;fill-rule:nonzero;fill:rgb(92.156863%,92.156863%,92.156863%);fill-opacity:1;\" d=\"M 38.496094 471.550781 L 231.292969 471.550781 L 231.292969 39.476562 L 38.496094 39.476562 Z \"/>\n",
       "</g>\n",
       "<g clip-path=\"url(#clip2)\" clip-rule=\"nonzero\">\n",
       "<path style=\"fill:none;stroke-width:0.533489;stroke-linecap:butt;stroke-linejoin:round;stroke:rgb(100%,100%,100%);stroke-opacity:1;stroke-miterlimit:10;\" d=\"M 38.496094 409.136719 L 231.292969 409.136719 \"/>\n",
       "</g>\n",
       "<g clip-path=\"url(#clip3)\" clip-rule=\"nonzero\">\n",
       "<path style=\"fill:none;stroke-width:0.533489;stroke-linecap:butt;stroke-linejoin:round;stroke:rgb(100%,100%,100%);stroke-opacity:1;stroke-miterlimit:10;\" d=\"M 38.496094 323.585938 L 231.292969 323.585938 \"/>\n",
       "</g>\n",
       "<g clip-path=\"url(#clip4)\" clip-rule=\"nonzero\">\n",
       "<path style=\"fill:none;stroke-width:0.533489;stroke-linecap:butt;stroke-linejoin:round;stroke:rgb(100%,100%,100%);stroke-opacity:1;stroke-miterlimit:10;\" d=\"M 38.496094 238.035156 L 231.292969 238.035156 \"/>\n",
       "</g>\n",
       "<g clip-path=\"url(#clip5)\" clip-rule=\"nonzero\">\n",
       "<path style=\"fill:none;stroke-width:0.533489;stroke-linecap:butt;stroke-linejoin:round;stroke:rgb(100%,100%,100%);stroke-opacity:1;stroke-miterlimit:10;\" d=\"M 38.496094 152.484375 L 231.292969 152.484375 \"/>\n",
       "</g>\n",
       "<g clip-path=\"url(#clip6)\" clip-rule=\"nonzero\">\n",
       "<path style=\"fill:none;stroke-width:0.533489;stroke-linecap:butt;stroke-linejoin:round;stroke:rgb(100%,100%,100%);stroke-opacity:1;stroke-miterlimit:10;\" d=\"M 38.496094 66.933594 L 231.292969 66.933594 \"/>\n",
       "</g>\n",
       "<g clip-path=\"url(#clip7)\" clip-rule=\"nonzero\">\n",
       "<path style=\"fill:none;stroke-width:0.533489;stroke-linecap:butt;stroke-linejoin:round;stroke:rgb(100%,100%,100%);stroke-opacity:1;stroke-miterlimit:10;\" d=\"M 57.683594 471.550781 L 57.683594 39.476562 \"/>\n",
       "</g>\n",
       "<g clip-path=\"url(#clip8)\" clip-rule=\"nonzero\">\n",
       "<path style=\"fill:none;stroke-width:0.533489;stroke-linecap:butt;stroke-linejoin:round;stroke:rgb(100%,100%,100%);stroke-opacity:1;stroke-miterlimit:10;\" d=\"M 108.519531 471.550781 L 108.519531 39.476562 \"/>\n",
       "</g>\n",
       "<g clip-path=\"url(#clip9)\" clip-rule=\"nonzero\">\n",
       "<path style=\"fill:none;stroke-width:0.533489;stroke-linecap:butt;stroke-linejoin:round;stroke:rgb(100%,100%,100%);stroke-opacity:1;stroke-miterlimit:10;\" d=\"M 159.359375 471.550781 L 159.359375 39.476562 \"/>\n",
       "</g>\n",
       "<g clip-path=\"url(#clip10)\" clip-rule=\"nonzero\">\n",
       "<path style=\"fill:none;stroke-width:0.533489;stroke-linecap:butt;stroke-linejoin:round;stroke:rgb(100%,100%,100%);stroke-opacity:1;stroke-miterlimit:10;\" d=\"M 210.199219 471.550781 L 210.199219 39.476562 \"/>\n",
       "</g>\n",
       "<g clip-path=\"url(#clip11)\" clip-rule=\"nonzero\">\n",
       "<path style=\"fill:none;stroke-width:1.066978;stroke-linecap:butt;stroke-linejoin:round;stroke:rgb(100%,100%,100%);stroke-opacity:1;stroke-miterlimit:10;\" d=\"M 38.496094 451.910156 L 231.292969 451.910156 \"/>\n",
       "</g>\n",
       "<g clip-path=\"url(#clip12)\" clip-rule=\"nonzero\">\n",
       "<path style=\"fill:none;stroke-width:1.066978;stroke-linecap:butt;stroke-linejoin:round;stroke:rgb(100%,100%,100%);stroke-opacity:1;stroke-miterlimit:10;\" d=\"M 38.496094 366.359375 L 231.292969 366.359375 \"/>\n",
       "</g>\n",
       "<g clip-path=\"url(#clip13)\" clip-rule=\"nonzero\">\n",
       "<path style=\"fill:none;stroke-width:1.066978;stroke-linecap:butt;stroke-linejoin:round;stroke:rgb(100%,100%,100%);stroke-opacity:1;stroke-miterlimit:10;\" d=\"M 38.496094 280.8125 L 231.292969 280.8125 \"/>\n",
       "</g>\n",
       "<g clip-path=\"url(#clip14)\" clip-rule=\"nonzero\">\n",
       "<path style=\"fill:none;stroke-width:1.066978;stroke-linecap:butt;stroke-linejoin:round;stroke:rgb(100%,100%,100%);stroke-opacity:1;stroke-miterlimit:10;\" d=\"M 38.496094 195.261719 L 231.292969 195.261719 \"/>\n",
       "</g>\n",
       "<g clip-path=\"url(#clip15)\" clip-rule=\"nonzero\">\n",
       "<path style=\"fill:none;stroke-width:1.066978;stroke-linecap:butt;stroke-linejoin:round;stroke:rgb(100%,100%,100%);stroke-opacity:1;stroke-miterlimit:10;\" d=\"M 38.496094 109.710938 L 231.292969 109.710938 \"/>\n",
       "</g>\n",
       "<g clip-path=\"url(#clip16)\" clip-rule=\"nonzero\">\n",
       "<path style=\"fill:none;stroke-width:1.066978;stroke-linecap:butt;stroke-linejoin:round;stroke:rgb(100%,100%,100%);stroke-opacity:1;stroke-miterlimit:10;\" d=\"M 83.101562 471.550781 L 83.101562 39.476562 \"/>\n",
       "</g>\n",
       "<g clip-path=\"url(#clip17)\" clip-rule=\"nonzero\">\n",
       "<path style=\"fill:none;stroke-width:1.066978;stroke-linecap:butt;stroke-linejoin:round;stroke:rgb(100%,100%,100%);stroke-opacity:1;stroke-miterlimit:10;\" d=\"M 133.941406 471.550781 L 133.941406 39.476562 \"/>\n",
       "</g>\n",
       "<g clip-path=\"url(#clip18)\" clip-rule=\"nonzero\">\n",
       "<path style=\"fill:none;stroke-width:1.066978;stroke-linecap:butt;stroke-linejoin:round;stroke:rgb(100%,100%,100%);stroke-opacity:1;stroke-miterlimit:10;\" d=\"M 184.78125 471.550781 L 184.78125 39.476562 \"/>\n",
       "</g>\n",
       "<path style=\"fill:none;stroke-width:1.066978;stroke-linecap:round;stroke-linejoin:round;stroke:rgb(97.254902%,46.27451%,42.745098%);stroke-opacity:1;stroke-miterlimit:10;\" d=\"M 47.257812 451.910156 L 60.636719 451.910156 L 60.980469 451.90625 L 62.007812 451.90625 L 62.351562 451.902344 L 62.695312 451.902344 L 63.039062 451.898438 L 63.378906 451.894531 L 63.722656 451.894531 L 64.066406 451.890625 L 64.410156 451.882812 L 64.753906 451.878906 L 65.09375 451.871094 L 65.78125 451.855469 L 66.46875 451.832031 L 66.808594 451.816406 L 67.152344 451.800781 L 67.496094 451.78125 L 67.839844 451.757812 L 68.183594 451.730469 L 68.523438 451.699219 L 68.867188 451.664062 L 69.210938 451.625 L 69.554688 451.578125 L 69.898438 451.527344 L 70.238281 451.464844 L 70.582031 451.398438 L 70.925781 451.324219 L 71.269531 451.238281 L 71.613281 451.140625 L 71.953125 451.035156 L 72.296875 450.917969 L 72.640625 450.785156 L 72.984375 450.632812 L 73.328125 450.46875 L 73.671875 450.289062 L 74.011719 450.09375 L 74.355469 449.875 L 74.699219 449.632812 L 75.042969 449.375 L 75.386719 449.09375 L 75.726562 448.785156 L 76.070312 448.449219 L 76.414062 448.085938 L 76.757812 447.703125 L 77.101562 447.289062 L 77.441406 446.839844 L 77.785156 446.363281 L 78.128906 445.859375 L 78.472656 445.328125 L 78.816406 444.757812 L 79.15625 444.15625 L 79.5 443.527344 L 79.84375 442.867188 L 80.1875 442.175781 L 80.53125 441.449219 L 80.871094 440.699219 L 81.214844 439.921875 L 81.558594 439.113281 L 81.902344 438.277344 L 82.246094 437.417969 L 82.585938 436.539062 L 82.929688 435.640625 L 83.273438 434.714844 L 83.617188 433.777344 L 83.960938 432.824219 L 84.300781 431.855469 L 84.644531 430.878906 L 84.988281 429.890625 L 85.332031 428.898438 L 85.675781 427.902344 L 86.019531 426.902344 L 86.359375 425.90625 L 86.703125 424.910156 L 87.046875 423.917969 L 87.390625 422.929688 L 87.734375 421.953125 L 88.074219 420.984375 L 88.417969 420.027344 L 88.761719 419.082031 L 89.105469 418.148438 L 89.449219 417.234375 L 89.789062 416.332031 L 90.132812 415.449219 L 90.476562 414.578125 L 90.820312 413.734375 L 91.164062 412.902344 L 91.503906 412.089844 L 91.847656 411.296875 L 92.191406 410.53125 L 92.535156 409.78125 L 92.878906 409.054688 L 93.21875 408.34375 L 93.5625 407.664062 L 93.90625 407.003906 L 94.25 406.371094 L 94.59375 405.757812 L 94.933594 405.171875 L 95.277344 404.617188 L 95.621094 404.085938 L 95.964844 403.585938 L 96.308594 403.105469 L 96.648438 402.667969 L 96.992188 402.257812 L 97.335938 401.878906 L 97.679688 401.523438 L 98.023438 401.210938 L 98.367188 400.929688 L 98.707031 400.675781 L 99.050781 400.449219 L 99.394531 400.257812 L 99.738281 400.097656 L 100.082031 399.960938 L 100.421875 399.847656 L 100.765625 399.757812 L 101.109375 399.695312 L 101.453125 399.640625 L 101.796875 399.601562 L 102.136719 399.570312 L 102.480469 399.542969 L 102.824219 399.511719 L 103.167969 399.476562 L 103.511719 399.425781 L 103.851562 399.363281 L 104.195312 399.265625 L 104.539062 399.144531 L 104.882812 398.988281 L 105.226562 398.796875 L 105.566406 398.542969 L 105.910156 398.238281 L 106.253906 397.878906 L 106.597656 397.464844 L 106.941406 396.972656 L 107.28125 396.402344 L 107.625 395.769531 L 107.96875 395.0625 L 108.3125 394.273438 L 108.65625 393.390625 L 108.996094 392.4375 L 109.339844 391.410156 L 109.683594 390.308594 L 110.027344 389.113281 L 110.371094 387.851562 L 110.714844 386.523438 L 111.054688 385.136719 L 111.398438 383.675781 L 111.742188 382.164062 L 112.085938 380.605469 L 112.429688 379.007812 L 112.769531 377.375 L 113.113281 375.703125 L 113.457031 374.019531 L 113.800781 372.316406 L 114.144531 370.605469 L 114.484375 368.894531 L 114.828125 367.191406 L 115.171875 365.496094 L 115.515625 363.820312 L 115.859375 362.167969 L 116.199219 360.542969 L 116.542969 358.945312 L 116.886719 357.382812 L 117.230469 355.855469 L 117.574219 354.371094 L 117.914062 352.925781 L 118.257812 351.515625 L 118.601562 350.144531 L 118.945312 348.820312 L 119.289062 347.527344 L 119.628906 346.265625 L 119.972656 345.03125 L 120.316406 343.832031 L 120.660156 342.65625 L 121.003906 341.496094 L 121.34375 340.351562 L 121.6875 339.21875 L 122.03125 338.089844 L 122.71875 335.839844 L 123.0625 334.707031 L 123.402344 333.5625 L 123.746094 332.40625 L 124.089844 331.234375 L 124.433594 330.042969 L 124.777344 328.832031 L 125.117188 327.597656 L 125.460938 326.34375 L 125.804688 325.070312 L 126.148438 323.769531 L 126.492188 322.449219 L 126.832031 321.113281 L 127.175781 319.761719 L 127.519531 318.398438 L 127.863281 317.023438 L 128.207031 315.640625 L 128.546875 314.257812 L 128.890625 312.875 L 129.234375 311.5 L 129.578125 310.140625 L 129.921875 308.792969 L 130.261719 307.464844 L 130.605469 306.160156 L 130.949219 304.890625 L 131.292969 303.65625 L 131.636719 302.449219 L 131.976562 301.285156 L 132.320312 300.175781 L 132.664062 299.105469 L 133.007812 298.082031 L 133.351562 297.101562 L 133.691406 296.1875 L 134.035156 295.320312 L 134.378906 294.5 L 134.722656 293.726562 L 135.066406 293.007812 L 135.410156 292.34375 L 135.75 291.722656 L 136.09375 291.144531 L 136.4375 290.601562 L 136.78125 290.113281 L 137.125 289.652344 L 137.464844 289.21875 L 137.808594 288.816406 L 138.152344 288.441406 L 138.496094 288.089844 L 138.839844 287.75 L 139.179688 287.421875 L 139.523438 287.105469 L 140.554688 286.167969 L 140.894531 285.847656 L 141.238281 285.515625 L 141.582031 285.171875 L 141.925781 284.816406 L 142.269531 284.441406 L 142.609375 284.042969 L 142.953125 283.625 L 143.296875 283.179688 L 143.640625 282.714844 L 143.984375 282.21875 L 144.324219 281.691406 L 144.667969 281.140625 L 145.011719 280.5625 L 145.355469 279.957031 L 145.699219 279.320312 L 146.039062 278.660156 L 146.382812 277.972656 L 146.726562 277.269531 L 147.070312 276.539062 L 147.414062 275.789062 L 147.757812 275.027344 L 148.097656 274.253906 L 148.441406 273.472656 L 149.128906 271.902344 L 149.472656 271.121094 L 149.8125 270.351562 L 150.15625 269.597656 L 150.5 268.867188 L 150.84375 268.15625 L 151.1875 267.476562 L 151.527344 266.84375 L 151.871094 266.253906 L 152.214844 265.710938 L 152.558594 265.21875 L 152.902344 264.789062 L 153.242188 264.4375 L 153.585938 264.152344 L 153.929688 263.933594 L 154.273438 263.796875 L 154.617188 263.765625 L 154.957031 263.816406 L 155.300781 263.953125 L 155.644531 264.179688 L 155.988281 264.53125 L 156.332031 264.984375 L 156.671875 265.527344 L 157.015625 266.167969 L 157.359375 266.933594 L 157.703125 267.8125 L 158.046875 268.789062 L 158.386719 269.867188 L 158.730469 271.050781 L 159.074219 272.363281 L 159.417969 273.765625 L 159.761719 275.265625 L 160.105469 276.855469 L 160.445312 278.570312 L 160.789062 280.375 L 161.132812 282.257812 L 161.476562 284.226562 L 161.820312 286.292969 L 162.160156 288.441406 L 162.503906 290.664062 L 162.847656 292.953125 L 163.191406 295.3125 L 163.535156 297.75 L 163.875 300.238281 L 164.21875 302.78125 L 164.5625 305.375 L 164.90625 308.023438 L 165.25 310.714844 L 165.589844 313.441406 L 165.933594 316.195312 L 166.277344 318.988281 L 166.621094 321.800781 L 166.964844 324.632812 L 167.304688 327.480469 L 167.648438 330.335938 L 167.992188 333.203125 L 168.679688 338.929688 L 169.019531 341.785156 L 169.363281 344.628906 L 169.707031 347.457031 L 170.050781 350.265625 L 170.394531 353.054688 L 170.734375 355.816406 L 171.078125 358.542969 L 171.421875 361.242188 L 171.765625 363.90625 L 172.109375 366.535156 L 172.453125 369.117188 L 172.792969 371.65625 L 173.136719 374.15625 L 173.480469 376.613281 L 173.824219 379.011719 L 174.167969 381.367188 L 174.507812 383.671875 L 174.851562 385.933594 L 175.195312 388.136719 L 175.539062 390.289062 L 175.882812 392.390625 L 176.222656 394.449219 L 176.566406 396.453125 L 176.910156 398.398438 L 177.253906 400.300781 L 177.597656 402.15625 L 177.9375 403.964844 L 178.28125 405.714844 L 178.625 407.417969 L 178.96875 409.082031 L 179.3125 410.703125 L 179.652344 412.273438 L 179.996094 413.792969 L 180.339844 415.277344 L 180.683594 416.722656 L 181.027344 418.121094 L 181.367188 419.46875 L 181.710938 420.78125 L 182.054688 422.058594 L 182.398438 423.296875 L 182.742188 424.480469 L 183.082031 425.628906 L 183.425781 426.742188 L 183.769531 427.820312 L 184.113281 428.851562 L 184.457031 429.84375 L 184.800781 430.796875 L 185.140625 431.71875 L 185.484375 432.601562 L 185.828125 433.4375 L 186.171875 434.242188 L 186.515625 435.015625 L 186.855469 435.753906 L 187.199219 436.445312 L 187.542969 437.109375 L 187.886719 437.742188 L 188.230469 438.34375 L 188.570312 438.90625 L 188.914062 439.441406 L 189.257812 439.953125 L 189.601562 440.433594 L 189.945312 440.890625 L 190.285156 441.316406 L 190.628906 441.722656 L 190.972656 442.109375 L 191.316406 442.476562 L 191.660156 442.820312 L 192 443.148438 L 192.34375 443.464844 L 192.6875 443.765625 L 193.03125 444.050781 L 193.375 444.324219 L 193.714844 444.589844 L 194.058594 444.84375 L 194.402344 445.09375 L 194.746094 445.335938 L 195.089844 445.570312 L 195.429688 445.800781 L 195.773438 446.027344 L 196.460938 446.464844 L 197.148438 446.894531 L 197.488281 447.101562 L 198.175781 447.515625 L 198.519531 447.71875 L 198.863281 447.917969 L 199.203125 448.113281 L 199.890625 448.496094 L 200.234375 448.683594 L 200.578125 448.863281 L 200.917969 449.042969 L 201.261719 449.214844 L 201.605469 449.382812 L 201.949219 449.546875 L 202.292969 449.703125 L 202.632812 449.855469 L 202.976562 450 L 203.320312 450.140625 L 203.664062 450.273438 L 204.007812 450.398438 L 204.347656 450.519531 L 204.691406 450.632812 L 205.035156 450.742188 L 205.378906 450.84375 L 205.722656 450.9375 L 206.0625 451.027344 L 206.40625 451.109375 L 207.09375 451.257812 L 207.4375 451.324219 L 207.777344 451.382812 L 208.121094 451.4375 L 208.464844 451.488281 L 208.808594 451.535156 L 209.152344 451.578125 L 209.496094 451.617188 L 209.835938 451.648438 L 210.523438 451.710938 L 211.210938 451.757812 L 211.550781 451.777344 L 212.582031 451.824219 L 212.925781 451.835938 L 213.265625 451.847656 L 214.640625 451.878906 L 214.980469 451.882812 L 216.355469 451.898438 L 216.695312 451.898438 L 217.039062 451.902344 L 217.382812 451.902344 L 217.726562 451.90625 L 218.753906 451.90625 L 219.097656 451.910156 L 222.527344 451.910156 L 47.257812 451.910156 \"/>\n",
       "<path style=\"fill:none;stroke-width:1.066978;stroke-linecap:round;stroke-linejoin:round;stroke:rgb(97.254902%,46.27451%,42.745098%);stroke-opacity:1;stroke-dasharray:2.133957,2.133957;stroke-miterlimit:10;\" d=\"M 47.257812 451.222656 L 47.945312 451.121094 L 48.632812 451.003906 L 48.976562 450.9375 L 49.316406 450.871094 L 49.660156 450.800781 L 50.003906 450.726562 L 50.347656 450.648438 L 50.691406 450.5625 L 51.03125 450.476562 L 51.71875 450.289062 L 52.0625 450.1875 L 52.40625 450.082031 L 52.746094 449.96875 L 53.089844 449.855469 L 53.777344 449.605469 L 54.121094 449.472656 L 54.460938 449.335938 L 54.804688 449.191406 L 55.148438 449.042969 L 55.492188 448.886719 L 55.835938 448.722656 L 56.175781 448.558594 L 56.519531 448.382812 L 56.863281 448.203125 L 57.207031 448.015625 L 57.550781 447.820312 L 57.890625 447.621094 L 58.234375 447.417969 L 58.578125 447.203125 L 58.921875 446.984375 L 59.265625 446.757812 L 59.605469 446.523438 L 59.949219 446.285156 L 60.292969 446.039062 L 60.636719 445.785156 L 60.980469 445.523438 L 61.324219 445.257812 L 61.664062 444.984375 L 62.007812 444.703125 L 62.351562 444.417969 L 62.695312 444.125 L 63.039062 443.824219 L 63.378906 443.519531 L 63.722656 443.207031 L 64.066406 442.890625 L 64.410156 442.566406 L 64.753906 442.234375 L 65.09375 441.898438 L 65.4375 441.558594 L 66.125 440.855469 L 66.46875 440.5 L 66.808594 440.132812 L 67.152344 439.765625 L 67.496094 439.390625 L 67.839844 439.011719 L 68.183594 438.628906 L 68.523438 438.242188 L 69.210938 437.453125 L 69.898438 436.648438 L 70.238281 436.238281 L 70.582031 435.828125 L 71.269531 434.992188 L 71.613281 434.570312 L 71.953125 434.140625 L 72.296875 433.714844 L 72.984375 432.847656 L 73.328125 432.410156 L 73.671875 431.96875 L 74.011719 431.523438 L 74.699219 430.632812 L 75.386719 429.726562 L 75.726562 429.273438 L 76.070312 428.816406 L 76.757812 427.894531 L 77.101562 427.425781 L 77.441406 426.960938 L 77.785156 426.492188 L 78.128906 426.019531 L 78.816406 425.066406 L 79.15625 424.585938 L 79.5 424.105469 L 79.84375 423.621094 L 80.1875 423.132812 L 80.53125 422.640625 L 80.871094 422.148438 L 81.558594 421.148438 L 81.902344 420.644531 L 82.246094 420.136719 L 82.585938 419.625 L 82.929688 419.109375 L 83.273438 418.589844 L 83.617188 418.066406 L 83.960938 417.539062 L 84.300781 417.003906 L 84.644531 416.46875 L 84.988281 415.925781 L 85.332031 415.378906 L 86.019531 414.269531 L 86.359375 413.703125 L 86.703125 413.136719 L 87.046875 412.5625 L 87.390625 411.980469 L 87.734375 411.394531 L 88.074219 410.804688 L 88.761719 409.601562 L 89.105469 408.988281 L 89.449219 408.371094 L 89.789062 407.75 L 90.132812 407.121094 L 90.820312 405.847656 L 91.164062 405.199219 L 91.503906 404.546875 L 91.847656 403.886719 L 92.191406 403.222656 L 92.878906 401.878906 L 93.90625 399.824219 L 94.59375 398.433594 L 94.933594 397.734375 L 95.964844 395.613281 L 96.308594 394.902344 L 96.648438 394.191406 L 96.992188 393.476562 L 97.335938 392.765625 L 97.679688 392.050781 L 98.367188 390.628906 L 98.707031 389.921875 L 99.050781 389.214844 L 99.394531 388.511719 L 100.082031 387.113281 L 100.421875 386.425781 L 101.109375 385.058594 L 101.453125 384.390625 L 101.796875 383.726562 L 102.136719 383.066406 L 102.480469 382.417969 L 102.824219 381.78125 L 103.167969 381.148438 L 103.511719 380.53125 L 103.851562 379.921875 L 104.195312 379.324219 L 104.539062 378.738281 L 104.882812 378.167969 L 105.226562 377.601562 L 105.566406 377.058594 L 105.910156 376.523438 L 106.253906 376 L 106.597656 375.496094 L 106.941406 375.003906 L 107.28125 374.519531 L 107.625 374.0625 L 107.96875 373.613281 L 108.3125 373.175781 L 108.65625 372.761719 L 108.996094 372.359375 L 109.339844 371.964844 L 109.683594 371.597656 L 110.027344 371.242188 L 110.371094 370.894531 L 110.714844 370.570312 L 111.054688 370.257812 L 111.398438 369.957031 L 111.742188 369.679688 L 112.085938 369.410156 L 112.429688 369.152344 L 112.769531 368.914062 L 113.113281 368.683594 L 113.457031 368.464844 L 113.800781 368.265625 L 114.144531 368.074219 L 114.484375 367.890625 L 114.828125 367.722656 L 115.171875 367.566406 L 115.515625 367.414062 L 115.859375 367.277344 L 116.199219 367.148438 L 116.542969 367.027344 L 116.886719 366.914062 L 117.230469 366.808594 L 117.574219 366.707031 L 117.914062 366.613281 L 118.601562 366.441406 L 118.945312 366.363281 L 119.289062 366.289062 L 119.628906 366.21875 L 119.972656 366.148438 L 120.660156 366.015625 L 121.003906 365.953125 L 121.34375 365.886719 L 121.6875 365.824219 L 122.03125 365.757812 L 122.375 365.695312 L 122.71875 365.628906 L 123.0625 365.558594 L 123.402344 365.488281 L 123.746094 365.414062 L 124.089844 365.335938 L 124.777344 365.171875 L 125.117188 365.082031 L 125.460938 364.988281 L 125.804688 364.890625 L 126.148438 364.789062 L 126.492188 364.683594 L 126.832031 364.570312 L 127.175781 364.453125 L 127.519531 364.328125 L 127.863281 364.199219 L 128.207031 364.066406 L 128.546875 363.929688 L 128.890625 363.785156 L 129.578125 363.480469 L 129.921875 363.320312 L 130.261719 363.152344 L 130.605469 362.984375 L 130.949219 362.8125 L 131.292969 362.632812 L 131.636719 362.449219 L 131.976562 362.265625 L 133.007812 361.691406 L 133.351562 361.492188 L 133.691406 361.296875 L 135.410156 360.300781 L 135.75 360.105469 L 136.09375 359.910156 L 136.78125 359.527344 L 137.125 359.34375 L 137.464844 359.164062 L 137.808594 358.988281 L 138.152344 358.816406 L 138.839844 358.496094 L 139.179688 358.347656 L 139.523438 358.207031 L 139.867188 358.074219 L 140.210938 357.949219 L 140.554688 357.835938 L 140.894531 357.730469 L 141.238281 357.636719 L 141.582031 357.554688 L 141.925781 357.484375 L 142.269531 357.425781 L 142.609375 357.378906 L 142.953125 357.34375 L 143.296875 357.324219 L 143.640625 357.316406 L 143.984375 357.320312 L 144.324219 357.339844 L 144.667969 357.375 L 145.011719 357.421875 L 145.355469 357.484375 L 145.699219 357.566406 L 146.039062 357.652344 L 146.382812 357.761719 L 146.726562 357.882812 L 147.070312 358.015625 L 147.414062 358.171875 L 147.757812 358.335938 L 148.097656 358.511719 L 148.441406 358.707031 L 148.785156 358.917969 L 149.128906 359.136719 L 149.472656 359.375 L 149.8125 359.625 L 150.15625 359.886719 L 150.5 360.164062 L 150.84375 360.449219 L 151.1875 360.75 L 151.527344 361.0625 L 151.871094 361.386719 L 152.214844 361.71875 L 152.558594 362.066406 L 152.902344 362.421875 L 153.242188 362.789062 L 153.585938 363.164062 L 153.929688 363.550781 L 154.273438 363.941406 L 154.617188 364.34375 L 154.957031 364.75 L 155.300781 365.164062 L 155.644531 365.589844 L 155.988281 366.019531 L 156.332031 366.453125 L 156.671875 366.894531 L 157.015625 367.335938 L 157.359375 367.785156 L 157.703125 368.238281 L 158.046875 368.695312 L 158.386719 369.152344 L 158.730469 369.617188 L 159.074219 370.078125 L 160.105469 371.472656 L 160.445312 371.941406 L 161.132812 372.871094 L 161.820312 373.792969 L 162.160156 374.25 L 162.503906 374.707031 L 162.847656 375.15625 L 163.535156 376.046875 L 163.875 376.484375 L 164.21875 376.914062 L 164.5625 377.339844 L 164.90625 377.757812 L 165.25 378.167969 L 165.589844 378.574219 L 165.933594 378.964844 L 166.277344 379.351562 L 166.621094 379.730469 L 166.964844 380.09375 L 167.304688 380.449219 L 167.648438 380.796875 L 167.992188 381.125 L 168.335938 381.445312 L 168.679688 381.753906 L 169.019531 382.046875 L 169.363281 382.324219 L 169.707031 382.59375 L 170.050781 382.839844 L 170.394531 383.074219 L 170.734375 383.296875 L 171.078125 383.496094 L 171.421875 383.679688 L 171.765625 383.851562 L 172.109375 383.996094 L 172.453125 384.128906 L 172.792969 384.246094 L 173.136719 384.339844 L 173.480469 384.414062 L 173.824219 384.472656 L 174.167969 384.507812 L 174.507812 384.527344 L 174.851562 384.527344 L 175.195312 384.5 L 175.539062 384.460938 L 175.882812 384.402344 L 176.222656 384.316406 L 176.566406 384.214844 L 176.910156 384.097656 L 177.253906 383.953125 L 177.597656 383.796875 L 177.9375 383.617188 L 178.28125 383.417969 L 178.625 383.203125 L 178.96875 382.972656 L 179.3125 382.71875 L 179.652344 382.453125 L 179.996094 382.167969 L 180.339844 381.867188 L 180.683594 381.554688 L 181.027344 381.226562 L 181.367188 380.882812 L 181.710938 380.527344 L 182.054688 380.160156 L 182.398438 379.777344 L 182.742188 379.390625 L 183.082031 378.992188 L 183.425781 378.582031 L 183.769531 378.167969 L 184.113281 377.746094 L 184.457031 377.320312 L 184.800781 376.886719 L 185.140625 376.453125 L 185.484375 376.011719 L 185.828125 375.574219 L 186.515625 374.691406 L 186.855469 374.253906 L 187.199219 373.816406 L 187.886719 372.957031 L 188.230469 372.539062 L 188.570312 372.125 L 188.914062 371.714844 L 189.257812 371.320312 L 189.601562 370.933594 L 189.945312 370.554688 L 190.285156 370.191406 L 190.628906 369.839844 L 190.972656 369.5 L 191.316406 369.179688 L 191.660156 368.871094 L 192 368.578125 L 192.34375 368.308594 L 192.6875 368.054688 L 193.03125 367.816406 L 193.375 367.601562 L 193.714844 367.40625 L 194.058594 367.230469 L 194.402344 367.082031 L 194.746094 366.953125 L 195.089844 366.84375 L 195.429688 366.765625 L 195.773438 366.707031 L 196.117188 366.671875 L 196.460938 366.667969 L 196.804688 366.691406 L 197.148438 366.730469 L 197.488281 366.808594 L 197.832031 366.910156 L 198.175781 367.035156 L 198.519531 367.195312 L 198.863281 367.382812 L 199.203125 367.589844 L 199.546875 367.835938 L 199.890625 368.109375 L 200.234375 368.40625 L 200.578125 368.742188 L 200.917969 369.105469 L 201.261719 369.488281 L 201.605469 369.914062 L 201.949219 370.367188 L 202.292969 370.839844 L 202.632812 371.355469 L 202.976562 371.894531 L 203.320312 372.457031 L 203.664062 373.058594 L 204.007812 373.683594 L 204.347656 374.332031 L 204.691406 375.019531 L 205.035156 375.730469 L 205.378906 376.464844 L 205.722656 377.234375 L 206.0625 378.027344 L 206.40625 378.835938 L 206.75 379.683594 L 207.09375 380.550781 L 207.4375 381.4375 L 207.777344 382.355469 L 208.121094 383.292969 L 208.464844 384.246094 L 208.808594 385.230469 L 209.152344 386.226562 L 209.496094 387.242188 L 209.835938 388.28125 L 210.179688 389.332031 L 210.523438 390.398438 L 210.867188 391.484375 L 211.210938 392.582031 L 211.550781 393.6875 L 211.894531 394.8125 L 212.238281 395.945312 L 212.582031 397.082031 L 212.925781 398.234375 L 213.265625 399.390625 L 213.609375 400.550781 L 213.953125 401.714844 L 214.296875 402.882812 L 214.640625 404.054688 L 214.980469 405.226562 L 215.667969 407.570312 L 216.355469 409.898438 L 216.695312 411.054688 L 217.039062 412.207031 L 217.382812 413.347656 L 217.726562 414.484375 L 218.070312 415.609375 L 218.410156 416.726562 L 218.753906 417.832031 L 219.097656 418.917969 L 219.441406 419.996094 L 219.785156 421.0625 L 220.125 422.109375 L 220.46875 423.140625 L 220.8125 424.160156 L 221.15625 425.152344 L 221.5 426.132812 L 221.84375 427.097656 L 222.183594 428.039062 L 222.527344 428.960938 L 222.527344 451.910156 L 47.257812 451.910156 L 47.257812 451.222656 \"/>\n",
       "<path style=\"fill:none;stroke-width:1.066978;stroke-linecap:round;stroke-linejoin:round;stroke:rgb(0%,74.901961%,76.862745%);stroke-opacity:1;stroke-miterlimit:10;\" d=\"M 47.257812 451.910156 L 142.269531 451.910156 L 142.609375 451.90625 L 143.296875 451.90625 L 143.640625 451.902344 L 143.984375 451.902344 L 144.324219 451.898438 L 145.011719 451.890625 L 145.355469 451.882812 L 145.699219 451.878906 L 146.039062 451.867188 L 146.382812 451.859375 L 147.070312 451.828125 L 147.414062 451.808594 L 147.757812 451.78125 L 148.097656 451.753906 L 148.441406 451.71875 L 148.785156 451.671875 L 149.128906 451.621094 L 149.472656 451.558594 L 149.8125 451.488281 L 150.15625 451.398438 L 150.5 451.292969 L 150.84375 451.171875 L 151.1875 451.03125 L 151.527344 450.871094 L 151.871094 450.675781 L 152.214844 450.449219 L 152.558594 450.195312 L 152.902344 449.902344 L 153.242188 449.570312 L 153.585938 449.183594 L 153.929688 448.746094 L 154.273438 448.257812 L 154.617188 447.710938 L 154.957031 447.097656 L 155.300781 446.402344 L 155.644531 445.636719 L 155.988281 444.796875 L 156.332031 443.878906 L 156.671875 442.859375 L 157.015625 441.738281 L 157.359375 440.53125 L 157.703125 439.234375 L 158.046875 437.84375 L 158.386719 436.335938 L 158.730469 434.730469 L 159.074219 433.03125 L 159.417969 431.246094 L 159.761719 429.375 L 160.105469 427.398438 L 160.445312 425.351562 L 160.789062 423.242188 L 161.132812 421.078125 L 161.476562 418.867188 L 161.820312 416.613281 L 162.160156 414.347656 L 162.503906 412.078125 L 162.847656 409.816406 L 163.191406 407.582031 L 163.535156 405.40625 L 163.875 403.296875 L 164.21875 401.261719 L 164.5625 399.324219 L 164.90625 397.507812 L 165.25 395.847656 L 165.589844 394.335938 L 165.933594 392.980469 L 166.277344 391.789062 L 166.621094 390.816406 L 166.964844 390.066406 L 167.304688 389.511719 L 167.648438 389.160156 L 167.992188 389.015625 L 168.335938 389.132812 L 168.679688 389.476562 L 169.019531 390.019531 L 169.363281 390.761719 L 169.707031 391.695312 L 170.050781 392.867188 L 170.394531 394.214844 L 170.734375 395.710938 L 171.078125 397.355469 L 171.421875 399.128906 L 171.765625 401.050781 L 172.109375 403.0625 L 172.453125 405.148438 L 172.792969 407.289062 L 173.136719 409.480469 L 173.824219 413.910156 L 174.167969 416.113281 L 174.507812 418.289062 L 174.851562 420.417969 L 175.195312 422.472656 L 175.539062 424.457031 L 175.882812 426.351562 L 176.222656 428.15625 L 176.566406 429.835938 L 176.910156 431.378906 L 177.253906 432.800781 L 177.597656 434.089844 L 177.9375 435.238281 L 178.28125 436.210938 L 178.625 437.019531 L 178.96875 437.667969 L 179.3125 438.160156 L 179.652344 438.484375 L 179.996094 438.59375 L 180.339844 438.519531 L 180.683594 438.265625 L 181.027344 437.832031 L 181.367188 437.214844 L 181.710938 436.339844 L 182.054688 435.269531 L 182.398438 434 L 182.742188 432.53125 L 183.082031 430.839844 L 183.425781 428.878906 L 183.769531 426.699219 L 184.113281 424.304688 L 184.457031 421.6875 L 184.800781 418.816406 L 185.140625 415.671875 L 185.484375 412.296875 L 185.828125 408.695312 L 186.171875 404.867188 L 186.515625 400.773438 L 186.855469 396.421875 L 187.199219 391.851562 L 187.542969 387.066406 L 187.886719 382.074219 L 188.230469 376.835938 L 188.570312 371.386719 L 188.914062 365.761719 L 189.257812 359.964844 L 189.601562 354.015625 L 189.945312 347.878906 L 190.285156 341.613281 L 190.628906 335.238281 L 190.972656 328.769531 L 191.316406 322.21875 L 191.660156 315.589844 L 192 308.921875 L 192.34375 302.234375 L 192.6875 295.535156 L 193.03125 288.847656 L 193.375 282.199219 L 193.714844 275.605469 L 194.058594 269.070312 L 194.402344 262.613281 L 194.746094 256.257812 L 195.089844 250.035156 L 195.429688 243.929688 L 195.773438 237.957031 L 196.117188 232.117188 L 196.460938 226.449219 L 196.804688 220.957031 L 197.148438 215.625 L 197.488281 210.449219 L 197.832031 205.429688 L 198.175781 200.605469 L 198.519531 195.957031 L 198.863281 191.453125 L 199.203125 187.09375 L 199.546875 182.871094 L 199.890625 178.8125 L 200.234375 174.875 L 200.578125 171.039062 L 200.917969 167.292969 L 201.261719 163.628906 L 201.605469 160.046875 L 201.949219 156.503906 L 202.292969 152.992188 L 202.632812 149.496094 L 202.976562 146.003906 L 203.320312 142.496094 L 203.664062 138.953125 L 204.007812 135.375 L 204.347656 131.746094 L 204.691406 128.058594 L 205.035156 124.289062 L 205.378906 120.460938 L 205.722656 116.5625 L 206.0625 112.609375 L 206.40625 108.589844 L 206.75 104.523438 L 207.09375 100.4375 L 207.4375 96.34375 L 207.777344 92.261719 L 208.121094 88.234375 L 208.464844 84.300781 L 208.808594 80.484375 L 209.152344 76.820312 L 209.496094 73.335938 L 209.835938 70.152344 L 210.179688 67.28125 L 210.523438 64.75 L 210.867188 62.589844 L 211.210938 60.839844 L 211.550781 59.71875 L 211.894531 59.136719 L 212.238281 59.117188 L 212.582031 59.6875 L 212.925781 60.902344 L 213.265625 62.988281 L 213.609375 65.761719 L 213.953125 69.238281 L 214.296875 73.425781 L 214.640625 78.398438 L 214.980469 84.269531 L 215.324219 90.84375 L 215.667969 98.097656 L 216.011719 106.023438 L 216.355469 114.671875 L 216.695312 124.03125 L 217.039062 133.925781 L 217.382812 144.316406 L 217.726562 155.164062 L 218.070312 166.476562 L 218.410156 178.152344 L 218.753906 190.078125 L 219.097656 202.195312 L 219.441406 214.457031 L 219.785156 226.800781 L 220.125 239.132812 L 220.46875 251.390625 L 220.8125 263.535156 L 221.15625 275.511719 L 221.5 287.1875 L 221.84375 298.566406 L 222.183594 309.621094 L 222.527344 320.328125 L 222.527344 451.910156 L 47.257812 451.910156 \"/>\n",
       "<path style=\"fill:none;stroke-width:1.066978;stroke-linecap:round;stroke-linejoin:round;stroke:rgb(0%,74.901961%,76.862745%);stroke-opacity:1;stroke-dasharray:2.133957,2.133957;stroke-miterlimit:10;\" d=\"M 47.257812 451.910156 L 74.699219 451.910156 L 75.042969 451.90625 L 76.757812 451.90625 L 77.101562 451.902344 L 78.128906 451.902344 L 78.472656 451.898438 L 78.816406 451.898438 L 79.15625 451.894531 L 79.5 451.894531 L 79.84375 451.890625 L 80.1875 451.890625 L 80.53125 451.886719 L 80.871094 451.886719 L 82.246094 451.871094 L 82.585938 451.867188 L 82.929688 451.859375 L 83.273438 451.855469 L 83.617188 451.847656 L 83.960938 451.84375 L 84.300781 451.835938 L 84.988281 451.820312 L 86.019531 451.785156 L 86.359375 451.773438 L 86.703125 451.761719 L 87.390625 451.730469 L 87.734375 451.710938 L 88.074219 451.691406 L 88.417969 451.671875 L 88.761719 451.648438 L 89.449219 451.59375 L 89.789062 451.566406 L 90.132812 451.535156 L 90.476562 451.5 L 91.164062 451.421875 L 91.503906 451.378906 L 92.191406 451.277344 L 92.535156 451.222656 L 92.878906 451.164062 L 93.21875 451.101562 L 93.5625 451.03125 L 94.25 450.882812 L 94.59375 450.796875 L 94.933594 450.703125 L 95.277344 450.609375 L 95.621094 450.503906 L 95.964844 450.394531 L 96.308594 450.277344 L 96.648438 450.148438 L 96.992188 450.015625 L 97.335938 449.871094 L 97.679688 449.71875 L 98.023438 449.558594 L 98.367188 449.382812 L 98.707031 449.199219 L 99.050781 449.007812 L 99.394531 448.796875 L 99.738281 448.582031 L 100.082031 448.351562 L 100.421875 448.105469 L 100.765625 447.847656 L 101.109375 447.574219 L 101.453125 447.285156 L 101.796875 446.984375 L 102.136719 446.664062 L 102.480469 446.328125 L 102.824219 445.980469 L 103.167969 445.605469 L 103.511719 445.214844 L 103.851562 444.8125 L 104.195312 444.378906 L 104.539062 443.933594 L 104.882812 443.46875 L 105.226562 442.976562 L 105.566406 442.46875 L 105.910156 441.933594 L 106.253906 441.378906 L 106.597656 440.804688 L 106.941406 440.199219 L 107.28125 439.574219 L 107.625 438.929688 L 107.96875 438.25 L 108.3125 437.554688 L 108.65625 436.828125 L 108.996094 436.078125 L 109.339844 435.308594 L 109.683594 434.503906 L 110.027344 433.675781 L 110.371094 432.832031 L 110.714844 431.945312 L 111.054688 431.042969 L 111.398438 430.117188 L 111.742188 429.15625 L 112.085938 428.175781 L 112.429688 427.171875 L 112.769531 426.136719 L 113.113281 425.082031 L 113.457031 424 L 113.800781 422.894531 L 114.144531 421.773438 L 114.484375 420.613281 L 114.828125 419.441406 L 115.171875 418.25 L 115.515625 417.03125 L 115.859375 415.800781 L 116.199219 414.546875 L 116.542969 413.273438 L 116.886719 411.984375 L 117.230469 410.679688 L 117.574219 409.359375 L 117.914062 408.027344 L 118.257812 406.675781 L 118.601562 405.320312 L 118.945312 403.953125 L 119.289062 402.574219 L 119.628906 401.1875 L 119.972656 399.796875 L 120.316406 398.402344 L 120.660156 397.003906 L 121.003906 395.601562 L 121.34375 394.199219 L 121.6875 392.796875 L 122.03125 391.398438 L 122.375 390.003906 L 122.71875 388.617188 L 123.0625 387.234375 L 123.402344 385.859375 L 123.746094 384.496094 L 124.089844 383.144531 L 124.433594 381.800781 L 124.777344 380.476562 L 125.117188 379.167969 L 125.460938 377.871094 L 125.804688 376.597656 L 126.148438 375.339844 L 126.492188 374.101562 L 126.832031 372.890625 L 127.175781 371.699219 L 127.519531 370.53125 L 127.863281 369.390625 L 128.207031 368.265625 L 128.546875 367.179688 L 128.890625 366.117188 L 129.234375 365.074219 L 129.578125 364.074219 L 129.921875 363.09375 L 130.261719 362.140625 L 130.605469 361.230469 L 130.949219 360.339844 L 131.292969 359.480469 L 131.636719 358.660156 L 131.976562 357.855469 L 132.320312 357.097656 L 132.664062 356.367188 L 133.007812 355.65625 L 133.351562 354.992188 L 133.691406 354.347656 L 134.035156 353.734375 L 134.378906 353.160156 L 134.722656 352.601562 L 135.066406 352.078125 L 135.410156 351.585938 L 135.75 351.113281 L 136.09375 350.675781 L 136.4375 350.261719 L 136.78125 349.863281 L 137.125 349.503906 L 137.464844 349.160156 L 137.808594 348.835938 L 138.152344 348.539062 L 138.496094 348.257812 L 138.839844 347.996094 L 139.179688 347.757812 L 139.523438 347.527344 L 139.867188 347.320312 L 140.210938 347.125 L 140.554688 346.941406 L 140.894531 346.773438 L 141.238281 346.613281 L 141.582031 346.464844 L 141.925781 346.324219 L 142.269531 346.191406 L 142.609375 346.066406 L 143.296875 345.824219 L 143.640625 345.707031 L 143.984375 345.59375 L 144.324219 345.480469 L 145.011719 345.246094 L 145.355469 345.125 L 145.699219 345 L 146.039062 344.867188 L 146.382812 344.730469 L 146.726562 344.585938 L 147.070312 344.433594 L 147.414062 344.273438 L 147.757812 344.097656 L 148.097656 343.917969 L 148.441406 343.71875 L 148.785156 343.511719 L 149.128906 343.292969 L 149.472656 343.054688 L 149.8125 342.808594 L 150.15625 342.542969 L 150.5 342.261719 L 150.84375 341.96875 L 151.1875 341.652344 L 151.527344 341.320312 L 151.871094 340.980469 L 152.214844 340.609375 L 152.558594 340.226562 L 152.902344 339.828125 L 153.242188 339.40625 L 153.585938 338.96875 L 153.929688 338.515625 L 154.273438 338.039062 L 154.617188 337.550781 L 154.957031 337.039062 L 155.300781 336.511719 L 155.644531 335.972656 L 155.988281 335.40625 L 156.332031 334.832031 L 156.671875 334.238281 L 157.015625 333.628906 L 157.359375 333.007812 L 157.703125 332.371094 L 158.046875 331.71875 L 158.386719 331.058594 L 158.730469 330.382812 L 159.074219 329.699219 L 159.417969 329.003906 L 159.761719 328.300781 L 160.105469 327.589844 L 160.445312 326.875 L 160.789062 326.152344 L 161.476562 324.699219 L 161.820312 323.96875 L 162.160156 323.242188 L 162.503906 322.515625 L 163.191406 321.070312 L 163.535156 320.363281 L 163.875 319.65625 L 164.21875 318.960938 L 164.5625 318.28125 L 164.90625 317.609375 L 165.25 316.953125 L 165.589844 316.316406 L 165.933594 315.691406 L 166.277344 315.09375 L 166.621094 314.515625 L 166.964844 313.953125 L 167.304688 313.429688 L 167.648438 312.925781 L 167.992188 312.445312 L 168.335938 312.003906 L 168.679688 311.585938 L 169.019531 311.207031 L 169.363281 310.863281 L 169.707031 310.542969 L 170.050781 310.277344 L 170.394531 310.042969 L 170.734375 309.839844 L 171.078125 309.695312 L 171.421875 309.585938 L 171.765625 309.511719 L 172.109375 309.5 L 172.453125 309.515625 L 172.792969 309.589844 L 173.136719 309.710938 L 173.480469 309.867188 L 173.824219 310.089844 L 174.167969 310.355469 L 174.507812 310.652344 L 174.851562 311.03125 L 175.195312 311.4375 L 175.539062 311.894531 L 175.882812 312.417969 L 176.222656 312.972656 L 176.566406 313.585938 L 176.910156 314.25 L 177.253906 314.945312 L 177.597656 315.710938 L 177.9375 316.515625 L 178.28125 317.355469 L 178.625 318.261719 L 178.96875 319.199219 L 179.3125 320.179688 L 179.652344 321.210938 L 179.996094 322.269531 L 180.339844 323.375 L 180.683594 324.523438 L 181.027344 325.695312 L 181.367188 326.914062 L 181.710938 328.15625 L 182.054688 329.425781 L 182.398438 330.738281 L 182.742188 332.066406 L 183.082031 333.417969 L 183.425781 334.800781 L 183.769531 336.195312 L 184.113281 337.613281 L 184.457031 339.042969 L 184.800781 340.484375 L 185.140625 341.941406 L 185.484375 343.40625 L 185.828125 344.875 L 186.171875 346.351562 L 186.515625 347.824219 L 186.855469 349.296875 L 187.199219 350.769531 L 187.542969 352.234375 L 187.886719 353.691406 L 188.230469 355.132812 L 188.570312 356.570312 L 188.914062 357.984375 L 189.257812 359.386719 L 189.601562 360.773438 L 189.945312 362.125 L 190.285156 363.464844 L 190.628906 364.78125 L 190.972656 366.058594 L 191.316406 367.320312 L 191.660156 368.542969 L 192 369.730469 L 192.34375 370.898438 L 192.6875 372.019531 L 193.03125 373.105469 L 193.375 374.164062 L 193.714844 375.167969 L 194.058594 376.144531 L 194.402344 377.082031 L 194.746094 377.964844 L 195.089844 378.820312 L 195.429688 379.628906 L 195.773438 380.390625 L 196.117188 381.125 L 196.460938 381.800781 L 196.804688 382.441406 L 197.148438 383.046875 L 197.488281 383.59375 L 197.832031 384.109375 L 198.175781 384.585938 L 198.519531 385.011719 L 198.863281 385.414062 L 199.203125 385.765625 L 199.546875 386.078125 L 199.890625 386.367188 L 200.234375 386.605469 L 200.578125 386.820312 L 200.917969 387.003906 L 201.261719 387.144531 L 201.605469 387.265625 L 201.949219 387.355469 L 202.292969 387.414062 L 202.632812 387.457031 L 202.976562 387.472656 L 203.320312 387.464844 L 203.664062 387.445312 L 204.007812 387.402344 L 204.347656 387.347656 L 204.691406 387.277344 L 205.035156 387.195312 L 205.378906 387.105469 L 205.722656 387.011719 L 206.0625 386.90625 L 206.40625 386.804688 L 207.4375 386.488281 L 207.777344 386.394531 L 208.121094 386.304688 L 208.464844 386.21875 L 208.808594 386.148438 L 209.152344 386.089844 L 209.496094 386.042969 L 209.835938 386.015625 L 210.179688 386 L 210.523438 386.003906 L 210.867188 386.03125 L 211.210938 386.074219 L 211.550781 386.144531 L 211.894531 386.238281 L 212.238281 386.347656 L 212.582031 386.492188 L 212.925781 386.660156 L 213.265625 386.851562 L 213.609375 387.078125 L 213.953125 387.324219 L 214.296875 387.605469 L 214.640625 387.914062 L 214.980469 388.246094 L 215.324219 388.617188 L 215.667969 389.015625 L 216.011719 389.433594 L 216.355469 389.894531 L 216.695312 390.378906 L 217.039062 390.890625 L 217.382812 391.4375 L 217.726562 392.003906 L 218.070312 392.601562 L 218.410156 393.230469 L 218.753906 393.875 L 219.097656 394.558594 L 219.441406 395.261719 L 219.785156 395.980469 L 220.125 396.734375 L 220.46875 397.503906 L 220.8125 398.292969 L 221.15625 399.109375 L 221.5 399.9375 L 221.84375 400.789062 L 222.183594 401.652344 L 222.527344 402.53125 L 222.527344 451.910156 L 47.257812 451.910156 \"/>\n",
       "<g clip-path=\"url(#clip19)\" clip-rule=\"nonzero\">\n",
       "<path style=\" stroke:none;fill-rule:nonzero;fill:rgb(92.156863%,92.156863%,92.156863%);fill-opacity:1;\" d=\"M 236.769531 471.550781 L 429.566406 471.550781 L 429.566406 39.476562 L 236.769531 39.476562 Z \"/>\n",
       "</g>\n",
       "<g clip-path=\"url(#clip20)\" clip-rule=\"nonzero\">\n",
       "<path style=\"fill:none;stroke-width:0.533489;stroke-linecap:butt;stroke-linejoin:round;stroke:rgb(100%,100%,100%);stroke-opacity:1;stroke-miterlimit:10;\" d=\"M 236.769531 409.136719 L 429.566406 409.136719 \"/>\n",
       "</g>\n",
       "<g clip-path=\"url(#clip21)\" clip-rule=\"nonzero\">\n",
       "<path style=\"fill:none;stroke-width:0.533489;stroke-linecap:butt;stroke-linejoin:round;stroke:rgb(100%,100%,100%);stroke-opacity:1;stroke-miterlimit:10;\" d=\"M 236.769531 323.585938 L 429.566406 323.585938 \"/>\n",
       "</g>\n",
       "<g clip-path=\"url(#clip22)\" clip-rule=\"nonzero\">\n",
       "<path style=\"fill:none;stroke-width:0.533489;stroke-linecap:butt;stroke-linejoin:round;stroke:rgb(100%,100%,100%);stroke-opacity:1;stroke-miterlimit:10;\" d=\"M 236.769531 238.035156 L 429.566406 238.035156 \"/>\n",
       "</g>\n",
       "<g clip-path=\"url(#clip23)\" clip-rule=\"nonzero\">\n",
       "<path style=\"fill:none;stroke-width:0.533489;stroke-linecap:butt;stroke-linejoin:round;stroke:rgb(100%,100%,100%);stroke-opacity:1;stroke-miterlimit:10;\" d=\"M 236.769531 152.484375 L 429.566406 152.484375 \"/>\n",
       "</g>\n",
       "<g clip-path=\"url(#clip24)\" clip-rule=\"nonzero\">\n",
       "<path style=\"fill:none;stroke-width:0.533489;stroke-linecap:butt;stroke-linejoin:round;stroke:rgb(100%,100%,100%);stroke-opacity:1;stroke-miterlimit:10;\" d=\"M 236.769531 66.933594 L 429.566406 66.933594 \"/>\n",
       "</g>\n",
       "<g clip-path=\"url(#clip25)\" clip-rule=\"nonzero\">\n",
       "<path style=\"fill:none;stroke-width:0.533489;stroke-linecap:butt;stroke-linejoin:round;stroke:rgb(100%,100%,100%);stroke-opacity:1;stroke-miterlimit:10;\" d=\"M 255.957031 471.550781 L 255.957031 39.476562 \"/>\n",
       "</g>\n",
       "<g clip-path=\"url(#clip26)\" clip-rule=\"nonzero\">\n",
       "<path style=\"fill:none;stroke-width:0.533489;stroke-linecap:butt;stroke-linejoin:round;stroke:rgb(100%,100%,100%);stroke-opacity:1;stroke-miterlimit:10;\" d=\"M 306.796875 471.550781 L 306.796875 39.476562 \"/>\n",
       "</g>\n",
       "<g clip-path=\"url(#clip27)\" clip-rule=\"nonzero\">\n",
       "<path style=\"fill:none;stroke-width:0.533489;stroke-linecap:butt;stroke-linejoin:round;stroke:rgb(100%,100%,100%);stroke-opacity:1;stroke-miterlimit:10;\" d=\"M 357.632812 471.550781 L 357.632812 39.476562 \"/>\n",
       "</g>\n",
       "<g clip-path=\"url(#clip28)\" clip-rule=\"nonzero\">\n",
       "<path style=\"fill:none;stroke-width:0.533489;stroke-linecap:butt;stroke-linejoin:round;stroke:rgb(100%,100%,100%);stroke-opacity:1;stroke-miterlimit:10;\" d=\"M 408.472656 471.550781 L 408.472656 39.476562 \"/>\n",
       "</g>\n",
       "<g clip-path=\"url(#clip29)\" clip-rule=\"nonzero\">\n",
       "<path style=\"fill:none;stroke-width:1.066978;stroke-linecap:butt;stroke-linejoin:round;stroke:rgb(100%,100%,100%);stroke-opacity:1;stroke-miterlimit:10;\" d=\"M 236.769531 451.910156 L 429.566406 451.910156 \"/>\n",
       "</g>\n",
       "<g clip-path=\"url(#clip30)\" clip-rule=\"nonzero\">\n",
       "<path style=\"fill:none;stroke-width:1.066978;stroke-linecap:butt;stroke-linejoin:round;stroke:rgb(100%,100%,100%);stroke-opacity:1;stroke-miterlimit:10;\" d=\"M 236.769531 366.359375 L 429.566406 366.359375 \"/>\n",
       "</g>\n",
       "<g clip-path=\"url(#clip31)\" clip-rule=\"nonzero\">\n",
       "<path style=\"fill:none;stroke-width:1.066978;stroke-linecap:butt;stroke-linejoin:round;stroke:rgb(100%,100%,100%);stroke-opacity:1;stroke-miterlimit:10;\" d=\"M 236.769531 280.8125 L 429.566406 280.8125 \"/>\n",
       "</g>\n",
       "<g clip-path=\"url(#clip32)\" clip-rule=\"nonzero\">\n",
       "<path style=\"fill:none;stroke-width:1.066978;stroke-linecap:butt;stroke-linejoin:round;stroke:rgb(100%,100%,100%);stroke-opacity:1;stroke-miterlimit:10;\" d=\"M 236.769531 195.261719 L 429.566406 195.261719 \"/>\n",
       "</g>\n",
       "<g clip-path=\"url(#clip33)\" clip-rule=\"nonzero\">\n",
       "<path style=\"fill:none;stroke-width:1.066978;stroke-linecap:butt;stroke-linejoin:round;stroke:rgb(100%,100%,100%);stroke-opacity:1;stroke-miterlimit:10;\" d=\"M 236.769531 109.710938 L 429.566406 109.710938 \"/>\n",
       "</g>\n",
       "<g clip-path=\"url(#clip34)\" clip-rule=\"nonzero\">\n",
       "<path style=\"fill:none;stroke-width:1.066978;stroke-linecap:butt;stroke-linejoin:round;stroke:rgb(100%,100%,100%);stroke-opacity:1;stroke-miterlimit:10;\" d=\"M 281.375 471.550781 L 281.375 39.476562 \"/>\n",
       "</g>\n",
       "<g clip-path=\"url(#clip35)\" clip-rule=\"nonzero\">\n",
       "<path style=\"fill:none;stroke-width:1.066978;stroke-linecap:butt;stroke-linejoin:round;stroke:rgb(100%,100%,100%);stroke-opacity:1;stroke-miterlimit:10;\" d=\"M 332.214844 471.550781 L 332.214844 39.476562 \"/>\n",
       "</g>\n",
       "<g clip-path=\"url(#clip36)\" clip-rule=\"nonzero\">\n",
       "<path style=\"fill:none;stroke-width:1.066978;stroke-linecap:butt;stroke-linejoin:round;stroke:rgb(100%,100%,100%);stroke-opacity:1;stroke-miterlimit:10;\" d=\"M 383.054688 471.550781 L 383.054688 39.476562 \"/>\n",
       "</g>\n",
       "<path style=\"fill:none;stroke-width:1.066978;stroke-linecap:round;stroke-linejoin:round;stroke:rgb(97.254902%,46.27451%,42.745098%);stroke-opacity:1;stroke-miterlimit:10;\" d=\"M 245.535156 443.058594 L 245.878906 442.507812 L 246.21875 441.9375 L 246.5625 441.339844 L 246.90625 440.707031 L 247.25 440.054688 L 247.59375 439.375 L 247.933594 438.660156 L 248.277344 437.921875 L 248.621094 437.15625 L 248.964844 436.351562 L 249.308594 435.523438 L 249.648438 434.667969 L 249.992188 433.773438 L 250.335938 432.851562 L 250.679688 431.90625 L 251.023438 430.921875 L 251.363281 429.90625 L 251.707031 428.867188 L 252.050781 427.792969 L 252.394531 426.6875 L 252.738281 425.554688 L 253.078125 424.398438 L 253.421875 423.203125 L 253.765625 421.984375 L 254.109375 420.742188 L 254.453125 419.464844 L 254.792969 418.167969 L 255.136719 416.847656 L 255.480469 415.496094 L 255.824219 414.125 L 256.167969 412.734375 L 256.511719 411.320312 L 256.851562 409.882812 L 257.195312 408.433594 L 257.539062 406.964844 L 257.882812 405.476562 L 258.226562 403.980469 L 258.566406 402.46875 L 258.910156 400.941406 L 259.253906 399.40625 L 259.597656 397.867188 L 259.941406 396.3125 L 260.28125 394.757812 L 260.96875 391.632812 L 261.65625 388.5 L 261.996094 386.9375 L 262.683594 383.820312 L 263.027344 382.265625 L 263.371094 380.722656 L 263.710938 379.183594 L 264.054688 377.65625 L 264.398438 376.136719 L 264.742188 374.628906 L 265.085938 373.128906 L 265.425781 371.648438 L 265.769531 370.179688 L 266.113281 368.71875 L 266.457031 367.28125 L 266.800781 365.855469 L 267.140625 364.441406 L 267.484375 363.046875 L 267.828125 361.667969 L 268.171875 360.304688 L 268.515625 358.957031 L 268.859375 357.632812 L 269.199219 356.316406 L 269.542969 355.019531 L 269.886719 353.742188 L 270.230469 352.480469 L 270.574219 351.230469 L 270.914062 350.003906 L 271.257812 348.789062 L 271.601562 347.585938 L 271.945312 346.40625 L 272.289062 345.238281 L 272.628906 344.078125 L 272.972656 342.941406 L 273.316406 341.8125 L 273.660156 340.699219 L 274.003906 339.597656 L 274.34375 338.511719 L 274.6875 337.433594 L 275.03125 336.367188 L 275.375 335.320312 L 275.71875 334.277344 L 276.058594 333.246094 L 276.402344 332.234375 L 276.746094 331.226562 L 277.089844 330.230469 L 277.433594 329.25 L 277.773438 328.28125 L 278.117188 327.320312 L 278.460938 326.375 L 278.804688 325.441406 L 279.148438 324.519531 L 279.488281 323.609375 L 279.832031 322.71875 L 280.175781 321.839844 L 280.519531 320.972656 L 280.863281 320.128906 L 281.207031 319.296875 L 281.546875 318.480469 L 281.890625 317.6875 L 282.234375 316.914062 L 282.578125 316.15625 L 282.921875 315.425781 L 283.261719 314.71875 L 283.605469 314.027344 L 283.949219 313.367188 L 284.292969 312.734375 L 284.636719 312.125 L 284.976562 311.542969 L 285.320312 311 L 285.664062 310.476562 L 286.007812 309.988281 L 286.351562 309.539062 L 286.691406 309.121094 L 287.035156 308.730469 L 287.378906 308.390625 L 287.722656 308.082031 L 288.066406 307.804688 L 288.40625 307.582031 L 288.75 307.394531 L 289.09375 307.242188 L 289.4375 307.140625 L 289.78125 307.082031 L 290.121094 307.058594 L 290.464844 307.082031 L 290.808594 307.160156 L 291.152344 307.273438 L 291.496094 307.429688 L 291.835938 307.644531 L 292.179688 307.894531 L 292.523438 308.183594 L 292.867188 308.539062 L 293.210938 308.929688 L 293.554688 309.355469 L 293.894531 309.839844 L 294.238281 310.367188 L 294.582031 310.925781 L 294.925781 311.539062 L 295.269531 312.191406 L 295.609375 312.878906 L 295.953125 313.609375 L 296.296875 314.382812 L 296.640625 315.1875 L 296.984375 316.027344 L 297.324219 316.910156 L 297.667969 317.816406 L 298.011719 318.75 L 298.355469 319.722656 L 298.699219 320.71875 L 299.039062 321.734375 L 299.382812 322.78125 L 299.726562 323.847656 L 300.070312 324.929688 L 300.414062 326.03125 L 300.753906 327.144531 L 301.097656 328.269531 L 301.441406 329.40625 L 302.128906 331.703125 L 302.46875 332.855469 L 302.8125 334.011719 L 303.15625 335.164062 L 303.5 336.3125 L 303.84375 337.457031 L 304.183594 338.589844 L 304.527344 339.71875 L 304.871094 340.832031 L 305.214844 341.929688 L 305.558594 343.015625 L 305.902344 344.082031 L 306.242188 345.128906 L 306.585938 346.160156 L 306.929688 347.164062 L 307.273438 348.144531 L 307.617188 349.101562 L 307.957031 350.035156 L 308.300781 350.933594 L 308.644531 351.8125 L 308.988281 352.664062 L 309.332031 353.476562 L 309.671875 354.261719 L 310.015625 355.023438 L 310.359375 355.746094 L 310.703125 356.4375 L 311.046875 357.101562 L 311.386719 357.730469 L 311.730469 358.328125 L 312.074219 358.898438 L 312.417969 359.4375 L 312.761719 359.9375 L 313.101562 360.410156 L 313.445312 360.859375 L 313.789062 361.269531 L 314.132812 361.65625 L 314.476562 362.015625 L 314.816406 362.339844 L 315.160156 362.640625 L 315.503906 362.921875 L 315.847656 363.167969 L 316.191406 363.390625 L 316.53125 363.59375 L 316.875 363.773438 L 317.21875 363.925781 L 317.5625 364.0625 L 317.90625 364.179688 L 318.25 364.273438 L 318.589844 364.351562 L 318.933594 364.410156 L 319.277344 364.453125 L 319.621094 364.480469 L 319.964844 364.496094 L 320.304688 364.492188 L 320.648438 364.476562 L 320.992188 364.453125 L 321.335938 364.417969 L 321.679688 364.371094 L 322.019531 364.316406 L 322.363281 364.253906 L 323.050781 364.105469 L 323.394531 364.023438 L 323.734375 363.9375 L 324.078125 363.847656 L 325.109375 363.566406 L 325.449219 363.472656 L 326.136719 363.285156 L 326.824219 363.113281 L 327.164062 363.035156 L 327.507812 362.964844 L 327.851562 362.898438 L 328.195312 362.839844 L 328.539062 362.792969 L 328.878906 362.75 L 329.222656 362.726562 L 329.566406 362.707031 L 329.910156 362.703125 L 330.253906 362.714844 L 330.597656 362.738281 L 330.9375 362.777344 L 331.28125 362.835938 L 331.625 362.910156 L 331.96875 362.996094 L 332.3125 363.109375 L 332.652344 363.238281 L 332.996094 363.386719 L 333.339844 363.554688 L 333.683594 363.75 L 334.027344 363.960938 L 334.367188 364.195312 L 334.710938 364.457031 L 335.054688 364.738281 L 335.398438 365.039062 L 335.742188 365.375 L 336.082031 365.726562 L 336.425781 366.101562 L 336.769531 366.507812 L 337.113281 366.933594 L 337.457031 367.382812 L 337.796875 367.859375 L 338.140625 368.359375 L 338.484375 368.882812 L 338.828125 369.429688 L 339.171875 370.003906 L 339.511719 370.59375 L 339.855469 371.207031 L 340.199219 371.851562 L 340.542969 372.511719 L 340.886719 373.1875 L 341.230469 373.894531 L 341.570312 374.617188 L 341.914062 375.351562 L 342.257812 376.113281 L 342.601562 376.890625 L 342.945312 377.683594 L 343.285156 378.492188 L 343.628906 379.316406 L 343.972656 380.152344 L 344.316406 381.003906 L 344.660156 381.871094 L 345 382.742188 L 345.34375 383.628906 L 345.6875 384.523438 L 346.03125 385.425781 L 346.375 386.335938 L 346.714844 387.253906 L 347.058594 388.175781 L 347.402344 389.101562 L 348.089844 390.96875 L 348.429688 391.90625 L 349.804688 395.65625 L 350.144531 396.589844 L 350.832031 398.449219 L 351.175781 399.371094 L 351.519531 400.289062 L 351.859375 401.203125 L 352.203125 402.109375 L 352.546875 403.011719 L 352.890625 403.90625 L 353.234375 404.789062 L 353.578125 405.667969 L 353.917969 406.539062 L 354.261719 407.398438 L 354.605469 408.246094 L 354.949219 409.089844 L 355.292969 409.917969 L 355.632812 410.738281 L 355.976562 411.546875 L 356.320312 412.347656 L 356.664062 413.132812 L 357.007812 413.90625 L 357.347656 414.675781 L 357.691406 415.425781 L 358.035156 416.164062 L 358.378906 416.894531 L 358.722656 417.609375 L 359.0625 418.3125 L 359.40625 419.007812 L 359.75 419.6875 L 360.09375 420.351562 L 360.4375 421.007812 L 360.777344 421.652344 L 361.121094 422.28125 L 361.464844 422.898438 L 361.808594 423.507812 L 362.152344 424.097656 L 362.492188 424.679688 L 362.835938 425.25 L 363.179688 425.804688 L 363.523438 426.347656 L 363.867188 426.882812 L 364.207031 427.398438 L 364.550781 427.90625 L 364.894531 428.402344 L 365.238281 428.886719 L 365.582031 429.355469 L 365.925781 429.816406 L 366.265625 430.265625 L 366.609375 430.699219 L 366.953125 431.121094 L 367.296875 431.535156 L 367.640625 431.933594 L 367.980469 432.320312 L 368.324219 432.699219 L 368.667969 433.058594 L 369.011719 433.410156 L 369.355469 433.753906 L 369.695312 434.078125 L 370.039062 434.394531 L 370.382812 434.699219 L 370.726562 434.992188 L 371.070312 435.269531 L 371.410156 435.539062 L 371.753906 435.796875 L 372.097656 436.042969 L 372.441406 436.277344 L 372.785156 436.5 L 373.125 436.707031 L 373.46875 436.90625 L 373.8125 437.09375 L 374.15625 437.269531 L 374.5 437.433594 L 374.839844 437.589844 L 375.183594 437.730469 L 375.527344 437.859375 L 375.871094 437.984375 L 376.214844 438.09375 L 376.554688 438.195312 L 376.898438 438.285156 L 377.242188 438.367188 L 377.585938 438.433594 L 377.929688 438.496094 L 378.273438 438.550781 L 378.613281 438.59375 L 378.957031 438.628906 L 379.300781 438.65625 L 379.644531 438.671875 L 379.988281 438.683594 L 380.328125 438.691406 L 380.671875 438.6875 L 381.359375 438.664062 L 381.703125 438.640625 L 382.042969 438.617188 L 382.386719 438.585938 L 382.730469 438.550781 L 383.417969 438.464844 L 383.757812 438.417969 L 384.445312 438.316406 L 385.132812 438.207031 L 385.472656 438.148438 L 386.503906 437.972656 L 386.847656 437.910156 L 387.1875 437.851562 L 387.53125 437.792969 L 387.875 437.738281 L 388.21875 437.679688 L 388.5625 437.628906 L 388.902344 437.574219 L 389.246094 437.523438 L 389.589844 437.480469 L 389.933594 437.433594 L 390.621094 437.355469 L 390.960938 437.320312 L 391.304688 437.289062 L 391.992188 437.242188 L 392.335938 437.222656 L 392.675781 437.210938 L 393.019531 437.203125 L 393.363281 437.199219 L 393.707031 437.199219 L 394.050781 437.207031 L 394.390625 437.21875 L 394.734375 437.238281 L 395.078125 437.261719 L 395.765625 437.324219 L 396.105469 437.367188 L 396.449219 437.414062 L 396.792969 437.46875 L 397.136719 437.527344 L 397.480469 437.59375 L 397.820312 437.664062 L 398.164062 437.742188 L 398.507812 437.828125 L 398.851562 437.921875 L 399.195312 438.019531 L 399.535156 438.125 L 399.878906 438.234375 L 400.222656 438.351562 L 400.566406 438.476562 L 400.910156 438.609375 L 401.25 438.746094 L 401.59375 438.890625 L 401.9375 439.039062 L 402.28125 439.195312 L 402.625 439.355469 L 402.96875 439.523438 L 403.308594 439.699219 L 403.652344 439.878906 L 403.996094 440.0625 L 404.683594 440.445312 L 405.023438 440.648438 L 405.367188 440.851562 L 405.710938 441.058594 L 406.398438 441.488281 L 406.738281 441.707031 L 407.769531 442.386719 L 408.113281 442.617188 L 408.453125 442.851562 L 409.140625 443.320312 L 409.484375 443.558594 L 409.828125 443.792969 L 410.167969 444.03125 L 410.511719 444.269531 L 410.855469 444.503906 L 411.199219 444.742188 L 411.542969 444.976562 L 411.882812 445.210938 L 412.570312 445.671875 L 412.914062 445.898438 L 413.257812 446.121094 L 413.597656 446.34375 L 414.285156 446.773438 L 414.628906 446.984375 L 414.972656 447.191406 L 415.316406 447.394531 L 415.65625 447.59375 L 416.34375 447.976562 L 416.6875 448.160156 L 417.03125 448.339844 L 417.371094 448.511719 L 417.714844 448.683594 L 418.402344 449.003906 L 418.746094 449.15625 L 419.085938 449.304688 L 419.429688 449.449219 L 419.773438 449.585938 L 420.117188 449.71875 L 420.460938 449.84375 L 420.800781 449.964844 L 420.800781 451.910156 L 245.535156 451.910156 L 245.535156 443.058594 \"/>\n",
       "<path style=\"fill:none;stroke-width:1.066978;stroke-linecap:round;stroke-linejoin:round;stroke:rgb(97.254902%,46.27451%,42.745098%);stroke-opacity:1;stroke-dasharray:2.133957,2.133957;stroke-miterlimit:10;\" d=\"M 245.535156 430.898438 L 245.878906 430.378906 L 246.21875 429.855469 L 246.5625 429.316406 L 246.90625 428.769531 L 247.25 428.214844 L 247.59375 427.648438 L 247.933594 427.070312 L 248.277344 426.480469 L 248.621094 425.878906 L 248.964844 425.269531 L 249.308594 424.644531 L 249.648438 424.007812 L 249.992188 423.363281 L 250.335938 422.699219 L 250.679688 422.03125 L 251.023438 421.34375 L 251.363281 420.644531 L 251.707031 419.933594 L 252.050781 419.203125 L 252.394531 418.46875 L 252.738281 417.714844 L 253.078125 416.945312 L 253.421875 416.167969 L 253.765625 415.367188 L 254.109375 414.558594 L 254.453125 413.734375 L 254.792969 412.890625 L 255.136719 412.039062 L 255.480469 411.167969 L 255.824219 410.28125 L 256.167969 409.386719 L 256.511719 408.46875 L 256.851562 407.539062 L 257.195312 406.59375 L 257.539062 405.632812 L 257.882812 404.664062 L 258.226562 403.671875 L 258.566406 402.667969 L 258.910156 401.652344 L 259.253906 400.621094 L 259.597656 399.578125 L 259.941406 398.515625 L 260.28125 397.441406 L 260.625 396.363281 L 260.96875 395.261719 L 261.3125 394.152344 L 261.65625 393.03125 L 261.996094 391.894531 L 262.339844 390.753906 L 262.683594 389.597656 L 263.027344 388.4375 L 263.371094 387.265625 L 263.710938 386.082031 L 264.054688 384.894531 L 264.742188 382.496094 L 265.085938 381.289062 L 265.425781 380.074219 L 266.113281 377.636719 L 266.457031 376.414062 L 266.800781 375.1875 L 267.140625 373.960938 L 268.171875 370.292969 L 268.515625 369.074219 L 268.859375 367.859375 L 269.199219 366.652344 L 269.542969 365.445312 L 269.886719 364.25 L 270.230469 363.0625 L 270.574219 361.882812 L 270.914062 360.714844 L 271.257812 359.554688 L 271.601562 358.414062 L 271.945312 357.28125 L 272.289062 356.160156 L 272.628906 355.0625 L 272.972656 353.972656 L 273.316406 352.90625 L 273.660156 351.859375 L 274.003906 350.824219 L 274.34375 349.816406 L 274.6875 348.828125 L 275.03125 347.855469 L 275.375 346.917969 L 275.71875 345.992188 L 276.058594 345.101562 L 276.402344 344.234375 L 276.746094 343.382812 L 277.089844 342.574219 L 277.433594 341.785156 L 277.773438 341.023438 L 278.117188 340.296875 L 278.460938 339.589844 L 278.804688 338.925781 L 279.148438 338.289062 L 279.488281 337.675781 L 279.832031 337.105469 L 280.175781 336.558594 L 280.519531 336.050781 L 280.863281 335.574219 L 281.207031 335.121094 L 281.546875 334.722656 L 281.890625 334.34375 L 282.234375 333.996094 L 282.578125 333.695312 L 282.921875 333.414062 L 283.261719 333.175781 L 283.605469 332.972656 L 283.949219 332.792969 L 284.292969 332.660156 L 284.636719 332.550781 L 284.976562 332.480469 L 285.320312 332.445312 L 285.664062 332.433594 L 286.007812 332.46875 L 286.351562 332.527344 L 286.691406 332.613281 L 287.035156 332.742188 L 287.378906 332.890625 L 287.722656 333.078125 L 288.066406 333.292969 L 288.40625 333.527344 L 288.75 333.808594 L 289.09375 334.105469 L 289.4375 334.429688 L 289.78125 334.789062 L 290.121094 335.160156 L 290.464844 335.570312 L 290.808594 335.996094 L 291.152344 336.445312 L 291.496094 336.925781 L 291.835938 337.417969 L 292.179688 337.933594 L 292.523438 338.472656 L 292.867188 339.023438 L 293.210938 339.605469 L 293.554688 340.195312 L 293.894531 340.804688 L 294.238281 341.429688 L 294.582031 342.066406 L 294.925781 342.722656 L 295.269531 343.386719 L 295.609375 344.0625 L 295.953125 344.753906 L 296.296875 345.453125 L 296.640625 346.160156 L 296.984375 346.878906 L 297.324219 347.601562 L 297.667969 348.332031 L 298.011719 349.066406 L 298.355469 349.808594 L 298.699219 350.554688 L 299.039062 351.300781 L 299.382812 352.054688 L 299.726562 352.804688 L 300.070312 353.558594 L 300.414062 354.308594 L 300.753906 355.0625 L 301.097656 355.8125 L 301.441406 356.558594 L 302.128906 358.042969 L 302.46875 358.777344 L 302.8125 359.507812 L 303.15625 360.230469 L 303.5 360.949219 L 303.84375 361.660156 L 304.183594 362.363281 L 304.527344 363.058594 L 304.871094 363.742188 L 305.214844 364.417969 L 305.558594 365.085938 L 305.902344 365.738281 L 306.242188 366.386719 L 306.585938 367.015625 L 306.929688 367.636719 L 307.273438 368.246094 L 307.617188 368.839844 L 307.957031 369.425781 L 308.300781 369.996094 L 308.644531 370.550781 L 308.988281 371.097656 L 309.332031 371.621094 L 309.671875 372.132812 L 310.015625 372.632812 L 310.359375 373.113281 L 310.703125 373.585938 L 311.046875 374.035156 L 311.386719 374.472656 L 311.730469 374.898438 L 312.074219 375.300781 L 312.417969 375.695312 L 312.761719 376.070312 L 313.101562 376.425781 L 313.445312 376.777344 L 313.789062 377.101562 L 314.132812 377.414062 L 314.476562 377.710938 L 314.816406 377.992188 L 315.160156 378.261719 L 315.503906 378.511719 L 315.847656 378.75 L 316.191406 378.972656 L 316.53125 379.179688 L 316.875 379.375 L 317.21875 379.554688 L 317.5625 379.722656 L 317.90625 379.878906 L 318.25 380.019531 L 318.589844 380.148438 L 318.933594 380.265625 L 319.277344 380.371094 L 319.621094 380.46875 L 319.964844 380.550781 L 320.304688 380.625 L 320.648438 380.695312 L 321.335938 380.796875 L 321.679688 380.835938 L 322.019531 380.871094 L 322.363281 380.898438 L 322.707031 380.917969 L 323.050781 380.933594 L 323.394531 380.941406 L 323.734375 380.949219 L 324.078125 380.953125 L 324.421875 380.953125 L 324.765625 380.949219 L 325.109375 380.949219 L 325.449219 380.945312 L 326.480469 380.933594 L 327.164062 380.933594 L 327.851562 380.949219 L 328.539062 380.980469 L 328.878906 381.003906 L 329.222656 381.035156 L 329.566406 381.070312 L 329.910156 381.117188 L 330.253906 381.167969 L 330.597656 381.230469 L 330.9375 381.300781 L 331.28125 381.375 L 331.625 381.464844 L 331.96875 381.5625 L 332.3125 381.671875 L 332.652344 381.792969 L 332.996094 381.921875 L 333.339844 382.0625 L 333.683594 382.21875 L 334.027344 382.378906 L 334.367188 382.558594 L 334.710938 382.75 L 335.054688 382.949219 L 335.398438 383.164062 L 335.742188 383.386719 L 336.082031 383.625 L 336.425781 383.878906 L 336.769531 384.136719 L 337.113281 384.414062 L 337.457031 384.703125 L 337.796875 385 L 338.140625 385.3125 L 338.484375 385.628906 L 338.828125 385.964844 L 339.171875 386.308594 L 339.511719 386.660156 L 339.855469 387.027344 L 340.199219 387.398438 L 340.542969 387.78125 L 340.886719 388.171875 L 341.230469 388.570312 L 341.570312 388.980469 L 341.914062 389.390625 L 342.257812 389.8125 L 342.945312 390.671875 L 343.285156 391.109375 L 343.628906 391.550781 L 343.972656 391.996094 L 344.660156 392.894531 L 345 393.347656 L 346.03125 394.707031 L 346.375 395.15625 L 346.714844 395.605469 L 347.058594 396.054688 L 347.402344 396.5 L 348.089844 397.375 L 348.429688 397.804688 L 349.117188 398.648438 L 349.460938 399.058594 L 349.804688 399.460938 L 350.144531 399.859375 L 350.488281 400.242188 L 350.832031 400.621094 L 351.175781 400.988281 L 351.519531 401.34375 L 351.859375 401.695312 L 352.203125 402.027344 L 352.546875 402.351562 L 352.890625 402.667969 L 353.234375 402.964844 L 353.578125 403.253906 L 353.917969 403.527344 L 354.261719 403.789062 L 354.605469 404.039062 L 354.949219 404.273438 L 355.292969 404.496094 L 355.632812 404.707031 L 355.976562 404.898438 L 356.320312 405.078125 L 356.664062 405.246094 L 357.007812 405.398438 L 357.347656 405.539062 L 357.691406 405.664062 L 358.035156 405.777344 L 358.378906 405.875 L 358.722656 405.957031 L 359.0625 406.035156 L 359.40625 406.09375 L 359.75 406.140625 L 360.09375 406.179688 L 360.4375 406.199219 L 360.777344 406.210938 L 361.121094 406.214844 L 361.464844 406.203125 L 361.808594 406.1875 L 362.152344 406.15625 L 362.492188 406.117188 L 362.835938 406.070312 L 363.179688 406.011719 L 363.523438 405.949219 L 363.867188 405.878906 L 364.207031 405.800781 L 364.550781 405.71875 L 364.894531 405.628906 L 365.238281 405.535156 L 365.582031 405.4375 L 365.925781 405.332031 L 366.265625 405.226562 L 367.296875 404.898438 L 367.640625 404.785156 L 367.980469 404.671875 L 368.324219 404.558594 L 369.355469 404.230469 L 369.695312 404.128906 L 370.039062 404.027344 L 370.382812 403.929688 L 370.726562 403.835938 L 371.070312 403.746094 L 371.410156 403.664062 L 371.753906 403.585938 L 372.441406 403.453125 L 372.785156 403.398438 L 373.125 403.351562 L 373.46875 403.308594 L 373.8125 403.277344 L 374.15625 403.253906 L 374.5 403.238281 L 375.183594 403.238281 L 375.527344 403.257812 L 375.871094 403.285156 L 376.214844 403.316406 L 376.554688 403.367188 L 376.898438 403.425781 L 377.242188 403.496094 L 377.585938 403.578125 L 377.929688 403.664062 L 378.273438 403.773438 L 378.613281 403.886719 L 378.957031 404.011719 L 379.300781 404.152344 L 379.644531 404.300781 L 379.988281 404.464844 L 380.328125 404.636719 L 380.671875 404.820312 L 381.015625 405.019531 L 381.359375 405.222656 L 381.703125 405.441406 L 382.042969 405.671875 L 382.386719 405.910156 L 382.730469 406.164062 L 383.074219 406.425781 L 383.417969 406.695312 L 383.757812 406.980469 L 384.101562 407.269531 L 384.445312 407.570312 L 384.789062 407.882812 L 385.132812 408.199219 L 385.472656 408.527344 L 385.816406 408.863281 L 386.160156 409.207031 L 386.847656 409.917969 L 387.1875 410.289062 L 387.53125 410.660156 L 387.875 411.039062 L 388.5625 411.820312 L 388.902344 412.21875 L 389.246094 412.621094 L 389.589844 413.027344 L 390.277344 413.855469 L 390.621094 414.277344 L 390.960938 414.699219 L 391.304688 415.125 L 391.648438 415.554688 L 392.335938 416.421875 L 392.675781 416.859375 L 393.019531 417.296875 L 393.363281 417.738281 L 393.707031 418.175781 L 394.050781 418.617188 L 394.390625 419.0625 L 395.421875 420.386719 L 395.765625 420.832031 L 396.105469 421.273438 L 396.449219 421.714844 L 397.136719 422.589844 L 397.480469 423.03125 L 397.820312 423.464844 L 398.851562 424.765625 L 399.195312 425.195312 L 399.535156 425.621094 L 399.878906 426.046875 L 400.566406 426.890625 L 400.910156 427.308594 L 401.25 427.722656 L 401.59375 428.136719 L 401.9375 428.546875 L 402.625 429.359375 L 402.96875 429.761719 L 403.308594 430.160156 L 403.996094 430.949219 L 404.683594 431.730469 L 405.023438 432.113281 L 405.367188 432.496094 L 405.710938 432.875 L 406.054688 433.25 L 406.398438 433.621094 L 406.738281 433.992188 L 407.425781 434.71875 L 408.113281 435.4375 L 408.453125 435.789062 L 408.796875 436.140625 L 409.140625 436.488281 L 409.484375 436.832031 L 409.828125 437.171875 L 410.167969 437.507812 L 410.855469 438.171875 L 411.542969 438.820312 L 411.882812 439.136719 L 412.226562 439.453125 L 412.570312 439.765625 L 412.914062 440.074219 L 413.257812 440.378906 L 413.597656 440.679688 L 413.941406 440.976562 L 414.285156 441.269531 L 414.628906 441.558594 L 415.316406 442.121094 L 415.65625 442.398438 L 416 442.671875 L 416.34375 442.941406 L 417.03125 443.464844 L 417.371094 443.71875 L 418.058594 444.21875 L 418.402344 444.460938 L 418.746094 444.699219 L 419.085938 444.933594 L 419.773438 445.386719 L 420.117188 445.605469 L 420.460938 445.820312 L 420.800781 446.03125 L 420.800781 451.910156 L 245.535156 451.910156 L 245.535156 430.898438 \"/>\n",
       "<path style=\"fill:none;stroke-width:1.066978;stroke-linecap:round;stroke-linejoin:round;stroke:rgb(0%,74.901961%,76.862745%);stroke-opacity:1;stroke-miterlimit:10;\" d=\"M 245.535156 450.65625 L 245.878906 450.578125 L 246.21875 450.5 L 246.90625 450.328125 L 247.25 450.238281 L 247.59375 450.144531 L 247.933594 450.046875 L 248.621094 449.84375 L 249.308594 449.625 L 249.648438 449.511719 L 249.992188 449.394531 L 250.679688 449.152344 L 251.023438 449.027344 L 251.363281 448.898438 L 252.050781 448.632812 L 252.394531 448.496094 L 252.738281 448.355469 L 253.078125 448.214844 L 253.421875 448.074219 L 253.765625 447.925781 L 254.109375 447.78125 L 254.453125 447.632812 L 254.792969 447.484375 L 255.136719 447.335938 L 256.511719 446.726562 L 256.851562 446.574219 L 257.195312 446.421875 L 257.539062 446.265625 L 257.882812 446.113281 L 258.226562 445.964844 L 258.566406 445.8125 L 258.910156 445.664062 L 259.253906 445.511719 L 259.597656 445.367188 L 259.941406 445.21875 L 260.28125 445.074219 L 260.625 444.929688 L 260.96875 444.789062 L 261.3125 444.644531 L 261.65625 444.507812 L 261.996094 444.367188 L 262.339844 444.230469 L 263.371094 443.832031 L 263.710938 443.699219 L 264.054688 443.570312 L 264.398438 443.4375 L 265.085938 443.179688 L 265.425781 443.050781 L 266.113281 442.792969 L 266.800781 442.527344 L 267.140625 442.394531 L 267.828125 442.121094 L 268.515625 441.832031 L 268.859375 441.683594 L 269.199219 441.527344 L 269.542969 441.367188 L 269.886719 441.203125 L 270.230469 441.03125 L 270.574219 440.851562 L 270.914062 440.667969 L 271.257812 440.472656 L 271.601562 440.269531 L 271.945312 440.058594 L 272.289062 439.839844 L 272.628906 439.605469 L 272.972656 439.359375 L 273.316406 439.105469 L 273.660156 438.835938 L 274.003906 438.554688 L 274.34375 438.265625 L 274.6875 437.953125 L 275.03125 437.628906 L 275.375 437.292969 L 275.71875 436.933594 L 276.058594 436.5625 L 276.402344 436.175781 L 276.746094 435.765625 L 277.089844 435.335938 L 277.433594 434.898438 L 277.773438 434.429688 L 278.117188 433.945312 L 278.460938 433.445312 L 278.804688 432.914062 L 279.148438 432.367188 L 279.488281 431.804688 L 279.832031 431.207031 L 280.175781 430.59375 L 280.519531 429.960938 L 280.863281 429.296875 L 281.207031 428.609375 L 281.546875 427.90625 L 281.890625 427.171875 L 282.234375 426.410156 L 282.578125 425.628906 L 282.921875 424.816406 L 283.261719 423.980469 L 283.605469 423.121094 L 283.949219 422.234375 L 284.292969 421.316406 L 284.636719 420.375 L 284.976562 419.40625 L 285.320312 418.40625 L 285.664062 417.386719 L 286.007812 416.335938 L 286.351562 415.25 L 286.691406 414.144531 L 287.035156 413.011719 L 287.378906 411.84375 L 287.722656 410.65625 L 288.066406 409.4375 L 288.40625 408.1875 L 288.75 406.914062 L 289.09375 405.613281 L 289.4375 404.277344 L 289.78125 402.921875 L 290.121094 401.542969 L 290.464844 400.125 L 290.808594 398.6875 L 291.152344 397.230469 L 291.496094 395.734375 L 291.835938 394.222656 L 292.179688 392.6875 L 292.523438 391.121094 L 292.867188 389.535156 L 293.210938 387.933594 L 293.554688 386.300781 L 293.894531 384.652344 L 294.238281 382.988281 L 294.582031 381.296875 L 294.925781 379.589844 L 295.269531 377.871094 L 295.609375 376.132812 L 295.953125 374.382812 L 296.296875 372.625 L 296.640625 370.851562 L 296.984375 369.070312 L 297.324219 367.28125 L 297.667969 365.484375 L 298.355469 361.882812 L 298.699219 360.078125 L 299.039062 358.277344 L 299.382812 356.480469 L 299.726562 354.6875 L 300.070312 352.90625 L 300.414062 351.128906 L 300.753906 349.367188 L 301.097656 347.617188 L 301.441406 345.882812 L 301.785156 344.167969 L 302.128906 342.476562 L 302.46875 340.804688 L 302.8125 339.160156 L 303.15625 337.546875 L 303.5 335.957031 L 303.84375 334.398438 L 304.183594 332.886719 L 304.527344 331.398438 L 304.871094 329.949219 L 305.214844 328.554688 L 305.558594 327.191406 L 305.902344 325.867188 L 306.242188 324.609375 L 306.585938 323.386719 L 306.929688 322.210938 L 307.273438 321.105469 L 307.617188 320.042969 L 307.957031 319.023438 L 308.300781 318.085938 L 308.644531 317.195312 L 308.988281 316.347656 L 309.332031 315.589844 L 309.671875 314.878906 L 310.015625 314.21875 L 310.359375 313.644531 L 310.703125 313.125 L 311.046875 312.652344 L 311.386719 312.269531 L 311.730469 311.941406 L 312.074219 311.664062 L 312.417969 311.472656 L 312.761719 311.335938 L 313.101562 311.246094 L 313.445312 311.242188 L 313.789062 311.292969 L 314.132812 311.390625 L 314.476562 311.566406 L 314.816406 311.796875 L 315.160156 312.074219 L 315.503906 312.417969 L 315.847656 312.816406 L 316.191406 313.257812 L 316.53125 313.761719 L 316.875 314.316406 L 317.21875 314.90625 L 317.5625 315.550781 L 317.90625 316.242188 L 318.25 316.96875 L 318.589844 317.734375 L 318.933594 318.546875 L 319.277344 319.386719 L 319.621094 320.257812 L 319.964844 321.171875 L 320.304688 322.105469 L 320.648438 323.0625 L 320.992188 324.054688 L 321.335938 325.0625 L 321.679688 326.089844 L 322.019531 327.136719 L 322.363281 328.199219 L 322.707031 329.269531 L 323.050781 330.359375 L 323.394531 331.453125 L 323.734375 332.554688 L 324.078125 333.664062 L 324.421875 334.769531 L 324.765625 335.882812 L 325.109375 336.992188 L 325.449219 338.097656 L 325.792969 339.199219 L 326.136719 340.292969 L 326.480469 341.382812 L 326.824219 342.460938 L 327.164062 343.527344 L 327.507812 344.578125 L 327.851562 345.621094 L 328.195312 346.644531 L 328.539062 347.648438 L 328.878906 348.640625 L 329.222656 349.609375 L 329.566406 350.558594 L 329.910156 351.488281 L 330.253906 352.390625 L 330.597656 353.269531 L 330.9375 354.132812 L 331.28125 354.964844 L 331.625 355.765625 L 331.96875 356.550781 L 332.3125 357.300781 L 332.652344 358.019531 L 332.996094 358.71875 L 333.339844 359.386719 L 333.683594 360.019531 L 334.027344 360.628906 L 334.367188 361.207031 L 334.710938 361.75 L 335.054688 362.269531 L 335.398438 362.757812 L 335.742188 363.207031 L 336.082031 363.636719 L 336.425781 364.035156 L 336.769531 364.394531 L 337.113281 364.730469 L 337.457031 365.039062 L 337.796875 365.308594 L 338.140625 365.554688 L 338.484375 365.777344 L 338.828125 365.964844 L 339.171875 366.128906 L 339.511719 366.269531 L 339.855469 366.375 L 340.199219 366.464844 L 340.542969 366.53125 L 340.886719 366.566406 L 341.230469 366.585938 L 341.570312 366.585938 L 341.914062 366.558594 L 342.257812 366.519531 L 342.601562 366.464844 L 342.945312 366.390625 L 343.285156 366.300781 L 343.628906 366.199219 L 343.972656 366.085938 L 344.316406 365.960938 L 344.660156 365.828125 L 345 365.6875 L 345.34375 365.539062 L 345.6875 365.386719 L 346.03125 365.230469 L 346.375 365.070312 L 346.714844 364.914062 L 347.058594 364.753906 L 347.402344 364.597656 L 347.746094 364.445312 L 348.089844 364.296875 L 348.429688 364.15625 L 348.773438 364.019531 L 349.117188 363.890625 L 349.460938 363.773438 L 349.804688 363.664062 L 350.144531 363.566406 L 350.488281 363.480469 L 350.832031 363.410156 L 351.175781 363.347656 L 351.519531 363.308594 L 351.859375 363.277344 L 352.203125 363.261719 L 352.546875 363.265625 L 352.890625 363.28125 L 353.234375 363.3125 L 353.578125 363.363281 L 353.917969 363.429688 L 354.261719 363.511719 L 354.605469 363.613281 L 354.949219 363.730469 L 355.292969 363.859375 L 355.632812 364.007812 L 355.976562 364.171875 L 356.320312 364.347656 L 356.664062 364.542969 L 357.007812 364.75 L 357.347656 364.964844 L 357.691406 365.199219 L 358.035156 365.441406 L 358.378906 365.695312 L 358.722656 365.960938 L 359.0625 366.234375 L 359.40625 366.515625 L 359.75 366.804688 L 360.09375 367.101562 L 360.4375 367.402344 L 360.777344 367.710938 L 361.464844 368.328125 L 361.808594 368.644531 L 362.152344 368.957031 L 362.492188 369.269531 L 363.179688 369.894531 L 363.523438 370.203125 L 363.867188 370.503906 L 364.207031 370.804688 L 364.550781 371.097656 L 364.894531 371.386719 L 365.238281 371.664062 L 365.582031 371.9375 L 365.925781 372.203125 L 366.265625 372.460938 L 366.609375 372.710938 L 366.953125 372.949219 L 367.296875 373.179688 L 367.640625 373.402344 L 367.980469 373.613281 L 368.324219 373.8125 L 368.667969 374.003906 L 369.011719 374.1875 L 369.355469 374.355469 L 369.695312 374.519531 L 370.039062 374.675781 L 370.382812 374.816406 L 370.726562 374.953125 L 371.070312 375.082031 L 371.410156 375.203125 L 371.753906 375.316406 L 372.097656 375.425781 L 372.441406 375.527344 L 372.785156 375.625 L 373.125 375.722656 L 373.46875 375.8125 L 373.8125 375.898438 L 374.15625 375.988281 L 374.5 376.074219 L 374.839844 376.164062 L 375.183594 376.253906 L 375.527344 376.347656 L 376.214844 376.542969 L 376.554688 376.652344 L 376.898438 376.765625 L 377.242188 376.886719 L 377.585938 377.019531 L 377.929688 377.164062 L 378.273438 377.316406 L 378.613281 377.480469 L 378.957031 377.660156 L 379.300781 377.851562 L 379.644531 378.0625 L 379.988281 378.285156 L 380.328125 378.523438 L 380.671875 378.78125 L 381.015625 379.058594 L 381.359375 379.351562 L 381.703125 379.664062 L 382.042969 380 L 382.386719 380.355469 L 382.730469 380.726562 L 383.074219 381.125 L 383.417969 381.542969 L 383.757812 381.980469 L 384.101562 382.441406 L 384.445312 382.921875 L 384.789062 383.425781 L 385.132812 383.953125 L 385.472656 384.5 L 385.816406 385.0625 L 386.160156 385.65625 L 386.503906 386.265625 L 386.847656 386.890625 L 387.1875 387.542969 L 387.53125 388.207031 L 387.875 388.890625 L 388.21875 389.597656 L 388.5625 390.316406 L 388.902344 391.050781 L 389.246094 391.804688 L 389.589844 392.570312 L 389.933594 393.34375 L 390.277344 394.140625 L 390.621094 394.941406 L 390.960938 395.753906 L 391.304688 396.578125 L 391.648438 397.40625 L 391.992188 398.242188 L 392.335938 399.089844 L 392.675781 399.9375 L 393.363281 401.648438 L 394.050781 403.367188 L 394.390625 404.226562 L 394.734375 405.085938 L 395.078125 405.941406 L 395.765625 407.644531 L 396.105469 408.488281 L 396.449219 409.328125 L 396.792969 410.160156 L 397.136719 410.988281 L 397.480469 411.804688 L 397.820312 412.613281 L 398.164062 413.417969 L 398.507812 414.207031 L 398.851562 414.988281 L 399.195312 415.757812 L 399.535156 416.519531 L 399.878906 417.265625 L 400.222656 418.003906 L 400.566406 418.730469 L 400.910156 419.441406 L 401.25 420.140625 L 401.59375 420.828125 L 401.9375 421.503906 L 402.28125 422.167969 L 402.625 422.816406 L 402.96875 423.453125 L 403.308594 424.078125 L 403.652344 424.695312 L 403.996094 425.292969 L 404.339844 425.882812 L 404.683594 426.460938 L 405.023438 427.023438 L 405.367188 427.578125 L 405.710938 428.125 L 406.054688 428.652344 L 406.398438 429.175781 L 406.738281 429.691406 L 407.082031 430.191406 L 407.425781 430.683594 L 407.769531 431.167969 L 408.113281 431.640625 L 408.453125 432.105469 L 408.796875 432.566406 L 409.140625 433.011719 L 409.484375 433.453125 L 409.828125 433.890625 L 410.167969 434.316406 L 410.511719 434.738281 L 410.855469 435.152344 L 411.199219 435.5625 L 411.542969 435.960938 L 411.882812 436.359375 L 412.226562 436.75 L 412.914062 437.515625 L 413.257812 437.890625 L 413.597656 438.257812 L 413.941406 438.625 L 414.285156 438.984375 L 414.628906 439.339844 L 415.316406 440.035156 L 415.65625 440.375 L 416 440.714844 L 416.34375 441.046875 L 417.03125 441.695312 L 417.371094 442.015625 L 417.714844 442.328125 L 418.058594 442.636719 L 418.402344 442.941406 L 418.746094 443.238281 L 419.085938 443.535156 L 419.429688 443.824219 L 419.773438 444.109375 L 420.460938 444.664062 L 420.800781 444.929688 L 420.800781 451.910156 L 245.535156 451.910156 L 245.535156 450.65625 \"/>\n",
       "<path style=\"fill:none;stroke-width:1.066978;stroke-linecap:round;stroke-linejoin:round;stroke:rgb(0%,74.901961%,76.862745%);stroke-opacity:1;stroke-dasharray:2.133957,2.133957;stroke-miterlimit:10;\" d=\"M 245.535156 451.777344 L 245.878906 451.765625 L 246.21875 451.75 L 247.25 451.703125 L 247.59375 451.683594 L 247.933594 451.667969 L 248.964844 451.597656 L 249.308594 451.570312 L 249.648438 451.542969 L 250.335938 451.480469 L 250.679688 451.445312 L 251.023438 451.40625 L 251.363281 451.363281 L 251.707031 451.320312 L 252.394531 451.226562 L 252.738281 451.171875 L 253.078125 451.113281 L 253.421875 451.054688 L 254.109375 450.921875 L 254.453125 450.847656 L 254.792969 450.765625 L 255.136719 450.683594 L 255.480469 450.59375 L 255.824219 450.5 L 256.167969 450.402344 L 256.511719 450.292969 L 256.851562 450.183594 L 257.195312 450.0625 L 257.539062 449.933594 L 257.882812 449.800781 L 258.226562 449.65625 L 258.566406 449.507812 L 258.910156 449.347656 L 259.253906 449.179688 L 259.597656 449.007812 L 259.941406 448.816406 L 260.28125 448.621094 L 260.625 448.417969 L 261.3125 447.972656 L 261.65625 447.730469 L 261.996094 447.476562 L 262.339844 447.214844 L 262.683594 446.933594 L 263.027344 446.644531 L 263.371094 446.339844 L 263.710938 446.019531 L 264.054688 445.691406 L 264.398438 445.339844 L 264.742188 444.976562 L 265.085938 444.597656 L 265.425781 444.199219 L 265.769531 443.789062 L 266.113281 443.359375 L 266.457031 442.910156 L 266.800781 442.453125 L 267.140625 441.964844 L 267.484375 441.464844 L 267.828125 440.945312 L 268.171875 440.402344 L 268.515625 439.847656 L 268.859375 439.265625 L 269.199219 438.667969 L 269.542969 438.050781 L 269.886719 437.40625 L 270.230469 436.75 L 270.574219 436.066406 L 270.914062 435.363281 L 271.257812 434.648438 L 271.601562 433.894531 L 271.945312 433.128906 L 272.289062 432.34375 L 272.628906 431.53125 L 272.972656 430.703125 L 273.316406 429.847656 L 273.660156 428.972656 L 274.003906 428.082031 L 274.34375 427.164062 L 274.6875 426.230469 L 275.03125 425.269531 L 275.375 424.292969 L 275.71875 423.300781 L 276.058594 422.277344 L 276.402344 421.242188 L 276.746094 420.191406 L 277.089844 419.113281 L 277.433594 418.027344 L 277.773438 416.917969 L 278.117188 415.792969 L 278.460938 414.65625 L 278.804688 413.496094 L 279.148438 412.328125 L 279.488281 411.148438 L 279.832031 409.949219 L 280.175781 408.746094 L 280.519531 407.523438 L 280.863281 406.296875 L 281.207031 405.058594 L 281.546875 403.808594 L 281.890625 402.558594 L 282.234375 401.296875 L 282.578125 400.03125 L 282.921875 398.761719 L 283.261719 397.488281 L 283.605469 396.214844 L 283.949219 394.9375 L 284.636719 392.390625 L 284.976562 391.117188 L 285.664062 388.585938 L 286.351562 386.078125 L 286.691406 384.835938 L 287.035156 383.605469 L 287.378906 382.378906 L 287.722656 381.171875 L 288.066406 379.972656 L 288.40625 378.785156 L 288.75 377.617188 L 289.09375 376.457031 L 289.4375 375.320312 L 289.78125 374.199219 L 290.121094 373.089844 L 290.464844 372.011719 L 290.808594 370.945312 L 291.152344 369.902344 L 291.496094 368.878906 L 291.835938 367.875 L 292.179688 366.902344 L 292.523438 365.945312 L 292.867188 365.007812 L 293.210938 364.105469 L 293.554688 363.21875 L 293.894531 362.363281 L 294.238281 361.53125 L 294.582031 360.714844 L 294.925781 359.941406 L 295.269531 359.183594 L 295.609375 358.449219 L 295.953125 357.75 L 296.296875 357.0625 L 296.640625 356.414062 L 296.984375 355.785156 L 297.324219 355.175781 L 297.667969 354.601562 L 298.011719 354.042969 L 298.355469 353.515625 L 298.699219 353.011719 L 299.039062 352.523438 L 299.382812 352.066406 L 299.726562 351.628906 L 300.070312 351.210938 L 300.414062 350.820312 L 300.753906 350.441406 L 301.097656 350.089844 L 301.441406 349.753906 L 301.785156 349.429688 L 302.128906 349.136719 L 302.46875 348.851562 L 302.8125 348.582031 L 303.15625 348.332031 L 303.5 348.089844 L 303.84375 347.867188 L 304.183594 347.65625 L 304.527344 347.453125 L 304.871094 347.261719 L 305.214844 347.082031 L 305.558594 346.910156 L 305.902344 346.746094 L 306.242188 346.589844 L 306.585938 346.441406 L 306.929688 346.296875 L 307.273438 346.15625 L 307.617188 346.023438 L 307.957031 345.890625 L 308.644531 345.632812 L 309.332031 345.382812 L 309.671875 345.257812 L 310.703125 344.871094 L 311.046875 344.738281 L 311.386719 344.605469 L 311.730469 344.46875 L 312.074219 344.324219 L 312.417969 344.183594 L 312.761719 344.03125 L 313.101562 343.878906 L 313.445312 343.722656 L 313.789062 343.558594 L 314.132812 343.390625 L 314.476562 343.21875 L 314.816406 343.042969 L 315.160156 342.863281 L 315.503906 342.675781 L 315.847656 342.484375 L 316.191406 342.289062 L 316.53125 342.085938 L 316.875 341.882812 L 317.5625 341.460938 L 317.90625 341.246094 L 318.25 341.023438 L 318.589844 340.800781 L 318.933594 340.578125 L 319.621094 340.125 L 319.964844 339.894531 L 320.304688 339.664062 L 321.335938 338.972656 L 321.679688 338.746094 L 322.019531 338.523438 L 322.363281 338.296875 L 322.707031 338.078125 L 323.394531 337.648438 L 323.734375 337.445312 L 324.078125 337.242188 L 324.421875 337.046875 L 324.765625 336.859375 L 325.109375 336.679688 L 325.449219 336.507812 L 325.792969 336.34375 L 326.136719 336.1875 L 326.480469 336.042969 L 326.824219 335.90625 L 327.164062 335.785156 L 327.507812 335.675781 L 327.851562 335.570312 L 328.195312 335.488281 L 328.539062 335.410156 L 328.878906 335.351562 L 329.222656 335.308594 L 329.566406 335.269531 L 329.910156 335.257812 L 330.253906 335.257812 L 330.597656 335.269531 L 330.9375 335.304688 L 331.28125 335.347656 L 331.625 335.417969 L 331.96875 335.5 L 332.3125 335.59375 L 332.652344 335.71875 L 332.996094 335.851562 L 333.339844 336.003906 L 333.683594 336.179688 L 334.027344 336.367188 L 334.367188 336.582031 L 334.710938 336.8125 L 335.054688 337.058594 L 335.398438 337.328125 L 335.742188 337.613281 L 336.082031 337.921875 L 336.425781 338.25 L 336.769531 338.585938 L 337.113281 338.957031 L 337.457031 339.339844 L 337.796875 339.738281 L 338.140625 340.164062 L 338.484375 340.597656 L 338.828125 341.058594 L 339.171875 341.535156 L 339.511719 342.027344 L 339.855469 342.542969 L 340.199219 343.066406 L 340.542969 343.613281 L 340.886719 344.179688 L 341.230469 344.753906 L 341.570312 345.355469 L 341.914062 345.964844 L 342.257812 346.589844 L 342.601562 347.234375 L 342.945312 347.886719 L 343.285156 348.558594 L 343.628906 349.242188 L 343.972656 349.933594 L 344.316406 350.648438 L 344.660156 351.367188 L 345 352.097656 L 345.34375 352.84375 L 345.6875 353.59375 L 346.03125 354.359375 L 346.375 355.132812 L 346.714844 355.914062 L 347.058594 356.707031 L 347.402344 357.503906 L 347.746094 358.308594 L 348.089844 359.121094 L 348.429688 359.933594 L 348.773438 360.757812 L 349.460938 362.414062 L 349.804688 363.25 L 350.144531 364.085938 L 350.488281 364.925781 L 350.832031 365.769531 L 351.175781 366.609375 L 351.519531 367.453125 L 351.859375 368.292969 L 352.203125 369.136719 L 352.890625 370.816406 L 353.234375 371.652344 L 353.578125 372.484375 L 353.917969 373.3125 L 354.261719 374.140625 L 354.605469 374.960938 L 354.949219 375.777344 L 355.292969 376.585938 L 355.632812 377.390625 L 355.976562 378.1875 L 356.320312 378.980469 L 356.664062 379.761719 L 357.007812 380.535156 L 357.347656 381.304688 L 357.691406 382.0625 L 358.035156 382.8125 L 358.378906 383.550781 L 358.722656 384.277344 L 359.0625 385 L 359.40625 385.707031 L 359.75 386.402344 L 360.09375 387.09375 L 360.4375 387.765625 L 360.777344 388.429688 L 361.121094 389.082031 L 361.464844 389.71875 L 361.808594 390.347656 L 362.152344 390.957031 L 362.492188 391.558594 L 362.835938 392.148438 L 363.179688 392.71875 L 363.523438 393.28125 L 363.867188 393.828125 L 364.207031 394.359375 L 364.550781 394.882812 L 364.894531 395.386719 L 365.238281 395.878906 L 365.582031 396.359375 L 365.925781 396.824219 L 366.265625 397.277344 L 366.609375 397.714844 L 366.953125 398.136719 L 367.296875 398.550781 L 367.640625 398.945312 L 367.980469 399.328125 L 368.324219 399.699219 L 368.667969 400.054688 L 369.011719 400.402344 L 369.355469 400.730469 L 369.695312 401.050781 L 370.039062 401.355469 L 370.382812 401.648438 L 370.726562 401.929688 L 371.070312 402.199219 L 371.410156 402.453125 L 371.753906 402.703125 L 372.097656 402.933594 L 372.441406 403.15625 L 372.785156 403.367188 L 373.125 403.566406 L 373.46875 403.761719 L 373.8125 403.941406 L 374.15625 404.109375 L 374.5 404.273438 L 374.839844 404.421875 L 375.183594 404.566406 L 375.527344 404.699219 L 375.871094 404.824219 L 376.214844 404.945312 L 376.554688 405.050781 L 376.898438 405.15625 L 377.242188 405.25 L 377.585938 405.335938 L 377.929688 405.417969 L 378.273438 405.492188 L 378.613281 405.558594 L 378.957031 405.621094 L 379.644531 405.730469 L 379.988281 405.773438 L 380.328125 405.816406 L 380.671875 405.855469 L 381.015625 405.886719 L 381.359375 405.914062 L 381.703125 405.9375 L 382.042969 405.960938 L 382.730469 405.992188 L 383.417969 406.015625 L 383.757812 406.019531 L 384.101562 406.027344 L 384.445312 406.03125 L 385.816406 406.03125 L 386.503906 406.023438 L 386.847656 406.023438 L 387.1875 406.019531 L 387.53125 406.015625 L 387.875 406.015625 L 388.21875 406.011719 L 389.246094 406.011719 L 389.933594 406.019531 L 390.621094 406.035156 L 390.960938 406.046875 L 391.304688 406.058594 L 392.335938 406.117188 L 392.675781 406.144531 L 393.019531 406.175781 L 393.363281 406.210938 L 393.707031 406.25 L 394.050781 406.292969 L 394.390625 406.339844 L 394.734375 406.394531 L 395.078125 406.453125 L 395.765625 406.585938 L 396.105469 406.664062 L 396.449219 406.746094 L 396.792969 406.832031 L 397.136719 406.929688 L 397.480469 407.03125 L 397.820312 407.140625 L 398.507812 407.382812 L 398.851562 407.519531 L 399.195312 407.660156 L 399.535156 407.808594 L 399.878906 407.96875 L 400.222656 408.132812 L 400.566406 408.308594 L 400.910156 408.496094 L 401.25 408.691406 L 401.59375 408.894531 L 401.9375 409.109375 L 402.28125 409.328125 L 402.625 409.566406 L 402.96875 409.808594 L 403.308594 410.0625 L 403.652344 410.324219 L 403.996094 410.597656 L 404.339844 410.882812 L 404.683594 411.175781 L 405.023438 411.480469 L 405.367188 411.796875 L 405.710938 412.121094 L 406.054688 412.457031 L 406.398438 412.804688 L 406.738281 413.15625 L 407.082031 413.523438 L 407.425781 413.898438 L 407.769531 414.285156 L 408.113281 414.679688 L 408.453125 415.082031 L 408.796875 415.496094 L 409.140625 415.917969 L 409.484375 416.347656 L 409.828125 416.789062 L 410.167969 417.234375 L 410.511719 417.691406 L 410.855469 418.15625 L 411.199219 418.625 L 411.542969 419.105469 L 411.882812 419.585938 L 412.226562 420.078125 L 412.570312 420.574219 L 412.914062 421.078125 L 413.257812 421.585938 L 413.597656 422.097656 L 413.941406 422.613281 L 414.285156 423.132812 L 414.628906 423.65625 L 414.972656 424.183594 L 415.316406 424.714844 L 415.65625 425.246094 L 416.34375 426.316406 L 416.6875 426.855469 L 417.03125 427.390625 L 417.371094 427.925781 L 417.714844 428.464844 L 418.402344 429.535156 L 418.746094 430.066406 L 419.085938 430.597656 L 419.773438 431.652344 L 420.117188 432.175781 L 420.460938 432.691406 L 420.800781 433.207031 L 420.800781 451.910156 L 245.535156 451.910156 L 245.535156 451.777344 \"/>\n",
       "<g clip-path=\"url(#clip37)\" clip-rule=\"nonzero\">\n",
       "<path style=\" stroke:none;fill-rule:nonzero;fill:rgb(85.098039%,85.098039%,85.098039%);fill-opacity:1;\" d=\"M 38.496094 39.476562 L 231.292969 39.476562 L 231.292969 22.054688 L 38.496094 22.054688 Z \"/>\n",
       "</g>\n",
       "<g style=\"fill:rgb(10.196078%,10.196078%,10.196078%);fill-opacity:1;\">\n",
       "  <use xlink:href=\"#glyph0-1\" x=\"132.394531\" y=\"33.651367\"/>\n",
       "</g>\n",
       "<g clip-path=\"url(#clip38)\" clip-rule=\"nonzero\">\n",
       "<path style=\" stroke:none;fill-rule:nonzero;fill:rgb(85.098039%,85.098039%,85.098039%);fill-opacity:1;\" d=\"M 236.769531 39.476562 L 429.566406 39.476562 L 429.566406 22.054688 L 236.769531 22.054688 Z \"/>\n",
       "</g>\n",
       "<g style=\"fill:rgb(10.196078%,10.196078%,10.196078%);fill-opacity:1;\">\n",
       "  <use xlink:href=\"#glyph0-2\" x=\"328.167969\" y=\"33.651367\"/>\n",
       "  <use xlink:href=\"#glyph0-3\" x=\"333.058594\" y=\"33.651367\"/>\n",
       "</g>\n",
       "<g style=\"fill:rgb(30.196078%,30.196078%,30.196078%);fill-opacity:1;\">\n",
       "  <use xlink:href=\"#glyph0-4\" x=\"20.566406\" y=\"454.795898\"/>\n",
       "  <use xlink:href=\"#glyph0-5\" x=\"25.457031\" y=\"454.795898\"/>\n",
       "  <use xlink:href=\"#glyph0-4\" x=\"27.902344\" y=\"454.795898\"/>\n",
       "</g>\n",
       "<g style=\"fill:rgb(30.196078%,30.196078%,30.196078%);fill-opacity:1;\">\n",
       "  <use xlink:href=\"#glyph0-4\" x=\"20.566406\" y=\"369.245117\"/>\n",
       "  <use xlink:href=\"#glyph0-5\" x=\"25.457031\" y=\"369.245117\"/>\n",
       "  <use xlink:href=\"#glyph0-2\" x=\"27.902344\" y=\"369.245117\"/>\n",
       "</g>\n",
       "<g style=\"fill:rgb(30.196078%,30.196078%,30.196078%);fill-opacity:1;\">\n",
       "  <use xlink:href=\"#glyph0-4\" x=\"20.566406\" y=\"283.698242\"/>\n",
       "  <use xlink:href=\"#glyph0-5\" x=\"25.457031\" y=\"283.698242\"/>\n",
       "  <use xlink:href=\"#glyph0-6\" x=\"27.902344\" y=\"283.698242\"/>\n",
       "</g>\n",
       "<g style=\"fill:rgb(30.196078%,30.196078%,30.196078%);fill-opacity:1;\">\n",
       "  <use xlink:href=\"#glyph0-4\" x=\"20.566406\" y=\"198.147461\"/>\n",
       "  <use xlink:href=\"#glyph0-5\" x=\"25.457031\" y=\"198.147461\"/>\n",
       "  <use xlink:href=\"#glyph0-7\" x=\"27.902344\" y=\"198.147461\"/>\n",
       "</g>\n",
       "<g style=\"fill:rgb(30.196078%,30.196078%,30.196078%);fill-opacity:1;\">\n",
       "  <use xlink:href=\"#glyph0-4\" x=\"20.566406\" y=\"112.59668\"/>\n",
       "  <use xlink:href=\"#glyph0-5\" x=\"25.457031\" y=\"112.59668\"/>\n",
       "  <use xlink:href=\"#glyph0-8\" x=\"27.902344\" y=\"112.59668\"/>\n",
       "</g>\n",
       "<path style=\"fill:none;stroke-width:1.066978;stroke-linecap:butt;stroke-linejoin:round;stroke:rgb(20%,20%,20%);stroke-opacity:1;stroke-miterlimit:10;\" d=\"M 35.757812 451.910156 L 38.496094 451.910156 \"/>\n",
       "<path style=\"fill:none;stroke-width:1.066978;stroke-linecap:butt;stroke-linejoin:round;stroke:rgb(20%,20%,20%);stroke-opacity:1;stroke-miterlimit:10;\" d=\"M 35.757812 366.359375 L 38.496094 366.359375 \"/>\n",
       "<path style=\"fill:none;stroke-width:1.066978;stroke-linecap:butt;stroke-linejoin:round;stroke:rgb(20%,20%,20%);stroke-opacity:1;stroke-miterlimit:10;\" d=\"M 35.757812 280.8125 L 38.496094 280.8125 \"/>\n",
       "<path style=\"fill:none;stroke-width:1.066978;stroke-linecap:butt;stroke-linejoin:round;stroke:rgb(20%,20%,20%);stroke-opacity:1;stroke-miterlimit:10;\" d=\"M 35.757812 195.261719 L 38.496094 195.261719 \"/>\n",
       "<path style=\"fill:none;stroke-width:1.066978;stroke-linecap:butt;stroke-linejoin:round;stroke:rgb(20%,20%,20%);stroke-opacity:1;stroke-miterlimit:10;\" d=\"M 35.757812 109.710938 L 38.496094 109.710938 \"/>\n",
       "<path style=\"fill:none;stroke-width:1.066978;stroke-linecap:butt;stroke-linejoin:round;stroke:rgb(20%,20%,20%);stroke-opacity:1;stroke-miterlimit:10;\" d=\"M 83.101562 474.292969 L 83.101562 471.550781 \"/>\n",
       "<path style=\"fill:none;stroke-width:1.066978;stroke-linecap:butt;stroke-linejoin:round;stroke:rgb(20%,20%,20%);stroke-opacity:1;stroke-miterlimit:10;\" d=\"M 133.941406 474.292969 L 133.941406 471.550781 \"/>\n",
       "<path style=\"fill:none;stroke-width:1.066978;stroke-linecap:butt;stroke-linejoin:round;stroke:rgb(20%,20%,20%);stroke-opacity:1;stroke-miterlimit:10;\" d=\"M 184.78125 474.292969 L 184.78125 471.550781 \"/>\n",
       "<g style=\"fill:rgb(30.196078%,30.196078%,30.196078%);fill-opacity:1;\">\n",
       "  <use xlink:href=\"#glyph0-6\" x=\"78.101562\" y=\"482.870117\"/>\n",
       "  <use xlink:href=\"#glyph0-8\" x=\"82.992188\" y=\"482.870117\"/>\n",
       "</g>\n",
       "<g style=\"fill:rgb(30.196078%,30.196078%,30.196078%);fill-opacity:1;\">\n",
       "  <use xlink:href=\"#glyph0-6\" x=\"128.941406\" y=\"482.870117\"/>\n",
       "  <use xlink:href=\"#glyph0-1\" x=\"133.832031\" y=\"482.870117\"/>\n",
       "</g>\n",
       "<g style=\"fill:rgb(30.196078%,30.196078%,30.196078%);fill-opacity:1;\">\n",
       "  <use xlink:href=\"#glyph0-7\" x=\"179.78125\" y=\"482.870117\"/>\n",
       "  <use xlink:href=\"#glyph0-6\" x=\"184.671875\" y=\"482.870117\"/>\n",
       "</g>\n",
       "<path style=\"fill:none;stroke-width:1.066978;stroke-linecap:butt;stroke-linejoin:round;stroke:rgb(20%,20%,20%);stroke-opacity:1;stroke-miterlimit:10;\" d=\"M 281.375 474.292969 L 281.375 471.550781 \"/>\n",
       "<path style=\"fill:none;stroke-width:1.066978;stroke-linecap:butt;stroke-linejoin:round;stroke:rgb(20%,20%,20%);stroke-opacity:1;stroke-miterlimit:10;\" d=\"M 332.214844 474.292969 L 332.214844 471.550781 \"/>\n",
       "<path style=\"fill:none;stroke-width:1.066978;stroke-linecap:butt;stroke-linejoin:round;stroke:rgb(20%,20%,20%);stroke-opacity:1;stroke-miterlimit:10;\" d=\"M 383.054688 474.292969 L 383.054688 471.550781 \"/>\n",
       "<g style=\"fill:rgb(30.196078%,30.196078%,30.196078%);fill-opacity:1;\">\n",
       "  <use xlink:href=\"#glyph0-6\" x=\"276.375\" y=\"482.870117\"/>\n",
       "  <use xlink:href=\"#glyph0-8\" x=\"281.265625\" y=\"482.870117\"/>\n",
       "</g>\n",
       "<g style=\"fill:rgb(30.196078%,30.196078%,30.196078%);fill-opacity:1;\">\n",
       "  <use xlink:href=\"#glyph0-6\" x=\"327.214844\" y=\"482.870117\"/>\n",
       "  <use xlink:href=\"#glyph0-1\" x=\"332.105469\" y=\"482.870117\"/>\n",
       "</g>\n",
       "<g style=\"fill:rgb(30.196078%,30.196078%,30.196078%);fill-opacity:1;\">\n",
       "  <use xlink:href=\"#glyph0-7\" x=\"378.054688\" y=\"482.870117\"/>\n",
       "  <use xlink:href=\"#glyph0-6\" x=\"382.945312\" y=\"482.870117\"/>\n",
       "</g>\n",
       "<g style=\"fill:rgb(0%,0%,0%);fill-opacity:1;\">\n",
       "  <use xlink:href=\"#glyph1-1\" x=\"226.53125\" y=\"495.811523\"/>\n",
       "  <use xlink:href=\"#glyph1-2\" x=\"234.473633\" y=\"495.811523\"/>\n",
       "</g>\n",
       "<g style=\"fill:rgb(0%,0%,0%);fill-opacity:1;\">\n",
       "  <use xlink:href=\"#glyph2-1\" x=\"16.155273\" y=\"273.015625\"/>\n",
       "  <use xlink:href=\"#glyph2-2\" x=\"16.155273\" y=\"266.899414\"/>\n",
       "  <use xlink:href=\"#glyph2-3\" x=\"16.155273\" y=\"260.783203\"/>\n",
       "  <use xlink:href=\"#glyph2-4\" x=\"16.155273\" y=\"254.666992\"/>\n",
       "  <use xlink:href=\"#glyph2-5\" x=\"16.155273\" y=\"249.166992\"/>\n",
       "  <use xlink:href=\"#glyph2-6\" x=\"16.155273\" y=\"246.724609\"/>\n",
       "  <use xlink:href=\"#glyph2-7\" x=\"16.155273\" y=\"243.666992\"/>\n",
       "</g>\n",
       "<path style=\" stroke:none;fill-rule:nonzero;fill:rgb(100%,100%,100%);fill-opacity:1;\" d=\"M 438.070312 252.679688 L 490.015625 252.679688 L 490.015625 197.398438 L 438.070312 197.398438 Z \"/>\n",
       "<g style=\"fill:rgb(0%,0%,0%);fill-opacity:1;\">\n",
       "  <use xlink:href=\"#glyph1-3\" x=\"442.320312\" y=\"209.581055\"/>\n",
       "  <use xlink:href=\"#glyph1-4\" x=\"448.436523\" y=\"209.581055\"/>\n",
       "  <use xlink:href=\"#glyph1-5\" x=\"454.552734\" y=\"209.581055\"/>\n",
       "  <use xlink:href=\"#glyph1-4\" x=\"460.668945\" y=\"209.581055\"/>\n",
       "</g>\n",
       "<path style=\"fill-rule:nonzero;fill:rgb(94.901961%,94.901961%,94.901961%);fill-opacity:1;stroke-width:1.066978;stroke-linecap:round;stroke-linejoin:round;stroke:rgb(100%,100%,100%);stroke-opacity:1;stroke-miterlimit:10;\" d=\"M 442.320312 231.148438 L 459.601562 231.148438 L 459.601562 213.867188 L 442.320312 213.867188 Z \"/>\n",
       "<path style=\"fill:none;stroke-width:1.066978;stroke-linecap:round;stroke-linejoin:miter;stroke:rgb(97.254902%,46.27451%,42.745098%);stroke-opacity:1;stroke-miterlimit:10;\" d=\"M 443.03125 230.4375 L 458.894531 230.4375 L 458.894531 214.574219 L 443.03125 214.574219 Z \"/>\n",
       "<path style=\"fill-rule:nonzero;fill:rgb(94.901961%,94.901961%,94.901961%);fill-opacity:1;stroke-width:1.066978;stroke-linecap:round;stroke-linejoin:round;stroke:rgb(100%,100%,100%);stroke-opacity:1;stroke-miterlimit:10;\" d=\"M 442.320312 248.425781 L 459.601562 248.425781 L 459.601562 231.144531 L 442.320312 231.144531 Z \"/>\n",
       "<path style=\"fill:none;stroke-width:1.066978;stroke-linecap:round;stroke-linejoin:miter;stroke:rgb(0%,74.901961%,76.862745%);stroke-opacity:1;stroke-miterlimit:10;\" d=\"M 443.03125 247.71875 L 458.894531 247.71875 L 458.894531 231.855469 L 443.03125 231.855469 Z \"/>\n",
       "<g style=\"fill:rgb(0%,0%,0%);fill-opacity:1;\">\n",
       "  <use xlink:href=\"#glyph0-9\" x=\"461.761719\" y=\"225.393555\"/>\n",
       "  <use xlink:href=\"#glyph0-10\" x=\"467.628906\" y=\"225.393555\"/>\n",
       "  <use xlink:href=\"#glyph0-11\" x=\"473.980469\" y=\"225.393555\"/>\n",
       "  <use xlink:href=\"#glyph0-2\" x=\"480.332031\" y=\"225.393555\"/>\n",
       "</g>\n",
       "<g style=\"fill:rgb(0%,0%,0%);fill-opacity:1;\">\n",
       "  <use xlink:href=\"#glyph0-9\" x=\"461.761719\" y=\"242.670898\"/>\n",
       "  <use xlink:href=\"#glyph0-10\" x=\"467.628906\" y=\"242.670898\"/>\n",
       "  <use xlink:href=\"#glyph0-11\" x=\"473.980469\" y=\"242.670898\"/>\n",
       "  <use xlink:href=\"#glyph0-7\" x=\"480.332031\" y=\"242.670898\"/>\n",
       "</g>\n",
       "<path style=\" stroke:none;fill-rule:nonzero;fill:rgb(100%,100%,100%);fill-opacity:1;\" d=\"M 438.070312 313.628906 L 487.523438 313.628906 L 487.523438 258.347656 L 438.070312 258.347656 Z \"/>\n",
       "<g style=\"fill:rgb(0%,0%,0%);fill-opacity:1;\">\n",
       "  <use xlink:href=\"#glyph1-6\" x=\"442.320312\" y=\"270.53418\"/>\n",
       "  <use xlink:href=\"#glyph1-4\" x=\"449.657227\" y=\"270.53418\"/>\n",
       "  <use xlink:href=\"#glyph1-7\" x=\"455.773438\" y=\"270.53418\"/>\n",
       "  <use xlink:href=\"#glyph1-5\" x=\"459.436523\" y=\"270.53418\"/>\n",
       "</g>\n",
       "<path style=\"fill-rule:nonzero;fill:rgb(94.901961%,94.901961%,94.901961%);fill-opacity:1;stroke-width:1.066978;stroke-linecap:round;stroke-linejoin:round;stroke:rgb(100%,100%,100%);stroke-opacity:1;stroke-miterlimit:10;\" d=\"M 442.320312 292.097656 L 459.601562 292.097656 L 459.601562 274.816406 L 442.320312 274.816406 Z \"/>\n",
       "<path style=\"fill:none;stroke-width:1.066978;stroke-linecap:round;stroke-linejoin:miter;stroke:rgb(0%,0%,0%);stroke-opacity:1;stroke-miterlimit:10;\" d=\"M 443.03125 291.390625 L 458.894531 291.390625 L 458.894531 275.527344 L 443.03125 275.527344 Z \"/>\n",
       "<path style=\"fill-rule:nonzero;fill:rgb(94.901961%,94.901961%,94.901961%);fill-opacity:1;stroke-width:1.066978;stroke-linecap:round;stroke-linejoin:round;stroke:rgb(100%,100%,100%);stroke-opacity:1;stroke-miterlimit:10;\" d=\"M 442.320312 309.378906 L 459.601562 309.378906 L 459.601562 292.097656 L 442.320312 292.097656 Z \"/>\n",
       "<path style=\"fill:none;stroke-width:1.066978;stroke-linecap:round;stroke-linejoin:miter;stroke:rgb(0%,0%,0%);stroke-opacity:1;stroke-dasharray:2.133957,2.133957;stroke-miterlimit:10;\" d=\"M 443.03125 308.667969 L 458.894531 308.667969 L 458.894531 292.804688 L 443.03125 292.804688 Z \"/>\n",
       "<g style=\"fill:rgb(0%,0%,0%);fill-opacity:1;\">\n",
       "  <use xlink:href=\"#glyph0-12\" x=\"461.761719\" y=\"286.342773\"/>\n",
       "  <use xlink:href=\"#glyph0-13\" x=\"467.136719\" y=\"286.342773\"/>\n",
       "  <use xlink:href=\"#glyph0-14\" x=\"472.027344\" y=\"286.342773\"/>\n",
       "  <use xlink:href=\"#glyph0-14\" x=\"473.980469\" y=\"286.342773\"/>\n",
       "</g>\n",
       "<g style=\"fill:rgb(0%,0%,0%);fill-opacity:1;\">\n",
       "  <use xlink:href=\"#glyph0-11\" x=\"461.761719\" y=\"303.624023\"/>\n",
       "  <use xlink:href=\"#glyph0-15\" x=\"468.113281\" y=\"303.624023\"/>\n",
       "  <use xlink:href=\"#glyph0-16\" x=\"473.003906\" y=\"303.624023\"/>\n",
       "  <use xlink:href=\"#glyph0-17\" x=\"477.894531\" y=\"303.624023\"/>\n",
       "</g>\n",
       "<g style=\"fill:rgb(0%,0%,0%);fill-opacity:1;\">\n",
       "  <use xlink:href=\"#glyph3-1\" x=\"96.53125\" y=\"15.05957\"/>\n",
       "  <use xlink:href=\"#glyph3-2\" x=\"108.995117\" y=\"15.05957\"/>\n",
       "  <use xlink:href=\"#glyph3-3\" x=\"116.335938\" y=\"15.05957\"/>\n",
       "  <use xlink:href=\"#glyph3-4\" x=\"123.676758\" y=\"15.05957\"/>\n",
       "  <use xlink:href=\"#glyph3-5\" x=\"131.017578\" y=\"15.05957\"/>\n",
       "  <use xlink:href=\"#glyph3-6\" x=\"134.688477\" y=\"15.05957\"/>\n",
       "  <use xlink:href=\"#glyph3-7\" x=\"138.359375\" y=\"15.05957\"/>\n",
       "  <use xlink:href=\"#glyph3-8\" x=\"148.631836\" y=\"15.05957\"/>\n",
       "  <use xlink:href=\"#glyph3-9\" x=\"157.438477\" y=\"15.05957\"/>\n",
       "  <use xlink:href=\"#glyph3-6\" x=\"166.245117\" y=\"15.05957\"/>\n",
       "  <use xlink:href=\"#glyph3-10\" x=\"169.916016\" y=\"15.05957\"/>\n",
       "  <use xlink:href=\"#glyph3-4\" x=\"179.448242\" y=\"15.05957\"/>\n",
       "  <use xlink:href=\"#glyph3-11\" x=\"186.789062\" y=\"15.05957\"/>\n",
       "  <use xlink:href=\"#glyph3-6\" x=\"196.321289\" y=\"15.05957\"/>\n",
       "  <use xlink:href=\"#glyph3-12\" x=\"199.992188\" y=\"15.05957\"/>\n",
       "  <use xlink:href=\"#glyph3-13\" x=\"207.333008\" y=\"15.05957\"/>\n",
       "  <use xlink:href=\"#glyph3-14\" x=\"216.139648\" y=\"15.05957\"/>\n",
       "  <use xlink:href=\"#glyph3-10\" x=\"225.671875\" y=\"15.05957\"/>\n",
       "  <use xlink:href=\"#glyph3-6\" x=\"235.204102\" y=\"15.05957\"/>\n",
       "  <use xlink:href=\"#glyph3-15\" x=\"238.875\" y=\"15.05957\"/>\n",
       "  <use xlink:href=\"#glyph3-4\" x=\"248.407227\" y=\"15.05957\"/>\n",
       "  <use xlink:href=\"#glyph3-5\" x=\"255.748047\" y=\"15.05957\"/>\n",
       "  <use xlink:href=\"#glyph3-4\" x=\"259.418945\" y=\"15.05957\"/>\n",
       "  <use xlink:href=\"#glyph3-16\" x=\"266.759766\" y=\"15.05957\"/>\n",
       "  <use xlink:href=\"#glyph3-6\" x=\"270.430664\" y=\"15.05957\"/>\n",
       "  <use xlink:href=\"#glyph3-9\" x=\"274.101562\" y=\"15.05957\"/>\n",
       "  <use xlink:href=\"#glyph3-17\" x=\"282.908203\" y=\"15.05957\"/>\n",
       "  <use xlink:href=\"#glyph3-18\" x=\"289.509766\" y=\"15.05957\"/>\n",
       "  <use xlink:href=\"#glyph3-3\" x=\"296.850586\" y=\"15.05957\"/>\n",
       "  <use xlink:href=\"#glyph3-19\" x=\"304.191406\" y=\"15.05957\"/>\n",
       "  <use xlink:href=\"#glyph3-20\" x=\"308.587891\" y=\"15.05957\"/>\n",
       "  <use xlink:href=\"#glyph3-21\" x=\"311.518555\" y=\"15.05957\"/>\n",
       "  <use xlink:href=\"#glyph3-3\" x=\"322.516602\" y=\"15.05957\"/>\n",
       "  <use xlink:href=\"#glyph3-22\" x=\"329.857422\" y=\"15.05957\"/>\n",
       "  <use xlink:href=\"#glyph3-5\" x=\"337.198242\" y=\"15.05957\"/>\n",
       "  <use xlink:href=\"#glyph3-6\" x=\"340.869141\" y=\"15.05957\"/>\n",
       "  <use xlink:href=\"#glyph3-23\" x=\"344.540039\" y=\"15.05957\"/>\n",
       "  <use xlink:href=\"#glyph3-6\" x=\"351.880859\" y=\"15.05957\"/>\n",
       "  <use xlink:href=\"#glyph3-24\" x=\"355.551758\" y=\"15.05957\"/>\n",
       "  <use xlink:href=\"#glyph3-25\" x=\"363.262695\" y=\"15.05957\"/>\n",
       "</g>\n",
       "</g>\n",
       "</svg>\n"
      ],
      "text/plain": [
       "plot without title"
      ]
     },
     "metadata": {
      "image/svg+xml": {
       "isolated": true
      }
     },
     "output_type": "display_data"
    }
   ],
   "source": [
    "merged %>% \n",
    "  filter(is.na(exclude.all)) %>%\n",
    "    filter((Experiment == 3)|(Experiment == 4)) %>% \n",
    "    filter(grepl(\"VRN1|VRN3\",gene)) %>%\n",
    "    ggplot(aes(x=Cp)) +  geom_density(aes(color=gene,linetype=Vern))  +\n",
    "    facet_wrap(~ Pp) + ggtitle('Wheat GXE Raw qPCR Data: Experiment 3 +4')"
   ]
  },
  {
   "cell_type": "code",
   "execution_count": 81,
   "metadata": {
    "collapsed": false
   },
   "outputs": [
    {
     "data": {
      "text/plain": [
       "  qPCR_well             Name                 Cp            gene          \n",
       " Length:10230       Length:10230       Min.   :19.22   Length:10230      \n",
       " Class :character   Class :character   1st Qu.:23.89   Class :character  \n",
       " Mode  :character   Mode  :character   Median :26.52   Mode  :character  \n",
       "                                       Mean   :26.61                     \n",
       "                                       3rd Qu.:28.82                     \n",
       "                                       Max.   :34.97                     \n",
       "                                       NA's   :5437                      \n",
       "    Plate           sample_well       \n",
       " Length:10230       Length:10230      \n",
       " Class :character   Class :character  \n",
       " Mode  :character   Mode  :character  \n",
       "                                      \n",
       "                                      \n",
       "                                      \n",
       "                                      "
      ]
     },
     "execution_count": 81,
     "metadata": {},
     "output_type": "execute_result"
    }
   ],
   "source": [
    "summary(result_dt)"
   ]
  },
  {
   "cell_type": "code",
   "execution_count": 82,
   "metadata": {
    "collapsed": false
   },
   "outputs": [
    {
     "data": {
      "text/html": [
       "<ol class=list-inline>\n",
       "\t<li>'Name'</li>\n",
       "\t<li>'Plate'</li>\n",
       "\t<li>'sample_well'</li>\n",
       "\t<li>'SampleDate'</li>\n",
       "\t<li>'qPCR_well'</li>\n",
       "\t<li>'Cp'</li>\n",
       "\t<li>'gene'</li>\n",
       "\t<li>'Col'</li>\n",
       "\t<li>'Row'</li>\n",
       "\t<li>'Experiment'</li>\n",
       "\t<li>'Plot.ID.Old'</li>\n",
       "\t<li>'Plot.IDNew'</li>\n",
       "\t<li>'Vern'</li>\n",
       "\t<li>'Cult'</li>\n",
       "\t<li>'Pp'</li>\n",
       "\t<li>'reason'</li>\n",
       "\t<li>'exclude.all'</li>\n",
       "\t<li>'exclude.VRN1'</li>\n",
       "\t<li>'exclude.VRN2'</li>\n",
       "\t<li>'exclude.Vrn3'</li>\n",
       "\t<li>'exclude.EGF1a'</li>\n",
       "\t<li>'exclude.Ta54227'</li>\n",
       "</ol>\n"
      ],
      "text/latex": [
       "\\begin{enumerate*}\n",
       "\\item 'Name'\n",
       "\\item 'Plate'\n",
       "\\item 'sample_well'\n",
       "\\item 'SampleDate'\n",
       "\\item 'qPCR_well'\n",
       "\\item 'Cp'\n",
       "\\item 'gene'\n",
       "\\item 'Col'\n",
       "\\item 'Row'\n",
       "\\item 'Experiment'\n",
       "\\item 'Plot.ID.Old'\n",
       "\\item 'Plot.IDNew'\n",
       "\\item 'Vern'\n",
       "\\item 'Cult'\n",
       "\\item 'Pp'\n",
       "\\item 'reason'\n",
       "\\item 'exclude.all'\n",
       "\\item 'exclude.VRN1'\n",
       "\\item 'exclude.VRN2'\n",
       "\\item 'exclude.Vrn3'\n",
       "\\item 'exclude.EGF1a'\n",
       "\\item 'exclude.Ta54227'\n",
       "\\end{enumerate*}\n"
      ],
      "text/markdown": [
       "1. 'Name'\n",
       "2. 'Plate'\n",
       "3. 'sample_well'\n",
       "4. 'SampleDate'\n",
       "5. 'qPCR_well'\n",
       "6. 'Cp'\n",
       "7. 'gene'\n",
       "8. 'Col'\n",
       "9. 'Row'\n",
       "10. 'Experiment'\n",
       "11. 'Plot.ID.Old'\n",
       "12. 'Plot.IDNew'\n",
       "13. 'Vern'\n",
       "14. 'Cult'\n",
       "15. 'Pp'\n",
       "16. 'reason'\n",
       "17. 'exclude.all'\n",
       "18. 'exclude.VRN1'\n",
       "19. 'exclude.VRN2'\n",
       "20. 'exclude.Vrn3'\n",
       "21. 'exclude.EGF1a'\n",
       "22. 'exclude.Ta54227'\n",
       "\n",
       "\n"
      ],
      "text/plain": [
       " [1] \"Name\"            \"Plate\"           \"sample_well\"     \"SampleDate\"     \n",
       " [5] \"qPCR_well\"       \"Cp\"              \"gene\"            \"Col\"            \n",
       " [9] \"Row\"             \"Experiment\"      \"Plot.ID.Old\"     \"Plot.IDNew\"     \n",
       "[13] \"Vern\"            \"Cult\"            \"Pp\"              \"reason\"         \n",
       "[17] \"exclude.all\"     \"exclude.VRN1\"    \"exclude.VRN2\"    \"exclude.Vrn3\"   \n",
       "[21] \"exclude.EGF1a\"   \"exclude.Ta54227\""
      ]
     },
     "execution_count": 82,
     "metadata": {},
     "output_type": "execute_result"
    }
   ],
   "source": [
    "names(merged)"
   ]
  },
  {
   "cell_type": "markdown",
   "metadata": {},
   "source": [
    "### Write merged sample info and raw Cp Data out in one big  csv, overwriting earlier work"
   ]
  },
  {
   "cell_type": "code",
   "execution_count": 84,
   "metadata": {
    "collapsed": false
   },
   "outputs": [],
   "source": [
    "write_csv(merged,'./data/GEP_qPCR_results_merged.csv')"
   ]
  }
 ],
 "metadata": {
  "kernelspec": {
   "display_name": "R",
   "language": "R",
   "name": "ir"
  },
  "language_info": {
   "codemirror_mode": "r",
   "file_extension": ".r",
   "mimetype": "text/x-r-source",
   "name": "R",
   "pygments_lexer": "r",
   "version": "3.2.2"
  }
 },
 "nbformat": 4,
 "nbformat_minor": 0
}
